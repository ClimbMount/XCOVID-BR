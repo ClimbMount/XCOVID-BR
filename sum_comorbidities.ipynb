{
 "cells": [
  {
   "cell_type": "code",
   "execution_count": 1,
   "metadata": {},
   "outputs": [
    {
     "name": "stderr",
     "output_type": "stream",
     "text": [
      "/home/pedro/.local/lib/python3.8/site-packages/IPython/core/interactiveshell.py:3146: DtypeWarning: Columns (15,60,62,63,64,92,94,108,117,121,123) have mixed types.Specify dtype option on import or set low_memory=False.\n",
      "  has_raised = await self.run_ast_nodes(code_ast.body, cell_name,\n",
      "<ipython-input-1-2de0e66738e6>:12: UserWarning: Boolean Series key will be reindexed to match DataFrame index.\n",
      "  df = df[df['PCR_SARS2']==1][df['HOSPITAL']==1][df['NU_IDADE_N']<=110][df['EVOLUCAO'] != 3][df['EVOLUCAO'] != 9][df['EVOLUCAO'].notnull()]\n",
      "<ipython-input-1-2de0e66738e6>:12: UserWarning: Boolean Series key will be reindexed to match DataFrame index.\n",
      "  df = df[df['PCR_SARS2']==1][df['HOSPITAL']==1][df['NU_IDADE_N']<=110][df['EVOLUCAO'] != 3][df['EVOLUCAO'] != 9][df['EVOLUCAO'].notnull()]\n",
      "<ipython-input-1-2de0e66738e6>:12: UserWarning: Boolean Series key will be reindexed to match DataFrame index.\n",
      "  df = df[df['PCR_SARS2']==1][df['HOSPITAL']==1][df['NU_IDADE_N']<=110][df['EVOLUCAO'] != 3][df['EVOLUCAO'] != 9][df['EVOLUCAO'].notnull()]\n",
      "<ipython-input-1-2de0e66738e6>:12: UserWarning: Boolean Series key will be reindexed to match DataFrame index.\n",
      "  df = df[df['PCR_SARS2']==1][df['HOSPITAL']==1][df['NU_IDADE_N']<=110][df['EVOLUCAO'] != 3][df['EVOLUCAO'] != 9][df['EVOLUCAO'].notnull()]\n"
     ]
    },
    {
     "name": "stdout",
     "output_type": "stream",
     "text": [
      "confirmed data: 242679\n"
     ]
    },
    {
     "name": "stderr",
     "output_type": "stream",
     "text": [
      "<ipython-input-1-2de0e66738e6>:41: UserWarning: Boolean Series key will be reindexed to match DataFrame index.\n",
      "  df = df[df['PCR_SARS2']==1][df['HOSPITAL']==1][df['CS_RACA']!=9.0][df['CS_RACA'].notna()]\\\n"
     ]
    }
   ],
   "source": [
    "# libraries\n",
    "\n",
    "import pandas as pd\n",
    "import matplotlib.pyplot as plt\n",
    "import numpy as np\n",
    "import seaborn as sns\n",
    "\n",
    "\n",
    "# reading dataset\n",
    "\n",
    "df = pd.read_csv('/home/pedro/bkp/code/dataset/INFLUD-21-09-2020.csv',sep=';',encoding = \"ISO-8859-1\")\n",
    "df = df[df['PCR_SARS2']==1][df['HOSPITAL']==1][df['NU_IDADE_N']<=110][df['EVOLUCAO'] != 3][df['EVOLUCAO'] != 9][df['EVOLUCAO'].notnull()]\n",
    "\n",
    "print('confirmed data:',df.shape[0])\n",
    "\n",
    "\n",
    "# Selecting people from North with COVID-19\n",
    "#df = df[df['PCR_SARS2']==1][df['HOSPITAL']==1][df['CS_RACA']!=9.0][df['CS_RACA'].notna()]\\\n",
    "#[(df['SG_UF_NOT']=='RO')|(df['SG_UF_NOT']=='TO')|(df['SG_UF_NOT']=='AM')|(df['SG_UF_NOT']=='RR')\\\n",
    "#|(df['SG_UF_NOT']=='AC')|(df['SG_UF_NOT']=='PA')|(df['SG_UF_NOT']=='AP')]\n",
    "\n",
    "\n",
    "# Selecting people from Northeast with COVID-19\n",
    "#df = df[df['PCR_SARS2']==1][df['HOSPITAL']==1][df['CS_RACA']!=9.0][df['CS_RACA'].notna()]\\\n",
    "#[(df['SG_UF_NOT']=='RN')|(df['SG_UF_NOT']=='PE')|(df['SG_UF_NOT']=='SE')| (df['SG_UF_NOT']=='CE')\\\n",
    "#|(df['SG_UF_NOT']=='PB')| (df['SG_UF_NOT']=='BA')|(df['SG_UF_NOT']=='AL')| (df['SG_UF_NOT']=='PI')\\\n",
    "#|(df['SG_UF_NOT']=='MA')]\n",
    "\n",
    "\n",
    "# Selecting people from Center-West with COVID-19\n",
    "#df = df[df['PCR_SARS2']==1][df['HOSPITAL']==1][df['CS_RACA']!=9.0][df['CS_RACA'].notna()]\\\n",
    "#[(df['SG_UF_NOT']=='DF')|(df['SG_UF_NOT']=='MS')|(df['SG_UF_NOT']=='GO')| (df['SG_UF_NOT']=='MT')]\n",
    "\n",
    "\n",
    "# Selecting people from Southest with COVID-19\n",
    "#df = df[df['PCR_SARS2']==1][df['HOSPITAL']==1][df['CS_RACA']!=9.0][df['CS_RACA'].notna()]\\\n",
    "#[(df['SG_UF_NOT']=='SP') | (df['SG_UF_NOT']=='RJ')|(df['SG_UF_NOT']=='ES')|(df['SG_UF_NOT']=='MG')]\n",
    "\n",
    "\n",
    "# Selecting people from South with COVID-19\n",
    "df = df[df['PCR_SARS2']==1][df['HOSPITAL']==1][df['CS_RACA']!=9.0][df['CS_RACA'].notna()]\\\n",
    "[(df['SG_UF_NOT']=='RS')|(df['SG_UF_NOT']=='SC')|(df['SG_UF_NOT']=='PR')]\n",
    "\n",
    "\n",
    "#print('confirmed data in North :',df.shape[0])\n",
    "#print('confirmed data in Northeast:',df.shape[0])\n",
    "#print('confirmed data in Center-West:',df.shape[0])\n",
    "#print('confirmed data in Southest:',df.shape[0])\n",
    "#print('confirmed data in South:',df.shape[0])\n",
    "\n",
    "\n"
   ]
  },
  {
   "cell_type": "code",
   "execution_count": 2,
   "metadata": {},
   "outputs": [],
   "source": [
    "# comorbidities\n",
    "df = df[['CS_RACA','EVOLUCAO','CARDIOPATI','HEMATOLOGI','HEPATICA','ASMA','DIABETES','NEUROLOGIC','PNEUMOPATI','IMUNODEPRE',\\\n",
    "        'RENAL','OBESIDADE']]\n",
    "\n",
    "\n",
    "# replacing values\n",
    "df = df.fillna(0)\n",
    "df.iloc[:,2:] = df.iloc[:,2:].replace([9,2], 0)"
   ]
  },
  {
   "cell_type": "code",
   "execution_count": 3,
   "metadata": {},
   "outputs": [],
   "source": [
    "# adding comorbidities\n",
    "\n",
    "df['sum_comorbidities'] = df.iloc[:,2:].sum(axis=1)\n"
   ]
  },
  {
   "cell_type": "code",
   "execution_count": 4,
   "metadata": {},
   "outputs": [],
   "source": [
    "# Normalization\n",
    "\n",
    "white = df['sum_comorbidities'][((df['CS_RACA'] == 1)& ((df['EVOLUCAO']==1) |(df['EVOLUCAO']==2)))].value_counts().sort_index(ascending=True)\n",
    "black = df['sum_comorbidities'][((df['CS_RACA'] == 2)& ((df['EVOLUCAO']==1) |(df['EVOLUCAO']==2)))].value_counts().sort_index(ascending=True)\n",
    "brown = df['sum_comorbidities'][((df['CS_RACA'] == 4)& ((df['EVOLUCAO']==1) |(df['EVOLUCAO']==2)))].value_counts().sort_index(ascending=True)\n",
    "yellow = df['sum_comorbidities'][((df['CS_RACA'] == 3)& ((df['EVOLUCAO']==1) |(df['EVOLUCAO']==2)))].value_counts().sort_index(ascending=True)\n"
   ]
  },
  {
   "cell_type": "code",
   "execution_count": 5,
   "metadata": {},
   "outputs": [],
   "source": [
    "# Death and cured people\n",
    "\n",
    "white_dea = df['sum_comorbidities'][((df['CS_RACA'] == 1)&(df['EVOLUCAO']==2))].value_counts().sort_index(ascending=True)\n",
    "black_dea = df['sum_comorbidities'][((df['CS_RACA'] == 2)&(df['EVOLUCAO']==2))].value_counts().sort_index(ascending=True)\n",
    "yellow_dea = df['sum_comorbidities'][((df['CS_RACA'] == 3)&(df['EVOLUCAO']==2))].value_counts().sort_index(ascending=True)\n",
    "brown_dea = df['sum_comorbidities'][((df['CS_RACA'] == 4)&(df['EVOLUCAO']==2))].value_counts().sort_index(ascending=True)\n",
    "\n",
    "\n",
    "white_cur = df['sum_comorbidities'][((df['CS_RACA'] == 1)&(df['EVOLUCAO']==1))].value_counts().sort_index(ascending=True)\n",
    "black_cur = df['sum_comorbidities'][((df['CS_RACA'] == 2)&(df['EVOLUCAO']==1))].value_counts().sort_index(ascending=True)\n",
    "yellow_cur = df['sum_comorbidities'][((df['CS_RACA'] == 3)&(df['EVOLUCAO']==1))].value_counts().sort_index(ascending=True)\n",
    "brown_cur = df['sum_comorbidities'][((df['CS_RACA'] == 4)&(df['EVOLUCAO']==1))].value_counts().sort_index(ascending=True)\n",
    "\n",
    "\n",
    "# 2  = death   1 = cure"
   ]
  },
  {
   "cell_type": "code",
   "execution_count": 6,
   "metadata": {},
   "outputs": [
    {
     "data": {
      "image/png": "[encoded data removed]",
      "text/plain": [
       "<Figure size 720x360 with 1 Axes>"
      ]
     },
     "metadata": {
      "needs_background": "light"
     },
     "output_type": "display_data"
    }
   ],
   "source": [
    "# Plotting the graphic\n",
    "\n",
    "plt.figure(figsize=(10,5))\n",
    "\n",
    "barWidth = 0.15\n",
    "\n",
    "plt.bar(white_cur.index-0.25, white_cur/white.sum(), color='pink', alpha =0.5, width=barWidth, edgecolor='black')\n",
    "plt.bar(brown_cur.index- 0.1, brown_cur/brown.sum(), color='brown', alpha =0.5, width=barWidth, edgecolor='black')\n",
    "plt.bar(black_cur.index+ 0.05, black_cur/black.sum() , color='black', alpha =0.5, width=barWidth, edgecolor='black')\n",
    "plt.bar(yellow_cur.index + 0.20, yellow_cur/yellow.sum() ,color='yellow', alpha =0.5, width=barWidth, edgecolor='black')\n",
    "\n",
    "\n",
    "plt.bar(white_dea.index-0.25, -white_dea/white.sum(), color='pink', alpha =0.5, width=barWidth, edgecolor='black', label='Branca')\n",
    "plt.bar(brown_dea.index - 0.1, -brown_dea/brown.sum(), color='brown', alpha =0.5, width=barWidth, edgecolor='black', label='Parda')\n",
    "plt.bar(black_dea.index+ 0.05, -black_dea/black.sum() , color='black', alpha =0.5, width=barWidth, edgecolor='black', label='Preta')\n",
    "plt.bar(yellow_dea.index + 0.20, -yellow_dea/yellow.sum() ,color='yellow', alpha =0.5, width=barWidth, edgecolor='black', label='Amarela')\n",
    "\n",
    "\n",
    "\n",
    "plt.ylabel('Prevalence', fontsize=20)\n",
    "plt.xlabel('Number of Comorbidities', fontsize=20)\n",
    "plt.xticks(fontsize=15)\n",
    "plt.yticks(fontsize=15)\n",
    "plt.xlim(-0.5,5)\n",
    "\n",
    "#plt.title('North', fontsize=20)\n",
    "\n",
    "\n",
    "#plt.title('Northeast', fontsize=20)\n",
    "#plt.ylim(-0.26,0.35)\n",
    "#plt.text(3, 0.15, 'Survivor', fontsize=20)\n",
    "#plt.text(3, -0.15, 'Non-Survivor', fontsize=20)\n",
    "\n",
    "\n",
    "#plt.title('Midwestern', fontsize=20)\n",
    "#plt.ylim(-0.25,0.4)\n",
    "#plt.text(3, 0.3, 'Survivor', fontsize=20)\n",
    "#plt.text(3, -0.20, 'Non-Survivor', fontsize=20)\n",
    "\n",
    "#plt.title('Southwest', fontsize=20)\n",
    "#plt.text(3, 0.2, 'Survivor', fontsize=20)\n",
    "#plt.text(3, -0.15, 'Non-Survivor', fontsize=20)\n",
    "#plt.ylim(-0.20,0.35)\n",
    "\n",
    "\n",
    "plt.title('South', fontsize=20)\n",
    "plt.text(3, 0.2, 'Survivor', fontsize=20)\n",
    "plt.text(3, -0.12, 'Non-Survivor', fontsize=20)\n",
    "\n",
    "\n",
    "plt.axhline(y=0,linewidth=1,color='k')\n",
    "#plt.legend(fontsize=15)\n",
    "plt.tight_layout()\n",
    "#plt.savefig('north_comorbidities.pdf')\n",
    "#plt.savefig('northeast_comorbidities.pdf')\n",
    "#plt.savefig('midwestern_comorbidities.pdf')\n",
    "#plt.savefig('southeast_comorbidities.pdf')\n",
    "plt.savefig('south_comorbidities.pdf')\n",
    "\n",
    "\n",
    "plt.show()"
   ]
  },
  {
   "cell_type": "code",
   "execution_count": null,
   "metadata": {},
   "outputs": [],
   "source": []
  }
 ],
 "metadata": {
  "kernelspec": {
   "display_name": "Python 3",
   "language": "python",
   "name": "python3"
  },
  "language_info": {
   "codemirror_mode": {
    "name": "ipython",
    "version": 3
   },
   "file_extension": ".py",
   "mimetype": "text/x-python",
   "name": "python",
   "nbconvert_exporter": "python",
   "pygments_lexer": "ipython3",
   "version": "3.8.5"
  }
 },
 "nbformat": 4,
 "nbformat_minor": 2
}
