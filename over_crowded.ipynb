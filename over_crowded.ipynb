{
 "cells": [
  {
   "cell_type": "code",
   "execution_count": 1,
   "metadata": {},
   "outputs": [],
   "source": [
    "# Covid19 Analysis\n",
    "\n",
    "# Our goal is to built a feature that represent a hospital overload."
   ]
  },
  {
   "cell_type": "code",
   "execution_count": 2,
   "metadata": {},
   "outputs": [],
   "source": [
    "# libraries\n",
    "\n",
    "import pandas as pd\n",
    "import matplotlib.pyplot as plt\n",
    "import numpy as np\n",
    "from haversine import haversine, Unit\n",
    "from haversine import haversine_vector"
   ]
  },
  {
   "cell_type": "code",
   "execution_count": 3,
   "metadata": {},
   "outputs": [
    {
     "name": "stderr",
     "output_type": "stream",
     "text": [
      "/home/pedro/.local/lib/python3.8/site-packages/IPython/core/interactiveshell.py:3146: DtypeWarning: Columns (15,60,62,63,64,92,94,108,117,121,123) have mixed types.Specify dtype option on import or set low_memory=False.\n",
      "  has_raised = await self.run_ast_nodes(code_ast.body, cell_name,\n"
     ]
    },
    {
     "name": "stdout",
     "output_type": "stream",
     "text": [
      "(299142, 154)\n"
     ]
    },
    {
     "name": "stderr",
     "output_type": "stream",
     "text": [
      "<ipython-input-3-b9d17c837b0e>:18: UserWarning: Boolean Series key will be reindexed to match DataFrame index.\n",
      "  df_2020 = df_2020[df_2020['PCR_SARS2']==1][df_2020['HOSPITAL']==1][df_2020['NU_IDADE_N']<=110]\n"
     ]
    },
    {
     "name": "stdout",
     "output_type": "stream",
     "text": [
      "(279982, 154)\n"
     ]
    },
    {
     "name": "stderr",
     "output_type": "stream",
     "text": [
      "<ipython-input-3-b9d17c837b0e>:23: UserWarning: Boolean Series key will be reindexed to match DataFrame index.\n",
      "  df_2020 = df_2020[df_2020['PCR_SARS2']==1][df_2020['HOSPITAL']==1][df_2020['NU_IDADE_N']<=110][df_2020['EVOLUCAO'] != 3][df_2020['EVOLUCAO'] != 9][df_2020['EVOLUCAO'].notnull()]\n"
     ]
    },
    {
     "name": "stdout",
     "output_type": "stream",
     "text": [
      "(242679, 154)\n"
     ]
    }
   ],
   "source": [
    "# reading dataset\n",
    "# https://opendatasus.saude.gov.br/dataset/bd-srag-2020\n",
    "\n",
    "# reading dataset\n",
    "\n",
    "df_2020 = pd.read_csv('/home/pedro/bkp/code/dataset/INFLUD-21-09-2020.csv',sep=';',encoding = \"ISO-8859-1\")\n",
    "\n",
    "# Inputing constraint in the dataset \n",
    "\n",
    "# Positive case:\n",
    "\n",
    "df_2020 = df_2020[df_2020['PCR_SARS2']==1]\n",
    "print(df_2020.shape)\n",
    "\n",
    "\n",
    "# Hospitalized people:\n",
    "\n",
    "df_2020 = df_2020[df_2020['PCR_SARS2']==1][df_2020['HOSPITAL']==1][df_2020['NU_IDADE_N']<=110]\n",
    "print(df_2020.shape)\n",
    "\n",
    "# Hospitalized people with age small than 110:\n",
    "\n",
    "df_2020 = df_2020[df_2020['PCR_SARS2']==1][df_2020['HOSPITAL']==1][df_2020['NU_IDADE_N']<=110][df_2020['EVOLUCAO'] != 3][df_2020['EVOLUCAO'] != 9][df_2020['EVOLUCAO'].notnull()]\n",
    "print(df_2020.shape)\n"
   ]
  },
  {
   "cell_type": "code",
   "execution_count": 4,
   "metadata": {},
   "outputs": [],
   "source": [
    "# Calculating the number of hospitalization for each hospital separated by epidemiological week\n",
    "\n",
    "# CNES = hospital code "
   ]
  },
  {
   "cell_type": "code",
   "execution_count": 5,
   "metadata": {},
   "outputs": [
    {
     "name": "stdout",
     "output_type": "stream",
     "text": [
      "       CO_UNI_NOT  SEM_NOT  Times\n",
      "0              19       19      2\n",
      "1              19       20      2\n",
      "2              19       21      3\n",
      "3              19       22      1\n",
      "4              19       23      2\n",
      "...           ...      ...    ...\n",
      "40490     9997091       30      4\n",
      "40491     9997091       31      2\n",
      "40492     9997091       32      2\n",
      "40493     9997091       35      3\n",
      "40494     9997091       36      1\n",
      "\n",
      "[40495 rows x 3 columns]\n",
      "(40495, 3)\n",
      "0\n"
     ]
    }
   ],
   "source": [
    "# To build a dataframe\n",
    "\n",
    "df_2020 = df_2020.groupby(['CO_UNI_NOT', 'SEM_NOT']).size().reset_index(name=\"Times\")\n",
    "\n",
    "# cheking\n",
    "print(df_2020)\n",
    "\n",
    "# size\n",
    "print(df_2020.shape)\n",
    "\n",
    "# Nan number\n",
    "print(df_2020['CO_UNI_NOT'].isna().sum())"
   ]
  },
  {
   "cell_type": "code",
   "execution_count": 6,
   "metadata": {},
   "outputs": [
    {
     "data": {
      "image/png": "[encoded data removed]",
      "text/plain": [
       "<Figure size 432x288 with 1 Axes>"
      ]
     },
     "metadata": {
      "needs_background": "light"
     },
     "output_type": "display_data"
    }
   ],
   "source": [
    "# Times distribution\n",
    "\n",
    "plt.hist(df_2020['Times'], 100, density=False, facecolor='g', alpha=0.75)\n",
    "plt.show()"
   ]
  },
  {
   "cell_type": "code",
   "execution_count": 7,
   "metadata": {},
   "outputs": [
    {
     "name": "stdout",
     "output_type": "stream",
     "text": [
      "277\n",
      "2287    102083\n",
      "Name: CO_UNI_NOT, dtype: int64\n"
     ]
    }
   ],
   "source": [
    "# max value\n",
    "\n",
    "print(df_2020['Times'].max())\n",
    "\n",
    "# hospital code (hospital de campanha)\n",
    "print(df_2020['CO_UNI_NOT'][df_2020['Times'] == 277])"
   ]
  },
  {
   "cell_type": "code",
   "execution_count": 8,
   "metadata": {},
   "outputs": [
    {
     "name": "stderr",
     "output_type": "stream",
     "text": [
      "/home/pedro/.local/lib/python3.8/site-packages/IPython/core/interactiveshell.py:3146: DtypeWarning: Columns (97,105,107,132) have mixed types.Specify dtype option on import or set low_memory=False.\n",
      "  has_raised = await self.run_ast_nodes(code_ast.body, cell_name,\n"
     ]
    }
   ],
   "source": [
    "# reading dataset\n",
    "# http://plataforma.saude.gov.br/coronavirus/dados-abertos/\n",
    "\n",
    "# To analysing the hospitalization by SARS from 2019 to get a proxy of hospital absorption capacity.\n",
    "\n",
    "df_2019 = pd.read_csv('/home/pedro/bkp/code/dataset/INFLUD19-16042020.csv',sep=';',encoding = \"ISO-8859-1\")\n"
   ]
  },
  {
   "cell_type": "code",
   "execution_count": 9,
   "metadata": {},
   "outputs": [
    {
     "name": "stdout",
     "output_type": "stream",
     "text": [
      "(48528, 138)\n",
      "(47737,)\n"
     ]
    }
   ],
   "source": [
    "# hospitalization for by hospital\n",
    "\n",
    "\n",
    "# general data\n",
    "print(df_2019.shape)\n",
    "\n",
    "# Selecting hospitalized patients and code from hospital reporting unit.\n",
    "\n",
    "df_2019 = df_2019['CO_UNI_NOT'][df_2019['HOSPITAL']==1]\n",
    "print(df_2019.shape)"
   ]
  },
  {
   "cell_type": "code",
   "execution_count": 10,
   "metadata": {},
   "outputs": [
    {
     "name": "stdout",
     "output_type": "stream",
     "text": [
      "(2605, 1)\n"
     ]
    }
   ],
   "source": [
    "# Number of hospitalization in 2019 for each hospital reporting unit.\n",
    "\n",
    "df_2019 = df_2019.value_counts().rename_axis('CO_UNI_NOT').to_frame('counts')\n",
    "print(df_2019.shape)"
   ]
  },
  {
   "cell_type": "code",
   "execution_count": 11,
   "metadata": {},
   "outputs": [
    {
     "name": "stdout",
     "output_type": "stream",
     "text": [
      "1290\n"
     ]
    }
   ],
   "source": [
    "# max value\n",
    "\n",
    "print(df_2019['counts'].max())"
   ]
  },
  {
   "cell_type": "code",
   "execution_count": 12,
   "metadata": {},
   "outputs": [
    {
     "data": {
      "image/png": "[encoded data removed]",
      "text/plain": [
       "<Figure size 432x288 with 1 Axes>"
      ]
     },
     "metadata": {
      "needs_background": "light"
     },
     "output_type": "display_data"
    }
   ],
   "source": [
    "# Hospitalization by SARS distribution for 2019\n",
    "\n",
    "plt.hist(df_2019['counts'], 100, density=False, facecolor='g', alpha=0.75) # .dropna(),\n",
    "plt.show()"
   ]
  },
  {
   "cell_type": "code",
   "execution_count": 13,
   "metadata": {},
   "outputs": [
    {
     "name": "stdout",
     "output_type": "stream",
     "text": [
      "(40495, 4)\n"
     ]
    }
   ],
   "source": [
    "# Merging both dataset\n",
    "\n",
    "df = pd.merge(df_2020, df_2019, on='CO_UNI_NOT', how=\"left\")\n",
    "\n",
    "print(df.shape)"
   ]
  },
  {
   "cell_type": "code",
   "execution_count": 14,
   "metadata": {},
   "outputs": [
    {
     "name": "stdout",
     "output_type": "stream",
     "text": [
      "0\n",
      "12296\n"
     ]
    }
   ],
   "source": [
    "# Nan number for each variable\n",
    "\n",
    "print(df['Times'].isna().sum())\n",
    "print(df['counts'].isna().sum())"
   ]
  },
  {
   "cell_type": "code",
   "execution_count": 15,
   "metadata": {},
   "outputs": [
    {
     "name": "stdout",
     "output_type": "stream",
     "text": [
      "242679\n"
     ]
    }
   ],
   "source": [
    "# To check\n",
    "print(df['Times'].sum())"
   ]
  },
  {
   "cell_type": "code",
   "execution_count": 16,
   "metadata": {},
   "outputs": [
    {
     "name": "stdout",
     "output_type": "stream",
     "text": [
      "12296\n"
     ]
    }
   ],
   "source": [
    "# To defininf the Overcrowd feature\n",
    "\n",
    "df['Overload'] = df['Times']/df['counts']\n",
    "\n",
    "print(df['Overload'].isna().sum())"
   ]
  },
  {
   "cell_type": "code",
   "execution_count": 17,
   "metadata": {},
   "outputs": [
    {
     "name": "stdout",
     "output_type": "stream",
     "text": [
      "(40495, 3)\n"
     ]
    }
   ],
   "source": [
    "# To building a catalog with reporting health unit, epidemiologic week, and Overcrowded features\n",
    "\n",
    "df = df[['CO_UNI_NOT','SEM_NOT','Overload']]\n",
    "print(df.shape)"
   ]
  },
  {
   "cell_type": "code",
   "execution_count": 18,
   "metadata": {},
   "outputs": [
    {
     "data": {
      "image/png": "[encoded data removed]",
      "text/plain": [
       "<Figure size 432x288 with 1 Axes>"
      ]
     },
     "metadata": {
      "needs_background": "light"
     },
     "output_type": "display_data"
    }
   ],
   "source": [
    "# the histogram of the data\n",
    "plt.hist(df['Overload'], 100, density=False, facecolor='g', alpha=0.75) # .dropna(),\n",
    "plt.xlabel('Overload')\n",
    "plt.ylabel('Frequency')\n",
    "plt.show()"
   ]
  },
  {
   "cell_type": "code",
   "execution_count": 19,
   "metadata": {},
   "outputs": [],
   "source": [
    "# To transform in csv dataset\n",
    "\n",
    "df.to_csv('hospital_overcrowded.csv',index=False)"
   ]
  }
 ],
 "metadata": {
  "kernelspec": {
   "display_name": "Python 3",
   "language": "python",
   "name": "python3"
  },
  "language_info": {
   "codemirror_mode": {
    "name": "ipython",
    "version": 3
   },
   "file_extension": ".py",
   "mimetype": "text/x-python",
   "name": "python",
   "nbconvert_exporter": "python",
   "pygments_lexer": "ipython3",
   "version": "3.8.5"
  }
 },
 "nbformat": 4,
 "nbformat_minor": 2
}
