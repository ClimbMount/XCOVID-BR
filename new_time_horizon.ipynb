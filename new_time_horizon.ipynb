{
 "cells": [
  {
   "cell_type": "code",
   "execution_count": 1,
   "metadata": {},
   "outputs": [],
   "source": [
    "# Covid19 Analysis\n",
    "\n",
    "# Data from Espírito Santo government\n",
    "# http://plataforma.saude.gov.br/coronavirus/dados-abertos/        (18 may) "
   ]
  },
  {
   "cell_type": "code",
   "execution_count": 2,
   "metadata": {},
   "outputs": [
    {
     "name": "stderr",
     "output_type": "stream",
     "text": [
      "/home/pedro/anaconda3/lib/python3.7/site-packages/dask/dataframe/utils.py:13: FutureWarning: pandas.util.testing is deprecated. Use the functions in the public API at pandas.testing instead.\n",
      "  import pandas.util.testing as tm\n"
     ]
    }
   ],
   "source": [
    "# libraries\n",
    "\n",
    "import pandas as pd\n",
    "import matplotlib.pyplot as plt\n",
    "import numpy as np\n",
    "import seaborn as sns\n",
    "from sklearn.model_selection import GridSearchCV\n",
    "from sklearn.metrics import roc_curve\n",
    "from sklearn.metrics import auc\n",
    "from sklearn.metrics import accuracy_score\n",
    "import pickle\n",
    "from sklearn.metrics import r2_score\n",
    "from sklearn.ensemble import RandomForestClassifier\n",
    "from sklearn.neural_network import MLPClassifier\n",
    "from sklearn.metrics import average_precision_score\n",
    "from sklearn.metrics import precision_recall_curve\n",
    "from datetime import datetime\n",
    "from xgboost import XGBClassifier\n"
   ]
  },
  {
   "cell_type": "code",
   "execution_count": 3,
   "metadata": {},
   "outputs": [
    {
     "name": "stderr",
     "output_type": "stream",
     "text": [
      "/home/pedro/anaconda3/lib/python3.7/site-packages/IPython/core/interactiveshell.py:2785: DtypeWarning: Columns (18,59,61,62,63,103,105,119,126,128,129,130,132) have mixed types.Specify dtype option on import or set low_memory=False.\n",
      "  interactivity=interactivity, compiler=compiler, result=result)\n"
     ]
    },
    {
     "name": "stdout",
     "output_type": "stream",
     "text": [
      "(97924, 134)\n",
      "(90133, 134)\n",
      "(66929, 134)\n"
     ]
    },
    {
     "name": "stderr",
     "output_type": "stream",
     "text": [
      "/home/pedro/anaconda3/lib/python3.7/site-packages/ipykernel_launcher.py:20: UserWarning: Boolean Series key will be reindexed to match DataFrame index.\n",
      "/home/pedro/anaconda3/lib/python3.7/site-packages/ipykernel_launcher.py:20: UserWarning: Boolean Series key will be reindexed to match DataFrame index.\n"
     ]
    }
   ],
   "source": [
    "# reading dataset\n",
    "\n",
    "df = pd.read_csv('/home/pedro/Desktop/autoprognosis/code_v4/dataset/INFLUD-16-06-2020-Revisado.csv',sep=';',encoding = \"ISO-8859-1\")\n",
    "\n",
    "# Inputing constraint in the dataset \n",
    "\n",
    "# Positive case:\n",
    "\n",
    "df = df[df['PCR_SARS2']==1]\n",
    "print(df.shape)\n",
    "\n",
    "\n",
    "# Hospitalized people:\n",
    "\n",
    "df = df[df['PCR_SARS2']==1][df['HOSPITAL']==1]\n",
    "print(df.shape)\n",
    "\n",
    "# Hospitalized people with age small than 110:\n",
    "\n",
    "df = df[df['PCR_SARS2']==1][df['HOSPITAL']==1][df['NU_IDADE_N']<=110][df['EVOLUCAO'] != 9][df['EVOLUCAO'].notnull()]\n",
    "print(df.shape)\n"
   ]
  },
  {
   "cell_type": "code",
   "execution_count": 4,
   "metadata": {},
   "outputs": [
    {
     "name": "stdout",
     "output_type": "stream",
     "text": [
      "44\n",
      "1890\n",
      "2233\n",
      "1367\n",
      "32\n"
     ]
    }
   ],
   "source": [
    "# IDHM\n",
    "\n",
    "# Reading IBGE code for each municipalities and separating it for IDHM index\n",
    "\n",
    "df_atlas = pd.read_excel (r'/home/pedro/Desktop/autoprognosis/code_v4/dataset/AtlasBrasil_Consulta.xlsx')\n",
    "\n",
    "\n",
    "# removind last interger in 'code' variable\n",
    "\n",
    "df_atlas['code'] = df_atlas['code'].astype(str).str[:-1].astype(np.int64)\n",
    "\n",
    "\n",
    "# Divinding IDHM in bins\n",
    "\n",
    "IDHM_veryhigh  =  set(df_atlas['code'][df_atlas['IDHM2010']>=0.800])\n",
    "print(len(IDHM_veryhigh))\n",
    "\n",
    "\n",
    "IDHM_high  =  set(df_atlas['code'][((df_atlas['IDHM2010']>=0.700)&(df_atlas['IDHM2010']<0.800))])\n",
    "print(len(IDHM_high))\n",
    "\n",
    "\n",
    "IDHM_medium  =  set(df_atlas['code'][((df_atlas['IDHM2010']>=0.600)&(df_atlas['IDHM2010']<0.700))])\n",
    "print(len(IDHM_medium))\n",
    "\n",
    "\n",
    "IDHM_low  =  set(df_atlas['code'][((df_atlas['IDHM2010']>=0.500)&(df_atlas['IDHM2010']<0.600))])\n",
    "print(len(IDHM_low))\n",
    "\n",
    "\n",
    "IDHM_verylow  =  set(df_atlas['code'][df_atlas['IDHM2010']<0.500])\n",
    "print(len(IDHM_verylow))\n",
    "\n",
    "\n",
    "\n",
    "\n",
    "df.loc[df['CO_MUN_NOT'].isin(IDHM_veryhigh) == True, 'IDHM'] = 5\n",
    "df.loc[df['CO_MUN_NOT'].isin(IDHM_high) == True, 'IDHM'] = 4\n",
    "df.loc[df['CO_MUN_NOT'].isin(IDHM_medium) == True, 'IDHM'] = 3\n",
    "df.loc[df['CO_MUN_NOT'].isin(IDHM_low) == True, 'IDHM'] = 2\n",
    "df.loc[df['CO_MUN_NOT'].isin(IDHM_verylow) == True, 'IDHM'] = 1\n",
    "\n",
    "\n",
    "# Municipalities number analysed\n",
    "#print(df['IDHM'].isnull().sum())\n"
   ]
  },
  {
   "cell_type": "code",
   "execution_count": 5,
   "metadata": {},
   "outputs": [],
   "source": [
    "# Private and public hospital separation\n",
    "\n",
    "df_hospital = pd.read_csv('/home/pedro/Desktop/autoprognosis/code_v4/dataset/CNES_SUS.txt', sep='\\t')\n",
    "\n",
    "\n",
    "public   =  set(df_hospital.iloc[:,0][df_hospital.iloc[:,3]=='S'])\n",
    "private  =  set(df_hospital.iloc[:,0][df_hospital.iloc[:,3]=='N'])\n",
    "\n",
    "\n",
    "df.loc[df['CO_UNI_NOT'].isin(public) == True, 'HEALTH_SYSTEM'] = 1\n",
    "df.loc[df['CO_UNI_NOT'].isin(private) == True, 'HEALTH_SYSTEM'] = 0"
   ]
  },
  {
   "cell_type": "code",
   "execution_count": 6,
   "metadata": {},
   "outputs": [
    {
     "name": "stdout",
     "output_type": "stream",
     "text": [
      "(63860, 136)\n"
     ]
    },
    {
     "name": "stderr",
     "output_type": "stream",
     "text": [
      "/home/pedro/anaconda3/lib/python3.7/site-packages/ipykernel_launcher.py:3: UserWarning: Boolean Series key will be reindexed to match DataFrame index.\n",
      "  This is separate from the ipykernel package so we can avoid doing imports until\n"
     ]
    }
   ],
   "source": [
    "# Constraint on dataset: We only analyze people with  evolution, IDHM and Health system known\n",
    "\n",
    "df = df[df['IDHM'].notnull()][(df['HEALTH_SYSTEM']==1)|(df['HEALTH_SYSTEM']==0)]\n",
    "print(df.shape)\n"
   ]
  },
  {
   "cell_type": "code",
   "execution_count": 7,
   "metadata": {},
   "outputs": [],
   "source": [
    "# Data internation SARS - First Symptoms\n",
    "\n",
    "\n",
    "\n",
    "df['DT_INTERNA'] = df['DT_INTERNA'][pd.to_datetime(df['DT_INTERNA'], format='%d/%m/%Y',errors = 'coerce')\n",
    "< datetime(year = 2020, month= 6, day=22)]\n",
    "\n",
    "df['DT_EVOLUCA'] = df['DT_EVOLUCA'][pd.to_datetime(df['DT_EVOLUCA'], format='%d/%m/%Y',errors = 'coerce')\n",
    "< datetime(year = 2020, month= 6, day=22)]\n",
    "\n",
    "df['time'] = pd.to_datetime(df['DT_EVOLUCA'], format='%d/%m/%Y',errors = 'coerce').subtract(pd.to_datetime(df['DT_INTERNA'], format='%d/%m/%Y', errors = 'coerce'))\n",
    "df['time'] = df['time']/ np.timedelta64(1, 'D')\n",
    "\n",
    "df['time'] = df['time'][((df['time']>=0) & (df['time']<=7))]\n",
    "\n",
    "\n",
    "df = df[df['time'].notnull()]\n",
    "\n",
    "#df_BR['time'] = df_BR[df_BR['time']<=10]\n",
    "\n",
    "# df_BR['time'] = df_BR['time']\n",
    "#print(df_BR.shape)\n",
    "#print(df_BR['time'])"
   ]
  },
  {
   "cell_type": "code",
   "execution_count": 8,
   "metadata": {},
   "outputs": [],
   "source": [
    "# To selecting features and target\n",
    "\n",
    "df = df[['NU_IDADE_N','CS_SEXO','IDHM','CS_RACA','CS_ESCOL_N','SG_UF_NOT','CS_ZONA',\\\n",
    "'HEALTH_SYSTEM','CS_GESTANT','FEBRE','VOMITO','TOSSE','GARGANTA','DESC_RESP','DISPNEIA','DIARREIA',\\\n",
    "'SATURACAO','CARDIOPATI','HEPATICA','ASMA','PNEUMOPATI','RENAL','HEMATOLOGI','SIND_DOWN','DIABETES',\\\n",
    "'OBESIDADE','NEUROLOGIC','IMUNODEPRE','EVOLUCAO']]\n"
   ]
  },
  {
   "cell_type": "code",
   "execution_count": 9,
   "metadata": {},
   "outputs": [],
   "source": [
    "# adding comorbidities\n",
    "\n",
    "df['SUM_COMORBIDITIES'] = df.iloc[:,17:-1].replace([9,2], 0).fillna(0).sum(axis=1)\n",
    "df['SUM_SYMPTOMS'] = df.iloc[:,9:15].replace([9,2], 0).fillna(0).sum(axis=1)"
   ]
  },
  {
   "cell_type": "code",
   "execution_count": 10,
   "metadata": {},
   "outputs": [],
   "source": [
    "# Ordering features\n",
    "\n",
    "df = df[['NU_IDADE_N','CS_SEXO','IDHM','SUM_COMORBIDITIES','SUM_SYMPTOMS','CS_RACA','CS_ESCOL_N',\\\n",
    "'SG_UF_NOT','CS_ZONA','HEALTH_SYSTEM','CS_GESTANT','FEBRE','VOMITO','TOSSE','GARGANTA','DESC_RESP',\\\n",
    "'DISPNEIA','DIARREIA','SATURACAO','CARDIOPATI','HEPATICA','ASMA','PNEUMOPATI','RENAL','HEMATOLOGI',\\\n",
    "'SIND_DOWN','DIABETES','OBESIDADE','NEUROLOGIC','IMUNODEPRE','EVOLUCAO']]"
   ]
  },
  {
   "cell_type": "code",
   "execution_count": 11,
   "metadata": {},
   "outputs": [],
   "source": [
    "# Pre-Processing\n",
    "\n",
    "df = df[df['EVOLUCAO'].notnull()][df['EVOLUCAO']!=9]#[df_BR['NU_IDADE_N'].notnull()]\n",
    "df['CS_SEXO']=df['CS_SEXO'].replace({'M': 1, 'F':0, 'I':9, 'NaN':np.nan})\n",
    "\n",
    "\n",
    "df.iloc[:,11:] = df.iloc[:,11:].replace(to_replace = 2.0, value =0) \n",
    "\n",
    "df['SG_UF_NOT'] = df['SG_UF_NOT'].map({'SP': 0, 'RJ':1, 'MG': 2 , 'ES':3, \\\n",
    "'RS':4, 'SC': 5, 'PR': 6, 'MT': 7, 'MS': 8, 'GO':9, 'DF':10, 'RO':11,'AC':12,'AM':13,\\\n",
    "'RR':14,'PA':15,'AP':16,'TO':17,'MA':18,'PI':19,'BA':20,'CE':21,'RN':22,'PB':23,'PE':24,'AL':25,'SE':26})\n",
    "\n",
    "\n",
    "df.iloc[:,11:-1] = df.iloc[:,11:-1].fillna(0)\n"
   ]
  },
  {
   "cell_type": "code",
   "execution_count": 12,
   "metadata": {},
   "outputs": [],
   "source": [
    "# feature\n",
    "x = df.iloc[:,:-1]\n",
    "\n",
    "# labels\n",
    "y = df['EVOLUCAO']"
   ]
  },
  {
   "cell_type": "code",
   "execution_count": 13,
   "metadata": {},
   "outputs": [],
   "source": [
    "# data separation\n",
    "from sklearn.model_selection import train_test_split\n",
    "x_train, x_test, y_train, y_test = \\\n",
    "    train_test_split(x, y, test_size=0.2, random_state=5)"
   ]
  },
  {
   "cell_type": "code",
   "execution_count": 14,
   "metadata": {},
   "outputs": [
    {
     "name": "stdout",
     "output_type": "stream",
     "text": [
      "[13:44:08] WARNING: /workspace/src/learner.cc:480: \n",
      "Parameters: { booster  } might not be used.\n",
      "\n",
      "  This may not be accurate due to some parameters are only used in language bindings but\n",
      "  passed down to XGBoost core.  Or some parameters are not used but slip through this\n",
      "  verification. Please open an issue if you find above cases.\n",
      "\n",
      "\n",
      "[13:44:10] WARNING: /workspace/src/learner.cc:480: \n",
      "Parameters: { booster  } might not be used.\n",
      "\n",
      "  This may not be accurate due to some parameters are only used in language bindings but\n",
      "  passed down to XGBoost core.  Or some parameters are not used but slip through this\n",
      "  verification. Please open an issue if you find above cases.\n",
      "\n",
      "\n",
      "[13:44:12] WARNING: /workspace/src/learner.cc:480: \n",
      "Parameters: { booster  } might not be used.\n",
      "\n",
      "  This may not be accurate due to some parameters are only used in language bindings but\n",
      "  passed down to XGBoost core.  Or some parameters are not used but slip through this\n",
      "  verification. Please open an issue if you find above cases.\n",
      "\n",
      "\n",
      "[13:44:14] WARNING: /workspace/src/learner.cc:480: \n",
      "Parameters: { booster  } might not be used.\n",
      "\n",
      "  This may not be accurate due to some parameters are only used in language bindings but\n",
      "  passed down to XGBoost core.  Or some parameters are not used but slip through this\n",
      "  verification. Please open an issue if you find above cases.\n",
      "\n",
      "\n",
      "[13:44:16] WARNING: /workspace/src/learner.cc:480: \n",
      "Parameters: { booster  } might not be used.\n",
      "\n",
      "  This may not be accurate due to some parameters are only used in language bindings but\n",
      "  passed down to XGBoost core.  Or some parameters are not used but slip through this\n",
      "  verification. Please open an issue if you find above cases.\n",
      "\n",
      "\n",
      "[13:44:18] WARNING: /workspace/src/learner.cc:480: \n",
      "Parameters: { booster  } might not be used.\n",
      "\n",
      "  This may not be accurate due to some parameters are only used in language bindings but\n",
      "  passed down to XGBoost core.  Or some parameters are not used but slip through this\n",
      "  verification. Please open an issue if you find above cases.\n",
      "\n",
      "\n",
      "[13:44:20] WARNING: /workspace/src/learner.cc:480: \n",
      "Parameters: { booster  } might not be used.\n",
      "\n",
      "  This may not be accurate due to some parameters are only used in language bindings but\n",
      "  passed down to XGBoost core.  Or some parameters are not used but slip through this\n",
      "  verification. Please open an issue if you find above cases.\n",
      "\n",
      "\n",
      "[13:44:21] WARNING: /workspace/src/learner.cc:480: \n",
      "Parameters: { booster  } might not be used.\n",
      "\n",
      "  This may not be accurate due to some parameters are only used in language bindings but\n",
      "  passed down to XGBoost core.  Or some parameters are not used but slip through this\n",
      "  verification. Please open an issue if you find above cases.\n",
      "\n",
      "\n",
      "[13:44:23] WARNING: /workspace/src/learner.cc:480: \n",
      "Parameters: { booster  } might not be used.\n",
      "\n",
      "  This may not be accurate due to some parameters are only used in language bindings but\n",
      "  passed down to XGBoost core.  Or some parameters are not used but slip through this\n",
      "  verification. Please open an issue if you find above cases.\n",
      "\n",
      "\n",
      "[13:44:25] WARNING: /workspace/src/learner.cc:480: \n",
      "Parameters: { booster  } might not be used.\n",
      "\n",
      "  This may not be accurate due to some parameters are only used in language bindings but\n",
      "  passed down to XGBoost core.  Or some parameters are not used but slip through this\n",
      "  verification. Please open an issue if you find above cases.\n",
      "\n",
      "\n",
      "[13:44:27] WARNING: /workspace/src/learner.cc:480: \n",
      "Parameters: { booster  } might not be used.\n",
      "\n",
      "  This may not be accurate due to some parameters are only used in language bindings but\n",
      "  passed down to XGBoost core.  Or some parameters are not used but slip through this\n",
      "  verification. Please open an issue if you find above cases.\n",
      "\n",
      "\n",
      "0.8840282652322433\n",
      "{'booster ': 'gbtree', 'colsample_bytree': 0.9, 'eta': 0.2, 'gamma': 1, 'max_depth': 4, 'n_estimators': 200, 'subsample': 0.9}\n",
      "[0.88402827]\n",
      "[0.00693835]\n",
      "[0.91275418]\n",
      "[0.00074978]\n",
      "[13:44:29] WARNING: /workspace/src/learner.cc:480: \n",
      "Parameters: { booster  } might not be used.\n",
      "\n",
      "  This may not be accurate due to some parameters are only used in language bindings but\n",
      "  passed down to XGBoost core.  Or some parameters are not used but slip through this\n",
      "  verification. Please open an issue if you find above cases.\n",
      "\n",
      "\n"
     ]
    }
   ],
   "source": [
    "params = params = {'booster ':['gbtree'],\n",
    "        'n_estimators': [200],          \n",
    "        'eta':[0.2],    \n",
    "        'max_depth':[4],\n",
    "        'gamma': [1],\n",
    "        'subsample': [0.9],\n",
    "        'colsample_bytree': [0.9]\n",
    "            }\n",
    "\n",
    "                            \n",
    "                            \n",
    "xgb = XGBClassifier()\n",
    "gs = GridSearchCV(estimator=xgb, param_grid=params, return_train_score=True, cv=10, scoring='roc_auc') \n",
    "\n",
    "\n",
    "gs = gs.fit(x_train, y_train)\n",
    "\n",
    "\n",
    "print(gs.best_score_)\n",
    "print(gs.best_params_)\n",
    "\n",
    "\n",
    "print(gs.cv_results_['mean_test_score'])\n",
    "print(gs.cv_results_['std_test_score'])\n",
    "\n",
    "print(gs.cv_results_['mean_train_score'])   \n",
    "print(gs.cv_results_['std_train_score'])   \n",
    "\n",
    "\n",
    "\n",
    "clf = gs.best_estimator_\n",
    "clf.fit(x_train, y_train)\n",
    "\n",
    "\n",
    "# save the model to disk\n",
    "filename_nn = 'xgb_horizon.sav'\n",
    "pickle.dump(clf, open(filename_nn, 'wb')) "
   ]
  },
  {
   "cell_type": "code",
   "execution_count": 15,
   "metadata": {},
   "outputs": [],
   "source": [
    "# load the model from disk\n",
    "loaded_model_xgb = pickle.load(open('xgb_horizon.sav', 'rb'))"
   ]
  },
  {
   "cell_type": "code",
   "execution_count": 16,
   "metadata": {},
   "outputs": [],
   "source": [
    "# To predicting \n",
    "xgb_pred = loaded_model_xgb.predict_proba(x_test)"
   ]
  },
  {
   "cell_type": "code",
   "execution_count": 17,
   "metadata": {},
   "outputs": [
    {
     "data": {
      "image/png": "[encoded data removed]",
      "text/plain": [
       "<Figure size 432x288 with 1 Axes>"
      ]
     },
     "metadata": {
      "needs_background": "light"
     },
     "output_type": "display_data"
    }
   ],
   "source": [
    "# Plot Roc Curve\n",
    "\n",
    "colors = ['blue']\n",
    "linestyles = ['--']\n",
    "#plt.figure(figsize=(5,5))\n",
    "fpr, tpr, thresholds = roc_curve(y_test, xgb_pred[:,1],pos_label=1)\n",
    "roc_auc = auc(x=fpr, y=tpr)\n",
    "plt.plot(fpr, tpr,\n",
    "             color='k',\n",
    "             linestyle='-',\n",
    "             label='%s (AUC = %0.3f)' % ('XGB', roc_auc))\n",
    "\n",
    "plt.legend(loc='lower right')\n",
    "plt.plot([0, 1], [0, 1],\n",
    "         linestyle='--',\n",
    "         color='black',\n",
    "         linewidth=1)\n",
    "\n",
    "plt.title('')\n",
    "plt.xlim([-0.1, 1.1])\n",
    "plt.ylim([-0.1, 1.1])\n",
    "plt.grid()\n",
    "plt.xlabel('False Positive Rate')\n",
    "plt.ylabel('True Positive Rate')\n",
    "\n",
    "plt.tight_layout()\n",
    "plt.show()  "
   ]
  },
  {
   "cell_type": "code",
   "execution_count": 18,
   "metadata": {},
   "outputs": [
    {
     "data": {
      "image/png": "[encoded data removed]",
      "text/plain": [
       "<Figure size 432x288 with 1 Axes>"
      ]
     },
     "metadata": {
      "needs_background": "light"
     },
     "output_type": "display_data"
    }
   ],
   "source": [
    "# Plot Purity x Completeness \n",
    "\n",
    "\n",
    "precision_cure, recall_cure, thresholds_cure = precision_recall_curve(y_test, xgb_pred[:,1],pos_label=1)\n",
    "average_precision_cure = average_precision_score(y_test, xgb_pred[:,1])\n",
    "plt.plot(recall_cure, precision_cure, color='k',linestyle='-',label='%s (AP = %0.3f)' % ('XGB', average_precision_cure))\n",
    "\n",
    "plt.legend(loc='lower right')\n",
    "\n",
    "\n",
    "plt.xlim([-0.1, 1.1])\n",
    "plt.ylim([-0.1, 1.1])\n",
    "plt.grid()\n",
    "plt.xlabel('Completeness')\n",
    "plt.ylabel('Purity')\n",
    "plt.title('Cure')\n",
    "plt.tight_layout()\n",
    "plt.show()  "
   ]
  },
  {
   "cell_type": "code",
   "execution_count": 19,
   "metadata": {},
   "outputs": [
    {
     "data": {
      "image/png": "[encoded data removed]",
      "text/plain": [
       "<Figure size 432x288 with 1 Axes>"
      ]
     },
     "metadata": {
      "needs_background": "light"
     },
     "output_type": "display_data"
    }
   ],
   "source": [
    "# Plot Purity x Completeness \n",
    "\n",
    "\n",
    "precision_death, recall_death, thresholds_death = precision_recall_curve(y_test, xgb_pred[:,0],pos_label=0)\n",
    "average_precision_death = average_precision_score(1-y_test, xgb_pred[:,0])\n",
    "plt.plot(recall_death, precision_death, color='k',linestyle='-',label='%s (AP = %0.3f)' % ('XGB', average_precision_death))\n",
    "\n",
    "plt.legend(loc='lower right')\n",
    "\n",
    "\n",
    "plt.xlim([-0.1, 1.1])\n",
    "plt.ylim([-0.1, 1.1])\n",
    "plt.grid()\n",
    "plt.xlabel('Completeness')\n",
    "plt.ylabel('Purity')\n",
    "plt.title('Death')\n",
    "plt.tight_layout()\n",
    "plt.show()  "
   ]
  },
  {
   "cell_type": "code",
   "execution_count": 20,
   "metadata": {},
   "outputs": [
    {
     "data": {
      "image/png": "[encoded data removed]",
      "text/plain": [
       "<Figure size 504x504 with 1 Axes>"
      ]
     },
     "metadata": {
      "needs_background": "light"
     },
     "output_type": "display_data"
    }
   ],
   "source": [
    "from sklearn.inspection import permutation_importance\n",
    "\n",
    "\n",
    "result = permutation_importance(loaded_model_xgb, x_test, y_test, n_repeats=5,\n",
    "                                random_state=42, n_jobs=2, scoring='average_precision')\n",
    "sorted_idx = result.importances_mean.argsort()\n",
    "\n",
    "fig, ax = plt.subplots(figsize=(7,7))\n",
    "ax.boxplot(result.importances[sorted_idx].T,\n",
    "           vert=False, labels=x_test.columns[sorted_idx])\n",
    "ax.set_title(\"Permutation Importances (test set)\")\n",
    "#ax.set_xscale('log')\n",
    "fig.tight_layout()\n",
    "#plt.savefig('importance_permutation_train.pdf')\n",
    "plt.show()  "
   ]
  },
  {
   "cell_type": "code",
   "execution_count": 21,
   "metadata": {},
   "outputs": [
    {
     "name": "stdout",
     "output_type": "stream",
     "text": [
      "Public number of data 5152\n",
      "Private number of data 1512\n",
      "General data 6664\n"
     ]
    }
   ],
   "source": [
    "# Data number\n",
    "\n",
    "\n",
    "# general\n",
    "print('Public number of data %d' % (y_test[x_test['HEALTH_SYSTEM']==1].shape[0]) )\n",
    "print('Private number of data %d' % (y_test[x_test['HEALTH_SYSTEM']==0].shape[0]) )\n",
    "print('General data %d' % (y_test.shape[0]))"
   ]
  },
  {
   "cell_type": "code",
   "execution_count": 22,
   "metadata": {},
   "outputs": [
    {
     "name": "stdout",
     "output_type": "stream",
     "text": [
      "Public AUC = 0.869, number of data 5152\n",
      "Private AUC = 0.903, number of data 1512\n"
     ]
    }
   ],
   "source": [
    "# ROC Public and Private\n",
    "\n",
    "\n",
    "# public\n",
    "pred_public = loaded_model_xgb.predict_proba(x_test[x_test['HEALTH_SYSTEM']==1])\n",
    "fpr_public, tpr_public, thresholds_public = roc_curve(y_test[x_test['HEALTH_SYSTEM']==1], pred_public[:,1], pos_label=1)\n",
    "pred_auc_public = auc(x=fpr_public, y=tpr_public)\n",
    "\n",
    "\n",
    "# private\n",
    "pred_private = loaded_model_xgb.predict_proba(x_test[x_test['HEALTH_SYSTEM']==0])\n",
    "fpr_private, tpr_private, thresholds_private = roc_curve(y_test[x_test['HEALTH_SYSTEM']==0], pred_private[:,1], pos_label=1)\n",
    "pred_auc_private = auc(x=fpr_private, y=tpr_private)\n",
    "    \n",
    "    \n",
    "print('Public AUC = %0.3f, number of data %d' % (pred_auc_public, y_test[x_test['HEALTH_SYSTEM']==1].shape[0]) )\n",
    "print('Private AUC = %0.3f, number of data %d' % (pred_auc_private, y_test[x_test['HEALTH_SYSTEM']==0].shape[0]) )"
   ]
  },
  {
   "cell_type": "code",
   "execution_count": 23,
   "metadata": {},
   "outputs": [
    {
     "name": "stdout",
     "output_type": "stream",
     "text": [
      "Public cure AUC = 0.872, number of data 5152\n",
      "Private cure  AUC = 0.966, number of data 1512\n"
     ]
    }
   ],
   "source": [
    "# Plot Purity x Completeness \n",
    "\n",
    "\n",
    "# Public Cure\n",
    "precision_cure, recall_cure, thresholds_cure = precision_recall_curve(y_test[x_test['HEALTH_SYSTEM']==1], pred_public[:,1],pos_label=0)\n",
    "average_precision_cure = average_precision_score(y_test[x_test['HEALTH_SYSTEM']==1], pred_public[:,1])\n",
    "\n",
    "print('Public cure AUC = %0.3f, number of data %d' % (average_precision_cure, y_test[x_test['HEALTH_SYSTEM']==1].shape[0]))\n",
    "\n",
    "\n",
    "# Private Cure\n",
    "precision_cure_private, recall_cure_private, thresholds_cure_private = precision_recall_curve(y_test[x_test['HEALTH_SYSTEM']==0], pred_private[:,1],pos_label=0)\n",
    "average_precision_private = average_precision_score(y_test[x_test['HEALTH_SYSTEM']==0], pred_private[:,1])\n",
    "\n",
    "print('Private cure  AUC = %0.3f, number of data %d' % (average_precision_private, y_test[x_test['HEALTH_SYSTEM']==0].shape[0]))\n"
   ]
  },
  {
   "cell_type": "code",
   "execution_count": 24,
   "metadata": {},
   "outputs": [
    {
     "name": "stdout",
     "output_type": "stream",
     "text": [
      "Public death AUC = 0.867, number of data 5152\n",
      "Private death  AUC = 0.760, number of data 1512\n"
     ]
    }
   ],
   "source": [
    "# Plot Purity x Completeness \n",
    "\n",
    "\n",
    "# Public death\n",
    "precision_death, recall_death, thresholds_death = precision_recall_curve(y_test[x_test['HEALTH_SYSTEM']==1], pred_public[:,0],pos_label=0)\n",
    "average_precision_death = average_precision_score(1-y_test[x_test['HEALTH_SYSTEM']==1], pred_public[:,0])\n",
    "\n",
    "print('Public death AUC = %0.3f, number of data %d' % (average_precision_death, y_test[x_test['HEALTH_SYSTEM']==1].shape[0]))\n",
    "\n",
    "\n",
    "# Private death\n",
    "precision_death_private, recall_death_private, thresholds_death_private = precision_recall_curve(y_test[x_test['HEALTH_SYSTEM']==0], pred_private[:,0],pos_label=0)\n",
    "average_precision_private = average_precision_score(1-y_test[x_test['HEALTH_SYSTEM']==0], pred_private[:,0])\n",
    "\n",
    "print('Private death  AUC = %0.3f, number of data %d' % (average_precision_private, y_test[x_test['HEALTH_SYSTEM']==0].shape[0]))\n"
   ]
  },
  {
   "cell_type": "code",
   "execution_count": null,
   "metadata": {},
   "outputs": [],
   "source": []
  }
 ],
 "metadata": {
  "kernelspec": {
   "display_name": "Python 3",
   "language": "python",
   "name": "python3"
  },
  "language_info": {
   "codemirror_mode": {
    "name": "ipython",
    "version": 3
   },
   "file_extension": ".py",
   "mimetype": "text/x-python",
   "name": "python",
   "nbconvert_exporter": "python",
   "pygments_lexer": "ipython3",
   "version": "3.7.3"
  }
 },
 "nbformat": 4,
 "nbformat_minor": 2
}
