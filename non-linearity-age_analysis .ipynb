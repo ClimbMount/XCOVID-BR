{
 "cells": [
  {
   "cell_type": "code",
   "execution_count": 1,
   "metadata": {},
   "outputs": [],
   "source": [
    "# Covid19 Analysis\n"
   ]
  },
  {
   "cell_type": "code",
   "execution_count": 2,
   "metadata": {},
   "outputs": [
    {
     "name": "stderr",
     "output_type": "stream",
     "text": [
      "/home/pedro/anaconda3/lib/python3.7/site-packages/dask/dataframe/utils.py:13: FutureWarning: pandas.util.testing is deprecated. Use the functions in the public API at pandas.testing instead.\n",
      "  import pandas.util.testing as tm\n"
     ]
    }
   ],
   "source": [
    "# libraries\n",
    "\n",
    "import pandas as pd\n",
    "import matplotlib.pyplot as plt\n",
    "import numpy as np\n",
    "import seaborn as sns\n",
    "from sklearn.model_selection import GridSearchCV\n",
    "from sklearn.metrics import roc_curve\n",
    "from sklearn.metrics import auc\n",
    "from sklearn.metrics import accuracy_score\n",
    "import pickle\n",
    "from sklearn.metrics import r2_score\n",
    "from sklearn.ensemble import RandomForestClassifier\n",
    "from sklearn.neural_network import MLPClassifier\n",
    "from sklearn.metrics import average_precision_score\n",
    "from sklearn.metrics import precision_recall_curve\n",
    "from xgboost import XGBClassifier\n",
    "from datetime import datetime\n",
    "from haversine import haversine, Unit\n",
    "from haversine import haversine_vector"
   ]
  },
  {
   "cell_type": "code",
   "execution_count": 3,
   "metadata": {},
   "outputs": [
    {
     "name": "stderr",
     "output_type": "stream",
     "text": [
      "/home/pedro/anaconda3/lib/python3.7/site-packages/IPython/core/interactiveshell.py:2785: DtypeWarning: Columns (15,60,62,63,64,92,94,108,117,121,123) have mixed types.Specify dtype option on import or set low_memory=False.\n",
      "  interactivity=interactivity, compiler=compiler, result=result)\n"
     ]
    },
    {
     "name": "stdout",
     "output_type": "stream",
     "text": [
      "(299142, 154)\n"
     ]
    },
    {
     "name": "stderr",
     "output_type": "stream",
     "text": [
      "/home/pedro/anaconda3/lib/python3.7/site-packages/ipykernel_launcher.py:16: UserWarning: Boolean Series key will be reindexed to match DataFrame index.\n",
      "  app.launch_new_instance()\n"
     ]
    },
    {
     "name": "stdout",
     "output_type": "stream",
     "text": [
      "(279982, 154)\n"
     ]
    },
    {
     "name": "stderr",
     "output_type": "stream",
     "text": [
      "/home/pedro/anaconda3/lib/python3.7/site-packages/ipykernel_launcher.py:21: UserWarning: Boolean Series key will be reindexed to match DataFrame index.\n",
      "/home/pedro/anaconda3/lib/python3.7/site-packages/ipykernel_launcher.py:21: UserWarning: Boolean Series key will be reindexed to match DataFrame index.\n"
     ]
    },
    {
     "name": "stdout",
     "output_type": "stream",
     "text": [
      "(242679, 154)\n"
     ]
    }
   ],
   "source": [
    "# reading dataset\n",
    "# https://opendatasus.saude.gov.br/dataset/bd-srag-2020\n",
    "\n",
    "df = pd.read_csv('/home/pedro/Desktop/autoprognosis/code_v6/INFLUD-21-09-2020.csv',sep=';',encoding = \"ISO-8859-1\")\n",
    "\n",
    "# Inputing constraint in the dataset \n",
    "\n",
    "# Positive case:\n",
    "\n",
    "df = df[df['PCR_SARS2']==1]\n",
    "print(df.shape)\n",
    "\n",
    "\n",
    "# Hospitalized people:\n",
    "\n",
    "df = df[df['PCR_SARS2']==1][df['HOSPITAL']==1][df['NU_IDADE_N']<=110]\n",
    "print(df.shape)\n",
    "\n",
    "# Hospitalized people with age small than 110:\n",
    "\n",
    "df = df[df['PCR_SARS2']==1][df['HOSPITAL']==1][df['NU_IDADE_N']<=110][df['EVOLUCAO'] != 3][df['EVOLUCAO'] != 9][df['EVOLUCAO'].notnull()]\n",
    "print(df.shape)\n",
    "\n"
   ]
  },
  {
   "cell_type": "code",
   "execution_count": 4,
   "metadata": {},
   "outputs": [],
   "source": [
    "# Latitudes and longitudes table from municipalities\n",
    "\n",
    "df_cod = pd.read_csv('/home/pedro/Desktop/autoprognosis/code_v6/dataset/municipios.csv', sep=',')\n"
   ]
  },
  {
   "cell_type": "code",
   "execution_count": 5,
   "metadata": {},
   "outputs": [],
   "source": [
    "# Removing last number from \"codenumber\"\n",
    "\n",
    "df_cod['CO_MUN_RES'] = df_cod['CO_MUN_RES'].astype(str).str[:-1].astype(np.int64)\n",
    "df_cod['CO_MU_INTE'] = df_cod['CO_MU_INTE'].astype(str).str[:-1].astype(np.int64)"
   ]
  },
  {
   "cell_type": "code",
   "execution_count": 6,
   "metadata": {},
   "outputs": [
    {
     "name": "stdout",
     "output_type": "stream",
     "text": [
      "(242679, 156)\n",
      "(242679, 156)\n"
     ]
    }
   ],
   "source": [
    "# To match catalogues using muninipacity code\n",
    "# latitude and longitude for pacient residence\n",
    "\n",
    "\n",
    "result_01 = pd.merge(df, df_cod[['CO_MUN_RES','latitude_res','longitude_res']], on='CO_MUN_RES', how=\"left\")\n",
    "result_02 = pd.merge(df, df_cod[['CO_MU_INTE','latitude_int','longitude_int']], on='CO_MU_INTE', how=\"left\") \n",
    "\n",
    "print(result_01.shape)\n",
    "print(result_02.shape)"
   ]
  },
  {
   "cell_type": "code",
   "execution_count": 7,
   "metadata": {},
   "outputs": [
    {
     "name": "stdout",
     "output_type": "stream",
     "text": [
      "(242679, 2)\n",
      "(242679, 2)\n"
     ]
    }
   ],
   "source": [
    "# To transforming in tuple\n",
    "\n",
    "patient_mun_code  = result_01[['latitude_res','longitude_res']].to_numpy()\n",
    "hospital_mun_code = result_02[['latitude_int','longitude_int']].to_numpy()\n",
    "\n",
    "\n",
    "print(patient_mun_code.shape)\n",
    "print(hospital_mun_code.shape)"
   ]
  },
  {
   "cell_type": "code",
   "execution_count": 8,
   "metadata": {},
   "outputs": [],
   "source": [
    "# To calculate the distance from patient to hospital (difference between municipalities centers in km)\n",
    "\n",
    "df['distance'] = haversine_vector(patient_mun_code, hospital_mun_code, Unit.KILOMETERS)"
   ]
  },
  {
   "cell_type": "code",
   "execution_count": 9,
   "metadata": {},
   "outputs": [
    {
     "name": "stdout",
     "output_type": "stream",
     "text": [
      "        CO_MUN_RES  CO_MU_INTE     ID_MUNICIP    distance\n",
      "7         351880.0    355030.0      SAO PAULO   13.951736\n",
      "9         350570.0    355030.0      SAO PAULO   24.605443\n",
      "10        355030.0    355030.0      SAO PAULO    0.000000\n",
      "12        352670.0    352670.0           LEME    0.000000\n",
      "18        355030.0    355030.0      SAO PAULO    0.000000\n",
      "...            ...         ...            ...         ...\n",
      "754858    330630.0    330630.0  VOLTA REDONDA    0.000000\n",
      "754875    317020.0    317020.0     UBERLANDIA    0.000000\n",
      "754892    291110.0    290320.0      BARREIRAS  125.383634\n",
      "754896    230640.0    230440.0      FORTALEZA  118.057231\n",
      "754897    330070.0    330070.0      CABO FRIO    0.000000\n",
      "\n",
      "[242679 rows x 4 columns]\n"
     ]
    }
   ],
   "source": [
    "# To check\n",
    "\n",
    "print(df[['CO_MUN_RES','CO_MU_INTE','ID_MUNICIP', 'distance']])"
   ]
  },
  {
   "cell_type": "code",
   "execution_count": 10,
   "metadata": {},
   "outputs": [
    {
     "data": {
      "image/png": "[encoded data removed]",
      "text/plain": [
       "<Figure size 432x288 with 1 Axes>"
      ]
     },
     "metadata": {
      "needs_background": "light"
     },
     "output_type": "display_data"
    }
   ],
   "source": [
    "# Histogram for Municipality Distance\n",
    "\n",
    "plt.hist(df['distance'], 50, density=False, facecolor='g', alpha=0.75) # .dropna(),\n",
    "plt.xlabel('km')\n",
    "plt.ylabel('Distribution')\n",
    "plt.title('Municipality Distance')\n",
    "plt.show()"
   ]
  },
  {
   "cell_type": "code",
   "execution_count": 11,
   "metadata": {},
   "outputs": [
    {
     "name": "stdout",
     "output_type": "stream",
     "text": [
      "        CO_MUN_RES  CO_MU_INTE        ID_MUNICIP     distance\n",
      "136401    431680.0    261160.0            RECIFE  3027.037343\n",
      "200859    140010.0    420910.0         JOINVILLE  3479.593208\n",
      "299138    421565.0    150405.0        MAE DO RIO  3019.144779\n",
      "373144    110070.0    261160.0            RECIFE  3166.007414\n",
      "509610    120020.0    310620.0    BELO HORIZONTE  3383.789594\n",
      "573760    211120.0    430300.0  CACHOEIRA DO SUL  3195.009539\n",
      "616802    260290.0    431440.0           PELOTAS  3165.723955\n",
      "655586    160060.0    430910.0           GRAMADO  3261.277507\n",
      "693063    431490.0    240800.0           MOSSORO  3121.907328\n",
      "696975    140010.0    355030.0         SAO PAULO  3301.511571\n"
     ]
    }
   ],
   "source": [
    "# To check long distances\n",
    "\n",
    "print(df[['CO_MUN_RES','CO_MU_INTE','ID_MUNICIP', 'distance']][df['distance']>3000])"
   ]
  },
  {
   "cell_type": "code",
   "execution_count": 12,
   "metadata": {},
   "outputs": [
    {
     "name": "stdout",
     "output_type": "stream",
     "text": [
      "3479.593208186318\n",
      "        CO_MUN_RES  CO_MU_INTE ID_MUNICIP     distance\n",
      "200859    140010.0    420910.0  JOINVILLE  3479.593208\n"
     ]
    }
   ],
   "source": [
    "print(df['distance'].max())\n",
    "print(df[['CO_MUN_RES','CO_MU_INTE','ID_MUNICIP', 'distance']][df['distance']>3479])                            \n",
    "\n",
    "# Bigger distance  Boa Vista (Roraima) to Joinville (Santa Catarina)"
   ]
  },
  {
   "cell_type": "code",
   "execution_count": 13,
   "metadata": {},
   "outputs": [],
   "source": [
    "# overcrowded dataset\n",
    "# dataset with code from hospital (cnes) with epidemiology week and the overcrowded status of hospital.\n",
    "\n",
    "df_cod = pd.read_csv('/home/pedro/Desktop/autoprognosis/code_v6/hospital_overcrowded.csv', sep=',')\n",
    "\n",
    "# CO_UNI_NOT, SEM_NOT, Overcrowded\n",
    "\n",
    "# Overload = number of hospitalization in epidemiological week for COVID-19 / 2019 sum hospital hospitalization by SARS"
   ]
  },
  {
   "cell_type": "code",
   "execution_count": 14,
   "metadata": {},
   "outputs": [
    {
     "name": "stdout",
     "output_type": "stream",
     "text": [
      "(242679, 156)\n"
     ]
    }
   ],
   "source": [
    "# To check\n",
    "\n",
    "df = pd.merge(df, df_cod, on=['CO_UNI_NOT', 'SEM_NOT'], how=\"left\")\n",
    "print(df.shape)"
   ]
  },
  {
   "cell_type": "code",
   "execution_count": 15,
   "metadata": {},
   "outputs": [
    {
     "name": "stdout",
     "output_type": "stream",
     "text": [
      "242679\n",
      "242679\n",
      "1814\n",
      "4401\n"
     ]
    }
   ],
   "source": [
    "# Municipalities number inicial\n",
    "\n",
    "# patient municipality code number\n",
    "print(len(df['CO_MUN_NOT']))\n",
    "\n",
    "# reporting health unit code number\n",
    "print(len(df['CO_UNI_NOT']))\n",
    "\n",
    "\n",
    "print(df['CO_MUN_NOT'].nunique())\n",
    "print(df['CO_MUN_RES'].nunique())"
   ]
  },
  {
   "cell_type": "code",
   "execution_count": 16,
   "metadata": {},
   "outputs": [
    {
     "name": "stdout",
     "output_type": "stream",
     "text": [
      "44\n",
      "1890\n",
      "2233\n",
      "1367\n",
      "32\n"
     ]
    }
   ],
   "source": [
    "# IDHM\n",
    "\n",
    "# Reading IBGE code for each municipalities and separating it for IDHM index\n",
    "\n",
    "df_atlas = pd.read_excel (r'/home/pedro/Desktop/autoprognosis/code_v6/dataset/AtlasBrasil_Consulta.xlsx')\n",
    "\n",
    "\n",
    "# removind last interger in 'code' variable\n",
    "\n",
    "df_atlas['code'] = df_atlas['code'].astype(str).str[:-1].astype(np.int64)\n",
    "\n",
    "\n",
    "# Divinding IDHM in bins\n",
    "\n",
    "IDHM_veryhigh  =  set(df_atlas['code'][df_atlas['IDHM2010']>=0.800])\n",
    "print(len(IDHM_veryhigh))\n",
    "\n",
    "\n",
    "IDHM_high  =  set(df_atlas['code'][((df_atlas['IDHM2010']>=0.700)&(df_atlas['IDHM2010']<0.800))])\n",
    "print(len(IDHM_high))\n",
    "\n",
    "\n",
    "IDHM_medium  =  set(df_atlas['code'][((df_atlas['IDHM2010']>=0.600)&(df_atlas['IDHM2010']<0.700))])\n",
    "print(len(IDHM_medium))\n",
    "\n",
    "\n",
    "IDHM_low  =  set(df_atlas['code'][((df_atlas['IDHM2010']>=0.500)&(df_atlas['IDHM2010']<0.600))])\n",
    "print(len(IDHM_low))\n",
    "\n",
    "\n",
    "IDHM_verylow  =  set(df_atlas['code'][df_atlas['IDHM2010']<0.500])\n",
    "print(len(IDHM_verylow))\n",
    "\n",
    "\n",
    "\n",
    "\n",
    "df.loc[df['CO_MUN_NOT'].isin(IDHM_veryhigh) == True, 'IDHM'] = 5\n",
    "df.loc[df['CO_MUN_NOT'].isin(IDHM_high) == True, 'IDHM'] = 4\n",
    "df.loc[df['CO_MUN_NOT'].isin(IDHM_medium) == True, 'IDHM'] = 3\n",
    "df.loc[df['CO_MUN_NOT'].isin(IDHM_low) == True, 'IDHM'] = 2\n",
    "df.loc[df['CO_MUN_NOT'].isin(IDHM_verylow) == True, 'IDHM'] = 1\n",
    "\n",
    "\n",
    "# Municipalities number analysed\n",
    "#print(df['IDHM'].isnull().sum())\n"
   ]
  },
  {
   "cell_type": "code",
   "execution_count": 17,
   "metadata": {},
   "outputs": [],
   "source": [
    "# Private and public hospital separation\n",
    "\n",
    "df_hospital = pd.read_csv('/home/pedro/Desktop/autoprognosis/code_v6/dataset/CNES_SUS.txt', sep='\\t')\n",
    "\n",
    "\n",
    "public   =  set(df_hospital.iloc[:,0][df_hospital.iloc[:,3]=='S'])\n",
    "private  =  set(df_hospital.iloc[:,0][df_hospital.iloc[:,3]=='N'])\n",
    "\n",
    "\n",
    "df.loc[df['CO_UNI_NOT'].isin(public) == True, 'HEALTH_SYSTEM'] = 1\n",
    "df.loc[df['CO_UNI_NOT'].isin(private) == True, 'HEALTH_SYSTEM'] = 0\n",
    "\n",
    "# CO_UNI_NOT"
   ]
  },
  {
   "cell_type": "code",
   "execution_count": 18,
   "metadata": {},
   "outputs": [
    {
     "name": "stderr",
     "output_type": "stream",
     "text": [
      "/home/pedro/anaconda3/lib/python3.7/site-packages/ipykernel_launcher.py:3: UserWarning: Boolean Series key will be reindexed to match DataFrame index.\n",
      "  This is separate from the ipykernel package so we can avoid doing imports until\n"
     ]
    },
    {
     "name": "stdout",
     "output_type": "stream",
     "text": [
      "(231112, 158)\n"
     ]
    }
   ],
   "source": [
    "# Constraint on dataset: We only analyze people with evolution, IDHM and Health system outcomes\n",
    "\n",
    "df = df[df['IDHM'].notnull()][(df['HEALTH_SYSTEM']==1)|(df['HEALTH_SYSTEM']==0)]\n",
    "print(df.shape)"
   ]
  },
  {
   "cell_type": "code",
   "execution_count": 19,
   "metadata": {},
   "outputs": [
    {
     "name": "stdout",
     "output_type": "stream",
     "text": [
      "231112\n",
      "231112\n",
      "1801\n",
      "1766\n"
     ]
    }
   ],
   "source": [
    "# Municipalities number\n",
    "\n",
    "print(len(df['CO_MUN_NOT']))\n",
    "print(len(df['CO_MU_INTE']))\n",
    "\n",
    "print(df['CO_MUN_NOT'].nunique())\n",
    "print(df['CO_MU_INTE'].nunique())\n"
   ]
  },
  {
   "cell_type": "code",
   "execution_count": 20,
   "metadata": {},
   "outputs": [],
   "source": [
    "# To selecting features and target\n",
    "\n",
    "df = df[['Overload', 'distance','NU_IDADE_N','CS_SEXO','IDHM','CS_RACA','CS_ESCOL_N','SG_UF_NOT','CS_ZONA',\\\n",
    "'HEALTH_SYSTEM','CS_GESTANT','FEBRE','VOMITO','TOSSE','GARGANTA','DESC_RESP','DISPNEIA','DIARREIA',\\\n",
    "'SATURACAO','CARDIOPATI','HEPATICA','ASMA','PNEUMOPATI','RENAL','HEMATOLOGI','DIABETES',\\\n",
    "'OBESIDADE','NEUROLOGIC','IMUNODEPRE','EVOLUCAO']]"
   ]
  },
  {
   "cell_type": "code",
   "execution_count": 21,
   "metadata": {},
   "outputs": [],
   "source": [
    "# adding comorbidities\n",
    "\n",
    "df['SUM_COMORBIDITIES'] = df.iloc[:,19:-1].replace([9,2], 0).fillna(0).sum(axis=1)"
   ]
  },
  {
   "cell_type": "code",
   "execution_count": 22,
   "metadata": {},
   "outputs": [],
   "source": [
    "# Ordering features\n",
    "\n",
    "df = df[['Overload','distance','NU_IDADE_N','CS_SEXO','CS_RACA','IDHM','CS_ESCOL_N','SG_UF_NOT','SUM_COMORBIDITIES',\\\n",
    "'HEALTH_SYSTEM','CS_ZONA','CARDIOPATI','HEPATICA','ASMA','PNEUMOPATI','RENAL','HEMATOLOGI',\\\n",
    "'DIABETES','OBESIDADE','NEUROLOGIC','IMUNODEPRE','EVOLUCAO']]"
   ]
  },
  {
   "cell_type": "code",
   "execution_count": 23,
   "metadata": {},
   "outputs": [],
   "source": [
    "# Pre-Processing\n",
    "\n",
    "df = df[df['EVOLUCAO'].notnull()][df['EVOLUCAO']!=9][df['EVOLUCAO']!=3]#[df_BR['NU_IDADE_N'].notnull()]\n",
    "df['CS_SEXO']=df['CS_SEXO'].replace({'M': 1, 'F':0, 'I':9, 'NaN':np.nan})\n",
    "\n",
    "\n",
    "# replacing 2 by 0 (Death patients)\n",
    "df.iloc[:,11:] = df.iloc[:,11:].replace(to_replace = 2.0, value =0) \n",
    "\n",
    "\n",
    "df['SG_UF_NOT'] = df['SG_UF_NOT'].map({'SP': 0, 'RJ':1, 'MG': 2 , 'ES':3, \\\n",
    "'RS':4, 'SC': 5, 'PR': 6, 'MT': 7, 'MS': 8, 'GO':9, 'DF':10, 'RO':11,'AC':12,'AM':13,\\\n",
    "'RR':14,'PA':15,'AP':16,'TO':17,'MA':18,'PI':19,'BA':20,'CE':21,'RN':22,'PB':23,'PE':24,'AL':25,'SE':26})\n",
    "\n",
    "# For missing values in comorbidities and symptoms we filled by 0.\n",
    "df.iloc[:,11:-1] = df.iloc[:,11:-1].fillna(0)"
   ]
  },
  {
   "cell_type": "code",
   "execution_count": 24,
   "metadata": {},
   "outputs": [],
   "source": [
    "# Ordering features\n",
    "\n",
    "df = df[['Overload','distance','NU_IDADE_N','CS_SEXO','CS_RACA','IDHM','CS_ESCOL_N','SG_UF_NOT','SUM_COMORBIDITIES',\\\n",
    "'HEALTH_SYSTEM','CS_ZONA','CARDIOPATI','HEPATICA','ASMA','PNEUMOPATI','RENAL','HEMATOLOGI',\\\n",
    "'DIABETES','OBESIDADE','NEUROLOGIC','IMUNODEPRE','EVOLUCAO']]\n",
    "\n",
    "\n",
    "df = df.rename(columns={'Overload':'Overload','distance':'Distance','NU_IDADE_N':'Age','CS_SEXO':'Sex','CS_RACA':'Race','IDHM':'IDHM',\\\n",
    "'CS_ESCOL_N':'Education','SG_UF_NOT':'State','SUM_COMORBIDITIES':'Sum Comorbidities',\\\n",
    "'HEALTH_SYSTEM':'Health System','CS_ZONA':'Urbanity','CARDIOPATI':'Cardiopathy','HEPATICA':'Liver',\\\n",
    "'ASMA':'Asthma','PNEUMOPATI':'Pneumopathy','RENAL':'Renal','HEMATOLOGI':'Hematological',\\\n",
    "'DIABETES':'Diabetes','OBESIDADE':'Obesity','NEUROLOGIC':'Neurological',\\\n",
    "'IMUNODEPRE':'Immunosuppression','EVOLUCAO':'EVOLUCAO'})"
   ]
  },
  {
   "cell_type": "code",
   "execution_count": 25,
   "metadata": {},
   "outputs": [
    {
     "name": "stdout",
     "output_type": "stream",
     "text": [
      "(231112, 22)\n",
      "49983\n",
      "7334\n"
     ]
    }
   ],
   "source": [
    "# To analyse the Nan of Distance and Overload features\n",
    "\n",
    "print(df.shape)\n",
    "print(df['Overload'].isna().sum())\n",
    "print(df['Distance'].isna().sum())"
   ]
  },
  {
   "cell_type": "code",
   "execution_count": 26,
   "metadata": {},
   "outputs": [],
   "source": [
    "# feature\n",
    "x = df.iloc[:,:-1]\n",
    "\n",
    "# labels\n",
    "y = df.iloc[:,:]"
   ]
  },
  {
   "cell_type": "code",
   "execution_count": 27,
   "metadata": {},
   "outputs": [],
   "source": [
    "# data separation\n",
    "from sklearn.model_selection import train_test_split\n",
    "x_train, x_test, y_train, y_test = \\\n",
    "    train_test_split(x, y, test_size=0.2, random_state=5)"
   ]
  },
  {
   "cell_type": "code",
   "execution_count": 28,
   "metadata": {},
   "outputs": [
    {
     "name": "stdout",
     "output_type": "stream",
     "text": [
      "(184889, 22)\n",
      "(46223, 22)\n"
     ]
    }
   ],
   "source": [
    "print(y_train.shape)\n",
    "print(y_test.shape)"
   ]
  },
  {
   "cell_type": "code",
   "execution_count": 29,
   "metadata": {},
   "outputs": [
    {
     "name": "stdout",
     "output_type": "stream",
     "text": [
      "[20:14:48] WARNING: /workspace/src/learner.cc:480: \n",
      "Parameters: { booster  } might not be used.\n",
      "\n",
      "  This may not be accurate due to some parameters are only used in language bindings but\n",
      "  passed down to XGBoost core.  Or some parameters are not used but slip through this\n",
      "  verification. Please open an issue if you find above cases.\n",
      "\n",
      "\n",
      "[20:15:04] WARNING: /workspace/src/learner.cc:480: \n",
      "Parameters: { booster  } might not be used.\n",
      "\n",
      "  This may not be accurate due to some parameters are only used in language bindings but\n",
      "  passed down to XGBoost core.  Or some parameters are not used but slip through this\n",
      "  verification. Please open an issue if you find above cases.\n",
      "\n",
      "\n",
      "[20:15:17] WARNING: /workspace/src/learner.cc:480: \n",
      "Parameters: { booster  } might not be used.\n",
      "\n",
      "  This may not be accurate due to some parameters are only used in language bindings but\n",
      "  passed down to XGBoost core.  Or some parameters are not used but slip through this\n",
      "  verification. Please open an issue if you find above cases.\n",
      "\n",
      "\n",
      "[20:15:32] WARNING: /workspace/src/learner.cc:480: \n",
      "Parameters: { booster  } might not be used.\n",
      "\n",
      "  This may not be accurate due to some parameters are only used in language bindings but\n",
      "  passed down to XGBoost core.  Or some parameters are not used but slip through this\n",
      "  verification. Please open an issue if you find above cases.\n",
      "\n",
      "\n",
      "[20:15:46] WARNING: /workspace/src/learner.cc:480: \n",
      "Parameters: { booster  } might not be used.\n",
      "\n",
      "  This may not be accurate due to some parameters are only used in language bindings but\n",
      "  passed down to XGBoost core.  Or some parameters are not used but slip through this\n",
      "  verification. Please open an issue if you find above cases.\n",
      "\n",
      "\n",
      "[20:16:01] WARNING: /workspace/src/learner.cc:480: \n",
      "Parameters: { booster  } might not be used.\n",
      "\n",
      "  This may not be accurate due to some parameters are only used in language bindings but\n",
      "  passed down to XGBoost core.  Or some parameters are not used but slip through this\n",
      "  verification. Please open an issue if you find above cases.\n",
      "\n",
      "\n",
      "[20:16:15] WARNING: /workspace/src/learner.cc:480: \n",
      "Parameters: { booster  } might not be used.\n",
      "\n",
      "  This may not be accurate due to some parameters are only used in language bindings but\n",
      "  passed down to XGBoost core.  Or some parameters are not used but slip through this\n",
      "  verification. Please open an issue if you find above cases.\n",
      "\n",
      "\n",
      "[20:16:30] WARNING: /workspace/src/learner.cc:480: \n",
      "Parameters: { booster  } might not be used.\n",
      "\n",
      "  This may not be accurate due to some parameters are only used in language bindings but\n",
      "  passed down to XGBoost core.  Or some parameters are not used but slip through this\n",
      "  verification. Please open an issue if you find above cases.\n",
      "\n",
      "\n",
      "[20:16:43] WARNING: /workspace/src/learner.cc:480: \n",
      "Parameters: { booster  } might not be used.\n",
      "\n",
      "  This may not be accurate due to some parameters are only used in language bindings but\n",
      "  passed down to XGBoost core.  Or some parameters are not used but slip through this\n",
      "  verification. Please open an issue if you find above cases.\n",
      "\n",
      "\n",
      "[20:16:57] WARNING: /workspace/src/learner.cc:480: \n",
      "Parameters: { booster  } might not be used.\n",
      "\n",
      "  This may not be accurate due to some parameters are only used in language bindings but\n",
      "  passed down to XGBoost core.  Or some parameters are not used but slip through this\n",
      "  verification. Please open an issue if you find above cases.\n",
      "\n",
      "\n",
      "[20:17:11] WARNING: /workspace/src/learner.cc:480: \n",
      "Parameters: { booster  } might not be used.\n",
      "\n",
      "  This may not be accurate due to some parameters are only used in language bindings but\n",
      "  passed down to XGBoost core.  Or some parameters are not used but slip through this\n",
      "  verification. Please open an issue if you find above cases.\n",
      "\n",
      "\n",
      "0.793874525215705\n",
      "{'booster ': 'gbtree', 'colsample_bytree': 0.9, 'eta': 0.2, 'gamma': 1, 'max_depth': 4, 'n_estimators': 200, 'subsample': 0.9}\n",
      "[0.79387453]\n",
      "[0.00330046]\n",
      "[0.80473977]\n",
      "[0.00059207]\n",
      "[20:17:26] WARNING: /workspace/src/learner.cc:480: \n",
      "Parameters: { booster  } might not be used.\n",
      "\n",
      "  This may not be accurate due to some parameters are only used in language bindings but\n",
      "  passed down to XGBoost core.  Or some parameters are not used but slip through this\n",
      "  verification. Please open an issue if you find above cases.\n",
      "\n",
      "\n"
     ]
    }
   ],
   "source": [
    "params = params = { 'booster ':['gbtree'],\n",
    "        'n_estimators': [200],          \n",
    "        'eta':[0.2],    \n",
    "        'max_depth':[4],\n",
    "        'gamma': [1],\n",
    "        'subsample': [0.9],\n",
    "        'colsample_bytree': [0.9],\n",
    "            }\n",
    "\n",
    "\n",
    "#{'booster ': 'gbtree', 'colsample_bytree': 0.9, 'eta': 0.2, 'gamma': 1, 'max_depth': 4, 'n_estimators': 200, 'subsample': 0.9}\n",
    "                            \n",
    "                            \n",
    "xgb = XGBClassifier()\n",
    "gs = GridSearchCV(estimator=xgb, param_grid=params, return_train_score=True, cv=10, scoring='roc_auc') \n",
    "\n",
    "\n",
    "gs = gs.fit(x_train, y_train.iloc[:,-1])\n",
    "\n",
    "\n",
    "print(gs.best_score_)\n",
    "print(gs.best_params_)\n",
    "\n",
    "\n",
    "print(gs.cv_results_['mean_test_score'])\n",
    "print(gs.cv_results_['std_test_score'])\n",
    "\n",
    "print(gs.cv_results_['mean_train_score'])   \n",
    "print(gs.cv_results_['std_train_score'])   \n",
    "\n",
    "\n",
    "clf = gs.best_estimator_\n",
    "clf.fit(x_train, y_train.iloc[:,-1])\n",
    "\n",
    "\n",
    "# save the model to disk\n",
    "filename_nn = 'xgb_without_symptoms_new.sav'\n",
    "pickle.dump(clf, open(filename_nn, 'wb')) "
   ]
  },
  {
   "cell_type": "code",
   "execution_count": 30,
   "metadata": {},
   "outputs": [],
   "source": [
    "# load the model from disk\n",
    "loaded_model_xgb = pickle.load(open('xgb_without_symptoms_new.sav', 'rb'))"
   ]
  },
  {
   "cell_type": "code",
   "execution_count": 31,
   "metadata": {},
   "outputs": [],
   "source": [
    "# To predicting \n",
    "xgb_pred = loaded_model_xgb.predict_proba(x_test)"
   ]
  },
  {
   "cell_type": "code",
   "execution_count": 32,
   "metadata": {},
   "outputs": [
    {
     "data": {
      "image/png": "[encoded data removed]",
      "text/plain": [
       "<Figure size 432x288 with 1 Axes>"
      ]
     },
     "metadata": {
      "needs_background": "light"
     },
     "output_type": "display_data"
    }
   ],
   "source": [
    "# Plot Roc Curve\n",
    "\n",
    "colors = ['blue']\n",
    "linestyles = ['--']\n",
    "#plt.figure(figsize=(5,5))\n",
    "fpr, tpr, thresholds = roc_curve(y_test.iloc[:,-1], xgb_pred[:,1],pos_label=1)\n",
    "roc_auc = auc(x=fpr, y=tpr)\n",
    "plt.plot(fpr, tpr,\n",
    "             color='k',\n",
    "             linestyle='-',\n",
    "             label='%s (AUC = %0.3f)' % ('XGB', roc_auc))\n",
    "\n",
    "plt.legend(loc='lower right')\n",
    "plt.plot([0, 1], [0, 1],\n",
    "         linestyle='--',\n",
    "         color='black',\n",
    "         linewidth=1)\n",
    "\n",
    "plt.title('')\n",
    "plt.xlim([-0.1, 1.1])\n",
    "plt.ylim([-0.1, 1.1])\n",
    "plt.grid()\n",
    "plt.title('Cure/Death')\n",
    "plt.xlabel('False Positive Rate')\n",
    "plt.ylabel('True Positive Rate')\n",
    "\n",
    "plt.tight_layout()\n",
    "#plt.savefig('roc_xgb_private_without_symptoms.pdf')\n",
    "plt.show()  "
   ]
  },
  {
   "cell_type": "code",
   "execution_count": 33,
   "metadata": {},
   "outputs": [
    {
     "data": {
      "image/png": "[encoded data removed]",
      "text/plain": [
       "<Figure size 576x504 with 1 Axes>"
      ]
     },
     "metadata": {
      "needs_background": "light"
     },
     "output_type": "display_data"
    }
   ],
   "source": [
    "from sklearn.inspection import permutation_importance\n",
    "\n",
    "\n",
    "result_young = permutation_importance(loaded_model_xgb, x_test[x_test['Age']<60], y_test.iloc[:,-1][y_test['Age']<60], n_repeats=10,\n",
    "                                random_state=42, n_jobs=2, scoring='roc_auc')\n",
    "sorted_idx_young = result_young.importances_mean.argsort()\n",
    "\n",
    "fig, ax = plt.subplots(figsize=(8,7))\n",
    "ax.boxplot(result_young.importances[sorted_idx_young].T, vert=False, labels = x_test.columns[sorted_idx_young])\n",
    "plt.yticks(fontsize=17) \n",
    "plt.xticks(fontsize=17) \n",
    "\n",
    "#ax.set_title(\"Permutation Importances (test set)\")\n",
    "#ax.set_xscale('log')\n",
    "#plt.rcParams.update({'font.size': 22})\n",
    "fig.tight_layout()\n",
    "#plt.savefig('importance_permutation_test.pdf')\n",
    "plt.show() \n",
    "plt.close()"
   ]
  },
  {
   "cell_type": "code",
   "execution_count": 34,
   "metadata": {},
   "outputs": [
    {
     "data": {
      "image/png": "[encoded data removed]",
      "text/plain": [
       "<Figure size 576x504 with 1 Axes>"
      ]
     },
     "metadata": {
      "needs_background": "light"
     },
     "output_type": "display_data"
    }
   ],
   "source": [
    "result_old = permutation_importance(loaded_model_xgb, x_test[x_test['Age']>=60], y_test.iloc[:,-1][y_test['Age']>=60], n_repeats=10,\n",
    "                                random_state=42, n_jobs=2, scoring='roc_auc')\n",
    "sorted_idx_old = result_old.importances_mean.argsort()\n",
    "\n",
    "fig, ax = plt.subplots(figsize=(8,7))\n",
    "ax.boxplot(result_old.importances[sorted_idx_old].T, vert=False, labels = x_test.columns[sorted_idx_old])\n",
    "plt.yticks(fontsize=17) \n",
    "plt.xticks(fontsize=17) \n",
    "\n",
    "#ax.set_title(\"Permutation Importances (test set)\")\n",
    "#ax.set_xscale('log')\n",
    "#plt.rcParams.update({'font.size': 22})\n",
    "fig.tight_layout()\n",
    "#plt.savefig('importance_permutation_test.pdf')\n",
    "plt.show() \n",
    "plt.close()"
   ]
  },
  {
   "cell_type": "code",
   "execution_count": 35,
   "metadata": {},
   "outputs": [
    {
     "data": {
      "image/png": "[encoded data removed]",
      "text/plain": [
       "<Figure size 576x576 with 1 Axes>"
      ]
     },
     "metadata": {
      "needs_background": "light"
     },
     "output_type": "display_data"
    }
   ],
   "source": [
    "# Plot Roc Curve\n",
    "\n",
    "\n",
    "colors = ['blue']\n",
    "linestyles = ['--']\n",
    "\n",
    "\n",
    "label  = ['Overload','Distance','Age','Sex','Race','IDHM','Education','State','Sum Comorbidities',\\\n",
    "'Health System','Urbanity','Comorbidities']\n",
    "\n",
    "                                                                        \n",
    "                                                                                    \n",
    "plt.figure(figsize=(8,8))\n",
    "\n",
    "\n",
    "for i in range(0,11,1):\n",
    "    plt.scatter(x=result_old.importances_mean[i], y=result_young.importances_mean[i], s=70, label=label[i])  \n",
    "    \n",
    "for i in range(12,20,1):\n",
    "    plt.scatter(x=result_old.importances_mean[i], y=result_young.importances_mean[i], s=70, c='darkorange', marker='x')\n",
    "    \n",
    "\n",
    "plt.scatter(x=result_old.importances_mean[11], y=result_young.importances_mean[11], s=70, label='Comorbidities', marker='x')\n",
    "    \n",
    "    \n",
    "plt.plot([0, 1], [0, 1], linestyle='--', color='black', linewidth=1)\n",
    "\n",
    "#plt.title('')\n",
    "plt.xlim([0.0, 0.08])\n",
    "plt.ylim([0.0, 0.06])\n",
    "#plt.grid()\n",
    "plt.legend(loc='lower right', frameon=False, fontsize=16)\n",
    "#plt.title('Cure/Death')\n",
    "plt.xlabel('Older', fontsize=20) # $\\geq 60$\n",
    "plt.ylabel('Younger', fontsize=20)\n",
    "plt.yticks(fontsize=17) \n",
    "plt.xticks(fontsize=17) \n",
    "plt.locator_params(axis=\"x\", nbins=4)\n",
    "plt.locator_params(axis=\"y\", nbins=4)\n",
    "#plt.yscale('log')\n",
    "#plt.xscale('log')\n",
    "plt.tight_layout()\n",
    "plt.savefig('importance_age.pdf')\n",
    "plt.show() "
   ]
  },
  {
   "cell_type": "code",
   "execution_count": 38,
   "metadata": {},
   "outputs": [
    {
     "name": "stdout",
     "output_type": "stream",
     "text": [
      "0.7172175141319983\n",
      "0.7697590461429141\n"
     ]
    }
   ],
   "source": [
    "# ROC curve for each age set\n",
    "\n",
    "\n",
    "# Older (>=60)\n",
    "pred_old = loaded_model_xgb.predict_proba(x_test[x_test['Age']>=60])\n",
    "fpr_old, tpr_old, thresholds_old = roc_curve(y_test.iloc[:,-1][y_test['Age']>=60], pred_old[:,1], pos_label=1)\n",
    "pred_auc_old = auc(x=fpr_old, y=tpr_old)\n",
    "\n",
    "print(pred_auc_old)\n",
    "\n",
    "\n",
    "# Younger (<60)\n",
    "pred_young = loaded_model_xgb.predict_proba(x_test[x_test['Age']<60])\n",
    "fpr_young, tpr_young, thresholds_young = roc_curve(y_test.iloc[:,-1][y_test['Age']<60], pred_young[:,1], pos_label=1)\n",
    "pred_auc_young = auc(x=fpr_young, y=tpr_young)\n",
    "\n",
    "print(pred_auc_young)"
   ]
  },
  {
   "cell_type": "code",
   "execution_count": null,
   "metadata": {},
   "outputs": [],
   "source": []
  }
 ],
 "metadata": {
  "kernelspec": {
   "display_name": "Python 3",
   "language": "python",
   "name": "python3"
  },
  "language_info": {
   "codemirror_mode": {
    "name": "ipython",
    "version": 3
   },
   "file_extension": ".py",
   "mimetype": "text/x-python",
   "name": "python",
   "nbconvert_exporter": "python",
   "pygments_lexer": "ipython3",
   "version": "3.7.3"
  }
 },
 "nbformat": 4,
 "nbformat_minor": 2
}
