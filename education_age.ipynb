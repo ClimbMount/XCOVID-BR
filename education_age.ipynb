{
 "cells": [
  {
   "cell_type": "code",
   "execution_count": 1,
   "metadata": {},
   "outputs": [],
   "source": [
    "# libraries\n",
    "\n",
    "import pandas as pd\n",
    "import matplotlib.pyplot as plt\n",
    "import numpy as np\n",
    "import seaborn as sns\n"
   ]
  },
  {
   "cell_type": "code",
   "execution_count": 2,
   "metadata": {},
   "outputs": [
    {
     "name": "stderr",
     "output_type": "stream",
     "text": [
      "/home/pedro/.local/lib/python3.8/site-packages/IPython/core/interactiveshell.py:3146: DtypeWarning: Columns (15,60,62,63,64,92,94,108,117,121,123) have mixed types.Specify dtype option on import or set low_memory=False.\n",
      "  has_raised = await self.run_ast_nodes(code_ast.body, cell_name,\n",
      "<ipython-input-2-2fd7bafc6335>:7: UserWarning: Boolean Series key will be reindexed to match DataFrame index.\n",
      "  df = df[df['PCR_SARS2']==1][df['HOSPITAL']==1][df['NU_IDADE_N']<=110][df['EVOLUCAO'] != 3][df['EVOLUCAO'] != 9][df['EVOLUCAO'].notnull()]\n",
      "<ipython-input-2-2fd7bafc6335>:7: UserWarning: Boolean Series key will be reindexed to match DataFrame index.\n",
      "  df = df[df['PCR_SARS2']==1][df['HOSPITAL']==1][df['NU_IDADE_N']<=110][df['EVOLUCAO'] != 3][df['EVOLUCAO'] != 9][df['EVOLUCAO'].notnull()]\n",
      "<ipython-input-2-2fd7bafc6335>:7: UserWarning: Boolean Series key will be reindexed to match DataFrame index.\n",
      "  df = df[df['PCR_SARS2']==1][df['HOSPITAL']==1][df['NU_IDADE_N']<=110][df['EVOLUCAO'] != 3][df['EVOLUCAO'] != 9][df['EVOLUCAO'].notnull()]\n",
      "<ipython-input-2-2fd7bafc6335>:7: UserWarning: Boolean Series key will be reindexed to match DataFrame index.\n",
      "  df = df[df['PCR_SARS2']==1][df['HOSPITAL']==1][df['NU_IDADE_N']<=110][df['EVOLUCAO'] != 3][df['EVOLUCAO'] != 9][df['EVOLUCAO'].notnull()]\n"
     ]
    },
    {
     "name": "stdout",
     "output_type": "stream",
     "text": [
      "(242679, 154)\n",
      "confirmed data: 29040\n"
     ]
    }
   ],
   "source": [
    "# reading dataset\n",
    "\n",
    "df = pd.read_csv('/home/pedro/bkp/code/dataset/INFLUD-21-09-2020.csv',sep=';',encoding = \"ISO-8859-1\")\n",
    "\n",
    "\n",
    "# Hospitalized people with age small than 110:\n",
    "df = df[df['PCR_SARS2']==1][df['HOSPITAL']==1][df['NU_IDADE_N']<=110][df['EVOLUCAO'] != 3][df['EVOLUCAO'] != 9][df['EVOLUCAO'].notnull()]\n",
    "print(df.shape)\n",
    "\n",
    "\n",
    "# Macro Regions\n",
    "north  =  set(['RO','AC','AM','RR','PA','AP','TO'])\n",
    "northeast  =  set(['MA','PI','BA','CE','RN','PB','PE','AL','SE'])\n",
    "midwest  =  set(['MT','MS','GO','DF'])\n",
    "southeast  =  set(['SP','RJ','MG','ES'])\n",
    "south = set(['RS','SC','PR'])\n",
    "\n",
    "#df = df[df['SG_UF_NOT'].isin(north)]\n",
    "#df = df[df['SG_UF_NOT'].isin(northeast)]\n",
    "#df = df[df['SG_UF_NOT'].isin(midwest)]\n",
    "#df = df[df['SG_UF_NOT'].isin(southeast)]\n",
    "df = df[df['SG_UF_NOT'].isin(south)]\n",
    "\n",
    "\n",
    "print('confirmed data:',df.shape[0])"
   ]
  },
  {
   "cell_type": "code",
   "execution_count": 3,
   "metadata": {},
   "outputs": [],
   "source": [
    "df = df[['NU_IDADE_N','CS_ESCOL_N','EVOLUCAO']]\n"
   ]
  },
  {
   "cell_type": "code",
   "execution_count": 4,
   "metadata": {},
   "outputs": [
    {
     "name": "stdout",
     "output_type": "stream",
     "text": [
      ">=70     8854\n",
      "60-70    6173\n",
      "50-60    5558\n",
      "40-50    4266\n",
      "<40      4189\n",
      "Name: NU_IDADE_N, dtype: int64\n"
     ]
    }
   ],
   "source": [
    "# boxing the age feature\n",
    "\n",
    "bins = [0, 40, 50, 60, 70, 150]\n",
    "names = ['<40', '40-50', '50-60','60-70','>=70']\n",
    "\n",
    "\n",
    "df['NU_IDADE_N'] = pd.cut(df['NU_IDADE_N'], bins=bins, labels=names, right= False)\n",
    "print(df['NU_IDADE_N'].value_counts())\n"
   ]
  },
  {
   "cell_type": "code",
   "execution_count": 5,
   "metadata": {},
   "outputs": [
    {
     "name": "stdout",
     "output_type": "stream",
     "text": [
      "80    8854\n",
      "70    6173\n",
      "60    5558\n",
      "50    4266\n",
      "40    4189\n",
      "Name: NU_IDADE_N, dtype: int64\n"
     ]
    }
   ],
   "source": [
    "df['NU_IDADE_N'] = df['NU_IDADE_N'].replace({'<40': int(40), '40-50':int(50), '50-60':int(60), '60-70':int(70), '>=70':int(80)})\n",
    "print(df['NU_IDADE_N'].value_counts())"
   ]
  },
  {
   "cell_type": "code",
   "execution_count": 6,
   "metadata": {},
   "outputs": [
    {
     "name": "stdout",
     "output_type": "stream",
     "text": [
      "0\n"
     ]
    }
   ],
   "source": [
    "print(df['NU_IDADE_N'].isna().sum())"
   ]
  },
  {
   "cell_type": "code",
   "execution_count": 7,
   "metadata": {},
   "outputs": [
    {
     "name": "stdout",
     "output_type": "stream",
     "text": [
      "40     52\n",
      "50     30\n",
      "60     49\n",
      "70     99\n",
      "80    338\n",
      "Name: NU_IDADE_N, dtype: int64\n"
     ]
    }
   ],
   "source": [
    "# Normalization\n",
    "\n",
    "Illiterate    = df['NU_IDADE_N'][((df['CS_ESCOL_N'] == 0)& ((df['EVOLUCAO']==1) |(df['EVOLUCAO']==2)))].value_counts().sort_index(ascending=True)\n",
    "fundamentalI  = df['NU_IDADE_N'][((df['CS_ESCOL_N'] == 1)& ((df['EVOLUCAO']==1) |(df['EVOLUCAO']==2)))].value_counts().sort_index(ascending=True)\n",
    "fundamentalII = df['NU_IDADE_N'][((df['CS_ESCOL_N'] == 2)& ((df['EVOLUCAO']==1) |(df['EVOLUCAO']==2)))].value_counts().sort_index(ascending=True)\n",
    "medium        = df['NU_IDADE_N'][((df['CS_ESCOL_N'] == 3)& ((df['EVOLUCAO']==1)|(df['EVOLUCAO']==2)))].value_counts().sort_index(ascending=True)\n",
    "university    = df['NU_IDADE_N'][((df['CS_ESCOL_N'] == 4)& ((df['EVOLUCAO']==1) |(df['EVOLUCAO']==2)))].value_counts().sort_index(ascending=True)\n",
    "\n",
    "print(Illiterate)"
   ]
  },
  {
   "cell_type": "code",
   "execution_count": 8,
   "metadata": {},
   "outputs": [
    {
     "name": "stdout",
     "output_type": "stream",
     "text": [
      "40     48\n",
      "50     17\n",
      "60     39\n",
      "70     58\n",
      "80    149\n",
      "Name: NU_IDADE_N, dtype: int64\n"
     ]
    }
   ],
   "source": [
    "# Death and Cure patients divided by color and age bins\n",
    "\n",
    "# Death\n",
    "Illiterate_dea    = df['NU_IDADE_N'][((df['CS_ESCOL_N'] == 0)&(df['EVOLUCAO']==2))].value_counts().sort_index(ascending=True)\n",
    "fundamentalI_dea  = df['NU_IDADE_N'][((df['CS_ESCOL_N'] == 1)&(df['EVOLUCAO']==2))].value_counts().sort_index(ascending=True)\n",
    "fundamentalII_dea = df['NU_IDADE_N'][((df['CS_ESCOL_N'] == 2)&(df['EVOLUCAO']==2))].value_counts().sort_index(ascending=True)\n",
    "medium_dea        = df['NU_IDADE_N'][((df['CS_ESCOL_N'] == 3)&(df['EVOLUCAO']==2))].value_counts().sort_index(ascending=True)\n",
    "university_dea    = df['NU_IDADE_N'][((df['CS_ESCOL_N'] == 4)&(df['EVOLUCAO']==2))].value_counts().sort_index(ascending=True)\n",
    "\n",
    "# Cured\n",
    "Illiterate_cur    = df['NU_IDADE_N'][((df['CS_ESCOL_N'] == 0)&(df['EVOLUCAO']==1))].value_counts().sort_index(ascending=True)\n",
    "fundamentalI_cur  = df['NU_IDADE_N'][((df['CS_ESCOL_N'] == 1)&(df['EVOLUCAO']==1))].value_counts().sort_index(ascending=True)\n",
    "fundamentalII_cur = df['NU_IDADE_N'][((df['CS_ESCOL_N'] == 2)&(df['EVOLUCAO']==1))].value_counts().sort_index(ascending=True)\n",
    "medium_cur        = df['NU_IDADE_N'][((df['CS_ESCOL_N'] == 3)&(df['EVOLUCAO']==1))].value_counts().sort_index(ascending=True)\n",
    "university_cur    = df['NU_IDADE_N'][((df['CS_ESCOL_N'] == 4)&(df['EVOLUCAO']==1))].value_counts().sort_index(ascending=True)\n",
    "\n",
    "print(Illiterate_cur)"
   ]
  },
  {
   "cell_type": "code",
   "execution_count": 9,
   "metadata": {},
   "outputs": [
    {
     "name": "stdout",
     "output_type": "stream",
     "text": [
      "Int64Index([40, 50, 60, 70, 80], dtype='int64')\n"
     ]
    }
   ],
   "source": [
    "print(Illiterate_cur.index)"
   ]
  },
  {
   "cell_type": "code",
   "execution_count": 10,
   "metadata": {},
   "outputs": [
    {
     "data": {
      "image/png": "[encoded data removed]",
      "text/plain": [
       "<Figure size 720x360 with 1 Axes>"
      ]
     },
     "metadata": {
      "needs_background": "light"
     },
     "output_type": "display_data"
    }
   ],
   "source": [
    "# Plotting graphic\n",
    "\n",
    "barWidth = 1\n",
    "\n",
    "plt.figure(figsize=(10,5))\n",
    "\n",
    "plt.bar(Illiterate_cur.index-1, Illiterate_cur/Illiterate.sum(), color='red', alpha =0.8, width=barWidth, edgecolor='black',linewidth=1)\n",
    "plt.bar(fundamentalI_cur.index, fundamentalI_cur/fundamentalI.sum(), color='green', alpha =0.8, width=barWidth, edgecolor='black',linewidth=1)\n",
    "plt.bar(fundamentalII_cur.index+1, fundamentalII_cur/fundamentalII.sum(), color='black', alpha =0.8, width=barWidth, edgecolor='black',linewidth=1)\n",
    "plt.bar(medium_cur.index+2, medium_cur/medium.sum(), color='blue', alpha =0.8, width=barWidth, edgecolor='black',linewidth=1)\n",
    "plt.bar(university_cur.index+3, university_cur/university.sum(), color='purple', alpha =0.8, width=barWidth, edgecolor='black',linewidth=1)\n",
    "\n",
    "\n",
    "plt.bar(Illiterate_dea.index-1, -Illiterate_dea/Illiterate.sum(), color='red',alpha =0.8,width=barWidth, edgecolor='black', label='Illiterate',linewidth=1)\n",
    "plt.bar(fundamentalI_dea.index, -fundamentalI_dea/fundamentalI.sum(), color='green', alpha =0.8,width=barWidth, edgecolor='black', label='Fundamental I',linewidth=1)\n",
    "plt.bar(fundamentalII_dea.index+1, -fundamentalII_dea/fundamentalII.sum(), color='black', alpha =0.8, width=barWidth, edgecolor='black', label='Fundamental II',linewidth=1)\n",
    "plt.bar(medium_dea.index+2, -medium_dea/medium.sum(), color='blue', alpha =0.8, width=barWidth, edgecolor='black', label='Medium',linewidth=1)\n",
    "plt.bar(university_dea.index+3, -university_dea/university.sum(), color='purple', alpha =0.8, width=barWidth, edgecolor='black', label='University',linewidth=1)\n",
    "\n",
    "\n",
    "#plt.legend(fontsize=15,loc='lower left')\n",
    "#plt.title('North', fontsize=20)\n",
    "#plt.title('Northeast', fontsize=20)\n",
    "#plt.title('Midwestern', fontsize=20)\n",
    "#plt.title('Southwest', fontsize=20)\n",
    "plt.title('South', fontsize=20)\n",
    "\n",
    "plt.xticks(fontsize=15)\n",
    "plt.yticks(fontsize=15)\n",
    "plt.ylabel('Prevalence', fontsize=20)\n",
    "plt.xlabel('Age', fontsize=20)\n",
    "x = [40, 50, 60, 70, 80]\n",
    "plt.xticks(x, ('<40', '40-50', '50-60','60-70','$\\geq$70'))\n",
    "plt.ylim(-0.6,0.4)\n",
    "plt.text(40, 0.3, 'Survivor', fontsize=20)\n",
    "plt.text(40, -0.4, 'Non-Survivor', fontsize=20)\n",
    "#plt.text(55, -0.4, 'Non-Survivor', fontsize=20)\n",
    "plt.axhline(y=0,linewidth=1,color='k')\n",
    "plt.tight_layout()\n",
    "#plt.savefig('north_age.pdf')\n",
    "#plt.savefig('northeast_age.pdf')\n",
    "#plt.savefig('midwestern_age.pdf')\n",
    "#plt.savefig('southeast_age.pdf')\n",
    "plt.savefig('south_age.pdf')\n",
    "plt.show()\n",
    "\n"
   ]
  },
  {
   "cell_type": "code",
   "execution_count": null,
   "metadata": {},
   "outputs": [],
   "source": []
  }
 ],
 "metadata": {
  "kernelspec": {
   "display_name": "Python 3",
   "language": "python",
   "name": "python3"
  },
  "language_info": {
   "codemirror_mode": {
    "name": "ipython",
    "version": 3
   },
   "file_extension": ".py",
   "mimetype": "text/x-python",
   "name": "python",
   "nbconvert_exporter": "python",
   "pygments_lexer": "ipython3",
   "version": "3.8.5"
  }
 },
 "nbformat": 4,
 "nbformat_minor": 2
}
