{
 "cells": [
  {
   "cell_type": "code",
   "execution_count": 1,
   "metadata": {},
   "outputs": [],
   "source": [
    "# Table 1 -   Survive and Not-survive"
   ]
  },
  {
   "cell_type": "code",
   "execution_count": 2,
   "metadata": {},
   "outputs": [],
   "source": [
    "# libraries\n",
    "\n",
    "import pandas as pd\n",
    "import matplotlib.pyplot as plt\n",
    "import numpy as np\n",
    "import seaborn as sns"
   ]
  },
  {
   "cell_type": "code",
   "execution_count": 3,
   "metadata": {},
   "outputs": [
    {
     "name": "stderr",
     "output_type": "stream",
     "text": [
      "/home/pedro/anaconda3/envs/python36env/lib/python3.6/site-packages/IPython/core/interactiveshell.py:3072: DtypeWarning: Columns (18,59,61,62,63,103,105,119,126,128,129,130,132) have mixed types. Specify dtype option on import or set low_memory=False.\n",
      "  interactivity=interactivity, compiler=compiler, result=result)\n"
     ]
    },
    {
     "name": "stdout",
     "output_type": "stream",
     "text": [
      "(97924, 134)\n",
      "(90133, 134)\n"
     ]
    },
    {
     "name": "stderr",
     "output_type": "stream",
     "text": [
      "/home/pedro/anaconda3/envs/python36env/lib/python3.6/site-packages/ipykernel_launcher.py:20: UserWarning: Boolean Series key will be reindexed to match DataFrame index.\n"
     ]
    },
    {
     "name": "stdout",
     "output_type": "stream",
     "text": [
      "(66929, 134)\n"
     ]
    }
   ],
   "source": [
    "# reading dataset\n",
    "\n",
    "df = pd.read_csv('/home/pedro/Desktop/autoprognosis/datasets/INFLUD-16-06-2020-Revisado.csv',sep=';',encoding = \"ISO-8859-1\")\n",
    "\n",
    "# Inputing constraint in the dataset \n",
    "\n",
    "# Positive case:\n",
    "\n",
    "df = df[df['PCR_SARS2']==1]\n",
    "print(df.shape)\n",
    "\n",
    "\n",
    "# Hospitalized people:\n",
    "\n",
    "df = df[df['PCR_SARS2']==1][df['HOSPITAL']==1]\n",
    "print(df.shape)\n",
    "\n",
    "# Hospitalized people with age small than 110:\n",
    "\n",
    "df = df[df['PCR_SARS2']==1][df['HOSPITAL']==1][df['NU_IDADE_N']<=110][df['EVOLUCAO'] != 9][df['EVOLUCAO'].notnull()]\n",
    "print(df.shape)\n"
   ]
  },
  {
   "cell_type": "code",
   "execution_count": 4,
   "metadata": {},
   "outputs": [
    {
     "name": "stdout",
     "output_type": "stream",
     "text": [
      "44\n",
      "1890\n",
      "3632\n",
      "1\n"
     ]
    }
   ],
   "source": [
    "# IDHM\n",
    "\n",
    "# Reading IBGE code for each municipalities and separating it for IDHM index\n",
    "\n",
    "df_atlas = pd.read_excel (r'/home/pedro/Desktop/goias/AtlasBrasil_Consulta.xlsx')\n",
    "\n",
    "\n",
    "# removind last interger in 'code' variable\n",
    "\n",
    "df_atlas['code'] = df_atlas['code'].astype(str).str[:-1].astype(np.int64)\n",
    "\n",
    "\n",
    "# Divinding IDHM in bins\n",
    "\n",
    "IDHM_veryhigh  =  set(df_atlas['code'][df_atlas['IDHM2010']>=0.800])\n",
    "print(len(IDHM_veryhigh))\n",
    "\n",
    "\n",
    "IDHM_high  =  set(df_atlas['code'][((df_atlas['IDHM2010']>=0.700)&(df_atlas['IDHM2010']<0.800))])\n",
    "print(len(IDHM_high))\n",
    "\n",
    "\n",
    "IDHM_medium_low  =  set(df_atlas['code'][df_atlas['IDHM2010']<0.700])\n",
    "print(len(IDHM_medium_low))\n",
    "\n",
    "\n",
    "\n",
    "df.loc[df['CO_MUN_NOT'].isin(IDHM_veryhigh) == True, 'IDHM'] = 3\n",
    "df.loc[df['CO_MUN_NOT'].isin(IDHM_high) == True, 'IDHM'] = 2\n",
    "df.loc[df['CO_MUN_NOT'].isin(IDHM_medium_low) == True, 'IDHM'] = 1\n",
    "\n",
    "\n",
    "# Municipalities number analysed\n",
    "print(df['IDHM'].isnull().sum())\n"
   ]
  },
  {
   "cell_type": "code",
   "execution_count": 5,
   "metadata": {},
   "outputs": [],
   "source": [
    "# Private and public hospital separation\n",
    "\n",
    "df_hospital = pd.read_csv('/home/pedro/Desktop/autoprognosis/Archive-SUS/CNES_SUS.txt', sep='\\t')\n",
    "\n",
    "\n",
    "public   =  set(df_hospital.iloc[:,0][df_hospital.iloc[:,3]=='S'])\n",
    "private  =  set(df_hospital.iloc[:,0][df_hospital.iloc[:,3]=='N'])\n",
    "\n",
    "\n",
    "df.loc[df['CO_UNI_NOT'].isin(public) == True, 'HEALTH_SYSTEM'] = 1\n",
    "df.loc[df['CO_UNI_NOT'].isin(private) == True, 'HEALTH_SYSTEM'] = 0"
   ]
  },
  {
   "cell_type": "code",
   "execution_count": 6,
   "metadata": {},
   "outputs": [
    {
     "name": "stdout",
     "output_type": "stream",
     "text": [
      "(63860, 136)\n"
     ]
    },
    {
     "name": "stderr",
     "output_type": "stream",
     "text": [
      "/home/pedro/anaconda3/envs/python36env/lib/python3.6/site-packages/ipykernel_launcher.py:3: UserWarning: Boolean Series key will be reindexed to match DataFrame index.\n",
      "  This is separate from the ipykernel package so we can avoid doing imports until\n"
     ]
    }
   ],
   "source": [
    "# Constraint on dataset: We only analyze people with  evolution, IDHM and Health system known\n",
    "\n",
    "df = df[df['IDHM'].notnull()][(df['HEALTH_SYSTEM']==1)|(df['HEALTH_SYSTEM']==0)]\n",
    "print(df.shape)\n"
   ]
  },
  {
   "cell_type": "code",
   "execution_count": 7,
   "metadata": {},
   "outputs": [],
   "source": [
    "# Number Municipalities \n",
    "\n",
    "\n",
    "# ??"
   ]
  },
  {
   "cell_type": "code",
   "execution_count": 8,
   "metadata": {},
   "outputs": [
    {
     "name": "stdout",
     "output_type": "stream",
     "text": [
      "1.0    35245\n",
      "2.0    28615\n",
      "Name: EVOLUCAO, dtype: int64\n",
      "1.0    55.191043\n",
      "2.0    44.808957\n",
      "Name: EVOLUCAO, dtype: float64\n",
      "0\n"
     ]
    }
   ],
   "source": [
    "# Evolution numbers\n",
    "\n",
    "print(df['EVOLUCAO'].value_counts())\n",
    "print(100*df['EVOLUCAO'][df['EVOLUCAO'] != 9].value_counts()/df['EVOLUCAO'][df['EVOLUCAO'] != 9].notnull().sum())\n",
    "print(df['EVOLUCAO'].isna().sum())"
   ]
  },
  {
   "cell_type": "code",
   "execution_count": 9,
   "metadata": {},
   "outputs": [
    {
     "name": "stdout",
     "output_type": "stream",
     "text": [
      "1.0    48155\n",
      "0.0    15705\n",
      "Name: HEALTH_SYSTEM, dtype: int64\n",
      "(63860,)\n"
     ]
    }
   ],
   "source": [
    "# Health System division \n",
    "\n",
    "print(df['HEALTH_SYSTEM'].value_counts())\n",
    "print(df['HEALTH_SYSTEM'].shape)"
   ]
  },
  {
   "cell_type": "code",
   "execution_count": 10,
   "metadata": {},
   "outputs": [
    {
     "name": "stdout",
     "output_type": "stream",
     "text": [
      "48155\n",
      "1.0    24549\n",
      "2.0    23606\n",
      "Name: EVOLUCAO, dtype: int64\n",
      "1.0    50.97913\n",
      "2.0    49.02087\n",
      "Name: EVOLUCAO, dtype: float64\n"
     ]
    }
   ],
   "source": [
    "# Public Health System (Hospital)\n",
    "\n",
    "print(df['EVOLUCAO'][((df['HEALTH_SYSTEM'] ==1 ) & (df['EVOLUCAO'] != 9))].notnull().sum())\n",
    "print(df['EVOLUCAO'][((df['HEALTH_SYSTEM'] ==1 ) & (df['EVOLUCAO'] != 9))].value_counts())\n",
    "\n",
    "\n",
    "print(100*df['EVOLUCAO'][((df['HEALTH_SYSTEM'] ==1) & (df['EVOLUCAO'] != 9))].value_counts()/df['EVOLUCAO'][((df['HEALTH_SYSTEM'] == 1) & (df['EVOLUCAO'] != 9))].notnull().sum() )\n"
   ]
  },
  {
   "cell_type": "code",
   "execution_count": 11,
   "metadata": {},
   "outputs": [
    {
     "name": "stdout",
     "output_type": "stream",
     "text": [
      "15705\n",
      "1.0    10696\n",
      "2.0     5009\n",
      "Name: EVOLUCAO, dtype: int64\n",
      "1.0    68.105699\n",
      "2.0    31.894301\n",
      "Name: EVOLUCAO, dtype: float64\n"
     ]
    }
   ],
   "source": [
    "# Private Health System (Hospital)\n",
    "\n",
    "print(df['EVOLUCAO'][((df['HEALTH_SYSTEM'] ==0 ) & (df['EVOLUCAO'] != 9))].notnull().sum())\n",
    "print(df['EVOLUCAO'][((df['HEALTH_SYSTEM'] ==0 ) & (df['EVOLUCAO'] != 9))].value_counts())\n",
    "\n",
    "\n",
    "print(100*df['EVOLUCAO'][((df['HEALTH_SYSTEM'] ==0) & (df['EVOLUCAO'] != 9))].value_counts()/df['EVOLUCAO'][((df['HEALTH_SYSTEM'] == 0) & (df['EVOLUCAO'] != 9))].notnull().sum() )\n"
   ]
  },
  {
   "cell_type": "code",
   "execution_count": 12,
   "metadata": {},
   "outputs": [
    {
     "name": "stdout",
     "output_type": "stream",
     "text": [
      "15288\n",
      "2.0    10834\n",
      "1.0     4454\n",
      "Name: EVOLUCAO, dtype: int64\n",
      "2.0    70.866039\n",
      "1.0    29.133961\n",
      "Name: EVOLUCAO, dtype: float64\n"
     ]
    }
   ],
   "source": [
    "# Public Health System (ICU)\n",
    "\n",
    "print(df['EVOLUCAO'][((df['HEALTH_SYSTEM'] ==1)& (df['UTI'] ==1) & (df['EVOLUCAO'] != 9))].notnull().sum())\n",
    "print(df['EVOLUCAO'][((df['HEALTH_SYSTEM'] ==1)& (df['UTI'] ==1) & (df['EVOLUCAO'] != 9))].value_counts())\n",
    "\n",
    "\n",
    "print(100*df['EVOLUCAO'][((df['HEALTH_SYSTEM'] ==1)& (df['UTI'] ==1) & (df['EVOLUCAO'] != 9))].value_counts()/df['EVOLUCAO'][((df['HEALTH_SYSTEM'] == 1)& (df['UTI'] ==1) & (df['EVOLUCAO'] != 9))].notnull().sum() )\n"
   ]
  },
  {
   "cell_type": "code",
   "execution_count": 13,
   "metadata": {},
   "outputs": [
    {
     "name": "stdout",
     "output_type": "stream",
     "text": [
      "6649\n",
      "2.0    3356\n",
      "1.0    3293\n",
      "Name: EVOLUCAO, dtype: int64\n",
      "2.0    50.473755\n",
      "1.0    49.526245\n",
      "Name: EVOLUCAO, dtype: float64\n"
     ]
    }
   ],
   "source": [
    "# Private Health System (ICU)\n",
    "\n",
    "print(df['EVOLUCAO'][((df['HEALTH_SYSTEM'] ==0)& (df['UTI'] ==1)& (df['EVOLUCAO'] != 9))].notnull().sum())\n",
    "print(df['EVOLUCAO'][((df['HEALTH_SYSTEM'] ==0)& (df['UTI'] ==1) & (df['EVOLUCAO'] != 9))].value_counts())\n",
    "\n",
    "\n",
    "print(100*df['EVOLUCAO'][((df['HEALTH_SYSTEM'] ==0)& (df['UTI'] ==1) & (df['EVOLUCAO'] != 9))].value_counts()/df['EVOLUCAO'][((df['HEALTH_SYSTEM'] == 0)& (df['UTI'] ==1) & (df['EVOLUCAO'] != 9))].notnull().sum() )\n",
    "\n"
   ]
  },
  {
   "cell_type": "code",
   "execution_count": 14,
   "metadata": {},
   "outputs": [
    {
     "name": "stdout",
     "output_type": "stream",
     "text": [
      "26645\n",
      "1.0    18021\n",
      "2.0     8624\n",
      "Name: EVOLUCAO, dtype: int64\n",
      "1.0    67.633702\n",
      "2.0    32.366298\n",
      "Name: EVOLUCAO, dtype: float64\n"
     ]
    }
   ],
   "source": [
    "# IDHM Very High\n",
    "\n",
    "print(df['EVOLUCAO'][((df['IDHM'] ==3) & (df['EVOLUCAO'] != 9))].notnull().sum())\n",
    "print(df['EVOLUCAO'][((df['IDHM'] ==3) & (df['EVOLUCAO'] != 9))].value_counts())\n",
    "\n",
    "\n",
    "print(100*df['EVOLUCAO'][((df['IDHM'] ==3) & (df['EVOLUCAO'] != 9))].value_counts()/df['EVOLUCAO'][((df['IDHM'] == 3) & (df['EVOLUCAO'] != 9))].notnull().sum() )\n"
   ]
  },
  {
   "cell_type": "code",
   "execution_count": 15,
   "metadata": {},
   "outputs": [
    {
     "name": "stdout",
     "output_type": "stream",
     "text": [
      "33269\n",
      "2.0    17612\n",
      "1.0    15657\n",
      "Name: EVOLUCAO, dtype: int64\n",
      "2.0    52.938171\n",
      "1.0    47.061829\n",
      "Name: EVOLUCAO, dtype: float64\n"
     ]
    }
   ],
   "source": [
    "# IDHM High\n",
    "\n",
    "print(df['EVOLUCAO'][((df['IDHM'] ==2) & (df['EVOLUCAO'] != 9))].notnull().sum())\n",
    "print(df['EVOLUCAO'][((df['IDHM'] ==2) & (df['EVOLUCAO'] != 9))].value_counts())\n",
    "\n",
    "\n",
    "print(100*df['EVOLUCAO'][((df['IDHM'] ==2) & (df['EVOLUCAO'] != 9))].value_counts()/df['EVOLUCAO'][((df['IDHM'] == 2) & (df['EVOLUCAO'] != 9))].notnull().sum() )\n"
   ]
  },
  {
   "cell_type": "code",
   "execution_count": 16,
   "metadata": {},
   "outputs": [
    {
     "name": "stdout",
     "output_type": "stream",
     "text": [
      "3946\n",
      "2.0    2379\n",
      "1.0    1567\n",
      "Name: EVOLUCAO, dtype: int64\n",
      "2.0    60.2889\n",
      "1.0    39.7111\n",
      "Name: EVOLUCAO, dtype: float64\n"
     ]
    }
   ],
   "source": [
    "# IDHM Medium_low\n",
    "\n",
    "print(df['EVOLUCAO'][((df['IDHM'] ==1) & (df['EVOLUCAO'] != 9))].notnull().sum())\n",
    "print(df['EVOLUCAO'][((df['IDHM'] ==1) & (df['EVOLUCAO'] != 9))].value_counts())\n",
    "\n",
    "\n",
    "print(100*df['EVOLUCAO'][((df['IDHM'] ==1) & (df['EVOLUCAO'] != 9))].value_counts()/df['EVOLUCAO'][((df['IDHM'] == 1) & (df['EVOLUCAO'] != 9))].notnull().sum() )\n"
   ]
  },
  {
   "cell_type": "code",
   "execution_count": 17,
   "metadata": {},
   "outputs": [
    {
     "name": "stdout",
     "output_type": "stream",
     "text": [
      "52.67235068804086\n",
      "67.55526821597064\n"
     ]
    }
   ],
   "source": [
    "# mean age\n",
    "\n",
    "#Cured people\n",
    "print(df['NU_IDADE_N'][df['EVOLUCAO']==1].mean())\n",
    "\n",
    "# Died people\n",
    "print(df['NU_IDADE_N'][df['EVOLUCAO']==2].mean())"
   ]
  },
  {
   "cell_type": "code",
   "execution_count": 18,
   "metadata": {},
   "outputs": [
    {
     "name": "stdout",
     "output_type": "stream",
     "text": [
      "17.354339162894423\n",
      "16.026351255154452\n"
     ]
    }
   ],
   "source": [
    "# std age\n",
    "\n",
    "#Cured people\n",
    "print(df['NU_IDADE_N'][df['EVOLUCAO']==1].std())\n",
    "\n",
    "# Died people\n",
    "print(df['NU_IDADE_N'][df['EVOLUCAO']==2].std())"
   ]
  },
  {
   "cell_type": "code",
   "execution_count": 19,
   "metadata": {},
   "outputs": [
    {
     "name": "stdout",
     "output_type": "stream",
     "text": [
      "1.0    15261\n",
      "2.0    11841\n",
      "Name: EVOLUCAO, dtype: int64\n",
      "27102\n",
      "1.0    56.309497\n",
      "2.0    43.690503\n",
      "Name: EVOLUCAO, dtype: float64\n"
     ]
    }
   ],
   "source": [
    "# Female\n",
    "\n",
    "print(df['EVOLUCAO'][((df['CS_SEXO'] == 'F') & (df['EVOLUCAO'] != 9))].value_counts())\n",
    "print(df['EVOLUCAO'][((df['CS_SEXO'] == 'F') & (df['EVOLUCAO'] != 9))].notnull().sum())\n",
    "\n",
    "print(100*df['EVOLUCAO'][((df['CS_SEXO'] == 'F') & (df['EVOLUCAO'] != 9))].value_counts()/df['EVOLUCAO'][((df['CS_SEXO'] == 'F') & (df['EVOLUCAO'] != 9))].notnull().sum())\n",
    "\n",
    "# 1- Cured  2- Died"
   ]
  },
  {
   "cell_type": "code",
   "execution_count": 20,
   "metadata": {},
   "outputs": [
    {
     "name": "stdout",
     "output_type": "stream",
     "text": [
      "1.0    19974\n",
      "2.0    16766\n",
      "Name: EVOLUCAO, dtype: int64\n",
      "36740\n",
      "1.0    54.365814\n",
      "2.0    45.634186\n",
      "Name: EVOLUCAO, dtype: float64\n"
     ]
    }
   ],
   "source": [
    "# Male\n",
    "\n",
    "print(df['EVOLUCAO'][((df['CS_SEXO'] == 'M') & (df['EVOLUCAO'] != 9))].value_counts())\n",
    "print(df['EVOLUCAO'][((df['CS_SEXO'] == 'M') & (df['EVOLUCAO'] != 9))].notnull().sum())\n",
    "\n",
    "print(100*df['EVOLUCAO'][((df['CS_SEXO'] == 'M') & (df['EVOLUCAO'] != 9))].value_counts()/df['EVOLUCAO'][((df['CS_SEXO'] == 'M') & (df['EVOLUCAO'] != 9))].notnull().sum())\n",
    "\n",
    "# 1- Cured  2- Died"
   ]
  },
  {
   "cell_type": "code",
   "execution_count": 21,
   "metadata": {},
   "outputs": [],
   "source": [
    "# Color\n",
    " \n",
    "# Branca, Preta, Amarela, Parda and Indígena"
   ]
  },
  {
   "cell_type": "code",
   "execution_count": 22,
   "metadata": {},
   "outputs": [
    {
     "name": "stdout",
     "output_type": "stream",
     "text": [
      "1.0    12149\n",
      "2.0     7643\n",
      "Name: EVOLUCAO, dtype: int64\n",
      "19792\n",
      "1.0    61.383387\n",
      "2.0    38.616613\n",
      "Name: EVOLUCAO, dtype: float64\n"
     ]
    }
   ],
   "source": [
    "\n",
    "# Branca\n",
    "\n",
    "print(df['EVOLUCAO'][((df['CS_RACA'] == 1) & (df['EVOLUCAO'] != 9))].value_counts())\n",
    "print(df['EVOLUCAO'][((df['CS_RACA'] == 1) & (df['EVOLUCAO'] != 9))].notnull().sum())\n",
    "\n",
    "print(100*df['EVOLUCAO'][((df['CS_RACA'] == 1) & (df['EVOLUCAO'] != 9))].value_counts()/df['EVOLUCAO'][((df['CS_RACA'] == 1) & (df['EVOLUCAO'] != 9))].notnull().sum())\n",
    "\n",
    "\n",
    "# 1- Cured  2- Died (Evolution)"
   ]
  },
  {
   "cell_type": "code",
   "execution_count": 23,
   "metadata": {},
   "outputs": [
    {
     "name": "stdout",
     "output_type": "stream",
     "text": [
      "1.0    1554\n",
      "2.0    1454\n",
      "Name: EVOLUCAO, dtype: int64\n",
      "3008\n",
      "1.0    51.662234\n",
      "2.0    48.337766\n",
      "Name: EVOLUCAO, dtype: float64\n"
     ]
    }
   ],
   "source": [
    "# Preta\n",
    "\n",
    "print(df['EVOLUCAO'][((df['CS_RACA'] == 2) & (df['EVOLUCAO'] != 9))].value_counts())\n",
    "print(df['EVOLUCAO'][((df['CS_RACA'] == 2) & (df['EVOLUCAO'] != 9))].notnull().sum())\n",
    "\n",
    "print(100*df['EVOLUCAO'][((df['CS_RACA'] == 2) & (df['EVOLUCAO'] != 9))].value_counts()/df['EVOLUCAO'][((df['CS_RACA'] == 2) & (df['EVOLUCAO'] != 9))].notnull().sum())\n"
   ]
  },
  {
   "cell_type": "code",
   "execution_count": 24,
   "metadata": {},
   "outputs": [
    {
     "name": "stdout",
     "output_type": "stream",
     "text": [
      "1.0    337\n",
      "2.0    324\n",
      "Name: EVOLUCAO, dtype: int64\n",
      "661\n",
      "1.0    50.983359\n",
      "2.0    49.016641\n",
      "Name: EVOLUCAO, dtype: float64\n"
     ]
    }
   ],
   "source": [
    "# Amarela\n",
    "\n",
    "print(df['EVOLUCAO'][((df['CS_RACA'] == 3) & (df['EVOLUCAO'] != 9))].value_counts())\n",
    "print(df['EVOLUCAO'][((df['CS_RACA'] == 3) & (df['EVOLUCAO'] != 9))].notnull().sum())\n",
    "\n",
    "print(100*df['EVOLUCAO'][((df['CS_RACA'] == 3) & (df['EVOLUCAO'] != 9))].value_counts()/df['EVOLUCAO'][((df['CS_RACA'] == 3) & (df['EVOLUCAO'] != 9))].notnull().sum())\n"
   ]
  },
  {
   "cell_type": "code",
   "execution_count": 25,
   "metadata": {},
   "outputs": [
    {
     "name": "stdout",
     "output_type": "stream",
     "text": [
      "2.0    9379\n",
      "1.0    8539\n",
      "Name: EVOLUCAO, dtype: int64\n",
      "17918\n",
      "2.0    52.344012\n",
      "1.0    47.655988\n",
      "Name: EVOLUCAO, dtype: float64\n"
     ]
    }
   ],
   "source": [
    "# Parda\n",
    "\n",
    "print(df['EVOLUCAO'][((df['CS_RACA'] == 4) & (df['EVOLUCAO'] != 9))].value_counts())\n",
    "print(df['EVOLUCAO'][((df['CS_RACA'] == 4) & (df['EVOLUCAO'] != 9))].notnull().sum())\n",
    "\n",
    "print(100*df['EVOLUCAO'][((df['CS_RACA'] == 4) & (df['EVOLUCAO'] != 9))].value_counts()/df['EVOLUCAO'][((df['CS_RACA'] == 4) & (df['EVOLUCAO'] != 9))].notnull().sum())\n"
   ]
  },
  {
   "cell_type": "code",
   "execution_count": 26,
   "metadata": {},
   "outputs": [
    {
     "name": "stdout",
     "output_type": "stream",
     "text": [
      "2.0    61\n",
      "1.0    49\n",
      "Name: EVOLUCAO, dtype: int64\n",
      "110\n",
      "2.0    55.454545\n",
      "1.0    44.545455\n",
      "Name: EVOLUCAO, dtype: float64\n"
     ]
    }
   ],
   "source": [
    "# Indígena\n",
    "\n",
    "print(df['EVOLUCAO'][((df['CS_RACA'] == 5) & (df['EVOLUCAO'] != 9))].value_counts())\n",
    "print(df['EVOLUCAO'][((df['CS_RACA'] == 5) & (df['EVOLUCAO'] != 9))].notnull().sum())\n",
    "\n",
    "print(100*df['EVOLUCAO'][((df['CS_RACA'] == 5) & (df['EVOLUCAO'] != 9))].value_counts()/df['EVOLUCAO'][((df['CS_RACA'] == 5) & (df['EVOLUCAO'] != 9))].notnull().sum())\n"
   ]
  },
  {
   "cell_type": "code",
   "execution_count": 27,
   "metadata": {},
   "outputs": [],
   "source": [
    "# Disease Analysis"
   ]
  },
  {
   "cell_type": "code",
   "execution_count": 28,
   "metadata": {},
   "outputs": [
    {
     "name": "stdout",
     "output_type": "stream",
     "text": [
      "21651\n",
      "2.0    11772\n",
      "1.0     9879\n",
      "Name: EVOLUCAO, dtype: int64\n",
      "2.0    54.371623\n",
      "1.0    45.628377\n",
      "Name: EVOLUCAO, dtype: float64\n"
     ]
    }
   ],
   "source": [
    "# Cardiovascular disease\n",
    "\n",
    "print(df['EVOLUCAO'][((df['CARDIOPATI'] ==1 ) & (df['EVOLUCAO'] != 9))].notnull().sum())\n",
    "print(df['EVOLUCAO'][((df['CARDIOPATI'] ==1 ) & (df['EVOLUCAO'] != 9))].value_counts())\n",
    "\n",
    "print(100*df['EVOLUCAO'][((df['CARDIOPATI'] == 1) & (df['EVOLUCAO'] != 9))].value_counts()/df['EVOLUCAO'][((df['CARDIOPATI'] == 1) & (df['EVOLUCAO'] != 9))].notnull().sum())\n",
    "\n",
    "# 1- Cured  2- Died"
   ]
  },
  {
   "cell_type": "code",
   "execution_count": 29,
   "metadata": {},
   "outputs": [
    {
     "name": "stdout",
     "output_type": "stream",
     "text": [
      "1.0    1188\n",
      "2.0     620\n",
      "Name: EVOLUCAO, dtype: int64\n",
      "1808\n",
      "1.0    65.707965\n",
      "2.0    34.292035\n",
      "Name: EVOLUCAO, dtype: float64\n"
     ]
    }
   ],
   "source": [
    "# Asthma\n",
    "\n",
    "print(df['EVOLUCAO'][((df['ASMA'] ==1 ) & (df['EVOLUCAO'] != 9))].value_counts())\n",
    "print(df['EVOLUCAO'][((df['ASMA'] ==1 ) & (df['EVOLUCAO'] != 9))].notnull().sum())\n",
    "\n",
    "print(100*df['EVOLUCAO'][((df['ASMA'] == 1) & (df['EVOLUCAO'] != 9))].value_counts()/df['EVOLUCAO'][((df['ASMA'] == 1) & (df['EVOLUCAO'] != 9))].notnull().sum())\n"
   ]
  },
  {
   "cell_type": "code",
   "execution_count": 30,
   "metadata": {},
   "outputs": [
    {
     "name": "stdout",
     "output_type": "stream",
     "text": [
      "16311\n",
      "2.0    9116\n",
      "1.0    7195\n",
      "Name: EVOLUCAO, dtype: int64\n",
      "2.0    55.888664\n",
      "1.0    44.111336\n",
      "Name: EVOLUCAO, dtype: float64\n"
     ]
    }
   ],
   "source": [
    "# Diabetes\n",
    "\n",
    "print(df['EVOLUCAO'][((df['DIABETES'] ==1 ) & (df['EVOLUCAO'] != 9))].notnull().sum())\n",
    "print(df['EVOLUCAO'][((df['DIABETES'] ==1 ) & (df['EVOLUCAO'] != 9))].value_counts())\n",
    "\n",
    "print(100*df['EVOLUCAO'][((df['DIABETES'] == 1) & (df['EVOLUCAO'] != 9))].value_counts()/df['EVOLUCAO'][((df['DIABETES'] == 1) & (df['EVOLUCAO'] != 9))].notnull().sum())\n"
   ]
  },
  {
   "cell_type": "code",
   "execution_count": 31,
   "metadata": {},
   "outputs": [
    {
     "name": "stdout",
     "output_type": "stream",
     "text": [
      "2582\n",
      "2.0    1608\n",
      "1.0     974\n",
      "Name: EVOLUCAO, dtype: int64\n",
      "2.0    62.277304\n",
      "1.0    37.722696\n",
      "Name: EVOLUCAO, dtype: float64\n"
     ]
    }
   ],
   "source": [
    "# Pulmonary disease\n",
    "\n",
    "print(df['EVOLUCAO'][((df['PNEUMOPATI'] ==1 ) & (df['EVOLUCAO'] != 9))].notnull().sum())\n",
    "print(df['EVOLUCAO'][((df['PNEUMOPATI'] ==1 ) & (df['EVOLUCAO'] != 9))].value_counts())\n",
    "\n",
    "print(100*df['EVOLUCAO'][((df['PNEUMOPATI'] == 1) & (df['EVOLUCAO'] != 9))].value_counts()/df['EVOLUCAO'][((df['PNEUMOPATI'] == 1) & (df['EVOLUCAO'] != 9))].notnull().sum())\n"
   ]
  },
  {
   "cell_type": "code",
   "execution_count": 32,
   "metadata": {},
   "outputs": [
    {
     "name": "stdout",
     "output_type": "stream",
     "text": [
      "2455\n",
      "1.0    1282\n",
      "2.0    1173\n",
      "Name: EVOLUCAO, dtype: int64\n",
      "1.0    52.219959\n",
      "2.0    47.780041\n",
      "Name: EVOLUCAO, dtype: float64\n"
     ]
    }
   ],
   "source": [
    "# Obesity\n",
    "\n",
    "print(df['EVOLUCAO'][((df['OBESIDADE'] ==1 ) & (df['EVOLUCAO'] != 9))].notnull().sum())\n",
    "print(df['EVOLUCAO'][((df['OBESIDADE'] ==1 ) & (df['EVOLUCAO'] != 9))].value_counts())\n",
    "\n",
    "print(100*df['EVOLUCAO'][((df['OBESIDADE'] ==1) & (df['EVOLUCAO'] != 9))].value_counts()/df['EVOLUCAO'][((df['OBESIDADE'] == 1) & (df['EVOLUCAO'] != 9))].notnull().sum())\n"
   ]
  },
  {
   "cell_type": "code",
   "execution_count": 33,
   "metadata": {},
   "outputs": [
    {
     "name": "stdout",
     "output_type": "stream",
     "text": [
      "2156\n",
      "2.0    1209\n",
      "1.0     947\n",
      "Name: EVOLUCAO, dtype: int64\n",
      "2.0    56.076067\n",
      "1.0    43.923933\n",
      "Name: EVOLUCAO, dtype: float64\n"
     ]
    }
   ],
   "source": [
    "# Immunosuppression\n",
    "\n",
    "print(df['EVOLUCAO'][((df['IMUNODEPRE'] ==1 ) & (df['EVOLUCAO'] != 9))].notnull().sum())\n",
    "print(df['EVOLUCAO'][((df['IMUNODEPRE'] ==1 ) & (df['EVOLUCAO'] != 9))].value_counts())\n",
    "\n",
    "print(100*df['EVOLUCAO'][((df['IMUNODEPRE'] ==1) & (df['EVOLUCAO'] != 9))].value_counts()/df['EVOLUCAO'][((df['IMUNODEPRE'] == 1) & (df['EVOLUCAO'] != 9))].notnull().sum())\n"
   ]
  },
  {
   "cell_type": "code",
   "execution_count": 34,
   "metadata": {},
   "outputs": [
    {
     "name": "stdout",
     "output_type": "stream",
     "text": [
      "2966\n",
      "2.0    2021\n",
      "1.0     945\n",
      "Name: EVOLUCAO, dtype: int64\n",
      "2.0    68.138908\n",
      "1.0    31.861092\n",
      "Name: EVOLUCAO, dtype: float64\n"
     ]
    }
   ],
   "source": [
    "# Renal disease \n",
    "\n",
    "print(df['EVOLUCAO'][((df['RENAL'] ==1 ) & (df['EVOLUCAO'] != 9))].notnull().sum())\n",
    "print(df['EVOLUCAO'][((df['RENAL'] ==1 ) & (df['EVOLUCAO'] != 9))].value_counts())\n",
    "\n",
    "print(100*df['EVOLUCAO'][((df['RENAL'] ==1) & (df['EVOLUCAO'] != 9))].value_counts()/df['EVOLUCAO'][((df['RENAL'] == 1) & (df['EVOLUCAO'] != 9))].notnull().sum())\n"
   ]
  },
  {
   "cell_type": "code",
   "execution_count": 35,
   "metadata": {},
   "outputs": [
    {
     "name": "stdout",
     "output_type": "stream",
     "text": [
      "624\n",
      "2.0    411\n",
      "1.0    213\n",
      "Name: EVOLUCAO, dtype: int64\n",
      "2.0    65.865385\n",
      "1.0    34.134615\n",
      "Name: EVOLUCAO, dtype: float64\n"
     ]
    }
   ],
   "source": [
    "# Liver disease\n",
    " \n",
    "\n",
    "print(df['EVOLUCAO'][((df['HEPATICA'] ==1 ) & (df['EVOLUCAO'] != 9))].notnull().sum())\n",
    "print(df['EVOLUCAO'][((df['HEPATICA'] ==1 ) & (df['EVOLUCAO'] != 9))].value_counts())\n",
    "\n",
    "print(100*df['EVOLUCAO'][((df['HEPATICA'] ==1) & (df['EVOLUCAO'] != 9))].value_counts()/df['EVOLUCAO'][((df['HEPATICA'] == 1) & (df['EVOLUCAO'] != 9))].notnull().sum())\n"
   ]
  },
  {
   "cell_type": "code",
   "execution_count": 36,
   "metadata": {},
   "outputs": [
    {
     "name": "stdout",
     "output_type": "stream",
     "text": [
      "2658\n",
      "2.0    1813\n",
      "1.0     845\n",
      "Name: EVOLUCAO, dtype: int64\n",
      "2.0    68.20918\n",
      "1.0    31.79082\n",
      "Name: EVOLUCAO, dtype: float64\n"
     ]
    }
   ],
   "source": [
    "# Neurological disease\n",
    "\n",
    "print(df['EVOLUCAO'][((df['NEUROLOGIC'] ==1 ) & (df['EVOLUCAO'] != 9))].notnull().sum())\n",
    "print(df['EVOLUCAO'][((df['NEUROLOGIC'] ==1 ) & (df['EVOLUCAO'] != 9))].value_counts())\n",
    "\n",
    "print(100*df['EVOLUCAO'][((df['NEUROLOGIC'] ==1) & (df['EVOLUCAO'] != 9))].value_counts()/df['EVOLUCAO'][((df['NEUROLOGIC'] == 1) & (df['EVOLUCAO'] != 9))].notnull().sum())\n"
   ]
  },
  {
   "cell_type": "code",
   "execution_count": 37,
   "metadata": {},
   "outputs": [
    {
     "name": "stdout",
     "output_type": "stream",
     "text": [
      "638\n",
      "2.0    355\n",
      "1.0    283\n",
      "Name: EVOLUCAO, dtype: int64\n",
      "2.0    55.642633\n",
      "1.0    44.357367\n",
      "Name: EVOLUCAO, dtype: float64\n"
     ]
    }
   ],
   "source": [
    "# Hematological disease\n",
    "\n",
    "print(df['EVOLUCAO'][((df['HEMATOLOGI'] ==1 ) & (df['EVOLUCAO'] != 9))].notnull().sum())\n",
    "print(df['EVOLUCAO'][((df['HEMATOLOGI'] ==1 ) & (df['EVOLUCAO'] != 9))].value_counts())\n",
    "\n",
    "print(100*df['EVOLUCAO'][((df['HEMATOLOGI'] ==1) & (df['EVOLUCAO'] != 9))].value_counts()/df['EVOLUCAO'][((df['HEMATOLOGI'] == 1) & (df['EVOLUCAO'] != 9))].notnull().sum())\n"
   ]
  },
  {
   "cell_type": "code",
   "execution_count": 38,
   "metadata": {},
   "outputs": [
    {
     "name": "stdout",
     "output_type": "stream",
     "text": [
      "16879\n",
      "2.0    8815\n",
      "1.0    8064\n",
      "Name: EVOLUCAO, dtype: int64\n",
      "2.0    52.224658\n",
      "1.0    47.775342\n",
      "Name: EVOLUCAO, dtype: float64\n"
     ]
    }
   ],
   "source": [
    "# Other disease\n",
    "\n",
    "print(df['EVOLUCAO'][((df['OUT_MORBI'] ==1 ) & (df['EVOLUCAO'] != 9))].notnull().sum())\n",
    "print(df['EVOLUCAO'][((df['OUT_MORBI'] ==1 ) & (df['EVOLUCAO'] != 9))].value_counts())\n",
    "\n",
    "print(100*df['EVOLUCAO'][((df['OUT_MORBI'] ==1) & (df['EVOLUCAO'] != 9))].value_counts()/df['EVOLUCAO'][((df['OUT_MORBI'] == 1) & (df['EVOLUCAO'] != 9))].notnull().sum())\n"
   ]
  },
  {
   "cell_type": "code",
   "execution_count": 39,
   "metadata": {},
   "outputs": [
    {
     "name": "stdout",
     "output_type": "stream",
     "text": [
      "47028\n",
      "1.0    27466\n",
      "2.0    19562\n",
      "Name: EVOLUCAO, dtype: int64\n",
      "1.0    58.403504\n",
      "2.0    41.596496\n",
      "Name: EVOLUCAO, dtype: float64\n"
     ]
    }
   ],
   "source": [
    "# Fever\n",
    "\n",
    "print(df['EVOLUCAO'][((df['FEBRE'] ==1 ) & (df['EVOLUCAO'] != 9))].notnull().sum())\n",
    "print(df['EVOLUCAO'][((df['FEBRE'] ==1 ) & (df['EVOLUCAO'] != 9))].value_counts())\n",
    "\n",
    "\n",
    "print(100*df['EVOLUCAO'][((df['FEBRE'] ==1) & (df['EVOLUCAO'] != 9))].value_counts()/df['EVOLUCAO'][((df['FEBRE'] == 1) & (df['EVOLUCAO'] != 9))].notnull().sum() )\n"
   ]
  },
  {
   "cell_type": "code",
   "execution_count": 40,
   "metadata": {},
   "outputs": [
    {
     "name": "stdout",
     "output_type": "stream",
     "text": [
      "4891\n",
      "1.0    3032\n",
      "2.0    1859\n",
      "Name: EVOLUCAO, dtype: int64\n",
      "1.0    61.991413\n",
      "2.0    38.008587\n",
      "Name: EVOLUCAO, dtype: float64\n"
     ]
    }
   ],
   "source": [
    "# Vomiting\n",
    "\n",
    "print(df['EVOLUCAO'][((df['VOMITO'] ==1 ) & (df['EVOLUCAO'] != 9))].notnull().sum())\n",
    "print(df['EVOLUCAO'][((df['VOMITO'] ==1 ) & (df['EVOLUCAO'] != 9))].value_counts())\n",
    "\n",
    "\n",
    "print(100*df['EVOLUCAO'][((df['VOMITO'] ==1) & (df['EVOLUCAO'] != 9))].value_counts()/df['EVOLUCAO'][((df['VOMITO'] == 1) & (df['EVOLUCAO'] != 9))].notnull().sum() )\n"
   ]
  },
  {
   "cell_type": "code",
   "execution_count": 41,
   "metadata": {},
   "outputs": [
    {
     "name": "stdout",
     "output_type": "stream",
     "text": [
      "49213\n",
      "1.0    28739\n",
      "2.0    20474\n",
      "Name: EVOLUCAO, dtype: int64\n",
      "1.0    58.397171\n",
      "2.0    41.602829\n",
      "Name: EVOLUCAO, dtype: float64\n"
     ]
    }
   ],
   "source": [
    "# Cough\n",
    "\n",
    "print(df['EVOLUCAO'][((df['TOSSE'] ==1 ) & (df['EVOLUCAO'] != 9))].notnull().sum())\n",
    "print(df['EVOLUCAO'][((df['TOSSE'] ==1 ) & (df['EVOLUCAO'] != 9))].value_counts())\n",
    "\n",
    "\n",
    "print(100*df['EVOLUCAO'][((df['TOSSE'] ==1) & (df['EVOLUCAO'] != 9))].value_counts()/df['EVOLUCAO'][((df['TOSSE'] == 1) & (df['EVOLUCAO'] != 9))].notnull().sum() )\n",
    "\n"
   ]
  },
  {
   "cell_type": "code",
   "execution_count": 42,
   "metadata": {},
   "outputs": [
    {
     "name": "stdout",
     "output_type": "stream",
     "text": [
      "13008\n",
      "1.0    8123\n",
      "2.0    4885\n",
      "Name: EVOLUCAO, dtype: int64\n",
      "1.0    62.446187\n",
      "2.0    37.553813\n",
      "Name: EVOLUCAO, dtype: float64\n"
     ]
    }
   ],
   "source": [
    "# Sore Throuht\n",
    "\n",
    "print(df['EVOLUCAO'][((df['GARGANTA'] ==1 ) & (df['EVOLUCAO'] != 9))].notnull().sum())\n",
    "print(df['EVOLUCAO'][((df['GARGANTA'] ==1 ) & (df['EVOLUCAO'] != 9))].value_counts())\n",
    "\n",
    "\n",
    "print(100*df['EVOLUCAO'][((df['GARGANTA'] ==1) & (df['EVOLUCAO'] != 9))].value_counts()/df['EVOLUCAO'][((df['GARGANTA'] == 1) & (df['EVOLUCAO'] != 9))].notnull().sum() )\n",
    "\n"
   ]
  },
  {
   "cell_type": "code",
   "execution_count": 43,
   "metadata": {},
   "outputs": [
    {
     "name": "stdout",
     "output_type": "stream",
     "text": [
      "37965\n",
      "1.0    19137\n",
      "2.0    18828\n",
      "Name: EVOLUCAO, dtype: int64\n",
      "1.0    50.406954\n",
      "2.0    49.593046\n",
      "Name: EVOLUCAO, dtype: float64\n"
     ]
    }
   ],
   "source": [
    "# Breathy Dificult\n",
    "\n",
    "print(df['EVOLUCAO'][((df['DESC_RESP'] ==1 ) & (df['EVOLUCAO'] != 9))].notnull().sum())\n",
    "print(df['EVOLUCAO'][((df['DESC_RESP'] ==1 ) & (df['EVOLUCAO'] != 9))].value_counts())\n",
    "\n",
    "\n",
    "print(100*df['EVOLUCAO'][((df['DESC_RESP'] ==1) & (df['EVOLUCAO'] != 9))].value_counts()/df['EVOLUCAO'][((df['DESC_RESP'] == 1) & (df['EVOLUCAO'] != 9))].notnull().sum() )\n",
    "\n"
   ]
  },
  {
   "cell_type": "code",
   "execution_count": 44,
   "metadata": {},
   "outputs": [
    {
     "name": "stdout",
     "output_type": "stream",
     "text": [
      "46582\n",
      "1.0    24223\n",
      "2.0    22359\n",
      "Name: EVOLUCAO, dtype: int64\n",
      "1.0    52.000773\n",
      "2.0    47.999227\n",
      "Name: EVOLUCAO, dtype: float64\n"
     ]
    }
   ],
   "source": [
    "# Dispneia\n",
    "\n",
    "print(df['EVOLUCAO'][((df['DISPNEIA'] ==1 ) & (df['EVOLUCAO'] != 9))].notnull().sum())\n",
    "print(df['EVOLUCAO'][((df['DISPNEIA'] ==1 ) & (df['EVOLUCAO'] != 9))].value_counts())\n",
    "\n",
    "\n",
    "print(100*df['EVOLUCAO'][((df['DISPNEIA'] ==1) & (df['EVOLUCAO'] != 9))].value_counts()/df['EVOLUCAO'][((df['DISPNEIA'] == 1) & (df['EVOLUCAO'] != 9))].notnull().sum() )\n"
   ]
  },
  {
   "cell_type": "code",
   "execution_count": 45,
   "metadata": {},
   "outputs": [
    {
     "name": "stdout",
     "output_type": "stream",
     "text": [
      "8596\n",
      "1.0    5457\n",
      "2.0    3139\n",
      "Name: EVOLUCAO, dtype: int64\n",
      "1.0    63.483015\n",
      "2.0    36.516985\n",
      "Name: EVOLUCAO, dtype: float64\n"
     ]
    }
   ],
   "source": [
    "# Diarrhoea\n",
    "\n",
    "print(df['EVOLUCAO'][((df['DIARREIA'] ==1 ) & (df['EVOLUCAO'] != 9))].notnull().sum())\n",
    "print(df['EVOLUCAO'][((df['DIARREIA'] ==1 ) & (df['EVOLUCAO'] != 9))].value_counts())\n",
    "\n",
    "\n",
    "print(100*df['EVOLUCAO'][((df['DIARREIA'] ==1) & (df['EVOLUCAO'] != 9))].value_counts()/df['EVOLUCAO'][((df['DIARREIA'] == 1) & (df['EVOLUCAO'] != 9))].notnull().sum() )\n",
    "\n"
   ]
  },
  {
   "cell_type": "code",
   "execution_count": 46,
   "metadata": {},
   "outputs": [
    {
     "name": "stdout",
     "output_type": "stream",
     "text": [
      "37555\n",
      "2.0    19683\n",
      "1.0    17872\n",
      "Name: EVOLUCAO, dtype: int64\n",
      "2.0    52.41113\n",
      "1.0    47.58887\n",
      "Name: EVOLUCAO, dtype: float64\n"
     ]
    }
   ],
   "source": [
    "# Saturation\n",
    "\n",
    "print(df['EVOLUCAO'][((df['SATURACAO'] ==1 ) & (df['EVOLUCAO'] != 9))].notnull().sum())\n",
    "print(df['EVOLUCAO'][((df['SATURACAO'] ==1 ) & (df['EVOLUCAO'] != 9))].value_counts())\n",
    "\n",
    "\n",
    "print(100*df['EVOLUCAO'][((df['SATURACAO'] ==1) & (df['EVOLUCAO'] != 9))].value_counts()/df['EVOLUCAO'][((df['SATURACAO'] == 1) & (df['EVOLUCAO'] != 9))].notnull().sum() )\n",
    "\n"
   ]
  },
  {
   "cell_type": "code",
   "execution_count": 47,
   "metadata": {},
   "outputs": [
    {
     "name": "stdout",
     "output_type": "stream",
     "text": [
      "226\n",
      "1.0    166\n",
      "2.0     60\n",
      "Name: EVOLUCAO, dtype: int64\n",
      "1.0    73.451327\n",
      "2.0    26.548673\n",
      "Name: EVOLUCAO, dtype: float64\n"
     ]
    }
   ],
   "source": [
    "# Puerpera \n",
    "\n",
    "print(df['EVOLUCAO'][((df['PUERPERA'] ==1 ) & (df['EVOLUCAO'] != 9))].notnull().sum())\n",
    "print(df['EVOLUCAO'][((df['PUERPERA'] ==1 ) & (df['EVOLUCAO'] != 9))].value_counts())\n",
    "\n",
    "\n",
    "print(100*df['EVOLUCAO'][((df['PUERPERA'] ==1) & (df['EVOLUCAO'] != 9))].value_counts()/df['EVOLUCAO'][((df['PUERPERA'] == 1) & (df['EVOLUCAO'] != 9))].notnull().sum() )\n",
    "\n"
   ]
  },
  {
   "cell_type": "code",
   "execution_count": 48,
   "metadata": {},
   "outputs": [
    {
     "name": "stdout",
     "output_type": "stream",
     "text": [
      "545\n",
      "1.0    488\n",
      "2.0     57\n",
      "Name: EVOLUCAO, dtype: int64\n",
      "1.0    89.541284\n",
      "2.0    10.458716\n",
      "Name: EVOLUCAO, dtype: float64\n"
     ]
    }
   ],
   "source": [
    "# Pregant\n",
    "\n",
    "print(df['EVOLUCAO'][(((df['CS_GESTANT'] ==1) |(df['CS_GESTANT'] ==2)|(df['CS_GESTANT'] ==3)|(df['CS_GESTANT'] ==4))  & (df['EVOLUCAO'] != 9))].notnull().sum())\n",
    "print(df['EVOLUCAO'][(((df['CS_GESTANT'] ==1) |(df['CS_GESTANT'] ==2)|(df['CS_GESTANT'] ==3)|(df['CS_GESTANT'] ==4))  & (df['EVOLUCAO'] != 9))].value_counts())\n",
    "\n",
    "\n",
    "print(100*df['EVOLUCAO'][(((df['CS_GESTANT'] ==1) |(df['CS_GESTANT'] ==2)|(df['CS_GESTANT'] ==3)|(df['CS_GESTANT'] ==4))  & (df['EVOLUCAO'] != 9))].value_counts()/df['EVOLUCAO'][(((df['CS_GESTANT'] ==1) |(df['CS_GESTANT'] ==2)|(df['CS_GESTANT'] ==3)|(df['CS_GESTANT'] ==4))  & (df['EVOLUCAO'] != 9))].notnull().sum() )\n",
    "\n"
   ]
  },
  {
   "cell_type": "code",
   "execution_count": 49,
   "metadata": {},
   "outputs": [
    {
     "name": "stdout",
     "output_type": "stream",
     "text": [
      "171\n",
      "2.0    100\n",
      "1.0     71\n",
      "Name: EVOLUCAO, dtype: int64\n",
      "2.0    58.479532\n",
      "1.0    41.520468\n",
      "Name: EVOLUCAO, dtype: float64\n"
     ]
    }
   ],
   "source": [
    "# Down Sindrom\n",
    "\n",
    "print(df['EVOLUCAO'][((df['SIND_DOWN'] ==1 ) & (df['EVOLUCAO'] != 9))].notnull().sum())\n",
    "print(df['EVOLUCAO'][((df['SIND_DOWN'] ==1 ) & (df['EVOLUCAO'] != 9))].value_counts())\n",
    "\n",
    "\n",
    "print(100*df['EVOLUCAO'][((df['SIND_DOWN'] ==1) & (df['EVOLUCAO'] != 9))].value_counts()/df['EVOLUCAO'][((df['SIND_DOWN'] == 1) & (df['EVOLUCAO'] != 9))].notnull().sum() )\n",
    "\n"
   ]
  },
  {
   "cell_type": "code",
   "execution_count": 50,
   "metadata": {},
   "outputs": [
    {
     "name": "stdout",
     "output_type": "stream",
     "text": [
      "20037\n"
     ]
    }
   ],
   "source": [
    "# Level Education\n",
    "\n",
    "\n",
    "# normalization:\n",
    "print(df['EVOLUCAO'][(((df['CS_ESCOL_N'] ==0)|(df['CS_ESCOL_N'] ==1) |(df['CS_ESCOL_N'] ==2)|(df['CS_ESCOL_N'] ==3)|(df['CS_ESCOL_N'] ==4)) & (df['CS_ESCOL_N'] !=5) & (df['EVOLUCAO'] != 9))].notnull().sum())"
   ]
  },
  {
   "cell_type": "code",
   "execution_count": 51,
   "metadata": {},
   "outputs": [
    {
     "name": "stdout",
     "output_type": "stream",
     "text": [
      "2.0    807\n",
      "1.0    401\n",
      "Name: EVOLUCAO, dtype: int64\n",
      "2.0    66.804636\n",
      "1.0    33.195364\n",
      "Name: EVOLUCAO, dtype: float64\n"
     ]
    }
   ],
   "source": [
    "# illiterate\n",
    "\n",
    "\n",
    "print(df['EVOLUCAO'][((df['CS_ESCOL_N'] ==0) & (df['EVOLUCAO']!= 5) & (df['EVOLUCAO']!= 9))].value_counts())\n",
    "print(100*df['EVOLUCAO'][((df['CS_ESCOL_N'] ==0) & (df['EVOLUCAO']!= 5) & (df['EVOLUCAO']!= 9))].value_counts()/df['EVOLUCAO'][((df['CS_ESCOL_N'] ==0) & (df['CS_ESCOL_N'] !=5) & (df['EVOLUCAO'] != 9))].notnull().sum())"
   ]
  },
  {
   "cell_type": "code",
   "execution_count": 52,
   "metadata": {},
   "outputs": [
    {
     "name": "stdout",
     "output_type": "stream",
     "text": [
      "2.0    2611\n",
      "1.0    2228\n",
      "Name: EVOLUCAO, dtype: int64\n",
      "2.0    53.957429\n",
      "1.0    46.042571\n",
      "Name: EVOLUCAO, dtype: float64\n"
     ]
    }
   ],
   "source": [
    "# Fundamental I\n",
    "\n",
    "print(df['EVOLUCAO'][((df['CS_ESCOL_N'] ==1) & (df['EVOLUCAO']!= 5) & (df['EVOLUCAO']!= 9))].value_counts())\n",
    "print(100*df['EVOLUCAO'][((df['CS_ESCOL_N'] ==1) & (df['EVOLUCAO']!= 5) & (df['EVOLUCAO']!= 9))].value_counts()/df['EVOLUCAO'][((df['CS_ESCOL_N'] ==1) & (df['CS_ESCOL_N'] !=5) & (df['EVOLUCAO'] != 9))].notnull().sum())\n"
   ]
  },
  {
   "cell_type": "code",
   "execution_count": 53,
   "metadata": {},
   "outputs": [
    {
     "name": "stdout",
     "output_type": "stream",
     "text": [
      "1.0    1927\n",
      "2.0    1614\n",
      "Name: EVOLUCAO, dtype: int64\n",
      "1.0    54.419655\n",
      "2.0    45.580345\n",
      "Name: EVOLUCAO, dtype: float64\n"
     ]
    }
   ],
   "source": [
    "# Fundamental II\n",
    "\n",
    "print(df['EVOLUCAO'][((df['CS_ESCOL_N'] ==2) & (df['EVOLUCAO']!= 5) & (df['EVOLUCAO']!= 9))].value_counts())\n",
    "print(100*df['EVOLUCAO'][((df['CS_ESCOL_N'] ==2) & (df['EVOLUCAO']!= 5) & (df['EVOLUCAO']!= 9))].value_counts()/df['EVOLUCAO'][((df['CS_ESCOL_N'] ==2) & (df['CS_ESCOL_N'] !=5) & (df['EVOLUCAO'] != 9))].notnull().sum())\n"
   ]
  },
  {
   "cell_type": "code",
   "execution_count": 54,
   "metadata": {},
   "outputs": [
    {
     "name": "stdout",
     "output_type": "stream",
     "text": [
      "1.0    4620\n",
      "2.0    2245\n",
      "Name: EVOLUCAO, dtype: int64\n",
      "1.0    67.297888\n",
      "2.0    32.702112\n",
      "Name: EVOLUCAO, dtype: float64\n"
     ]
    }
   ],
   "source": [
    "# Medium\n",
    "\n",
    "print(df['EVOLUCAO'][((df['CS_ESCOL_N'] ==3) & (df['EVOLUCAO']!= 5) & (df['EVOLUCAO']!= 9))].value_counts())\n",
    "print(100*df['EVOLUCAO'][((df['CS_ESCOL_N'] ==3) & (df['EVOLUCAO']!= 5) & (df['EVOLUCAO']!= 9))].value_counts()/df['EVOLUCAO'][((df['CS_ESCOL_N'] ==3) & (df['CS_ESCOL_N'] !=5) & (df['EVOLUCAO'] != 9))].notnull().sum())\n"
   ]
  },
  {
   "cell_type": "code",
   "execution_count": 55,
   "metadata": {},
   "outputs": [
    {
     "name": "stdout",
     "output_type": "stream",
     "text": [
      "1.0    2726\n",
      "2.0     858\n",
      "Name: EVOLUCAO, dtype: int64\n",
      "1.0    76.060268\n",
      "2.0    23.939732\n",
      "Name: EVOLUCAO, dtype: float64\n"
     ]
    }
   ],
   "source": [
    "# University\n",
    "\n",
    "print(df['EVOLUCAO'][((df['CS_ESCOL_N'] ==4) & (df['EVOLUCAO']!= 5) & (df['EVOLUCAO']!= 9))].value_counts())\n",
    "print(100*df['EVOLUCAO'][((df['CS_ESCOL_N'] ==4) & (df['EVOLUCAO']!= 5) & (df['EVOLUCAO']!= 9))].value_counts()/df['EVOLUCAO'][((df['CS_ESCOL_N'] ==4) & (df['CS_ESCOL_N'] !=5) & (df['EVOLUCAO'] != 9))].notnull().sum())\n"
   ]
  },
  {
   "cell_type": "code",
   "execution_count": 56,
   "metadata": {},
   "outputs": [
    {
     "name": "stdout",
     "output_type": "stream",
     "text": [
      "54846\n",
      "1.0    30333\n",
      "2.0    24513\n",
      "Name: EVOLUCAO, dtype: int64\n",
      "1.0    55.305765\n",
      "2.0    44.694235\n",
      "Name: EVOLUCAO, dtype: float64\n"
     ]
    }
   ],
   "source": [
    "# Urban zone\n",
    "\n",
    "print(df['EVOLUCAO'][((df['CS_ZONA'] ==1) & (df['EVOLUCAO'] != 9))].notnull().sum())\n",
    "print(df['EVOLUCAO'][((df['CS_ZONA'] ==1) & (df['EVOLUCAO'] != 9))].value_counts())\n",
    "\n",
    "\n",
    "print(100*df['EVOLUCAO'][((df['CS_ZONA'] ==1) & (df['EVOLUCAO'] != 9))].value_counts()/df['EVOLUCAO'][((df['CS_ZONA'] == 1) & (df['EVOLUCAO'] != 9))].notnull().sum() )\n"
   ]
  },
  {
   "cell_type": "code",
   "execution_count": 57,
   "metadata": {},
   "outputs": [
    {
     "name": "stdout",
     "output_type": "stream",
     "text": [
      "1341\n",
      "2.0    707\n",
      "1.0    634\n",
      "Name: EVOLUCAO, dtype: int64\n",
      "2.0    52.721849\n",
      "1.0    47.278151\n",
      "Name: EVOLUCAO, dtype: float64\n"
     ]
    }
   ],
   "source": [
    "# Rural zone\n",
    "\n",
    "print(df['EVOLUCAO'][((df['CS_ZONA'] ==2) & (df['EVOLUCAO'] != 9))].notnull().sum())\n",
    "print(df['EVOLUCAO'][((df['CS_ZONA'] ==2) & (df['EVOLUCAO'] != 9))].value_counts())\n",
    "\n",
    "\n",
    "print(100*df['EVOLUCAO'][((df['CS_ZONA'] ==2) & (df['EVOLUCAO'] != 9))].value_counts()/df['EVOLUCAO'][((df['CS_ZONA'] == 2) & (df['EVOLUCAO'] != 9))].notnull().sum() )\n"
   ]
  },
  {
   "cell_type": "code",
   "execution_count": 58,
   "metadata": {},
   "outputs": [
    {
     "name": "stdout",
     "output_type": "stream",
     "text": [
      "252\n",
      "1.0    128\n",
      "2.0    124\n",
      "Name: EVOLUCAO, dtype: int64\n",
      "1.0    50.793651\n",
      "2.0    49.206349\n",
      "Name: EVOLUCAO, dtype: float64\n"
     ]
    }
   ],
   "source": [
    "# Periurban zone\n",
    "\n",
    "print(df['EVOLUCAO'][((df['CS_ZONA'] ==3) & (df['EVOLUCAO'] != 9))].notnull().sum())\n",
    "print(df['EVOLUCAO'][((df['CS_ZONA'] ==3) & (df['EVOLUCAO'] != 9))].value_counts())\n",
    "\n",
    "\n",
    "print(100*df['EVOLUCAO'][((df['CS_ZONA'] ==3) & (df['EVOLUCAO'] != 9))].value_counts()/df['EVOLUCAO'][((df['CS_ZONA'] == 3) & (df['EVOLUCAO'] != 9))].notnull().sum() )\n"
   ]
  },
  {
   "cell_type": "code",
   "execution_count": 59,
   "metadata": {},
   "outputs": [],
   "source": [
    "# Macro Regions\n",
    "\n",
    "northeast  =  set(['MA','PI','BA','CE','RN','PB','PE','AL','SE'])\n",
    "north  =  set(['RO','AC','AM','RR','PA','AP','TO'])\n",
    "midwest  =  set(['MT','MS','GO','DF'])\n",
    "southeast  =  set(['SP','RJ','MG','ES'])\n",
    "south = set(['RS','SC','PR'])\n"
   ]
  },
  {
   "cell_type": "code",
   "execution_count": 60,
   "metadata": {},
   "outputs": [
    {
     "name": "stdout",
     "output_type": "stream",
     "text": [
      "10725\n",
      "2.0    6786\n",
      "1.0    3939\n",
      "Name: EVOLUCAO, dtype: int64\n",
      "2.0    63.272727\n",
      "1.0    36.727273\n",
      "Name: EVOLUCAO, dtype: float64\n"
     ]
    }
   ],
   "source": [
    "# Northeast\n",
    "\n",
    "print(df['EVOLUCAO'][((df['SG_UF_NOT'].isin(northeast)) & (df['EVOLUCAO'] != 9))].notnull().sum())\n",
    "print(df['EVOLUCAO'][((df['SG_UF_NOT'].isin(northeast)) & (df['EVOLUCAO'] != 9))].value_counts())\n",
    "\n",
    "\n",
    "print(100*df['EVOLUCAO'][((df['SG_UF_NOT'].isin(northeast)) & (df['EVOLUCAO'] != 9))].value_counts()/df['EVOLUCAO'][((df['SG_UF_NOT'].isin(northeast)) & (df['EVOLUCAO'] != 9))].notnull().sum() )\n"
   ]
  },
  {
   "cell_type": "code",
   "execution_count": 61,
   "metadata": {},
   "outputs": [
    {
     "name": "stdout",
     "output_type": "stream",
     "text": [
      "6482\n",
      "2.0    3900\n",
      "1.0    2582\n",
      "Name: EVOLUCAO, dtype: int64\n",
      "2.0    60.166615\n",
      "1.0    39.833385\n",
      "Name: EVOLUCAO, dtype: float64\n"
     ]
    }
   ],
   "source": [
    "# North\n",
    "\n",
    "print(df['EVOLUCAO'][((df['SG_UF_NOT'].isin(north)) & (df['EVOLUCAO'] != 9))].notnull().sum())\n",
    "print(df['EVOLUCAO'][((df['SG_UF_NOT'].isin(north)) & (df['EVOLUCAO'] != 9))].value_counts())\n",
    "\n",
    "\n",
    "print(100*df['EVOLUCAO'][((df['SG_UF_NOT'].isin(north)) & (df['EVOLUCAO'] != 9))].value_counts()/df['EVOLUCAO'][((df['SG_UF_NOT'].isin(north)) & (df['EVOLUCAO'] != 9))].notnull().sum() )\n"
   ]
  },
  {
   "cell_type": "code",
   "execution_count": 62,
   "metadata": {},
   "outputs": [
    {
     "name": "stdout",
     "output_type": "stream",
     "text": [
      "1779\n",
      "1.0    1198\n",
      "2.0     581\n",
      "Name: EVOLUCAO, dtype: int64\n",
      "1.0    67.341203\n",
      "2.0    32.658797\n",
      "Name: EVOLUCAO, dtype: float64\n"
     ]
    }
   ],
   "source": [
    "# Midwest\n",
    "\n",
    "print(df['EVOLUCAO'][((df['SG_UF_NOT'].isin(midwest)) & (df['EVOLUCAO'] != 9))].notnull().sum())\n",
    "print(df['EVOLUCAO'][((df['SG_UF_NOT'].isin(midwest)) & (df['EVOLUCAO'] != 9))].value_counts())\n",
    "\n",
    "\n",
    "print(100*df['EVOLUCAO'][((df['SG_UF_NOT'].isin(midwest)) & (df['EVOLUCAO'] != 9))].value_counts()/df['EVOLUCAO'][((df['SG_UF_NOT'].isin(midwest)) & (df['EVOLUCAO'] != 9))].notnull().sum() )\n"
   ]
  },
  {
   "cell_type": "code",
   "execution_count": 63,
   "metadata": {},
   "outputs": [
    {
     "name": "stdout",
     "output_type": "stream",
     "text": [
      "41438\n",
      "1.0    24941\n",
      "2.0    16497\n",
      "Name: EVOLUCAO, dtype: int64\n",
      "1.0    60.188716\n",
      "2.0    39.811284\n",
      "Name: EVOLUCAO, dtype: float64\n"
     ]
    }
   ],
   "source": [
    "# Southeast\n",
    "\n",
    "print(df['EVOLUCAO'][((df['SG_UF_NOT'].isin(southeast)) & (df['EVOLUCAO'] != 9))].notnull().sum())\n",
    "print(df['EVOLUCAO'][((df['SG_UF_NOT'].isin(southeast)) & (df['EVOLUCAO'] != 9))].value_counts())\n",
    "\n",
    "\n",
    "print(100*df['EVOLUCAO'][((df['SG_UF_NOT'].isin(southeast)) & (df['EVOLUCAO'] != 9))].value_counts()/df['EVOLUCAO'][((df['SG_UF_NOT'].isin(southeast)) & (df['EVOLUCAO'] != 9))].notnull().sum() )\n"
   ]
  },
  {
   "cell_type": "code",
   "execution_count": 64,
   "metadata": {},
   "outputs": [
    {
     "name": "stdout",
     "output_type": "stream",
     "text": [
      "3436\n",
      "1.0    2585\n",
      "2.0     851\n",
      "Name: EVOLUCAO, dtype: int64\n",
      "1.0    75.232829\n",
      "2.0    24.767171\n",
      "Name: EVOLUCAO, dtype: float64\n"
     ]
    }
   ],
   "source": [
    "# South\n",
    "\n",
    "print(df['EVOLUCAO'][((df['SG_UF_NOT'].isin(south)) & (df['EVOLUCAO'] != 9))].notnull().sum())\n",
    "print(df['EVOLUCAO'][((df['SG_UF_NOT'].isin(south)) & (df['EVOLUCAO'] != 9))].value_counts())\n",
    "\n",
    "\n",
    "print(100*df['EVOLUCAO'][((df['SG_UF_NOT'].isin(south)) & (df['EVOLUCAO'] != 9))].value_counts()/df['EVOLUCAO'][((df['SG_UF_NOT'].isin(south)) & (df['EVOLUCAO'] != 9))].notnull().sum() )\n"
   ]
  },
  {
   "cell_type": "code",
   "execution_count": 65,
   "metadata": {},
   "outputs": [],
   "source": [
    "# Education Analysis\n"
   ]
  },
  {
   "cell_type": "code",
   "execution_count": 66,
   "metadata": {},
   "outputs": [
    {
     "name": "stdout",
     "output_type": "stream",
     "text": [
      "1208\n",
      "2.0    807\n",
      "1.0    401\n",
      "Name: EVOLUCAO, dtype: int64\n",
      "2.0    66.804636\n",
      "1.0    33.195364\n",
      "Name: EVOLUCAO, dtype: float64\n"
     ]
    }
   ],
   "source": [
    "# Illiterate\n",
    "\n",
    "print(df['EVOLUCAO'][((df['CS_ESCOL_N']==0) & (df['EVOLUCAO'] != 9))].notnull().sum())\n",
    "print(df['EVOLUCAO'][((df['CS_ESCOL_N']==0) & (df['EVOLUCAO'] != 9))].value_counts())\n",
    "\n",
    "\n",
    "print(100*df['EVOLUCAO'][((df['CS_ESCOL_N']==0) & (df['EVOLUCAO'] != 9))].value_counts()/df['EVOLUCAO'][((df['CS_ESCOL_N']==0) & (df['EVOLUCAO'] != 9))].notnull().sum() )\n"
   ]
  },
  {
   "cell_type": "code",
   "execution_count": 67,
   "metadata": {},
   "outputs": [
    {
     "name": "stdout",
     "output_type": "stream",
     "text": [
      "4839\n",
      "2.0    2611\n",
      "1.0    2228\n",
      "Name: EVOLUCAO, dtype: int64\n",
      "2.0    53.957429\n",
      "1.0    46.042571\n",
      "Name: EVOLUCAO, dtype: float64\n"
     ]
    }
   ],
   "source": [
    "# Fundamental 1\n",
    "\n",
    "print(df['EVOLUCAO'][((df['CS_ESCOL_N']==1) & (df['EVOLUCAO'] != 9))].notnull().sum())\n",
    "print(df['EVOLUCAO'][((df['CS_ESCOL_N']==1) & (df['EVOLUCAO'] != 9))].value_counts())\n",
    "\n",
    "\n",
    "print(100*df['EVOLUCAO'][((df['CS_ESCOL_N']==1) & (df['EVOLUCAO'] != 9))].value_counts()/df['EVOLUCAO'][((df['CS_ESCOL_N']==1) & (df['EVOLUCAO'] != 9))].notnull().sum() )\n"
   ]
  },
  {
   "cell_type": "code",
   "execution_count": 68,
   "metadata": {},
   "outputs": [
    {
     "name": "stdout",
     "output_type": "stream",
     "text": [
      "3541\n",
      "1.0    1927\n",
      "2.0    1614\n",
      "Name: EVOLUCAO, dtype: int64\n",
      "1.0    54.419655\n",
      "2.0    45.580345\n",
      "Name: EVOLUCAO, dtype: float64\n"
     ]
    }
   ],
   "source": [
    "# Fundamental 2\n",
    "\n",
    "print(df['EVOLUCAO'][((df['CS_ESCOL_N']==2) & (df['EVOLUCAO'] != 9))].notnull().sum())\n",
    "print(df['EVOLUCAO'][((df['CS_ESCOL_N']==2) & (df['EVOLUCAO'] != 9))].value_counts())\n",
    "\n",
    "\n",
    "print(100*df['EVOLUCAO'][((df['CS_ESCOL_N']==2) & (df['EVOLUCAO'] != 9))].value_counts()/df['EVOLUCAO'][((df['CS_ESCOL_N']==2) & (df['EVOLUCAO'] != 9))].notnull().sum())\n"
   ]
  },
  {
   "cell_type": "code",
   "execution_count": 69,
   "metadata": {},
   "outputs": [
    {
     "name": "stdout",
     "output_type": "stream",
     "text": [
      "6865\n",
      "1.0    4620\n",
      "2.0    2245\n",
      "Name: EVOLUCAO, dtype: int64\n",
      "1.0    67.297888\n",
      "2.0    32.702112\n",
      "Name: EVOLUCAO, dtype: float64\n"
     ]
    }
   ],
   "source": [
    "# Medium\n",
    "\n",
    "print(df['EVOLUCAO'][((df['CS_ESCOL_N']==3) & (df['EVOLUCAO'] != 9))].notnull().sum())\n",
    "print(df['EVOLUCAO'][((df['CS_ESCOL_N']==3) & (df['EVOLUCAO'] != 9))].value_counts())\n",
    "\n",
    "\n",
    "print(100*df['EVOLUCAO'][((df['CS_ESCOL_N']==3) & (df['EVOLUCAO'] != 9))].value_counts()/df['EVOLUCAO'][((df['CS_ESCOL_N']==3) & (df['EVOLUCAO'] != 9))].notnull().sum())\n"
   ]
  },
  {
   "cell_type": "code",
   "execution_count": 70,
   "metadata": {},
   "outputs": [
    {
     "name": "stdout",
     "output_type": "stream",
     "text": [
      "3584\n",
      "1.0    2726\n",
      "2.0     858\n",
      "Name: EVOLUCAO, dtype: int64\n",
      "1.0    76.060268\n",
      "2.0    23.939732\n",
      "Name: EVOLUCAO, dtype: float64\n"
     ]
    }
   ],
   "source": [
    "# Superior\n",
    "\n",
    "print(df['EVOLUCAO'][((df['CS_ESCOL_N']==4) & (df['EVOLUCAO'] != 9))].notnull().sum())\n",
    "print(df['EVOLUCAO'][((df['CS_ESCOL_N']==4) & (df['EVOLUCAO'] != 9))].value_counts())\n",
    "\n",
    "\n",
    "print(100*df['EVOLUCAO'][((df['CS_ESCOL_N']==4) & (df['EVOLUCAO'] != 9))].value_counts()/df['EVOLUCAO'][((df['CS_ESCOL_N']==4) & (df['EVOLUCAO'] != 9))].notnull().sum())\n"
   ]
  },
  {
   "cell_type": "code",
   "execution_count": 82,
   "metadata": {},
   "outputs": [
    {
     "name": "stdout",
     "output_type": "stream",
     "text": [
      "0\n",
      "110\n"
     ]
    },
    {
     "data": {
      "image/png": "[encoded data removed]",
      "text/plain": [
       "<Figure size 432x360 with 1 Axes>"
      ]
     },
     "metadata": {
      "needs_background": "light"
     },
     "output_type": "display_data"
    }
   ],
   "source": [
    "# removing outliers\n",
    "\n",
    "\n",
    "print(min(df['NU_IDADE_N']))\n",
    "print(max(df['NU_IDADE_N']))\n",
    "\n",
    "# plotting graphic\n",
    "\n",
    "plt.figure(figsize=(6,5))\n",
    "plt.hist(df['NU_IDADE_N'][df['EVOLUCAO']==1], 35, color='blue', alpha=0.5, label ='Cured')\n",
    "plt.hist(df['NU_IDADE_N'][df['EVOLUCAO']==2], 36, color='red' , alpha=0.5, label = 'Dead')\n",
    "\n",
    "plt.xticks(fontsize=14)\n",
    "plt.yticks(fontsize=14)\n",
    "\n",
    "plt.legend(fontsize=14)\n",
    "plt.xlabel('Age', fontsize=20)\n",
    "plt.ylabel('Frequency', fontsize=20)\n",
    "plt.tight_layout()\n",
    "plt.savefig('age_distribution.pdf')\n",
    "plt.show()"
   ]
  },
  {
   "cell_type": "code",
   "execution_count": null,
   "metadata": {},
   "outputs": [],
   "source": []
  }
 ],
 "metadata": {
  "kernelspec": {
   "display_name": "Python 3",
   "language": "python",
   "name": "python3"
  },
  "language_info": {
   "codemirror_mode": {
    "name": "ipython",
    "version": 3
   },
   "file_extension": ".py",
   "mimetype": "text/x-python",
   "name": "python",
   "nbconvert_exporter": "python",
   "pygments_lexer": "ipython3",
   "version": "3.7.3"
  }
 },
 "nbformat": 4,
 "nbformat_minor": 2
}
