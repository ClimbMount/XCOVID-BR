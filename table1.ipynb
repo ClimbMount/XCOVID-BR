{
 "cells": [
  {
   "cell_type": "code",
   "execution_count": 1,
   "metadata": {},
   "outputs": [],
   "source": [
    "# Table 1 -   Survive and Not-survive"
   ]
  },
  {
   "cell_type": "code",
   "execution_count": 2,
   "metadata": {},
   "outputs": [],
   "source": [
    "# libraries\n",
    "\n",
    "import pandas as pd\n",
    "import matplotlib.pyplot as plt\n",
    "import numpy as np\n",
    "import seaborn as sns"
   ]
  },
  {
   "cell_type": "code",
   "execution_count": 3,
   "metadata": {},
   "outputs": [
    {
     "name": "stderr",
     "output_type": "stream",
     "text": [
      "/home/pedro/anaconda3/lib/python3.7/site-packages/IPython/core/interactiveshell.py:2785: DtypeWarning: Columns (15,60,62,63,64,92,94,108,117,121,123) have mixed types.Specify dtype option on import or set low_memory=False.\n",
      "  interactivity=interactivity, compiler=compiler, result=result)\n"
     ]
    },
    {
     "name": "stdout",
     "output_type": "stream",
     "text": [
      "(299142, 154)\n",
      "(279987, 154)\n"
     ]
    },
    {
     "name": "stderr",
     "output_type": "stream",
     "text": [
      "/home/pedro/anaconda3/lib/python3.7/site-packages/ipykernel_launcher.py:20: UserWarning: Boolean Series key will be reindexed to match DataFrame index.\n",
      "/home/pedro/anaconda3/lib/python3.7/site-packages/ipykernel_launcher.py:20: UserWarning: Boolean Series key will be reindexed to match DataFrame index.\n",
      "/home/pedro/anaconda3/lib/python3.7/site-packages/ipykernel_launcher.py:20: UserWarning: Boolean Series key will be reindexed to match DataFrame index.\n"
     ]
    },
    {
     "name": "stdout",
     "output_type": "stream",
     "text": [
      "(242679, 154)\n"
     ]
    }
   ],
   "source": [
    "# reading dataset\n",
    "\n",
    "df = pd.read_csv('/home/pedro/Desktop/code/dataset/INFLUD-21-09-2020.csv',sep=';',encoding = \"ISO-8859-1\")\n",
    "\n",
    "# Inputing constraint in the dataset \n",
    "\n",
    "# Positive case:\n",
    "\n",
    "df = df[df['PCR_SARS2']==1]\n",
    "print(df.shape)\n",
    "\n",
    "\n",
    "# Hospitalized people:\n",
    "\n",
    "df = df[df['PCR_SARS2']==1][df['HOSPITAL']==1]\n",
    "print(df.shape)\n",
    "\n",
    "# Hospitalized people with age small than 110:\n",
    "\n",
    "df = df[df['PCR_SARS2']==1][df['HOSPITAL']==1][df['NU_IDADE_N']<=110][df['EVOLUCAO'] != 3][df['EVOLUCAO'] != 9][df['EVOLUCAO'].notnull()]\n",
    "print(df.shape)\n"
   ]
  },
  {
   "cell_type": "code",
   "execution_count": 4,
   "metadata": {},
   "outputs": [
    {
     "name": "stdout",
     "output_type": "stream",
     "text": [
      "1.0    151091\n",
      "2.0     91588\n",
      "Name: EVOLUCAO, dtype: int64\n"
     ]
    }
   ],
   "source": [
    "print(df['EVOLUCAO'].value_counts())"
   ]
  },
  {
   "cell_type": "code",
   "execution_count": 5,
   "metadata": {},
   "outputs": [
    {
     "name": "stdout",
     "output_type": "stream",
     "text": [
      "44\n",
      "1890\n",
      "3632\n",
      "6\n"
     ]
    }
   ],
   "source": [
    "# IDHM\n",
    "\n",
    "# Reading IBGE code for each municipalities and separating it for IDHM index\n",
    "\n",
    "df_atlas = pd.read_excel (r'/home/pedro/Desktop/code/dataset/AtlasBrasil_Consulta.xlsx')\n",
    "\n",
    "\n",
    "# removind last interger in 'code' variable\n",
    "\n",
    "df_atlas['code'] = df_atlas['code'].astype(str).str[:-1].astype(np.int64)\n",
    "\n",
    "\n",
    "# Divinding IDHM in bins\n",
    "\n",
    "IDHM_veryhigh  =  set(df_atlas['code'][df_atlas['IDHM2010']>=0.800])\n",
    "print(len(IDHM_veryhigh))\n",
    "\n",
    "\n",
    "IDHM_high  =  set(df_atlas['code'][((df_atlas['IDHM2010']>=0.700)&(df_atlas['IDHM2010']<0.800))])\n",
    "print(len(IDHM_high))\n",
    "\n",
    "\n",
    "IDHM_medium_low  =  set(df_atlas['code'][df_atlas['IDHM2010']<0.700])\n",
    "print(len(IDHM_medium_low))\n",
    "\n",
    "\n",
    "\n",
    "df.loc[df['CO_MUN_NOT'].isin(IDHM_veryhigh) == True, 'IDHM'] = 3\n",
    "df.loc[df['CO_MUN_NOT'].isin(IDHM_high) == True, 'IDHM'] = 2\n",
    "df.loc[df['CO_MUN_NOT'].isin(IDHM_medium_low) == True, 'IDHM'] = 1\n",
    "\n",
    "\n",
    "# Municipalities number analysed\n",
    "print(df['IDHM'].isnull().sum())\n"
   ]
  },
  {
   "cell_type": "code",
   "execution_count": 6,
   "metadata": {},
   "outputs": [],
   "source": [
    "# Private and public hospital separation\n",
    "\n",
    "df_hospital = pd.read_csv('/home/pedro/Desktop/code/dataset/CNES_SUS.txt', sep='\\t')\n",
    "\n",
    "\n",
    "public   =  set(df_hospital.iloc[:,0][df_hospital.iloc[:,3]=='S'])\n",
    "private  =  set(df_hospital.iloc[:,0][df_hospital.iloc[:,3]=='N'])\n",
    "\n",
    "\n",
    "df.loc[df['CO_UNI_NOT'].isin(public) == True, 'HEALTH_SYSTEM'] = 1\n",
    "df.loc[df['CO_UNI_NOT'].isin(private) == True, 'HEALTH_SYSTEM'] = 0"
   ]
  },
  {
   "cell_type": "code",
   "execution_count": 7,
   "metadata": {},
   "outputs": [
    {
     "name": "stderr",
     "output_type": "stream",
     "text": [
      "/home/pedro/anaconda3/lib/python3.7/site-packages/ipykernel_launcher.py:3: UserWarning: Boolean Series key will be reindexed to match DataFrame index.\n",
      "  This is separate from the ipykernel package so we can avoid doing imports until\n"
     ]
    },
    {
     "name": "stdout",
     "output_type": "stream",
     "text": [
      "(231112, 156)\n"
     ]
    }
   ],
   "source": [
    "# Constraint on dataset: We only analyze people with  evolution, IDHM and Health system known\n",
    "\n",
    "df = df[df['IDHM'].notnull()][(df['HEALTH_SYSTEM']==1)|(df['HEALTH_SYSTEM']==0)]\n",
    "print(df.shape)\n"
   ]
  },
  {
   "cell_type": "code",
   "execution_count": 8,
   "metadata": {},
   "outputs": [
    {
     "name": "stdout",
     "output_type": "stream",
     "text": [
      "3991\n",
      "1801\n"
     ]
    }
   ],
   "source": [
    "# Number Municipalities \n",
    "\n",
    "print(df['CO_UNI_NOT'].nunique())\n",
    "print(df['CO_MUN_NOT'].nunique())\n"
   ]
  },
  {
   "cell_type": "code",
   "execution_count": 9,
   "metadata": {},
   "outputs": [
    {
     "name": "stdout",
     "output_type": "stream",
     "text": [
      "1.0    143889\n",
      "2.0     87223\n",
      "Name: EVOLUCAO, dtype: int64\n",
      "1.0    62.259424\n",
      "2.0    37.740576\n",
      "Name: EVOLUCAO, dtype: float64\n",
      "0\n"
     ]
    }
   ],
   "source": [
    "# Evolution numbers\n",
    "\n",
    "print(df['EVOLUCAO'].value_counts())\n",
    "print(100*df['EVOLUCAO'].value_counts()/df['EVOLUCAO'].notnull().sum())\n",
    "print(df['EVOLUCAO'].isna().sum())"
   ]
  },
  {
   "cell_type": "code",
   "execution_count": 10,
   "metadata": {},
   "outputs": [
    {
     "name": "stdout",
     "output_type": "stream",
     "text": [
      "1.0    183134\n",
      "0.0     47978\n",
      "Name: HEALTH_SYSTEM, dtype: int64\n",
      "(231112,)\n"
     ]
    }
   ],
   "source": [
    "# Health System division \n",
    "\n",
    "print(df['HEALTH_SYSTEM'].value_counts())\n",
    "print(df['HEALTH_SYSTEM'].shape)"
   ]
  },
  {
   "cell_type": "code",
   "execution_count": 11,
   "metadata": {},
   "outputs": [
    {
     "name": "stdout",
     "output_type": "stream",
     "text": [
      "183134\n",
      "1.0    108059\n",
      "2.0     75075\n",
      "Name: EVOLUCAO, dtype: int64\n",
      "1.0    59.005428\n",
      "2.0    40.994572\n",
      "Name: EVOLUCAO, dtype: float64\n"
     ]
    }
   ],
   "source": [
    "# Public Health System (Hospital)\n",
    "\n",
    "print(df['EVOLUCAO'][df['HEALTH_SYSTEM'] ==1].notnull().sum())\n",
    "print(df['EVOLUCAO'][df['HEALTH_SYSTEM'] ==1].value_counts())\n",
    "\n",
    "\n",
    "print(100*df['EVOLUCAO'][df['HEALTH_SYSTEM']==1].value_counts()/df['EVOLUCAO'][df['HEALTH_SYSTEM'] == 1].notnull().sum())\n"
   ]
  },
  {
   "cell_type": "code",
   "execution_count": 12,
   "metadata": {},
   "outputs": [
    {
     "name": "stdout",
     "output_type": "stream",
     "text": [
      "47978\n",
      "1.0    35830\n",
      "2.0    12148\n",
      "Name: EVOLUCAO, dtype: int64\n",
      "1.0    74.680062\n",
      "2.0    25.319938\n",
      "Name: EVOLUCAO, dtype: float64\n"
     ]
    }
   ],
   "source": [
    "# Private Health System (Hospital)\n",
    "\n",
    "print(df['EVOLUCAO'][df['HEALTH_SYSTEM'] ==0].notnull().sum())\n",
    "print(df['EVOLUCAO'][df['HEALTH_SYSTEM'] ==0].value_counts())\n",
    "\n",
    "\n",
    "print(100*df['EVOLUCAO'][df['HEALTH_SYSTEM']==0].value_counts()/df['EVOLUCAO'][df['HEALTH_SYSTEM'] == 0].notnull().sum())\n"
   ]
  },
  {
   "cell_type": "code",
   "execution_count": 13,
   "metadata": {},
   "outputs": [
    {
     "name": "stdout",
     "output_type": "stream",
     "text": [
      "60799\n",
      "2.0    39253\n",
      "1.0    21546\n",
      "Name: EVOLUCAO, dtype: int64\n",
      "2.0    64.561917\n",
      "1.0    35.438083\n",
      "Name: EVOLUCAO, dtype: float64\n"
     ]
    }
   ],
   "source": [
    "# Public Health System (ICU)\n",
    "\n",
    "print(df['EVOLUCAO'][((df['HEALTH_SYSTEM'] ==1) & (df['UTI'] ==1))].notnull().sum())\n",
    "print(df['EVOLUCAO'][((df['HEALTH_SYSTEM'] ==1) & (df['UTI'] ==1))].value_counts())\n",
    "\n",
    "\n",
    "print(100*df['EVOLUCAO'][((df['HEALTH_SYSTEM'] ==1)& (df['UTI'] ==1))].value_counts()/df['EVOLUCAO'][((df['HEALTH_SYSTEM'] == 1)& (df['UTI'] ==1))].notnull().sum() )\n"
   ]
  },
  {
   "cell_type": "code",
   "execution_count": 14,
   "metadata": {},
   "outputs": [
    {
     "name": "stdout",
     "output_type": "stream",
     "text": [
      "18651\n",
      "1.0    10477\n",
      "2.0     8174\n",
      "Name: EVOLUCAO, dtype: int64\n",
      "1.0    56.173932\n",
      "2.0    43.826068\n",
      "Name: EVOLUCAO, dtype: float64\n"
     ]
    }
   ],
   "source": [
    "# Private Health System (ICU)\n",
    "\n",
    "print(df['EVOLUCAO'][((df['HEALTH_SYSTEM'] ==0)& (df['UTI'] ==1))].notnull().sum())\n",
    "print(df['EVOLUCAO'][((df['HEALTH_SYSTEM'] ==0)& (df['UTI'] ==1))].value_counts())\n",
    "\n",
    "\n",
    "print(100*df['EVOLUCAO'][((df['HEALTH_SYSTEM']==0)&(df['UTI']==1))].value_counts()/df['EVOLUCAO'][((df['HEALTH_SYSTEM'] == 0)& (df['UTI'] ==1))].notnull().sum() )\n",
    "\n"
   ]
  },
  {
   "cell_type": "code",
   "execution_count": 15,
   "metadata": {},
   "outputs": [
    {
     "name": "stdout",
     "output_type": "stream",
     "text": [
      "91318\n",
      "1.0    63888\n",
      "2.0    27430\n",
      "Name: EVOLUCAO, dtype: int64\n",
      "1.0    69.96211\n",
      "2.0    30.03789\n",
      "Name: EVOLUCAO, dtype: float64\n"
     ]
    }
   ],
   "source": [
    "# IDHM Very High\n",
    "\n",
    "print(df['EVOLUCAO'][df['IDHM']==3].notnull().sum())\n",
    "print(df['EVOLUCAO'][df['IDHM']==3].value_counts())\n",
    "\n",
    "\n",
    "print(100*df['EVOLUCAO'][df['IDHM'] ==3].value_counts()/df['EVOLUCAO'][df['IDHM']==3].notnull().sum())\n"
   ]
  },
  {
   "cell_type": "code",
   "execution_count": 16,
   "metadata": {},
   "outputs": [
    {
     "name": "stdout",
     "output_type": "stream",
     "text": [
      "124209\n",
      "1.0    72657\n",
      "2.0    51552\n",
      "Name: EVOLUCAO, dtype: int64\n",
      "1.0    58.495761\n",
      "2.0    41.504239\n",
      "Name: EVOLUCAO, dtype: float64\n"
     ]
    }
   ],
   "source": [
    "# IDHM High\n",
    "\n",
    "print(df['EVOLUCAO'][df['IDHM'] ==2].notnull().sum())\n",
    "print(df['EVOLUCAO'][df['IDHM'] ==2].value_counts())\n",
    "\n",
    "\n",
    "print(100*df['EVOLUCAO'][df['IDHM'] ==2].value_counts()/df['EVOLUCAO'][df['IDHM'] == 2].notnull().sum() )\n"
   ]
  },
  {
   "cell_type": "code",
   "execution_count": 17,
   "metadata": {},
   "outputs": [
    {
     "name": "stdout",
     "output_type": "stream",
     "text": [
      "15585\n",
      "2.0    8241\n",
      "1.0    7344\n",
      "Name: EVOLUCAO, dtype: int64\n",
      "2.0    52.877767\n",
      "1.0    47.122233\n",
      "Name: EVOLUCAO, dtype: float64\n"
     ]
    }
   ],
   "source": [
    "# IDHM Medium_low\n",
    "\n",
    "print(df['EVOLUCAO'][df['IDHM'] ==1].notnull().sum())\n",
    "print(df['EVOLUCAO'][df['IDHM'] ==1].value_counts())\n",
    "\n",
    "\n",
    "print(100*df['EVOLUCAO'][df['IDHM'] ==1].value_counts()/df['EVOLUCAO'][df['IDHM'] == 1].notnull().sum())\n"
   ]
  },
  {
   "cell_type": "code",
   "execution_count": 18,
   "metadata": {},
   "outputs": [
    {
     "name": "stdout",
     "output_type": "stream",
     "text": [
      "54.30914802382392\n",
      "68.56126251103494\n"
     ]
    }
   ],
   "source": [
    "# mean age\n",
    "\n",
    "#Cured people\n",
    "print(df['NU_IDADE_N'][df['EVOLUCAO']==1].mean())\n",
    "\n",
    "# Died people\n",
    "print(df['NU_IDADE_N'][df['EVOLUCAO']==2].mean())"
   ]
  },
  {
   "cell_type": "code",
   "execution_count": 19,
   "metadata": {},
   "outputs": [
    {
     "name": "stdout",
     "output_type": "stream",
     "text": [
      "17.704205072269268\n",
      "15.542750934820731\n"
     ]
    }
   ],
   "source": [
    "# std age\n",
    "\n",
    "#Cured people\n",
    "print(df['NU_IDADE_N'][df['EVOLUCAO']==1].std())\n",
    "\n",
    "# Died people\n",
    "print(df['NU_IDADE_N'][df['EVOLUCAO']==2].std())"
   ]
  },
  {
   "cell_type": "code",
   "execution_count": 20,
   "metadata": {},
   "outputs": [
    {
     "name": "stdout",
     "output_type": "stream",
     "text": [
      "1.0    63919\n",
      "2.0    36700\n",
      "Name: EVOLUCAO, dtype: int64\n",
      "100619\n",
      "1.0    63.525775\n",
      "2.0    36.474225\n",
      "Name: EVOLUCAO, dtype: float64\n"
     ]
    }
   ],
   "source": [
    "# Female\n",
    "\n",
    "print(df['EVOLUCAO'][df['CS_SEXO'] == 'F'].value_counts())\n",
    "print(df['EVOLUCAO'][df['CS_SEXO'] == 'F'].notnull().sum())\n",
    "\n",
    "print(100*df['EVOLUCAO'][df['CS_SEXO'] == 'F'].value_counts()/df['EVOLUCAO'][df['CS_SEXO'] == 'F'].notnull().sum())\n",
    "\n",
    "# 1- Cured  2- Died"
   ]
  },
  {
   "cell_type": "code",
   "execution_count": 21,
   "metadata": {},
   "outputs": [
    {
     "name": "stdout",
     "output_type": "stream",
     "text": [
      "1.0    79941\n",
      "2.0    50511\n",
      "Name: EVOLUCAO, dtype: int64\n",
      "130452\n",
      "1.0    61.280011\n",
      "2.0    38.719989\n",
      "Name: EVOLUCAO, dtype: float64\n"
     ]
    }
   ],
   "source": [
    "# Male\n",
    "\n",
    "print(df['EVOLUCAO'][df['CS_SEXO'] == 'M'].value_counts())\n",
    "print(df['EVOLUCAO'][df['CS_SEXO'] == 'M'].notnull().sum())\n",
    "\n",
    "print(100*df['EVOLUCAO'][df['CS_SEXO'] == 'M'].value_counts()/df['EVOLUCAO'][df['CS_SEXO'] == 'M'].notnull().sum())\n",
    "\n",
    "# 1- Cured  2- Died"
   ]
  },
  {
   "cell_type": "code",
   "execution_count": 22,
   "metadata": {},
   "outputs": [],
   "source": [
    "# Color\n",
    " \n",
    "# Branca, Preta, Amarela, Parda and Indígena"
   ]
  },
  {
   "cell_type": "code",
   "execution_count": 23,
   "metadata": {},
   "outputs": [
    {
     "name": "stdout",
     "output_type": "stream",
     "text": [
      "1.0    55040\n",
      "2.0    30874\n",
      "Name: EVOLUCAO, dtype: int64\n",
      "85914\n",
      "1.0    64.064064\n",
      "2.0    35.935936\n",
      "Name: EVOLUCAO, dtype: float64\n"
     ]
    }
   ],
   "source": [
    "\n",
    "# Branca\n",
    "\n",
    "print(df['EVOLUCAO'][df['CS_RACA'] == 1].value_counts())\n",
    "print(df['EVOLUCAO'][df['CS_RACA'] == 1].notnull().sum())\n",
    "\n",
    "print(100*df['EVOLUCAO'][df['CS_RACA'] == 1].value_counts()/df['EVOLUCAO'][df['CS_RACA'] == 1].notnull().sum())\n",
    "\n",
    "\n",
    "# 1- Cured  2- Died (Evolution)"
   ]
  },
  {
   "cell_type": "code",
   "execution_count": 24,
   "metadata": {},
   "outputs": [
    {
     "name": "stdout",
     "output_type": "stream",
     "text": [
      "1.0    6585\n",
      "2.0    4871\n",
      "Name: EVOLUCAO, dtype: int64\n",
      "11456\n",
      "1.0    57.480796\n",
      "2.0    42.519204\n",
      "Name: EVOLUCAO, dtype: float64\n"
     ]
    }
   ],
   "source": [
    "# Preta\n",
    "\n",
    "print(df['EVOLUCAO'][df['CS_RACA'] == 2].value_counts())\n",
    "print(df['EVOLUCAO'][df['CS_RACA'] == 2].notnull().sum())\n",
    "\n",
    "print(100*df['EVOLUCAO'][df['CS_RACA'] == 2].value_counts()/df['EVOLUCAO'][df['CS_RACA'] == 2].notnull().sum())\n"
   ]
  },
  {
   "cell_type": "code",
   "execution_count": 25,
   "metadata": {},
   "outputs": [
    {
     "name": "stdout",
     "output_type": "stream",
     "text": [
      "1.0    1521\n",
      "2.0    1005\n",
      "Name: EVOLUCAO, dtype: int64\n",
      "2526\n",
      "1.0    60.213777\n",
      "2.0    39.786223\n",
      "Name: EVOLUCAO, dtype: float64\n"
     ]
    }
   ],
   "source": [
    "# Amarela\n",
    "\n",
    "print(df['EVOLUCAO'][df['CS_RACA'] == 3].value_counts())\n",
    "print(df['EVOLUCAO'][df['CS_RACA'] == 3].notnull().sum())\n",
    "\n",
    "print(100*df['EVOLUCAO'][df['CS_RACA'] == 3].value_counts()/df['EVOLUCAO'][df['CS_RACA'] == 3].notnull().sum())\n"
   ]
  },
  {
   "cell_type": "code",
   "execution_count": 26,
   "metadata": {},
   "outputs": [
    {
     "name": "stdout",
     "output_type": "stream",
     "text": [
      "1.0    38700\n",
      "2.0    29205\n",
      "Name: EVOLUCAO, dtype: int64\n",
      "67905\n",
      "1.0    56.991385\n",
      "2.0    43.008615\n",
      "Name: EVOLUCAO, dtype: float64\n"
     ]
    }
   ],
   "source": [
    "# Parda\n",
    "\n",
    "print(df['EVOLUCAO'][df['CS_RACA'] == 4].value_counts())\n",
    "print(df['EVOLUCAO'][df['CS_RACA'] == 4].notnull().sum())\n",
    "\n",
    "print(100*df['EVOLUCAO'][df['CS_RACA'] == 4].value_counts()/df['EVOLUCAO'][df['CS_RACA'] == 4].notnull().sum())\n"
   ]
  },
  {
   "cell_type": "code",
   "execution_count": 27,
   "metadata": {},
   "outputs": [
    {
     "name": "stdout",
     "output_type": "stream",
     "text": [
      "1.0    280\n",
      "2.0    215\n",
      "Name: EVOLUCAO, dtype: int64\n",
      "495\n",
      "1.0    56.565657\n",
      "2.0    43.434343\n",
      "Name: EVOLUCAO, dtype: float64\n"
     ]
    }
   ],
   "source": [
    "# Indígena\n",
    "\n",
    "print(df['EVOLUCAO'][df['CS_RACA'] == 5].value_counts())\n",
    "print(df['EVOLUCAO'][df['CS_RACA'] == 5].notnull().sum())\n",
    "\n",
    "print(100*df['EVOLUCAO'][df['CS_RACA'] == 5].value_counts()/df['EVOLUCAO'][df['CS_RACA'] == 5].notnull().sum())\n"
   ]
  },
  {
   "cell_type": "code",
   "execution_count": 28,
   "metadata": {},
   "outputs": [],
   "source": [
    "# Disease Analysis"
   ]
  },
  {
   "cell_type": "code",
   "execution_count": 29,
   "metadata": {},
   "outputs": [
    {
     "name": "stdout",
     "output_type": "stream",
     "text": [
      "81051\n",
      "1.0    43068\n",
      "2.0    37983\n",
      "Name: EVOLUCAO, dtype: int64\n",
      "1.0    53.136914\n",
      "2.0    46.863086\n",
      "Name: EVOLUCAO, dtype: float64\n"
     ]
    }
   ],
   "source": [
    "# Cardiovascular disease\n",
    "\n",
    "print(df['EVOLUCAO'][df['CARDIOPATI'] ==1].notnull().sum())\n",
    "print(df['EVOLUCAO'][df['CARDIOPATI'] ==1].value_counts())\n",
    "\n",
    "print(100*df['EVOLUCAO'][df['CARDIOPATI'] == 1].value_counts()/df['EVOLUCAO'][df['CARDIOPATI'] == 1].notnull().sum())\n",
    "\n",
    "# 1- Cured  2- Died"
   ]
  },
  {
   "cell_type": "code",
   "execution_count": 30,
   "metadata": {},
   "outputs": [
    {
     "name": "stdout",
     "output_type": "stream",
     "text": [
      "1.0    4453\n",
      "2.0    2021\n",
      "Name: EVOLUCAO, dtype: int64\n",
      "6474\n",
      "1.0    68.782824\n",
      "2.0    31.217176\n",
      "Name: EVOLUCAO, dtype: float64\n"
     ]
    }
   ],
   "source": [
    "# Asthma\n",
    "\n",
    "print(df['EVOLUCAO'][df['ASMA'] ==1].value_counts())\n",
    "print(df['EVOLUCAO'][df['ASMA'] ==1].notnull().sum())\n",
    "\n",
    "print(100*df['EVOLUCAO'][df['ASMA'] == 1].value_counts()/df['EVOLUCAO'][df['ASMA'] == 1].notnull().sum())\n"
   ]
  },
  {
   "cell_type": "code",
   "execution_count": 31,
   "metadata": {},
   "outputs": [
    {
     "name": "stdout",
     "output_type": "stream",
     "text": [
      "60765\n",
      "1.0    31719\n",
      "2.0    29046\n",
      "Name: EVOLUCAO, dtype: int64\n",
      "1.0    52.199457\n",
      "2.0    47.800543\n",
      "Name: EVOLUCAO, dtype: float64\n"
     ]
    }
   ],
   "source": [
    "# Diabetes\n",
    "\n",
    "print(df['EVOLUCAO'][df['DIABETES'] ==1].notnull().sum())\n",
    "print(df['EVOLUCAO'][df['DIABETES'] ==1].value_counts())\n",
    "\n",
    "print(100*df['EVOLUCAO'][df['DIABETES'] == 1].value_counts()/df['EVOLUCAO'][df['DIABETES'] == 1].notnull().sum())\n"
   ]
  },
  {
   "cell_type": "code",
   "execution_count": 32,
   "metadata": {},
   "outputs": [
    {
     "name": "stdout",
     "output_type": "stream",
     "text": [
      "9507\n",
      "2.0    5500\n",
      "1.0    4007\n",
      "Name: EVOLUCAO, dtype: int64\n",
      "2.0    57.852109\n",
      "1.0    42.147891\n",
      "Name: EVOLUCAO, dtype: float64\n"
     ]
    }
   ],
   "source": [
    "# Pulmonary disease\n",
    "\n",
    "print(df['EVOLUCAO'][df['PNEUMOPATI'] ==1].notnull().sum())\n",
    "print(df['EVOLUCAO'][df['PNEUMOPATI'] ==1].value_counts())\n",
    "\n",
    "print(100*df['EVOLUCAO'][df['PNEUMOPATI'] == 1].value_counts()/df['EVOLUCAO'][df['PNEUMOPATI'] == 1].notnull().sum())\n"
   ]
  },
  {
   "cell_type": "code",
   "execution_count": 33,
   "metadata": {},
   "outputs": [
    {
     "name": "stdout",
     "output_type": "stream",
     "text": [
      "12131\n",
      "1.0    7161\n",
      "2.0    4970\n",
      "Name: EVOLUCAO, dtype: int64\n",
      "1.0    59.030583\n",
      "2.0    40.969417\n",
      "Name: EVOLUCAO, dtype: float64\n"
     ]
    }
   ],
   "source": [
    "# Obesity\n",
    "\n",
    "print(df['EVOLUCAO'][df['OBESIDADE'] ==1].notnull().sum())\n",
    "print(df['EVOLUCAO'][df['OBESIDADE'] ==1].value_counts())\n",
    "\n",
    "print(100*df['EVOLUCAO'][df['OBESIDADE'] ==1].value_counts()/df['EVOLUCAO'][df['OBESIDADE'] == 1].notnull().sum())\n"
   ]
  },
  {
   "cell_type": "code",
   "execution_count": 34,
   "metadata": {},
   "outputs": [
    {
     "name": "stdout",
     "output_type": "stream",
     "text": [
      "7202\n",
      "2.0    3795\n",
      "1.0    3407\n",
      "Name: EVOLUCAO, dtype: int64\n",
      "2.0    52.693696\n",
      "1.0    47.306304\n",
      "Name: EVOLUCAO, dtype: float64\n"
     ]
    }
   ],
   "source": [
    "# Immunosuppression\n",
    "\n",
    "print(df['EVOLUCAO'][df['IMUNODEPRE'] ==1].notnull().sum())\n",
    "print(df['EVOLUCAO'][df['IMUNODEPRE'] ==1].value_counts())\n",
    "\n",
    "print(100*df['EVOLUCAO'][df['IMUNODEPRE'] ==1].value_counts()/df['EVOLUCAO'][df['IMUNODEPRE'] == 1].notnull().sum())\n"
   ]
  },
  {
   "cell_type": "code",
   "execution_count": 35,
   "metadata": {},
   "outputs": [
    {
     "name": "stdout",
     "output_type": "stream",
     "text": [
      "10744\n",
      "2.0    6632\n",
      "1.0    4112\n",
      "Name: EVOLUCAO, dtype: int64\n",
      "2.0    61.727476\n",
      "1.0    38.272524\n",
      "Name: EVOLUCAO, dtype: float64\n"
     ]
    }
   ],
   "source": [
    "# Renal disease \n",
    "\n",
    "print(df['EVOLUCAO'][df['RENAL'] ==1].notnull().sum())\n",
    "print(df['EVOLUCAO'][df['RENAL'] ==1].value_counts())\n",
    "\n",
    "print(100*df['EVOLUCAO'][df['RENAL'] ==1].value_counts()/df['EVOLUCAO'][df['RENAL'] == 1].notnull().sum())\n"
   ]
  },
  {
   "cell_type": "code",
   "execution_count": 36,
   "metadata": {},
   "outputs": [
    {
     "name": "stdout",
     "output_type": "stream",
     "text": [
      "2302\n",
      "2.0    1377\n",
      "1.0     925\n",
      "Name: EVOLUCAO, dtype: int64\n",
      "2.0    59.81755\n",
      "1.0    40.18245\n",
      "Name: EVOLUCAO, dtype: float64\n"
     ]
    }
   ],
   "source": [
    "# Liver disease\n",
    " \n",
    "\n",
    "print(df['EVOLUCAO'][df['HEPATICA'] ==1].notnull().sum())\n",
    "print(df['EVOLUCAO'][df['HEPATICA'] ==1].value_counts())\n",
    "\n",
    "print(100*df['EVOLUCAO'][df['HEPATICA'] ==1].value_counts()/df['EVOLUCAO'][df['HEPATICA'] == 1].notnull().sum())\n"
   ]
  },
  {
   "cell_type": "code",
   "execution_count": 37,
   "metadata": {},
   "outputs": [
    {
     "name": "stdout",
     "output_type": "stream",
     "text": [
      "9973\n",
      "2.0    6068\n",
      "1.0    3905\n",
      "Name: EVOLUCAO, dtype: int64\n",
      "2.0    60.84428\n",
      "1.0    39.15572\n",
      "Name: EVOLUCAO, dtype: float64\n"
     ]
    }
   ],
   "source": [
    "# Neurological disease\n",
    "\n",
    "print(df['EVOLUCAO'][df['NEUROLOGIC'] ==1].notnull().sum())\n",
    "print(df['EVOLUCAO'][df['NEUROLOGIC'] ==1].value_counts())\n",
    "\n",
    "print(100*df['EVOLUCAO'][df['NEUROLOGIC']==1].value_counts()/df['EVOLUCAO'][df['NEUROLOGIC'] == 1].notnull().sum())\n"
   ]
  },
  {
   "cell_type": "code",
   "execution_count": 38,
   "metadata": {},
   "outputs": [
    {
     "name": "stdout",
     "output_type": "stream",
     "text": [
      "2089\n",
      "1.0    1054\n",
      "2.0    1035\n",
      "Name: EVOLUCAO, dtype: int64\n",
      "1.0    50.454763\n",
      "2.0    49.545237\n",
      "Name: EVOLUCAO, dtype: float64\n"
     ]
    }
   ],
   "source": [
    "# Hematological disease\n",
    "\n",
    "print(df['EVOLUCAO'][df['HEMATOLOGI'] ==1].notnull().sum())\n",
    "print(df['EVOLUCAO'][df['HEMATOLOGI'] ==1].value_counts())\n",
    "\n",
    "print(100*df['EVOLUCAO'][df['HEMATOLOGI'] ==1].value_counts()/df['EVOLUCAO'][df['HEMATOLOGI'] == 1].notnull().sum())\n"
   ]
  },
  {
   "cell_type": "code",
   "execution_count": 39,
   "metadata": {},
   "outputs": [
    {
     "name": "stdout",
     "output_type": "stream",
     "text": [
      "65996\n",
      "1.0    35395\n",
      "2.0    30601\n",
      "Name: EVOLUCAO, dtype: int64\n",
      "1.0    53.632038\n",
      "2.0    46.367962\n",
      "Name: EVOLUCAO, dtype: float64\n"
     ]
    }
   ],
   "source": [
    "# Other disease\n",
    "\n",
    "print(df['EVOLUCAO'][df['OUT_MORBI'] ==1].notnull().sum())\n",
    "print(df['EVOLUCAO'][df['OUT_MORBI'] ==1].value_counts())\n",
    "\n",
    "print(100*df['EVOLUCAO'][df['OUT_MORBI'] ==1].value_counts()/df['EVOLUCAO'][df['OUT_MORBI'] == 1].notnull().sum())\n"
   ]
  },
  {
   "cell_type": "code",
   "execution_count": 40,
   "metadata": {},
   "outputs": [
    {
     "name": "stdout",
     "output_type": "stream",
     "text": [
      "153153\n",
      "1.0    99656\n",
      "2.0    53497\n",
      "Name: EVOLUCAO, dtype: int64\n",
      "1.0    65.069571\n",
      "2.0    34.930429\n",
      "Name: EVOLUCAO, dtype: float64\n"
     ]
    }
   ],
   "source": [
    "# Fever\n",
    "\n",
    "print(df['EVOLUCAO'][df['FEBRE'] ==1].notnull().sum())\n",
    "print(df['EVOLUCAO'][df['FEBRE'] ==1].value_counts())\n",
    "\n",
    "\n",
    "print(100*df['EVOLUCAO'][df['FEBRE'] ==1].value_counts()/df['EVOLUCAO'][df['FEBRE'] == 1].notnull().sum())\n"
   ]
  },
  {
   "cell_type": "code",
   "execution_count": 41,
   "metadata": {},
   "outputs": [
    {
     "name": "stdout",
     "output_type": "stream",
     "text": [
      "18318\n",
      "1.0    12269\n",
      "2.0     6049\n",
      "Name: EVOLUCAO, dtype: int64\n",
      "1.0    66.977836\n",
      "2.0    33.022164\n",
      "Name: EVOLUCAO, dtype: float64\n"
     ]
    }
   ],
   "source": [
    "# Vomiting\n",
    "\n",
    "print(df['EVOLUCAO'][df['VOMITO'] ==1].notnull().sum())\n",
    "print(df['EVOLUCAO'][df['VOMITO'] ==1].value_counts())\n",
    "\n",
    "\n",
    "print(100*df['EVOLUCAO'][df['VOMITO'] ==1].value_counts()/df['EVOLUCAO'][df['VOMITO'] == 1].notnull().sum())\n"
   ]
  },
  {
   "cell_type": "code",
   "execution_count": 42,
   "metadata": {},
   "outputs": [
    {
     "name": "stdout",
     "output_type": "stream",
     "text": [
      "169429\n",
      "1.0    110183\n",
      "2.0     59246\n",
      "Name: EVOLUCAO, dtype: int64\n",
      "1.0    65.03196\n",
      "2.0    34.96804\n",
      "Name: EVOLUCAO, dtype: float64\n"
     ]
    }
   ],
   "source": [
    "# Cough\n",
    "\n",
    "print(df['EVOLUCAO'][df['TOSSE'] ==1].notnull().sum())\n",
    "print(df['EVOLUCAO'][df['TOSSE'] ==1].value_counts())\n",
    "\n",
    "\n",
    "print(100*df['EVOLUCAO'][df['TOSSE'] ==1].value_counts()/df['EVOLUCAO'][df['TOSSE'] == 1].notnull().sum() )\n",
    "\n"
   ]
  },
  {
   "cell_type": "code",
   "execution_count": 43,
   "metadata": {},
   "outputs": [
    {
     "name": "stdout",
     "output_type": "stream",
     "text": [
      "41217\n",
      "1.0    28238\n",
      "2.0    12979\n",
      "Name: EVOLUCAO, dtype: int64\n",
      "1.0    68.510566\n",
      "2.0    31.489434\n",
      "Name: EVOLUCAO, dtype: float64\n"
     ]
    }
   ],
   "source": [
    "# Sore Throuht\n",
    "\n",
    "print(df['EVOLUCAO'][((df['GARGANTA'] ==1 ) & (df['EVOLUCAO'] != 9))].notnull().sum())\n",
    "print(df['EVOLUCAO'][((df['GARGANTA'] ==1 ) & (df['EVOLUCAO'] != 9))].value_counts())\n",
    "\n",
    "\n",
    "print(100*df['EVOLUCAO'][((df['GARGANTA'] ==1) & (df['EVOLUCAO'] != 9))].value_counts()/df['EVOLUCAO'][((df['GARGANTA'] == 1) & (df['EVOLUCAO'] != 9))].notnull().sum() )\n",
    "\n"
   ]
  },
  {
   "cell_type": "code",
   "execution_count": 44,
   "metadata": {},
   "outputs": [
    {
     "name": "stdout",
     "output_type": "stream",
     "text": [
      "131791\n",
      "1.0    74879\n",
      "2.0    56912\n",
      "Name: EVOLUCAO, dtype: int64\n",
      "1.0    56.816475\n",
      "2.0    43.183525\n",
      "Name: EVOLUCAO, dtype: float64\n"
     ]
    }
   ],
   "source": [
    "# Breathy Dificult\n",
    "\n",
    "print(df['EVOLUCAO'][df['DESC_RESP'] ==1].notnull().sum())\n",
    "print(df['EVOLUCAO'][df['DESC_RESP'] ==1].value_counts())\n",
    "\n",
    "\n",
    "print(100*df['EVOLUCAO'][df['DESC_RESP'] ==1].value_counts()/df['EVOLUCAO'][df['DESC_RESP'] == 1].notnull().sum() )\n",
    "\n"
   ]
  },
  {
   "cell_type": "code",
   "execution_count": 45,
   "metadata": {},
   "outputs": [
    {
     "name": "stdout",
     "output_type": "stream",
     "text": [
      "164987\n",
      "1.0    96954\n",
      "2.0    68033\n",
      "Name: EVOLUCAO, dtype: int64\n",
      "1.0    58.76463\n",
      "2.0    41.23537\n",
      "Name: EVOLUCAO, dtype: float64\n"
     ]
    }
   ],
   "source": [
    "# Dispneia\n",
    "\n",
    "print(df['EVOLUCAO'][df['DISPNEIA'] ==1].notnull().sum())\n",
    "print(df['EVOLUCAO'][df['DISPNEIA'] ==1].value_counts())\n",
    "\n",
    "\n",
    "print(100*df['EVOLUCAO'][df['DISPNEIA'] ==1].value_counts()/df['EVOLUCAO'][df['DISPNEIA'] == 1].notnull().sum() )\n"
   ]
  },
  {
   "cell_type": "code",
   "execution_count": 46,
   "metadata": {},
   "outputs": [
    {
     "name": "stdout",
     "output_type": "stream",
     "text": [
      "31583\n",
      "1.0    21837\n",
      "2.0     9746\n",
      "Name: EVOLUCAO, dtype: int64\n",
      "1.0    69.141627\n",
      "2.0    30.858373\n",
      "Name: EVOLUCAO, dtype: float64\n"
     ]
    }
   ],
   "source": [
    "# Diarrhoea\n",
    "\n",
    "print(df['EVOLUCAO'][df['DIARREIA'] ==1].notnull().sum())\n",
    "print(df['EVOLUCAO'][df['DIARREIA'] ==1].value_counts())\n",
    "\n",
    "\n",
    "print(100*df['EVOLUCAO'][df['DIARREIA'] ==1].value_counts()/df['EVOLUCAO'][df['DIARREIA'] == 1].notnull().sum() )\n",
    "\n"
   ]
  },
  {
   "cell_type": "code",
   "execution_count": 47,
   "metadata": {},
   "outputs": [
    {
     "name": "stdout",
     "output_type": "stream",
     "text": [
      "136104\n",
      "1.0    75083\n",
      "2.0    61021\n",
      "Name: EVOLUCAO, dtype: int64\n",
      "1.0    55.165903\n",
      "2.0    44.834097\n",
      "Name: EVOLUCAO, dtype: float64\n"
     ]
    }
   ],
   "source": [
    "# Saturation\n",
    "\n",
    "print(df['EVOLUCAO'][df['SATURACAO'] ==1].notnull().sum())\n",
    "print(df['EVOLUCAO'][df['SATURACAO'] ==1].value_counts())\n",
    "\n",
    "\n",
    "print(100*df['EVOLUCAO'][df['SATURACAO'] ==1].value_counts()/df['EVOLUCAO'][df['SATURACAO'] == 1].notnull().sum() )\n",
    "\n"
   ]
  },
  {
   "cell_type": "code",
   "execution_count": 48,
   "metadata": {},
   "outputs": [
    {
     "name": "stdout",
     "output_type": "stream",
     "text": [
      "719\n",
      "1.0    576\n",
      "2.0    143\n",
      "Name: EVOLUCAO, dtype: int64\n",
      "1.0    80.111266\n",
      "2.0    19.888734\n",
      "Name: EVOLUCAO, dtype: float64\n"
     ]
    }
   ],
   "source": [
    "# Puerpera \n",
    "\n",
    "print(df['EVOLUCAO'][df['PUERPERA'] ==1].notnull().sum())\n",
    "print(df['EVOLUCAO'][df['PUERPERA'] ==1].value_counts())\n",
    "\n",
    "\n",
    "print(100*df['EVOLUCAO'][df['PUERPERA'] ==1].value_counts()/df['EVOLUCAO'][df['PUERPERA'] == 1].notnull().sum() )\n",
    "\n"
   ]
  },
  {
   "cell_type": "code",
   "execution_count": 49,
   "metadata": {},
   "outputs": [
    {
     "name": "stdout",
     "output_type": "stream",
     "text": [
      "1976\n",
      "1.0    1832\n",
      "2.0     144\n",
      "Name: EVOLUCAO, dtype: int64\n",
      "1.0    92.712551\n",
      "2.0     7.287449\n",
      "Name: EVOLUCAO, dtype: float64\n"
     ]
    }
   ],
   "source": [
    "# Pregant\n",
    "\n",
    "print(df['EVOLUCAO'][(((df['CS_GESTANT'] ==1) |(df['CS_GESTANT'] ==2)|(df['CS_GESTANT'] ==3)|(df['CS_GESTANT'] ==4)))].notnull().sum())\n",
    "print(df['EVOLUCAO'][(((df['CS_GESTANT'] ==1) |(df['CS_GESTANT'] ==2)|(df['CS_GESTANT'] ==3)|(df['CS_GESTANT'] ==4)))].value_counts())\n",
    "\n",
    "\n",
    "print(100*df['EVOLUCAO'][(((df['CS_GESTANT'] ==1) |(df['CS_GESTANT'] ==2)|(df['CS_GESTANT'] ==3)|(df['CS_GESTANT'] ==4)))].value_counts()/df['EVOLUCAO'][(((df['CS_GESTANT'] ==1) |(df['CS_GESTANT'] ==2)|(df['CS_GESTANT'] ==3)|(df['CS_GESTANT'] ==4)))].notnull().sum() )\n",
    "\n"
   ]
  },
  {
   "cell_type": "code",
   "execution_count": 50,
   "metadata": {},
   "outputs": [
    {
     "name": "stdout",
     "output_type": "stream",
     "text": [
      "79980\n"
     ]
    }
   ],
   "source": [
    "# Level Education\n",
    "\n",
    "\n",
    "# normalization:\n",
    "print(df['EVOLUCAO'][(((df['CS_ESCOL_N'] ==0)|(df['CS_ESCOL_N'] ==1) |(df['CS_ESCOL_N'] ==2)|(df['CS_ESCOL_N'] ==3)|(df['CS_ESCOL_N'] ==4)) & (df['CS_ESCOL_N'] !=5))].notnull().sum())"
   ]
  },
  {
   "cell_type": "code",
   "execution_count": 51,
   "metadata": {},
   "outputs": [
    {
     "name": "stdout",
     "output_type": "stream",
     "text": [
      "2.0    3169\n",
      "1.0    2048\n",
      "Name: EVOLUCAO, dtype: int64\n",
      "2.0    60.743722\n",
      "1.0    39.256278\n",
      "Name: EVOLUCAO, dtype: float64\n"
     ]
    }
   ],
   "source": [
    "# illiterate\n",
    "\n",
    "\n",
    "print(df['EVOLUCAO'][((df['CS_ESCOL_N'] ==0) & (df['EVOLUCAO']!= 5) & (df['EVOLUCAO']!= 9))].value_counts())\n",
    "print(100*df['EVOLUCAO'][((df['CS_ESCOL_N'] ==0) & (df['EVOLUCAO']!= 5) & (df['EVOLUCAO']!= 9))].value_counts()/df['EVOLUCAO'][((df['CS_ESCOL_N'] ==0) & (df['CS_ESCOL_N'] !=5) & (df['EVOLUCAO'] != 9))].notnull().sum())"
   ]
  },
  {
   "cell_type": "code",
   "execution_count": 52,
   "metadata": {},
   "outputs": [
    {
     "name": "stdout",
     "output_type": "stream",
     "text": [
      "1.0    10912\n",
      "2.0    10499\n",
      "Name: EVOLUCAO, dtype: int64\n",
      "1.0    50.964458\n",
      "2.0    49.035542\n",
      "Name: EVOLUCAO, dtype: float64\n"
     ]
    }
   ],
   "source": [
    "# Fundamental I\n",
    "\n",
    "print(df['EVOLUCAO'][((df['CS_ESCOL_N'] ==1) & (df['EVOLUCAO']!= 5))].value_counts())\n",
    "print(100*df['EVOLUCAO'][((df['CS_ESCOL_N'] ==1) & (df['EVOLUCAO']!= 5))].value_counts()/df['EVOLUCAO'][((df['CS_ESCOL_N'] ==1) & (df['CS_ESCOL_N'] !=5))].notnull().sum())\n"
   ]
  },
  {
   "cell_type": "code",
   "execution_count": 53,
   "metadata": {},
   "outputs": [
    {
     "name": "stdout",
     "output_type": "stream",
     "text": [
      "1.0    9026\n",
      "2.0    6242\n",
      "Name: EVOLUCAO, dtype: int64\n",
      "1.0    59.117108\n",
      "2.0    40.882892\n",
      "Name: EVOLUCAO, dtype: float64\n"
     ]
    }
   ],
   "source": [
    "# Fundamental II\n",
    "\n",
    "print(df['EVOLUCAO'][((df['CS_ESCOL_N'] ==2) & (df['EVOLUCAO']!= 5))].value_counts())\n",
    "print(100*df['EVOLUCAO'][((df['CS_ESCOL_N'] ==2) & (df['EVOLUCAO']!= 5))].value_counts()/df['EVOLUCAO'][((df['CS_ESCOL_N'] ==2) & (df['CS_ESCOL_N'] !=5))].notnull().sum())\n"
   ]
  },
  {
   "cell_type": "code",
   "execution_count": 54,
   "metadata": {},
   "outputs": [
    {
     "name": "stdout",
     "output_type": "stream",
     "text": [
      "1.0    18244\n",
      "2.0     7459\n",
      "Name: EVOLUCAO, dtype: int64\n",
      "1.0    70.980041\n",
      "2.0    29.019959\n",
      "Name: EVOLUCAO, dtype: float64\n"
     ]
    }
   ],
   "source": [
    "# Medium\n",
    "\n",
    "print(df['EVOLUCAO'][((df['CS_ESCOL_N'] ==3) & (df['EVOLUCAO']!= 5))].value_counts())\n",
    "print(100*df['EVOLUCAO'][((df['CS_ESCOL_N'] ==3) & (df['EVOLUCAO']!= 5))].value_counts()/df['EVOLUCAO'][((df['CS_ESCOL_N'] ==3) & (df['CS_ESCOL_N'] !=5))].notnull().sum())\n"
   ]
  },
  {
   "cell_type": "code",
   "execution_count": 55,
   "metadata": {},
   "outputs": [
    {
     "name": "stdout",
     "output_type": "stream",
     "text": [
      "1.0    9603\n",
      "2.0    2778\n",
      "Name: EVOLUCAO, dtype: int64\n",
      "1.0    77.562394\n",
      "2.0    22.437606\n",
      "Name: EVOLUCAO, dtype: float64\n"
     ]
    }
   ],
   "source": [
    "# University\n",
    "\n",
    "print(df['EVOLUCAO'][((df['CS_ESCOL_N'] ==4) & (df['EVOLUCAO']!= 5))].value_counts())\n",
    "print(100*df['EVOLUCAO'][((df['CS_ESCOL_N'] ==4) & (df['EVOLUCAO']!= 5))].value_counts()/df['EVOLUCAO'][((df['CS_ESCOL_N'] ==4) & (df['CS_ESCOL_N'] !=5))].notnull().sum())\n"
   ]
  },
  {
   "cell_type": "code",
   "execution_count": 56,
   "metadata": {},
   "outputs": [
    {
     "name": "stdout",
     "output_type": "stream",
     "text": [
      "199158\n",
      "1.0    124635\n",
      "2.0     74523\n",
      "Name: EVOLUCAO, dtype: int64\n",
      "1.0    62.580966\n",
      "2.0    37.419034\n",
      "Name: EVOLUCAO, dtype: float64\n"
     ]
    }
   ],
   "source": [
    "# Urban zone\n",
    "\n",
    "print(df['EVOLUCAO'][df['CS_ZONA'] ==1].notnull().sum())\n",
    "print(df['EVOLUCAO'][df['CS_ZONA'] ==1].value_counts())\n",
    "\n",
    "\n",
    "print(100*df['EVOLUCAO'][df['CS_ZONA'] ==1].value_counts()/df['EVOLUCAO'][((df['CS_ZONA'] == 1))].notnull().sum() )\n"
   ]
  },
  {
   "cell_type": "code",
   "execution_count": 57,
   "metadata": {},
   "outputs": [
    {
     "name": "stdout",
     "output_type": "stream",
     "text": [
      "6085\n",
      "1.0    3288\n",
      "2.0    2797\n",
      "Name: EVOLUCAO, dtype: int64\n",
      "1.0    54.034511\n",
      "2.0    45.965489\n",
      "Name: EVOLUCAO, dtype: float64\n"
     ]
    }
   ],
   "source": [
    "# Rural zone\n",
    "\n",
    "print(df['EVOLUCAO'][df['CS_ZONA'] ==2].notnull().sum())\n",
    "print(df['EVOLUCAO'][df['CS_ZONA'] ==2].value_counts())\n",
    "\n",
    "\n",
    "print(100*df['EVOLUCAO'][df['CS_ZONA'] ==2].value_counts()/df['EVOLUCAO'][((df['CS_ZONA'] == 2))].notnull().sum() )\n"
   ]
  },
  {
   "cell_type": "code",
   "execution_count": 58,
   "metadata": {},
   "outputs": [
    {
     "name": "stdout",
     "output_type": "stream",
     "text": [
      "698\n",
      "1.0    382\n",
      "2.0    316\n",
      "Name: EVOLUCAO, dtype: int64\n",
      "1.0    54.727794\n",
      "2.0    45.272206\n",
      "Name: EVOLUCAO, dtype: float64\n"
     ]
    }
   ],
   "source": [
    "# Periurban zone\n",
    "\n",
    "print(df['EVOLUCAO'][df['CS_ZONA'] ==3].notnull().sum())\n",
    "print(df['EVOLUCAO'][df['CS_ZONA'] ==3].value_counts())\n",
    "\n",
    "\n",
    "print(100*df['EVOLUCAO'][df['CS_ZONA'] ==3].value_counts()/df['EVOLUCAO'][df['CS_ZONA'] == 3].notnull().sum() )\n"
   ]
  },
  {
   "cell_type": "code",
   "execution_count": 59,
   "metadata": {},
   "outputs": [],
   "source": [
    "# Macro Regions\n",
    "\n",
    "northeast  =  set(['MA','PI','BA','CE','RN','PB','PE','AL','SE'])\n",
    "north  =  set(['RO','AC','AM','RR','PA','AP','TO'])\n",
    "midwest  =  set(['MT','MS','GO','DF'])\n",
    "southeast  =  set(['SP','RJ','MG','ES'])\n",
    "south = set(['RS','SC','PR'])\n"
   ]
  },
  {
   "cell_type": "code",
   "execution_count": 60,
   "metadata": {},
   "outputs": [
    {
     "name": "stdout",
     "output_type": "stream",
     "text": [
      "42251\n",
      "1.0    21830\n",
      "2.0    20421\n",
      "Name: EVOLUCAO, dtype: int64\n",
      "1.0    51.667416\n",
      "2.0    48.332584\n",
      "Name: EVOLUCAO, dtype: float64\n"
     ]
    }
   ],
   "source": [
    "# Northeast\n",
    "\n",
    "print(df['EVOLUCAO'][df['SG_UF_NOT'].isin(northeast) & (df['EVOLUCAO'] != 9)].notnull().sum())\n",
    "print(df['EVOLUCAO'][df['SG_UF_NOT'].isin(northeast) & (df['EVOLUCAO'] != 9)].value_counts())\n",
    "\n",
    "\n",
    "print(100*df['EVOLUCAO'][df['SG_UF_NOT'].isin(northeast)].value_counts()/df['EVOLUCAO'][df['SG_UF_NOT'].isin(northeast)].notnull().sum() )\n"
   ]
  },
  {
   "cell_type": "code",
   "execution_count": 61,
   "metadata": {},
   "outputs": [
    {
     "name": "stdout",
     "output_type": "stream",
     "text": [
      "12166\n",
      "2.0    6192\n",
      "1.0    5974\n",
      "Name: EVOLUCAO, dtype: int64\n",
      "2.0    50.89594\n",
      "1.0    49.10406\n",
      "Name: EVOLUCAO, dtype: float64\n"
     ]
    }
   ],
   "source": [
    "# North\n",
    "\n",
    "print(df['EVOLUCAO'][df['SG_UF_NOT'].isin(north)].notnull().sum())\n",
    "print(df['EVOLUCAO'][df['SG_UF_NOT'].isin(north)].value_counts())\n",
    "\n",
    "\n",
    "print(100*df['EVOLUCAO'][df['SG_UF_NOT'].isin(north)].value_counts()/df['EVOLUCAO'][df['SG_UF_NOT'].isin(north)].notnull().sum() )\n"
   ]
  },
  {
   "cell_type": "code",
   "execution_count": 62,
   "metadata": {},
   "outputs": [
    {
     "name": "stdout",
     "output_type": "stream",
     "text": [
      "18601\n",
      "1.0    11877\n",
      "2.0     6724\n",
      "Name: EVOLUCAO, dtype: int64\n",
      "1.0    63.851406\n",
      "2.0    36.148594\n",
      "Name: EVOLUCAO, dtype: float64\n"
     ]
    }
   ],
   "source": [
    "# Midwest\n",
    "\n",
    "print(df['EVOLUCAO'][df['SG_UF_NOT'].isin(midwest)].notnull().sum())\n",
    "print(df['EVOLUCAO'][df['SG_UF_NOT'].isin(midwest)].value_counts())\n",
    "\n",
    "\n",
    "print(100*df['EVOLUCAO'][df['SG_UF_NOT'].isin(midwest)].value_counts()/df['EVOLUCAO'][df['SG_UF_NOT'].isin(midwest)].notnull().sum())\n"
   ]
  },
  {
   "cell_type": "code",
   "execution_count": 63,
   "metadata": {},
   "outputs": [
    {
     "name": "stdout",
     "output_type": "stream",
     "text": [
      "129347\n",
      "1.0    84551\n",
      "2.0    44796\n",
      "Name: EVOLUCAO, dtype: int64\n",
      "1.0    65.367577\n",
      "2.0    34.632423\n",
      "Name: EVOLUCAO, dtype: float64\n"
     ]
    }
   ],
   "source": [
    "# Southeast\n",
    "\n",
    "print(df['EVOLUCAO'][df['SG_UF_NOT'].isin(southeast)].notnull().sum())\n",
    "print(df['EVOLUCAO'][df['SG_UF_NOT'].isin(southeast)].value_counts())\n",
    "\n",
    "\n",
    "print(100*df['EVOLUCAO'][df['SG_UF_NOT'].isin(southeast)].value_counts()/df['EVOLUCAO'][df['SG_UF_NOT'].isin(southeast)].notnull().sum())\n"
   ]
  },
  {
   "cell_type": "code",
   "execution_count": 64,
   "metadata": {},
   "outputs": [
    {
     "name": "stdout",
     "output_type": "stream",
     "text": [
      "28747\n",
      "1.0    19657\n",
      "2.0     9090\n",
      "Name: EVOLUCAO, dtype: int64\n",
      "1.0    68.379309\n",
      "2.0    31.620691\n",
      "Name: EVOLUCAO, dtype: float64\n"
     ]
    }
   ],
   "source": [
    "# South\n",
    "\n",
    "print(df['EVOLUCAO'][df['SG_UF_NOT'].isin(south)].notnull().sum())\n",
    "print(df['EVOLUCAO'][df['SG_UF_NOT'].isin(south)].value_counts())\n",
    "\n",
    "\n",
    "print(100*df['EVOLUCAO'][df['SG_UF_NOT'].isin(south)].value_counts()/df['EVOLUCAO'][df['SG_UF_NOT'].isin(south)].notnull().sum() )\n"
   ]
  },
  {
   "cell_type": "code",
   "execution_count": 65,
   "metadata": {},
   "outputs": [],
   "source": [
    "# Education Analysis\n"
   ]
  },
  {
   "cell_type": "code",
   "execution_count": 66,
   "metadata": {},
   "outputs": [
    {
     "name": "stdout",
     "output_type": "stream",
     "text": [
      "5217\n",
      "2.0    3169\n",
      "1.0    2048\n",
      "Name: EVOLUCAO, dtype: int64\n",
      "2.0    60.743722\n",
      "1.0    39.256278\n",
      "Name: EVOLUCAO, dtype: float64\n"
     ]
    }
   ],
   "source": [
    "# Illiterate\n",
    "\n",
    "print(df['EVOLUCAO'][df['CS_ESCOL_N']==0].notnull().sum())\n",
    "print(df['EVOLUCAO'][df['CS_ESCOL_N']==0].value_counts())\n",
    "\n",
    "\n",
    "print(100*df['EVOLUCAO'][df['CS_ESCOL_N']==0].value_counts()/df['EVOLUCAO'][df['CS_ESCOL_N']==0].notnull().sum())\n"
   ]
  },
  {
   "cell_type": "code",
   "execution_count": 67,
   "metadata": {},
   "outputs": [
    {
     "name": "stdout",
     "output_type": "stream",
     "text": [
      "21411\n",
      "1.0    10912\n",
      "2.0    10499\n",
      "Name: EVOLUCAO, dtype: int64\n",
      "1.0    50.964458\n",
      "2.0    49.035542\n",
      "Name: EVOLUCAO, dtype: float64\n"
     ]
    }
   ],
   "source": [
    "# Fundamental 1\n",
    "\n",
    "print(df['EVOLUCAO'][df['CS_ESCOL_N']==1].notnull().sum())\n",
    "print(df['EVOLUCAO'][df['CS_ESCOL_N']==1].value_counts())\n",
    "\n",
    "\n",
    "print(100*df['EVOLUCAO'][df['CS_ESCOL_N']==1].value_counts()/df['EVOLUCAO'][df['CS_ESCOL_N']==1].notnull().sum() )\n"
   ]
  },
  {
   "cell_type": "code",
   "execution_count": 68,
   "metadata": {},
   "outputs": [
    {
     "name": "stdout",
     "output_type": "stream",
     "text": [
      "15268\n",
      "1.0    9026\n",
      "2.0    6242\n",
      "Name: EVOLUCAO, dtype: int64\n",
      "1.0    59.117108\n",
      "2.0    40.882892\n",
      "Name: EVOLUCAO, dtype: float64\n"
     ]
    }
   ],
   "source": [
    "# Fundamental 2\n",
    "\n",
    "print(df['EVOLUCAO'][df['CS_ESCOL_N']==2].notnull().sum())\n",
    "print(df['EVOLUCAO'][df['CS_ESCOL_N']==2].value_counts())\n",
    "\n",
    "\n",
    "print(100*df['EVOLUCAO'][df['CS_ESCOL_N']==2].value_counts()/df['EVOLUCAO'][df['CS_ESCOL_N']==2].notnull().sum())\n"
   ]
  },
  {
   "cell_type": "code",
   "execution_count": 69,
   "metadata": {},
   "outputs": [
    {
     "name": "stdout",
     "output_type": "stream",
     "text": [
      "25703\n",
      "1.0    18244\n",
      "2.0     7459\n",
      "Name: EVOLUCAO, dtype: int64\n",
      "1.0    70.980041\n",
      "2.0    29.019959\n",
      "Name: EVOLUCAO, dtype: float64\n"
     ]
    }
   ],
   "source": [
    "# Medium\n",
    "\n",
    "print(df['EVOLUCAO'][df['CS_ESCOL_N']==3].notnull().sum())\n",
    "print(df['EVOLUCAO'][df['CS_ESCOL_N']==3].value_counts())\n",
    "\n",
    "\n",
    "print(100*df['EVOLUCAO'][df['CS_ESCOL_N']==3].value_counts()/df['EVOLUCAO'][df['CS_ESCOL_N']==3].notnull().sum())\n"
   ]
  },
  {
   "cell_type": "code",
   "execution_count": 70,
   "metadata": {},
   "outputs": [
    {
     "name": "stdout",
     "output_type": "stream",
     "text": [
      "12381\n",
      "1.0    9603\n",
      "2.0    2778\n",
      "Name: EVOLUCAO, dtype: int64\n",
      "1.0    77.562394\n",
      "2.0    22.437606\n",
      "Name: EVOLUCAO, dtype: float64\n"
     ]
    }
   ],
   "source": [
    "# Superior\n",
    "\n",
    "print(df['EVOLUCAO'][df['CS_ESCOL_N']==4].notnull().sum())\n",
    "print(df['EVOLUCAO'][df['CS_ESCOL_N']==4].value_counts())\n",
    "\n",
    "\n",
    "print(100*df['EVOLUCAO'][df['CS_ESCOL_N']==4].value_counts()/df['EVOLUCAO'][df['CS_ESCOL_N']==4].notnull().sum())\n"
   ]
  },
  {
   "cell_type": "code",
   "execution_count": 71,
   "metadata": {},
   "outputs": [
    {
     "name": "stdout",
     "output_type": "stream",
     "text": [
      "0\n",
      "110\n"
     ]
    },
    {
     "data": {
      "image/png": "[encoded data removed]",
      "text/plain": [
       "<Figure size 432x360 with 1 Axes>"
      ]
     },
     "metadata": {
      "needs_background": "light"
     },
     "output_type": "display_data"
    }
   ],
   "source": [
    "# extremes\n",
    "\n",
    "\n",
    "print(min(df['NU_IDADE_N']))\n",
    "print(max(df['NU_IDADE_N']))\n",
    "\n",
    "# plotting graphic\n",
    "\n",
    "plt.figure(figsize=(6,5))\n",
    "plt.hist(df['NU_IDADE_N'][df['EVOLUCAO']==1], 36, color='blue', alpha=0.5, label ='Cured')\n",
    "plt.hist(df['NU_IDADE_N'][df['EVOLUCAO']==2], 36, color='red' , alpha=0.5, label = 'Dead')\n",
    "\n",
    "plt.xticks(fontsize=14)\n",
    "plt.yticks(fontsize=14)\n",
    "\n",
    "plt.legend(fontsize=14)\n",
    "plt.xlabel('Age', fontsize=20)\n",
    "plt.ylabel('Frequency', fontsize=20)\n",
    "plt.tight_layout()\n",
    "plt.savefig('age_distribution.pdf')\n",
    "plt.show()"
   ]
  },
  {
   "cell_type": "code",
   "execution_count": null,
   "metadata": {},
   "outputs": [],
   "source": []
  }
 ],
 "metadata": {
  "kernelspec": {
   "display_name": "Python 3",
   "language": "python",
   "name": "python3"
  },
  "language_info": {
   "codemirror_mode": {
    "name": "ipython",
    "version": 3
   },
   "file_extension": ".py",
   "mimetype": "text/x-python",
   "name": "python",
   "nbconvert_exporter": "python",
   "pygments_lexer": "ipython3",
   "version": "3.7.3"
  }
 },
 "nbformat": 4,
 "nbformat_minor": 2
}
