{
 "cells": [
  {
   "cell_type": "code",
   "execution_count": 1,
   "metadata": {},
   "outputs": [],
   "source": [
    "# Covid19 Analysis\n"
   ]
  },
  {
   "cell_type": "code",
   "execution_count": 2,
   "metadata": {},
   "outputs": [],
   "source": [
    "# libraries\n",
    "\n",
    "import pandas as pd\n",
    "import matplotlib.pyplot as plt\n",
    "import numpy as np\n",
    "from sklearn.model_selection import GridSearchCV\n",
    "from sklearn.metrics import roc_curve\n",
    "from sklearn.metrics import auc\n",
    "from sklearn.metrics import accuracy_score\n",
    "import pickle\n",
    "from sklearn.metrics import r2_score\n",
    "from sklearn.metrics import average_precision_score\n",
    "from sklearn.metrics import precision_recall_curve\n",
    "from xgboost import XGBClassifier\n",
    "from haversine import haversine, Unit\n",
    "from haversine import haversine_vector\n",
    "from mlxtend.evaluate import bootstrap\n"
   ]
  },
  {
   "cell_type": "code",
   "execution_count": 3,
   "metadata": {},
   "outputs": [
    {
     "name": "stderr",
     "output_type": "stream",
     "text": [
      "/home/pedro/.local/lib/python3.8/site-packages/IPython/core/interactiveshell.py:3146: DtypeWarning: Columns (15,60,62,63,64,92,94,108,117,121,123) have mixed types.Specify dtype option on import or set low_memory=False.\n",
      "  has_raised = await self.run_ast_nodes(code_ast.body, cell_name,\n"
     ]
    },
    {
     "name": "stdout",
     "output_type": "stream",
     "text": [
      "(299142, 154)\n"
     ]
    },
    {
     "name": "stderr",
     "output_type": "stream",
     "text": [
      "<ipython-input-3-f1ed0beb5eec>:16: UserWarning: Boolean Series key will be reindexed to match DataFrame index.\n",
      "  df = df[df['PCR_SARS2']==1][df['HOSPITAL']==1][df['NU_IDADE_N']<=110]\n"
     ]
    },
    {
     "name": "stdout",
     "output_type": "stream",
     "text": [
      "(279982, 154)\n"
     ]
    },
    {
     "name": "stderr",
     "output_type": "stream",
     "text": [
      "<ipython-input-3-f1ed0beb5eec>:21: UserWarning: Boolean Series key will be reindexed to match DataFrame index.\n",
      "  df = df[df['PCR_SARS2']==1][df['HOSPITAL']==1][df['NU_IDADE_N']<=110][df['EVOLUCAO'] != 3][df['EVOLUCAO'] != 9][df['EVOLUCAO'].notnull()]\n"
     ]
    },
    {
     "name": "stdout",
     "output_type": "stream",
     "text": [
      "(242679, 154)\n"
     ]
    }
   ],
   "source": [
    "# reading dataset\n",
    "# https://opendatasus.saude.gov.br/dataset/bd-srag-2020\n",
    "\n",
    "df = pd.read_csv('/home/pedro/bkp/code/dataset/INFLUD-21-09-2020.csv',sep=';',encoding = \"ISO-8859-1\")\n",
    "\n",
    "# Inputing constraint in the dataset \n",
    "\n",
    "# Positive case:\n",
    "\n",
    "df = df[df['PCR_SARS2']==1]\n",
    "print(df.shape)\n",
    "\n",
    "\n",
    "# Hospitalized people:\n",
    "\n",
    "df = df[df['PCR_SARS2']==1][df['HOSPITAL']==1][df['NU_IDADE_N']<=110]\n",
    "print(df.shape)\n",
    "\n",
    "# Hospitalized people with age small than 110:\n",
    "\n",
    "df = df[df['PCR_SARS2']==1][df['HOSPITAL']==1][df['NU_IDADE_N']<=110][df['EVOLUCAO'] != 3][df['EVOLUCAO'] != 9][df['EVOLUCAO'].notnull()]\n",
    "print(df.shape)\n"
   ]
  },
  {
   "cell_type": "code",
   "execution_count": 4,
   "metadata": {},
   "outputs": [],
   "source": [
    "# Latitudes and longitudes table from municipalities\n",
    "\n",
    "df_cod = pd.read_csv('/home/pedro/bkp/code/dataset/municipios.csv', sep=',')\n"
   ]
  },
  {
   "cell_type": "code",
   "execution_count": 5,
   "metadata": {},
   "outputs": [],
   "source": [
    "# Removing last number from \"codenumber\"\n",
    "\n",
    "df_cod['CO_MUN_RES'] = df_cod['CO_MUN_RES'].astype(str).str[:-1].astype(np.int64)\n",
    "df_cod['CO_MU_INTE'] = df_cod['CO_MU_INTE'].astype(str).str[:-1].astype(np.int64)"
   ]
  },
  {
   "cell_type": "code",
   "execution_count": 6,
   "metadata": {},
   "outputs": [
    {
     "name": "stdout",
     "output_type": "stream",
     "text": [
      "(242679, 156)\n",
      "(242679, 156)\n"
     ]
    }
   ],
   "source": [
    "# To match catalogues using muninipacity code\n",
    "# latitude and longitude for pacient residence\n",
    "\n",
    "\n",
    "result_01 = pd.merge(df, df_cod[['CO_MUN_RES','latitude_res','longitude_res']], on='CO_MUN_RES', how=\"left\")\n",
    "result_02 = pd.merge(df, df_cod[['CO_MU_INTE','latitude_int','longitude_int']], on='CO_MU_INTE', how=\"left\") \n",
    "\n",
    "print(result_01.shape)\n",
    "print(result_02.shape)"
   ]
  },
  {
   "cell_type": "code",
   "execution_count": 7,
   "metadata": {},
   "outputs": [
    {
     "name": "stdout",
     "output_type": "stream",
     "text": [
      "(242679, 2)\n",
      "(242679, 2)\n"
     ]
    }
   ],
   "source": [
    "# To transforming in tuple\n",
    "\n",
    "patient_mun_code  = result_01[['latitude_res','longitude_res']].to_numpy()\n",
    "hospital_mun_code = result_02[['latitude_int','longitude_int']].to_numpy()\n",
    "\n",
    "\n",
    "print(patient_mun_code.shape)\n",
    "print(hospital_mun_code.shape)"
   ]
  },
  {
   "cell_type": "code",
   "execution_count": 8,
   "metadata": {},
   "outputs": [],
   "source": [
    "# To calculate the distance from patient to hospital (difference between municipalities centers in km)\n",
    "\n",
    "df['distance'] = haversine_vector(patient_mun_code, hospital_mun_code, Unit.KILOMETERS)"
   ]
  },
  {
   "cell_type": "code",
   "execution_count": 9,
   "metadata": {},
   "outputs": [
    {
     "name": "stdout",
     "output_type": "stream",
     "text": [
      "        CO_MUN_RES  CO_MU_INTE     ID_MUNICIP    distance\n",
      "7         351880.0    355030.0      SAO PAULO   13.951736\n",
      "9         350570.0    355030.0      SAO PAULO   24.605443\n",
      "10        355030.0    355030.0      SAO PAULO    0.000000\n",
      "12        352670.0    352670.0           LEME    0.000000\n",
      "18        355030.0    355030.0      SAO PAULO    0.000000\n",
      "...            ...         ...            ...         ...\n",
      "754858    330630.0    330630.0  VOLTA REDONDA    0.000000\n",
      "754875    317020.0    317020.0     UBERLANDIA    0.000000\n",
      "754892    291110.0    290320.0      BARREIRAS  125.383634\n",
      "754896    230640.0    230440.0      FORTALEZA  118.057231\n",
      "754897    330070.0    330070.0      CABO FRIO    0.000000\n",
      "\n",
      "[242679 rows x 4 columns]\n"
     ]
    }
   ],
   "source": [
    "# To check\n",
    "\n",
    "print(df[['CO_MUN_RES','CO_MU_INTE','ID_MUNICIP', 'distance']])"
   ]
  },
  {
   "cell_type": "code",
   "execution_count": 10,
   "metadata": {},
   "outputs": [
    {
     "data": {
      "image/png": "[encoded data removed]",
      "text/plain": [
       "<Figure size 432x288 with 1 Axes>"
      ]
     },
     "metadata": {
      "needs_background": "light"
     },
     "output_type": "display_data"
    }
   ],
   "source": [
    "# Histogram for Municipality Distance\n",
    "\n",
    "plt.hist(df['distance'], 50, density=False, facecolor='g', alpha=0.75) # .dropna(),\n",
    "plt.xlabel('km')\n",
    "plt.ylabel('Distribution')\n",
    "plt.title('Municipality Distance')\n",
    "plt.show()"
   ]
  },
  {
   "cell_type": "code",
   "execution_count": 11,
   "metadata": {},
   "outputs": [
    {
     "name": "stdout",
     "output_type": "stream",
     "text": [
      "        CO_MUN_RES  CO_MU_INTE        ID_MUNICIP     distance\n",
      "136401    431680.0    261160.0            RECIFE  3027.037343\n",
      "200859    140010.0    420910.0         JOINVILLE  3479.593208\n",
      "299138    421565.0    150405.0        MAE DO RIO  3019.144779\n",
      "373144    110070.0    261160.0            RECIFE  3166.007414\n",
      "509610    120020.0    310620.0    BELO HORIZONTE  3383.789594\n",
      "573760    211120.0    430300.0  CACHOEIRA DO SUL  3195.009539\n",
      "616802    260290.0    431440.0           PELOTAS  3165.723955\n",
      "655586    160060.0    430910.0           GRAMADO  3261.277507\n",
      "693063    431490.0    240800.0           MOSSORO  3121.907328\n",
      "696975    140010.0    355030.0         SAO PAULO  3301.511571\n"
     ]
    }
   ],
   "source": [
    "# To check long distances\n",
    "\n",
    "print(df[['CO_MUN_RES','CO_MU_INTE','ID_MUNICIP', 'distance']][df['distance']>3000])"
   ]
  },
  {
   "cell_type": "code",
   "execution_count": 12,
   "metadata": {},
   "outputs": [
    {
     "name": "stdout",
     "output_type": "stream",
     "text": [
      "3479.593208186318\n",
      "        CO_MUN_RES  CO_MU_INTE ID_MUNICIP     distance\n",
      "200859    140010.0    420910.0  JOINVILLE  3479.593208\n"
     ]
    }
   ],
   "source": [
    "print(df['distance'].max())\n",
    "print(df[['CO_MUN_RES','CO_MU_INTE','ID_MUNICIP', 'distance']][df['distance']>3479])                            \n",
    "\n",
    "# Bigger distance  Boa Vista (Roraima) to Joinville (Santa Catarina)"
   ]
  },
  {
   "cell_type": "code",
   "execution_count": 13,
   "metadata": {},
   "outputs": [],
   "source": [
    "# overcrowded dataset\n",
    "# dataset with code from hospital (cnes) with epidemiology week and the overcrowded status of hospital.\n",
    "\n",
    "df_cod = pd.read_csv('/home/pedro/bkp/code/dataset/hospital_overcrowded.csv', sep=',')\n",
    "\n",
    "# CO_UNI_NOT, SEM_NOT, Overcrowded\n",
    "\n",
    "# Overload = number of hospitalization in epidemiological week for COVID-19 / 2019 sum hospital hospitalization by SARS"
   ]
  },
  {
   "cell_type": "code",
   "execution_count": 14,
   "metadata": {},
   "outputs": [
    {
     "name": "stdout",
     "output_type": "stream",
     "text": [
      "(242679, 156)\n"
     ]
    }
   ],
   "source": [
    "# To check\n",
    "\n",
    "df = pd.merge(df, df_cod, on=['CO_UNI_NOT', 'SEM_NOT'], how=\"left\")\n",
    "print(df.shape)"
   ]
  },
  {
   "cell_type": "code",
   "execution_count": 15,
   "metadata": {},
   "outputs": [
    {
     "name": "stdout",
     "output_type": "stream",
     "text": [
      "242679\n",
      "242679\n",
      "1814\n",
      "4401\n"
     ]
    }
   ],
   "source": [
    "# Municipalities number inicial\n",
    "\n",
    "# patient municipality code number\n",
    "print(len(df['CO_MUN_NOT']))\n",
    "\n",
    "# reporting health unit code number\n",
    "print(len(df['CO_UNI_NOT']))\n",
    "\n",
    "\n",
    "print(df['CO_MUN_NOT'].nunique())\n",
    "print(df['CO_MUN_RES'].nunique())"
   ]
  },
  {
   "cell_type": "code",
   "execution_count": 16,
   "metadata": {},
   "outputs": [
    {
     "name": "stdout",
     "output_type": "stream",
     "text": [
      "44\n",
      "1890\n",
      "2233\n",
      "1367\n",
      "32\n"
     ]
    }
   ],
   "source": [
    "# IDHM\n",
    "\n",
    "# Reading IBGE code for each municipalities and separating it for IDHM index\n",
    "\n",
    "df_atlas = pd.read_excel (r'/home/pedro/bkp/code/dataset/AtlasBrasil_Consulta.xlsx')\n",
    "\n",
    "\n",
    "# removind last interger in 'code' variable\n",
    "\n",
    "df_atlas['code'] = df_atlas['code'].astype(str).str[:-1].astype(np.int64)\n",
    "\n",
    "\n",
    "# Divinding IDHM in bins\n",
    "\n",
    "IDHM_veryhigh  =  set(df_atlas['code'][df_atlas['IDHM2010']>=0.800])\n",
    "print(len(IDHM_veryhigh))\n",
    "\n",
    "\n",
    "IDHM_high  =  set(df_atlas['code'][((df_atlas['IDHM2010']>=0.700)&(df_atlas['IDHM2010']<0.800))])\n",
    "print(len(IDHM_high))\n",
    "\n",
    "\n",
    "IDHM_medium  =  set(df_atlas['code'][((df_atlas['IDHM2010']>=0.600)&(df_atlas['IDHM2010']<0.700))])\n",
    "print(len(IDHM_medium))\n",
    "\n",
    "\n",
    "IDHM_low  =  set(df_atlas['code'][((df_atlas['IDHM2010']>=0.500)&(df_atlas['IDHM2010']<0.600))])\n",
    "print(len(IDHM_low))\n",
    "\n",
    "\n",
    "IDHM_verylow  =  set(df_atlas['code'][df_atlas['IDHM2010']<0.500])\n",
    "print(len(IDHM_verylow))\n",
    "\n",
    "\n",
    "\n",
    "\n",
    "df.loc[df['CO_MUN_NOT'].isin(IDHM_veryhigh) == True, 'IDHM'] = 5\n",
    "df.loc[df['CO_MUN_NOT'].isin(IDHM_high) == True, 'IDHM'] = 4\n",
    "df.loc[df['CO_MUN_NOT'].isin(IDHM_medium) == True, 'IDHM'] = 3\n",
    "df.loc[df['CO_MUN_NOT'].isin(IDHM_low) == True, 'IDHM'] = 2\n",
    "df.loc[df['CO_MUN_NOT'].isin(IDHM_verylow) == True, 'IDHM'] = 1\n"
   ]
  },
  {
   "cell_type": "code",
   "execution_count": 17,
   "metadata": {},
   "outputs": [],
   "source": [
    "# Private and public hospital separation\n",
    "\n",
    "df_hospital = pd.read_csv('/home/pedro/bkp/code/dataset/CNES_SUS.txt', sep='\\t')\n",
    "\n",
    "\n",
    "public   =  set(df_hospital.iloc[:,0][df_hospital.iloc[:,3]=='S'])\n",
    "private  =  set(df_hospital.iloc[:,0][df_hospital.iloc[:,3]=='N'])\n",
    "\n",
    "\n",
    "df.loc[df['CO_UNI_NOT'].isin(public) == True, 'HEALTH_SYSTEM'] = 1\n",
    "df.loc[df['CO_UNI_NOT'].isin(private) == True, 'HEALTH_SYSTEM'] = 0\n",
    "\n",
    "# CO_UNI_NOT"
   ]
  },
  {
   "cell_type": "code",
   "execution_count": 18,
   "metadata": {},
   "outputs": [
    {
     "name": "stderr",
     "output_type": "stream",
     "text": [
      "<ipython-input-18-8f4afe5f8a91>:3: UserWarning: Boolean Series key will be reindexed to match DataFrame index.\n",
      "  df = df[df['IDHM'].notnull()][(df['HEALTH_SYSTEM']==1)|(df['HEALTH_SYSTEM']==0)]\n"
     ]
    },
    {
     "name": "stdout",
     "output_type": "stream",
     "text": [
      "(231112, 158)\n"
     ]
    }
   ],
   "source": [
    "# Constraint on dataset: We only analyze people with evolution, IDHM and Health system outcomes\n",
    "\n",
    "df = df[df['IDHM'].notnull()][(df['HEALTH_SYSTEM']==1)|(df['HEALTH_SYSTEM']==0)]\n",
    "print(df.shape)"
   ]
  },
  {
   "cell_type": "code",
   "execution_count": 19,
   "metadata": {},
   "outputs": [
    {
     "name": "stdout",
     "output_type": "stream",
     "text": [
      "231112\n",
      "231112\n",
      "1801\n",
      "1766\n"
     ]
    }
   ],
   "source": [
    "# Municipalities number\n",
    "\n",
    "print(len(df['CO_MUN_NOT']))\n",
    "print(len(df['CO_MU_INTE']))\n",
    "\n",
    "print(df['CO_MUN_NOT'].nunique())\n",
    "print(df['CO_MU_INTE'].nunique())\n"
   ]
  },
  {
   "cell_type": "code",
   "execution_count": 20,
   "metadata": {},
   "outputs": [],
   "source": [
    "# To selecting features and target\n",
    "\n",
    "df = df[['Overload', 'distance','NU_IDADE_N','CS_SEXO','IDHM','CS_RACA','CS_ESCOL_N','SG_UF_NOT','CS_ZONA',\\\n",
    "'HEALTH_SYSTEM','CS_GESTANT','FEBRE','VOMITO','TOSSE','GARGANTA','DESC_RESP','DISPNEIA','DIARREIA',\\\n",
    "'SATURACAO','CARDIOPATI','HEPATICA','ASMA','PNEUMOPATI','RENAL','HEMATOLOGI','DIABETES',\\\n",
    "'OBESIDADE','NEUROLOGIC','IMUNODEPRE','EVOLUCAO']]"
   ]
  },
  {
   "cell_type": "code",
   "execution_count": 21,
   "metadata": {},
   "outputs": [],
   "source": [
    "# adding comorbidities\n",
    "\n",
    "df['SUM_COMORBIDITIES'] = df.iloc[:,19:-1].replace([9,2], 0).fillna(0).sum(axis=1)\n",
    "df['SUM_SYMPTOMS'] = df.iloc[:,11:17].replace([9,2], 0).fillna(0).sum(axis=1)\n"
   ]
  },
  {
   "cell_type": "code",
   "execution_count": 22,
   "metadata": {},
   "outputs": [],
   "source": [
    "# Ordering features\n",
    "\n",
    "df = df[['Overload', 'distance','NU_IDADE_N','CS_SEXO','IDHM','SUM_COMORBIDITIES','SUM_SYMPTOMS',\\\n",
    "'CS_RACA','CS_ESCOL_N','SG_UF_NOT','CS_ZONA','HEALTH_SYSTEM','CS_GESTANT','FEBRE','VOMITO','TOSSE',\\\n",
    "'GARGANTA','DESC_RESP','DISPNEIA','DIARREIA','SATURACAO','CARDIOPATI','HEPATICA','ASMA','PNEUMOPATI',\\\n",
    "'RENAL','HEMATOLOGI','DIABETES','OBESIDADE','NEUROLOGIC','IMUNODEPRE','EVOLUCAO']]"
   ]
  },
  {
   "cell_type": "code",
   "execution_count": 23,
   "metadata": {},
   "outputs": [],
   "source": [
    "# Pre-Processing\n",
    "\n",
    "df = df[df['EVOLUCAO'].notnull()][df['EVOLUCAO']!=9][df['EVOLUCAO']!=3]#[df_BR['NU_IDADE_N'].notnull()]\n",
    "df['CS_SEXO']=df['CS_SEXO'].replace({'M': 1, 'F':0, 'I':9, 'NaN':np.nan})\n",
    "\n",
    "\n",
    "# replacing 2 by 0 (Death patients)\n",
    "df.iloc[:,13:] = df.iloc[:,13:].replace(to_replace = 2.0, value =0) \n",
    "\n",
    "\n",
    "df['SG_UF_NOT'] = df['SG_UF_NOT'].map({'SP': 0, 'RJ':1, 'MG': 2 , 'ES':3, \\\n",
    "'RS':4, 'SC': 5, 'PR': 6, 'MT': 7, 'MS': 8, 'GO':9, 'DF':10, 'RO':11,'AC':12,'AM':13,\\\n",
    "'RR':14,'PA':15,'AP':16,'TO':17,'MA':18,'PI':19,'BA':20,'CE':21,'RN':22,'PB':23,'PE':24,'AL':25,'SE':26})\n",
    "\n",
    "# For missing values in comorbidities and symptoms we filled by 0.\n",
    "df.iloc[:,13:-1] = df.iloc[:,13:-1].fillna(0)"
   ]
  },
  {
   "cell_type": "code",
   "execution_count": 24,
   "metadata": {},
   "outputs": [],
   "source": [
    "# feature\n",
    "x = df.iloc[:,:-1]\n",
    "\n",
    "# labels\n",
    "y = df['EVOLUCAO']"
   ]
  },
  {
   "cell_type": "code",
   "execution_count": 25,
   "metadata": {},
   "outputs": [],
   "source": [
    "# data separation\n",
    "from sklearn.model_selection import train_test_split\n",
    "x_train, x_test, y_train, y_test = \\\n",
    "    train_test_split(x, y, test_size=0.2, random_state=5)\n"
   ]
  },
  {
   "cell_type": "code",
   "execution_count": 26,
   "metadata": {},
   "outputs": [
    {
     "name": "stderr",
     "output_type": "stream",
     "text": [
      "/home/pedro/anaconda3/lib/python3.8/site-packages/xgboost/sklearn.py:892: UserWarning: The use of label encoder in XGBClassifier is deprecated and will be removed in a future release. To remove this warning, do the following: 1) Pass option use_label_encoder=False when constructing XGBClassifier object; and 2) Encode your labels (y) as integers starting with 0, i.e. 0, 1, 2, ..., [num_class - 1].\n",
      "  warnings.warn(label_encoder_deprecation_msg, UserWarning)\n"
     ]
    },
    {
     "name": "stdout",
     "output_type": "stream",
     "text": [
      "[18:27:52] WARNING: ../src/learner.cc:541: \n",
      "Parameters: { booster  } might not be used.\n",
      "\n",
      "  This may not be accurate due to some parameters are only used in language bindings but\n",
      "  passed down to XGBoost core.  Or some parameters are not used but slip through this\n",
      "  verification. Please open an issue if you find above cases.\n",
      "\n",
      "\n",
      "[18:27:53] WARNING: ../src/learner.cc:1061: Starting in XGBoost 1.3.0, the default evaluation metric used with the objective 'binary:logistic' was changed from 'error' to 'logloss'. Explicitly set eval_metric if you'd like to restore the old behavior.\n"
     ]
    },
    {
     "name": "stderr",
     "output_type": "stream",
     "text": [
      "/home/pedro/anaconda3/lib/python3.8/site-packages/xgboost/sklearn.py:892: UserWarning: The use of label encoder in XGBClassifier is deprecated and will be removed in a future release. To remove this warning, do the following: 1) Pass option use_label_encoder=False when constructing XGBClassifier object; and 2) Encode your labels (y) as integers starting with 0, i.e. 0, 1, 2, ..., [num_class - 1].\n",
      "  warnings.warn(label_encoder_deprecation_msg, UserWarning)\n"
     ]
    },
    {
     "name": "stdout",
     "output_type": "stream",
     "text": [
      "[18:28:10] WARNING: ../src/learner.cc:541: \n",
      "Parameters: { booster  } might not be used.\n",
      "\n",
      "  This may not be accurate due to some parameters are only used in language bindings but\n",
      "  passed down to XGBoost core.  Or some parameters are not used but slip through this\n",
      "  verification. Please open an issue if you find above cases.\n",
      "\n",
      "\n",
      "[18:28:10] WARNING: ../src/learner.cc:1061: Starting in XGBoost 1.3.0, the default evaluation metric used with the objective 'binary:logistic' was changed from 'error' to 'logloss'. Explicitly set eval_metric if you'd like to restore the old behavior.\n"
     ]
    },
    {
     "name": "stderr",
     "output_type": "stream",
     "text": [
      "/home/pedro/anaconda3/lib/python3.8/site-packages/xgboost/sklearn.py:892: UserWarning: The use of label encoder in XGBClassifier is deprecated and will be removed in a future release. To remove this warning, do the following: 1) Pass option use_label_encoder=False when constructing XGBClassifier object; and 2) Encode your labels (y) as integers starting with 0, i.e. 0, 1, 2, ..., [num_class - 1].\n",
      "  warnings.warn(label_encoder_deprecation_msg, UserWarning)\n"
     ]
    },
    {
     "name": "stdout",
     "output_type": "stream",
     "text": [
      "[18:28:28] WARNING: ../src/learner.cc:541: \n",
      "Parameters: { booster  } might not be used.\n",
      "\n",
      "  This may not be accurate due to some parameters are only used in language bindings but\n",
      "  passed down to XGBoost core.  Or some parameters are not used but slip through this\n",
      "  verification. Please open an issue if you find above cases.\n",
      "\n",
      "\n",
      "[18:28:28] WARNING: ../src/learner.cc:1061: Starting in XGBoost 1.3.0, the default evaluation metric used with the objective 'binary:logistic' was changed from 'error' to 'logloss'. Explicitly set eval_metric if you'd like to restore the old behavior.\n"
     ]
    },
    {
     "name": "stderr",
     "output_type": "stream",
     "text": [
      "/home/pedro/anaconda3/lib/python3.8/site-packages/xgboost/sklearn.py:892: UserWarning: The use of label encoder in XGBClassifier is deprecated and will be removed in a future release. To remove this warning, do the following: 1) Pass option use_label_encoder=False when constructing XGBClassifier object; and 2) Encode your labels (y) as integers starting with 0, i.e. 0, 1, 2, ..., [num_class - 1].\n",
      "  warnings.warn(label_encoder_deprecation_msg, UserWarning)\n"
     ]
    },
    {
     "name": "stdout",
     "output_type": "stream",
     "text": [
      "[18:28:42] WARNING: ../src/learner.cc:541: \n",
      "Parameters: { booster  } might not be used.\n",
      "\n",
      "  This may not be accurate due to some parameters are only used in language bindings but\n",
      "  passed down to XGBoost core.  Or some parameters are not used but slip through this\n",
      "  verification. Please open an issue if you find above cases.\n",
      "\n",
      "\n",
      "[18:28:42] WARNING: ../src/learner.cc:1061: Starting in XGBoost 1.3.0, the default evaluation metric used with the objective 'binary:logistic' was changed from 'error' to 'logloss'. Explicitly set eval_metric if you'd like to restore the old behavior.\n"
     ]
    },
    {
     "name": "stderr",
     "output_type": "stream",
     "text": [
      "/home/pedro/anaconda3/lib/python3.8/site-packages/xgboost/sklearn.py:892: UserWarning: The use of label encoder in XGBClassifier is deprecated and will be removed in a future release. To remove this warning, do the following: 1) Pass option use_label_encoder=False when constructing XGBClassifier object; and 2) Encode your labels (y) as integers starting with 0, i.e. 0, 1, 2, ..., [num_class - 1].\n",
      "  warnings.warn(label_encoder_deprecation_msg, UserWarning)\n"
     ]
    },
    {
     "name": "stdout",
     "output_type": "stream",
     "text": [
      "[18:28:56] WARNING: ../src/learner.cc:541: \n",
      "Parameters: { booster  } might not be used.\n",
      "\n",
      "  This may not be accurate due to some parameters are only used in language bindings but\n",
      "  passed down to XGBoost core.  Or some parameters are not used but slip through this\n",
      "  verification. Please open an issue if you find above cases.\n",
      "\n",
      "\n",
      "[18:28:56] WARNING: ../src/learner.cc:1061: Starting in XGBoost 1.3.0, the default evaluation metric used with the objective 'binary:logistic' was changed from 'error' to 'logloss'. Explicitly set eval_metric if you'd like to restore the old behavior.\n"
     ]
    },
    {
     "name": "stderr",
     "output_type": "stream",
     "text": [
      "/home/pedro/anaconda3/lib/python3.8/site-packages/xgboost/sklearn.py:892: UserWarning: The use of label encoder in XGBClassifier is deprecated and will be removed in a future release. To remove this warning, do the following: 1) Pass option use_label_encoder=False when constructing XGBClassifier object; and 2) Encode your labels (y) as integers starting with 0, i.e. 0, 1, 2, ..., [num_class - 1].\n",
      "  warnings.warn(label_encoder_deprecation_msg, UserWarning)\n"
     ]
    },
    {
     "name": "stdout",
     "output_type": "stream",
     "text": [
      "[18:29:11] WARNING: ../src/learner.cc:541: \n",
      "Parameters: { booster  } might not be used.\n",
      "\n",
      "  This may not be accurate due to some parameters are only used in language bindings but\n",
      "  passed down to XGBoost core.  Or some parameters are not used but slip through this\n",
      "  verification. Please open an issue if you find above cases.\n",
      "\n",
      "\n",
      "[18:29:11] WARNING: ../src/learner.cc:1061: Starting in XGBoost 1.3.0, the default evaluation metric used with the objective 'binary:logistic' was changed from 'error' to 'logloss'. Explicitly set eval_metric if you'd like to restore the old behavior.\n"
     ]
    },
    {
     "name": "stderr",
     "output_type": "stream",
     "text": [
      "/home/pedro/anaconda3/lib/python3.8/site-packages/xgboost/sklearn.py:892: UserWarning: The use of label encoder in XGBClassifier is deprecated and will be removed in a future release. To remove this warning, do the following: 1) Pass option use_label_encoder=False when constructing XGBClassifier object; and 2) Encode your labels (y) as integers starting with 0, i.e. 0, 1, 2, ..., [num_class - 1].\n",
      "  warnings.warn(label_encoder_deprecation_msg, UserWarning)\n"
     ]
    },
    {
     "name": "stdout",
     "output_type": "stream",
     "text": [
      "[18:29:25] WARNING: ../src/learner.cc:541: \n",
      "Parameters: { booster  } might not be used.\n",
      "\n",
      "  This may not be accurate due to some parameters are only used in language bindings but\n",
      "  passed down to XGBoost core.  Or some parameters are not used but slip through this\n",
      "  verification. Please open an issue if you find above cases.\n",
      "\n",
      "\n",
      "[18:29:25] WARNING: ../src/learner.cc:1061: Starting in XGBoost 1.3.0, the default evaluation metric used with the objective 'binary:logistic' was changed from 'error' to 'logloss'. Explicitly set eval_metric if you'd like to restore the old behavior.\n"
     ]
    },
    {
     "name": "stderr",
     "output_type": "stream",
     "text": [
      "/home/pedro/anaconda3/lib/python3.8/site-packages/xgboost/sklearn.py:892: UserWarning: The use of label encoder in XGBClassifier is deprecated and will be removed in a future release. To remove this warning, do the following: 1) Pass option use_label_encoder=False when constructing XGBClassifier object; and 2) Encode your labels (y) as integers starting with 0, i.e. 0, 1, 2, ..., [num_class - 1].\n",
      "  warnings.warn(label_encoder_deprecation_msg, UserWarning)\n"
     ]
    },
    {
     "name": "stdout",
     "output_type": "stream",
     "text": [
      "[18:29:40] WARNING: ../src/learner.cc:541: \n",
      "Parameters: { booster  } might not be used.\n",
      "\n",
      "  This may not be accurate due to some parameters are only used in language bindings but\n",
      "  passed down to XGBoost core.  Or some parameters are not used but slip through this\n",
      "  verification. Please open an issue if you find above cases.\n",
      "\n",
      "\n",
      "[18:29:40] WARNING: ../src/learner.cc:1061: Starting in XGBoost 1.3.0, the default evaluation metric used with the objective 'binary:logistic' was changed from 'error' to 'logloss'. Explicitly set eval_metric if you'd like to restore the old behavior.\n"
     ]
    },
    {
     "name": "stderr",
     "output_type": "stream",
     "text": [
      "/home/pedro/anaconda3/lib/python3.8/site-packages/xgboost/sklearn.py:892: UserWarning: The use of label encoder in XGBClassifier is deprecated and will be removed in a future release. To remove this warning, do the following: 1) Pass option use_label_encoder=False when constructing XGBClassifier object; and 2) Encode your labels (y) as integers starting with 0, i.e. 0, 1, 2, ..., [num_class - 1].\n",
      "  warnings.warn(label_encoder_deprecation_msg, UserWarning)\n"
     ]
    },
    {
     "name": "stdout",
     "output_type": "stream",
     "text": [
      "[18:29:54] WARNING: ../src/learner.cc:541: \n",
      "Parameters: { booster  } might not be used.\n",
      "\n",
      "  This may not be accurate due to some parameters are only used in language bindings but\n",
      "  passed down to XGBoost core.  Or some parameters are not used but slip through this\n",
      "  verification. Please open an issue if you find above cases.\n",
      "\n",
      "\n",
      "[18:29:54] WARNING: ../src/learner.cc:1061: Starting in XGBoost 1.3.0, the default evaluation metric used with the objective 'binary:logistic' was changed from 'error' to 'logloss'. Explicitly set eval_metric if you'd like to restore the old behavior.\n"
     ]
    },
    {
     "name": "stderr",
     "output_type": "stream",
     "text": [
      "/home/pedro/anaconda3/lib/python3.8/site-packages/xgboost/sklearn.py:892: UserWarning: The use of label encoder in XGBClassifier is deprecated and will be removed in a future release. To remove this warning, do the following: 1) Pass option use_label_encoder=False when constructing XGBClassifier object; and 2) Encode your labels (y) as integers starting with 0, i.e. 0, 1, 2, ..., [num_class - 1].\n",
      "  warnings.warn(label_encoder_deprecation_msg, UserWarning)\n"
     ]
    },
    {
     "name": "stdout",
     "output_type": "stream",
     "text": [
      "[18:30:09] WARNING: ../src/learner.cc:541: \n",
      "Parameters: { booster  } might not be used.\n",
      "\n",
      "  This may not be accurate due to some parameters are only used in language bindings but\n",
      "  passed down to XGBoost core.  Or some parameters are not used but slip through this\n",
      "  verification. Please open an issue if you find above cases.\n",
      "\n",
      "\n",
      "[18:30:09] WARNING: ../src/learner.cc:1061: Starting in XGBoost 1.3.0, the default evaluation metric used with the objective 'binary:logistic' was changed from 'error' to 'logloss'. Explicitly set eval_metric if you'd like to restore the old behavior.\n"
     ]
    },
    {
     "name": "stderr",
     "output_type": "stream",
     "text": [
      "/home/pedro/anaconda3/lib/python3.8/site-packages/xgboost/sklearn.py:892: UserWarning: The use of label encoder in XGBClassifier is deprecated and will be removed in a future release. To remove this warning, do the following: 1) Pass option use_label_encoder=False when constructing XGBClassifier object; and 2) Encode your labels (y) as integers starting with 0, i.e. 0, 1, 2, ..., [num_class - 1].\n",
      "  warnings.warn(label_encoder_deprecation_msg, UserWarning)\n"
     ]
    },
    {
     "name": "stdout",
     "output_type": "stream",
     "text": [
      "[18:30:23] WARNING: ../src/learner.cc:541: \n",
      "Parameters: { booster  } might not be used.\n",
      "\n",
      "  This may not be accurate due to some parameters are only used in language bindings but\n",
      "  passed down to XGBoost core.  Or some parameters are not used but slip through this\n",
      "  verification. Please open an issue if you find above cases.\n",
      "\n",
      "\n",
      "[18:30:23] WARNING: ../src/learner.cc:1061: Starting in XGBoost 1.3.0, the default evaluation metric used with the objective 'binary:logistic' was changed from 'error' to 'logloss'. Explicitly set eval_metric if you'd like to restore the old behavior.\n",
      "0.8106485094585718\n",
      "{'booster ': 'gbtree', 'colsample_bytree': 0.9, 'eta': 0.2, 'gamma': 1, 'max_depth': 4, 'n_estimators': 200, 'subsample': 0.9}\n",
      "[0.81064851]\n",
      "[0.00372628]\n",
      "[0.82167286]\n",
      "[0.00050638]\n",
      "[18:30:39] WARNING: ../src/learner.cc:541: \n",
      "Parameters: { booster  } might not be used.\n",
      "\n",
      "  This may not be accurate due to some parameters are only used in language bindings but\n",
      "  passed down to XGBoost core.  Or some parameters are not used but slip through this\n",
      "  verification. Please open an issue if you find above cases.\n",
      "\n",
      "\n",
      "[18:30:39] WARNING: ../src/learner.cc:1061: Starting in XGBoost 1.3.0, the default evaluation metric used with the objective 'binary:logistic' was changed from 'error' to 'logloss'. Explicitly set eval_metric if you'd like to restore the old behavior.\n"
     ]
    }
   ],
   "source": [
    "params = params = {'booster ':['gbtree'],\n",
    "        'n_estimators': [200],          \n",
    "        'eta':[0.2],    \n",
    "        'max_depth':[4],\n",
    "        'gamma': [1],\n",
    "        'subsample': [0.9],\n",
    "        'colsample_bytree': [0.9],\n",
    "            }\n",
    "\n",
    "\n",
    "                            \n",
    "                            \n",
    "xgb = XGBClassifier()\n",
    "gs = GridSearchCV(estimator=xgb, param_grid=params, return_train_score=True, cv=10, scoring='roc_auc') \n",
    "\n",
    "\n",
    "gs = gs.fit(x_train, y_train)\n",
    "\n",
    "\n",
    "print(gs.best_score_)\n",
    "print(gs.best_params_)\n",
    "\n",
    "\n",
    "print(gs.cv_results_['mean_test_score'])\n",
    "print(gs.cv_results_['std_test_score'])\n",
    "\n",
    "print(gs.cv_results_['mean_train_score'])   \n",
    "print(gs.cv_results_['std_train_score'])   \n",
    "\n",
    "\n",
    "\n",
    "clf = gs.best_estimator_\n",
    "clf.fit(x_train, y_train)\n",
    "\n",
    "\n",
    "# save the model to disk\n",
    "filename_nn = 'xgb_with_symptoms.sav'\n",
    "pickle.dump(clf, open(filename_nn, 'wb')) "
   ]
  },
  {
   "cell_type": "code",
   "execution_count": 27,
   "metadata": {},
   "outputs": [],
   "source": [
    "# load the model from disk\n",
    "loaded_model_xgb = pickle.load(open('xgb_with_symptoms.sav', 'rb'))"
   ]
  },
  {
   "cell_type": "code",
   "execution_count": 28,
   "metadata": {},
   "outputs": [],
   "source": [
    "# To predicting \n",
    "xgb_pred = loaded_model_xgb.predict_proba(x_test)"
   ]
  },
  {
   "cell_type": "code",
   "execution_count": 29,
   "metadata": {},
   "outputs": [],
   "source": [
    "def auc_CI(df_test):\n",
    "    x_test, y_test = df_test[:, :-1], df_test[:,[-1]]\n",
    "    pred = loaded_model_xgb.predict_proba(x_test)\n",
    "    fpr, tpr, thresholds = roc_curve(y_test, pred[:,1], pos_label=1)\n",
    "    return auc(x=fpr, y=tpr)\n",
    "\n",
    "\n",
    "df_test = pd.merge(x_test, y_test, left_index=True, right_index=True)"
   ]
  },
  {
   "cell_type": "code",
   "execution_count": 30,
   "metadata": {},
   "outputs": [
    {
     "name": "stderr",
     "output_type": "stream",
     "text": [
      "<ipython-input-30-a0f3877a6e83>:2: UserWarning: Boolean Series key will be reindexed to match DataFrame index.\n",
      "  original, std_err, ci_bounds = bootstrap(df_test[df['FEBRE']==1].values , num_rounds=100, func = auc_CI, ci=0.95, seed=123)\n"
     ]
    },
    {
     "name": "stdout",
     "output_type": "stream",
     "text": [
      "Mean Febre: 0.813, SE: +/- 0.002, CI95: [0.808, 0.818]\n",
      "Febre number of data 30650\n"
     ]
    }
   ],
   "source": [
    "# Febre\n",
    "original, std_err, ci_bounds = bootstrap(df_test[df['FEBRE']==1].values , num_rounds=100, func = auc_CI, ci=0.95, seed=123)\n",
    "print('Mean Febre: %.3f, SE: +/- %.3f, CI95: [%.3f, %.3f]' % (original, std_err, ci_bounds[0], ci_bounds[1]))\n",
    "print('Febre number of data %d' % df_test[df_test['FEBRE']==1].shape[0])\n"
   ]
  },
  {
   "cell_type": "code",
   "execution_count": 31,
   "metadata": {},
   "outputs": [
    {
     "name": "stderr",
     "output_type": "stream",
     "text": [
      "<ipython-input-31-19b516a3fc4b>:2: UserWarning: Boolean Series key will be reindexed to match DataFrame index.\n",
      "  original, std_err, ci_bounds = bootstrap(df_test[df['VOMITO']==1].values , num_rounds=100, func = auc_CI, ci=0.95, seed=123)\n"
     ]
    },
    {
     "name": "stdout",
     "output_type": "stream",
     "text": [
      "Mean Vomito: 0.810, SE: +/- 0.008, CI95: [0.793, 0.826]\n",
      "Vomito number of data 3653\n"
     ]
    }
   ],
   "source": [
    "# Vomito\n",
    "original, std_err, ci_bounds = bootstrap(df_test[df['VOMITO']==1].values , num_rounds=100, func = auc_CI, ci=0.95, seed=123)\n",
    "print('Mean Vomito: %.3f, SE: +/- %.3f, CI95: [%.3f, %.3f]' % (original, std_err, ci_bounds[0], ci_bounds[1]))\n",
    "print('Vomito number of data %d' % df_test[df_test['VOMITO']==1].shape[0])\n"
   ]
  },
  {
   "cell_type": "code",
   "execution_count": 32,
   "metadata": {},
   "outputs": [
    {
     "name": "stderr",
     "output_type": "stream",
     "text": [
      "<ipython-input-32-b211a7e740fa>:2: UserWarning: Boolean Series key will be reindexed to match DataFrame index.\n",
      "  original, std_err, ci_bounds = bootstrap(df_test[df['TOSSE']==1].values , num_rounds=100, func = auc_CI, ci=0.95, seed=123)\n"
     ]
    },
    {
     "name": "stdout",
     "output_type": "stream",
     "text": [
      "Mean TOSSE: 0.808, SE: +/- 0.002, CI95: [0.804, 0.813]\n",
      "TOSSE number of data 33955\n"
     ]
    }
   ],
   "source": [
    "# Vomito\n",
    "original, std_err, ci_bounds = bootstrap(df_test[df['TOSSE']==1].values , num_rounds=100, func = auc_CI, ci=0.95, seed=123)\n",
    "print('Mean TOSSE: %.3f, SE: +/- %.3f, CI95: [%.3f, %.3f]' % (original, std_err, ci_bounds[0], ci_bounds[1]))\n",
    "print('TOSSE number of data %d' % df_test[df_test['TOSSE']==1].shape[0])"
   ]
  },
  {
   "cell_type": "code",
   "execution_count": 33,
   "metadata": {},
   "outputs": [
    {
     "name": "stderr",
     "output_type": "stream",
     "text": [
      "<ipython-input-33-5009180c5edc>:2: UserWarning: Boolean Series key will be reindexed to match DataFrame index.\n",
      "  original, std_err, ci_bounds = bootstrap(df_test[df['GARGANTA']==1].values , num_rounds=100, func = auc_CI, ci=0.95, seed=123)\n"
     ]
    },
    {
     "name": "stdout",
     "output_type": "stream",
     "text": [
      "Mean GARGANTA: 0.821, SE: +/- 0.005, CI95: [0.812, 0.831]\n",
      "GARGANTA number of data 8268\n"
     ]
    }
   ],
   "source": [
    "# GARGANTA\n",
    "original, std_err, ci_bounds = bootstrap(df_test[df['GARGANTA']==1].values , num_rounds=100, func = auc_CI, ci=0.95, seed=123)\n",
    "print('Mean GARGANTA: %.3f, SE: +/- %.3f, CI95: [%.3f, %.3f]' % (original, std_err, ci_bounds[0], ci_bounds[1]))\n",
    "print('GARGANTA number of data %d' % df_test[df_test['GARGANTA']==1].shape[0])"
   ]
  },
  {
   "cell_type": "code",
   "execution_count": 34,
   "metadata": {},
   "outputs": [
    {
     "name": "stderr",
     "output_type": "stream",
     "text": [
      "<ipython-input-34-85fd8e01b3c0>:2: UserWarning: Boolean Series key will be reindexed to match DataFrame index.\n",
      "  original, std_err, ci_bounds = bootstrap(df_test[df['DESC_RESP']==1].values , num_rounds=100, func = auc_CI, ci=0.95, seed=123)\n"
     ]
    },
    {
     "name": "stdout",
     "output_type": "stream",
     "text": [
      "Mean DESC_RESP: 0.803, SE: +/- 0.002, CI95: [0.798, 0.808]\n",
      "DESC_RESP number of data 26473\n"
     ]
    }
   ],
   "source": [
    "# DESC_RESP\n",
    "original, std_err, ci_bounds = bootstrap(df_test[df['DESC_RESP']==1].values , num_rounds=100, func = auc_CI, ci=0.95, seed=123)\n",
    "print('Mean DESC_RESP: %.3f, SE: +/- %.3f, CI95: [%.3f, %.3f]' % (original, std_err, ci_bounds[0], ci_bounds[1]))\n",
    "print('DESC_RESP number of data %d' % df_test[df_test['DESC_RESP']==1].shape[0])"
   ]
  },
  {
   "cell_type": "code",
   "execution_count": 35,
   "metadata": {},
   "outputs": [
    {
     "name": "stderr",
     "output_type": "stream",
     "text": [
      "<ipython-input-35-5db4c19b47c1>:2: UserWarning: Boolean Series key will be reindexed to match DataFrame index.\n",
      "  original, std_err, ci_bounds = bootstrap(df_test[df['DISPNEIA']==1].values , num_rounds=100, func = auc_CI, ci=0.95, seed=123)\n"
     ]
    },
    {
     "name": "stdout",
     "output_type": "stream",
     "text": [
      "Mean DISPNEIA: 0.802, SE: +/- 0.002, CI95: [0.797, 0.806]\n",
      "DISPNEIA number of data 33066\n"
     ]
    }
   ],
   "source": [
    "# DISPNEIA\n",
    "original, std_err, ci_bounds = bootstrap(df_test[df['DISPNEIA']==1].values , num_rounds=100, func = auc_CI, ci=0.95, seed=123)\n",
    "print('Mean DISPNEIA: %.3f, SE: +/- %.3f, CI95: [%.3f, %.3f]' % (original, std_err, ci_bounds[0], ci_bounds[1]))\n",
    "print('DISPNEIA number of data %d' % df_test[df_test['DISPNEIA']==1].shape[0])"
   ]
  },
  {
   "cell_type": "code",
   "execution_count": 36,
   "metadata": {},
   "outputs": [
    {
     "name": "stderr",
     "output_type": "stream",
     "text": [
      "<ipython-input-36-ad54d38c7973>:2: UserWarning: Boolean Series key will be reindexed to match DataFrame index.\n",
      "  original, std_err, ci_bounds = bootstrap(df_test[df['DIARREIA']==1].values , num_rounds=100, func = auc_CI, ci=0.95, seed=123)\n"
     ]
    },
    {
     "name": "stdout",
     "output_type": "stream",
     "text": [
      "Mean DIARREIA: 0.811, SE: +/- 0.005, CI95: [0.799, 0.820]\n",
      "DIARREIA number of data 6384\n"
     ]
    }
   ],
   "source": [
    "# DIARREIA\n",
    "original, std_err, ci_bounds = bootstrap(df_test[df['DIARREIA']==1].values , num_rounds=100, func = auc_CI, ci=0.95, seed=123)\n",
    "print('Mean DIARREIA: %.3f, SE: +/- %.3f, CI95: [%.3f, %.3f]' % (original, std_err, ci_bounds[0], ci_bounds[1]))\n",
    "print('DIARREIA number of data %d' % df_test[df_test['DIARREIA']==1].shape[0])"
   ]
  },
  {
   "cell_type": "code",
   "execution_count": 37,
   "metadata": {},
   "outputs": [
    {
     "name": "stderr",
     "output_type": "stream",
     "text": [
      "<ipython-input-37-5dab2f69cd03>:2: UserWarning: Boolean Series key will be reindexed to match DataFrame index.\n",
      "  original, std_err, ci_bounds = bootstrap(df_test[df['SATURACAO']==1].values , num_rounds=100, func = auc_CI, ci=0.95, seed=123)\n"
     ]
    },
    {
     "name": "stdout",
     "output_type": "stream",
     "text": [
      "Mean SATURACAO: 0.787, SE: +/- 0.003, CI95: [0.780, 0.795]\n",
      "SATURACAO number of data 27239\n"
     ]
    }
   ],
   "source": [
    "# SATURACAO\n",
    "original, std_err, ci_bounds = bootstrap(df_test[df['SATURACAO']==1].values , num_rounds=100, func = auc_CI, ci=0.95, seed=123)\n",
    "print('Mean SATURACAO: %.3f, SE: +/- %.3f, CI95: [%.3f, %.3f]' % (original, std_err, ci_bounds[0], ci_bounds[1]))\n",
    "print('SATURACAO number of data %d' % df_test[df_test['SATURACAO']==1].shape[0])"
   ]
  },
  {
   "cell_type": "code",
   "execution_count": 38,
   "metadata": {},
   "outputs": [
    {
     "name": "stderr",
     "output_type": "stream",
     "text": [
      "<ipython-input-38-91ed7e705719>:2: UserWarning: Boolean Series key will be reindexed to match DataFrame index.\n",
      "  original, std_err, ci_bounds = bootstrap(df_test[df['CARDIOPATI']==1].values , num_rounds=100, func = auc_CI, ci=0.95, seed=123)\n"
     ]
    },
    {
     "name": "stdout",
     "output_type": "stream",
     "text": [
      "Mean CARDIOPATI: 0.767, SE: +/- 0.003, CI95: [0.760, 0.774]\n",
      "CARDIOPATI number of data 16294\n"
     ]
    }
   ],
   "source": [
    "# CARDIOPATI\n",
    "original, std_err, ci_bounds = bootstrap(df_test[df['CARDIOPATI']==1].values , num_rounds=100, func = auc_CI, ci=0.95, seed=123)\n",
    "print('Mean CARDIOPATI: %.3f, SE: +/- %.3f, CI95: [%.3f, %.3f]' % (original, std_err, ci_bounds[0], ci_bounds[1]))\n",
    "print('CARDIOPATI number of data %d' % df_test[df_test['CARDIOPATI']==1].shape[0])"
   ]
  },
  {
   "cell_type": "code",
   "execution_count": 39,
   "metadata": {},
   "outputs": [
    {
     "name": "stderr",
     "output_type": "stream",
     "text": [
      "<ipython-input-39-3b469b2269a9>:2: UserWarning: Boolean Series key will be reindexed to match DataFrame index.\n",
      "  original, std_err, ci_bounds = bootstrap(df_test[df['HEPATICA']==1].values , num_rounds=100, func = auc_CI, ci=0.95, seed=123)\n"
     ]
    },
    {
     "name": "stdout",
     "output_type": "stream",
     "text": [
      "Mean HEPATICA: 0.731, SE: +/- 0.022, CI95: [0.695, 0.773]\n",
      "HEPATICA number of data 441\n"
     ]
    }
   ],
   "source": [
    "# 'HEPATICA'\n",
    "original, std_err, ci_bounds = bootstrap(df_test[df['HEPATICA']==1].values , num_rounds=100, func = auc_CI, ci=0.95, seed=123)\n",
    "print('Mean HEPATICA: %.3f, SE: +/- %.3f, CI95: [%.3f, %.3f]' % (original, std_err, ci_bounds[0], ci_bounds[1]))\n",
    "print('HEPATICA number of data %d' % df_test[df_test['HEPATICA']==1].shape[0])"
   ]
  },
  {
   "cell_type": "code",
   "execution_count": 40,
   "metadata": {},
   "outputs": [
    {
     "name": "stderr",
     "output_type": "stream",
     "text": [
      "<ipython-input-40-73327a425536>:2: UserWarning: Boolean Series key will be reindexed to match DataFrame index.\n",
      "  original, std_err, ci_bounds = bootstrap(df_test[df['ASMA']==1].values , num_rounds=100, func = auc_CI, ci=0.95, seed=123)\n"
     ]
    },
    {
     "name": "stdout",
     "output_type": "stream",
     "text": [
      "Mean ASMA: 0.810, SE: +/- 0.014, CI95: [0.781, 0.837]\n",
      "ASMA number of data 1227\n"
     ]
    }
   ],
   "source": [
    "# ASMA\n",
    "original, std_err, ci_bounds = bootstrap(df_test[df['ASMA']==1].values , num_rounds=100, func = auc_CI, ci=0.95, seed=123)\n",
    "print('Mean ASMA: %.3f, SE: +/- %.3f, CI95: [%.3f, %.3f]' % (original, std_err, ci_bounds[0], ci_bounds[1]))\n",
    "print('ASMA number of data %d' % df_test[df_test['ASMA']==1].shape[0])"
   ]
  },
  {
   "cell_type": "code",
   "execution_count": 41,
   "metadata": {},
   "outputs": [
    {
     "name": "stderr",
     "output_type": "stream",
     "text": [
      "<ipython-input-41-d8fd4022cf52>:2: UserWarning: Boolean Series key will be reindexed to match DataFrame index.\n",
      "  original, std_err, ci_bounds = bootstrap(df_test[df['PNEUMOPATI']==1].values , num_rounds=100, func = auc_CI, ci=0.95, seed=123)\n"
     ]
    },
    {
     "name": "stdout",
     "output_type": "stream",
     "text": [
      "Mean PNEUMOPATI: 0.746, SE: +/- 0.012, CI95: [0.723, 0.772]\n",
      "PNEUMOPATI number of data 1892\n"
     ]
    }
   ],
   "source": [
    "# PNEUMOPATI\n",
    "original, std_err, ci_bounds = bootstrap(df_test[df['PNEUMOPATI']==1].values , num_rounds=100, func = auc_CI, ci=0.95, seed=123)\n",
    "print('Mean PNEUMOPATI: %.3f, SE: +/- %.3f, CI95: [%.3f, %.3f]' % (original, std_err, ci_bounds[0], ci_bounds[1]))\n",
    "print('PNEUMOPATI number of data %d' % df_test[df_test['PNEUMOPATI']==1].shape[0])"
   ]
  },
  {
   "cell_type": "code",
   "execution_count": 42,
   "metadata": {},
   "outputs": [
    {
     "name": "stderr",
     "output_type": "stream",
     "text": [
      "<ipython-input-42-eff2f222c2c4>:2: UserWarning: Boolean Series key will be reindexed to match DataFrame index.\n",
      "  original, std_err, ci_bounds = bootstrap(df_test[df['RENAL']==1].values , num_rounds=100, func = auc_CI, ci=0.95, seed=123)\n"
     ]
    },
    {
     "name": "stdout",
     "output_type": "stream",
     "text": [
      "Mean RENAL: 0.719, SE: +/- 0.011, CI95: [0.699, 0.738]\n",
      "RENAL number of data 2166\n"
     ]
    }
   ],
   "source": [
    "# RENAL\n",
    "original, std_err, ci_bounds = bootstrap(df_test[df['RENAL']==1].values , num_rounds=100, func = auc_CI, ci=0.95, seed=123)\n",
    "print('Mean RENAL: %.3f, SE: +/- %.3f, CI95: [%.3f, %.3f]' % (original, std_err, ci_bounds[0], ci_bounds[1]))\n",
    "print('RENAL number of data %d' % df_test[df_test['RENAL']==1].shape[0])"
   ]
  },
  {
   "cell_type": "code",
   "execution_count": 43,
   "metadata": {},
   "outputs": [
    {
     "name": "stderr",
     "output_type": "stream",
     "text": [
      "<ipython-input-43-2df657784fdf>:2: UserWarning: Boolean Series key will be reindexed to match DataFrame index.\n",
      "  original, std_err, ci_bounds = bootstrap(df_test[df['HEMATOLOGI']==1].values , num_rounds=100, func = auc_CI, ci=0.95, seed=123)\n"
     ]
    },
    {
     "name": "stdout",
     "output_type": "stream",
     "text": [
      "Mean HEMATOLOGI: 0.804, SE: +/- 0.022, CI95: [0.767, 0.851]\n",
      "HEMATOLOGI number of data 400\n"
     ]
    }
   ],
   "source": [
    "# HEMATOLOGI\n",
    "original, std_err, ci_bounds = bootstrap(df_test[df['HEMATOLOGI']==1].values , num_rounds=100, func = auc_CI, ci=0.95, seed=123)\n",
    "print('Mean HEMATOLOGI: %.3f, SE: +/- %.3f, CI95: [%.3f, %.3f]' % (original, std_err, ci_bounds[0], ci_bounds[1]))\n",
    "print('HEMATOLOGI number of data %d' % df_test[df_test['HEMATOLOGI']==1].shape[0])"
   ]
  },
  {
   "cell_type": "code",
   "execution_count": 44,
   "metadata": {},
   "outputs": [
    {
     "name": "stderr",
     "output_type": "stream",
     "text": [
      "<ipython-input-44-bcd3640e8418>:2: UserWarning: Boolean Series key will be reindexed to match DataFrame index.\n",
      "  original, std_err, ci_bounds = bootstrap(df_test[df['DIABETES']==1].values , num_rounds=100, func = auc_CI, ci=0.95, seed=123)\n"
     ]
    },
    {
     "name": "stdout",
     "output_type": "stream",
     "text": [
      "Mean DIABETES: 0.758, SE: +/- 0.004, CI95: [0.750, 0.766]\n",
      "DIABETES number of data 12132\n"
     ]
    }
   ],
   "source": [
    "# DIABETES\n",
    "original, std_err, ci_bounds = bootstrap(df_test[df['DIABETES']==1].values , num_rounds=100, func = auc_CI, ci=0.95, seed=123)\n",
    "print('Mean DIABETES: %.3f, SE: +/- %.3f, CI95: [%.3f, %.3f]' % (original, std_err, ci_bounds[0], ci_bounds[1]))\n",
    "print('DIABETES number of data %d' % df_test[df_test['DIABETES']==1].shape[0])"
   ]
  },
  {
   "cell_type": "code",
   "execution_count": 45,
   "metadata": {},
   "outputs": [
    {
     "name": "stderr",
     "output_type": "stream",
     "text": [
      "<ipython-input-45-c737d837294f>:2: UserWarning: Boolean Series key will be reindexed to match DataFrame index.\n",
      "  original, std_err, ci_bounds = bootstrap(df_test[df['OBESIDADE']==1].values , num_rounds=100, func = auc_CI, ci=0.95, seed=123)\n"
     ]
    },
    {
     "name": "stdout",
     "output_type": "stream",
     "text": [
      "Mean OBESIDADE: 0.771, SE: +/- 0.010, CI95: [0.754, 0.793]\n",
      "OBESIDADE number of data 2323\n"
     ]
    }
   ],
   "source": [
    "# OBESIDADE\n",
    "original, std_err, ci_bounds = bootstrap(df_test[df['OBESIDADE']==1].values , num_rounds=100, func = auc_CI, ci=0.95, seed=123)\n",
    "print('Mean OBESIDADE: %.3f, SE: +/- %.3f, CI95: [%.3f, %.3f]' % (original, std_err, ci_bounds[0], ci_bounds[1]))\n",
    "print('OBESIDADE number of data %d' % df_test[df_test['OBESIDADE']==1].shape[0])"
   ]
  },
  {
   "cell_type": "code",
   "execution_count": 46,
   "metadata": {},
   "outputs": [
    {
     "name": "stderr",
     "output_type": "stream",
     "text": [
      "<ipython-input-46-84cd5641a612>:2: UserWarning: Boolean Series key will be reindexed to match DataFrame index.\n",
      "  original, std_err, ci_bounds = bootstrap(df_test[df['NEUROLOGIC']==1].values , num_rounds=100, func = auc_CI, ci=0.95, seed=123)\n"
     ]
    },
    {
     "name": "stdout",
     "output_type": "stream",
     "text": [
      "Mean NEUROLOGIC: 0.727, SE: +/- 0.013, CI95: [0.701, 0.753]\n",
      "NEUROLOGIC number of data 1985\n"
     ]
    }
   ],
   "source": [
    "# NEUROLOGIC\n",
    "original, std_err, ci_bounds = bootstrap(df_test[df['NEUROLOGIC']==1].values , num_rounds=100, func = auc_CI, ci=0.95, seed=123)\n",
    "print('Mean NEUROLOGIC: %.3f, SE: +/- %.3f, CI95: [%.3f, %.3f]' % (original, std_err, ci_bounds[0], ci_bounds[1]))\n",
    "print('NEUROLOGIC number of data %d' % df_test[df_test['NEUROLOGIC']==1].shape[0])"
   ]
  },
  {
   "cell_type": "code",
   "execution_count": 47,
   "metadata": {},
   "outputs": [
    {
     "name": "stderr",
     "output_type": "stream",
     "text": [
      "<ipython-input-47-597b9f0dd42d>:2: UserWarning: Boolean Series key will be reindexed to match DataFrame index.\n",
      "  original, std_err, ci_bounds = bootstrap(df_test[df['IMUNODEPRE']==1].values , num_rounds=100, func = auc_CI, ci=0.95, seed=123)\n"
     ]
    },
    {
     "name": "stdout",
     "output_type": "stream",
     "text": [
      "Mean IMUNODEPRE: 0.741, SE: +/- 0.013, CI95: [0.715, 0.766]\n",
      "IMUNODEPRE number of data 1449\n"
     ]
    }
   ],
   "source": [
    "# IMUNODEPRE\n",
    "original, std_err, ci_bounds = bootstrap(df_test[df['IMUNODEPRE']==1].values , num_rounds=100, func = auc_CI, ci=0.95, seed=123)\n",
    "print('Mean IMUNODEPRE: %.3f, SE: +/- %.3f, CI95: [%.3f, %.3f]' % (original, std_err, ci_bounds[0], ci_bounds[1]))\n",
    "print('IMUNODEPRE number of data %d' % df_test[df_test['IMUNODEPRE']==1].shape[0])"
   ]
  },
  {
   "cell_type": "code",
   "execution_count": 48,
   "metadata": {},
   "outputs": [
    {
     "name": "stderr",
     "output_type": "stream",
     "text": [
      "<ipython-input-48-9fac9442a2ce>:2: UserWarning: Boolean Series key will be reindexed to match DataFrame index.\n",
      "  original, std_err, ci_bounds = bootstrap(df_test[df['CS_SEXO']==0].values , num_rounds=100, func = auc_CI, ci=0.95, seed=123)\n"
     ]
    },
    {
     "name": "stdout",
     "output_type": "stream",
     "text": [
      "Mean Female: 0.811, SE: +/- 0.003, CI95: [0.805, 0.816]\n",
      "Female number of data 20081\n"
     ]
    }
   ],
   "source": [
    "# Female \n",
    "original, std_err, ci_bounds = bootstrap(df_test[df['CS_SEXO']==0].values , num_rounds=100, func = auc_CI, ci=0.95, seed=123)\n",
    "print('Mean Female: %.3f, SE: +/- %.3f, CI95: [%.3f, %.3f]' % (original, std_err, ci_bounds[0], ci_bounds[1]))\n",
    "print('Female number of data %d' % df_test[df_test['CS_SEXO']==0].shape[0])\n"
   ]
  },
  {
   "cell_type": "code",
   "execution_count": 49,
   "metadata": {},
   "outputs": [
    {
     "name": "stderr",
     "output_type": "stream",
     "text": [
      "<ipython-input-49-f29441c98979>:2: UserWarning: Boolean Series key will be reindexed to match DataFrame index.\n",
      "  original, std_err, ci_bounds = bootstrap(df_test[df['CS_SEXO']==1].values , num_rounds=100, func = auc_CI, ci=0.95, seed=123)\n"
     ]
    },
    {
     "name": "stdout",
     "output_type": "stream",
     "text": [
      "Mean Male: 0.815, SE: +/- 0.003, CI95: [0.810, 0.820]\n",
      "Male number of data 26131\n"
     ]
    }
   ],
   "source": [
    "# Male\n",
    "original, std_err, ci_bounds = bootstrap(df_test[df['CS_SEXO']==1].values , num_rounds=100, func = auc_CI, ci=0.95, seed=123)\n",
    "print('Mean Male: %.3f, SE: +/- %.3f, CI95: [%.3f, %.3f]' % (original, std_err, ci_bounds[0], ci_bounds[1]))\n",
    "print('Male number of data %d' % df_test[df_test['CS_SEXO']==1].shape[0])"
   ]
  },
  {
   "cell_type": "code",
   "execution_count": 50,
   "metadata": {},
   "outputs": [
    {
     "name": "stderr",
     "output_type": "stream",
     "text": [
      "<ipython-input-50-8a5d633a9202>:5: UserWarning: Boolean Series key will be reindexed to match DataFrame index.\n",
      "  original, std_err, ci_bounds = bootstrap(df_test[df['HEALTH_SYSTEM']==1].values , num_rounds=100, func = auc_CI, ci=0.95, seed=123)\n"
     ]
    },
    {
     "name": "stdout",
     "output_type": "stream",
     "text": [
      "Mean public: 0.799, SE: +/- 0.002, CI95: [0.795, 0.802]\n",
      "Private number of data 36603\n"
     ]
    },
    {
     "name": "stderr",
     "output_type": "stream",
     "text": [
      "<ipython-input-50-8a5d633a9202>:10: UserWarning: Boolean Series key will be reindexed to match DataFrame index.\n",
      "  original, std_err, ci_bounds = bootstrap(df_test[df['HEALTH_SYSTEM']==0].values , num_rounds=100, func = auc_CI, ci=0.95, seed=123)\n"
     ]
    },
    {
     "name": "stdout",
     "output_type": "stream",
     "text": [
      "Mean private: 0.843, SE: +/- 0.004, CI95: [0.832, 0.851]\n",
      "Private number of data 9620\n"
     ]
    }
   ],
   "source": [
    "# Hospital unit reporting  \n",
    "\n",
    "\n",
    "# public\n",
    "original, std_err, ci_bounds = bootstrap(df_test[df['HEALTH_SYSTEM']==1].values , num_rounds=100, func = auc_CI, ci=0.95, seed=123)\n",
    "print('Mean public: %.3f, SE: +/- %.3f, CI95: [%.3f, %.3f]' % (original, std_err, ci_bounds[0], ci_bounds[1]))\n",
    "print('Private number of data %d' % df_test[df_test['HEALTH_SYSTEM']==1].shape[0])\n",
    "\n",
    "# private\n",
    "original, std_err, ci_bounds = bootstrap(df_test[df['HEALTH_SYSTEM']==0].values , num_rounds=100, func = auc_CI, ci=0.95, seed=123)\n",
    "print('Mean private: %.3f, SE: +/- %.3f, CI95: [%.3f, %.3f]' % (original, std_err, ci_bounds[0], ci_bounds[1]))\n",
    "print('Private number of data %d' % df_test[df_test['HEALTH_SYSTEM']==0].shape[0])"
   ]
  },
  {
   "cell_type": "code",
   "execution_count": 51,
   "metadata": {},
   "outputs": [
    {
     "name": "stderr",
     "output_type": "stream",
     "text": [
      "<ipython-input-51-61631919b502>:5: UserWarning: Boolean Series key will be reindexed to match DataFrame index.\n",
      "  original, std_err, ci_bounds = bootstrap(df_test[df['CS_RACA']==1].values , num_rounds=100, func = auc_CI, ci=0.95, seed=123)\n"
     ]
    },
    {
     "name": "stdout",
     "output_type": "stream",
     "text": [
      "Mean Branco: 0.813, SE: +/- 0.003, CI95: [0.806, 0.821]\n",
      "Branco number of data 17186\n"
     ]
    },
    {
     "name": "stderr",
     "output_type": "stream",
     "text": [
      "<ipython-input-51-61631919b502>:10: UserWarning: Boolean Series key will be reindexed to match DataFrame index.\n",
      "  original, std_err, ci_bounds = bootstrap(df_test[df['CS_RACA']==2].values , num_rounds=100, func = auc_CI, ci=0.95, seed=123)\n"
     ]
    },
    {
     "name": "stdout",
     "output_type": "stream",
     "text": [
      "Mean Preto: 0.803, SE: +/- 0.009, CI95: [0.780, 0.816]\n",
      "Preto number of data 2293\n"
     ]
    },
    {
     "name": "stderr",
     "output_type": "stream",
     "text": [
      "<ipython-input-51-61631919b502>:15: UserWarning: Boolean Series key will be reindexed to match DataFrame index.\n",
      "  original, std_err, ci_bounds = bootstrap(df_test[df['CS_RACA']==3].values , num_rounds=100, func = auc_CI, ci=0.95, seed=123)\n"
     ]
    },
    {
     "name": "stdout",
     "output_type": "stream",
     "text": [
      "Mean Amarelo: 0.789, SE: +/- 0.023, CI95: [0.742, 0.825]\n",
      "Amarelo number of data 519\n"
     ]
    },
    {
     "name": "stderr",
     "output_type": "stream",
     "text": [
      "<ipython-input-51-61631919b502>:20: UserWarning: Boolean Series key will be reindexed to match DataFrame index.\n",
      "  original, std_err, ci_bounds = bootstrap(df_test[df['CS_RACA']==4].values , num_rounds=100, func = auc_CI, ci=0.95, seed=123)\n"
     ]
    },
    {
     "name": "stdout",
     "output_type": "stream",
     "text": [
      "Mean Pardo: 0.804, SE: +/- 0.004, CI95: [0.797, 0.812]\n",
      "Pardo number of data 13556\n",
      "Mean Indigena: 0.891, SE: +/- 0.034, CI95: [0.821, 0.948]\n",
      "Indigena number of data 98\n"
     ]
    },
    {
     "name": "stderr",
     "output_type": "stream",
     "text": [
      "<ipython-input-51-61631919b502>:25: UserWarning: Boolean Series key will be reindexed to match DataFrame index.\n",
      "  original, std_err, ci_bounds = bootstrap(df_test[df['CS_RACA']==5].values , num_rounds=100, func = auc_CI, ci=0.95, seed=123)\n"
     ]
    }
   ],
   "source": [
    "# Hospital unit reporting  \n",
    "\n",
    "\n",
    "# Branco\n",
    "original, std_err, ci_bounds = bootstrap(df_test[df['CS_RACA']==1].values , num_rounds=100, func = auc_CI, ci=0.95, seed=123)\n",
    "print('Mean Branco: %.3f, SE: +/- %.3f, CI95: [%.3f, %.3f]' % (original, std_err, ci_bounds[0], ci_bounds[1]))\n",
    "print('Branco number of data %d' % df_test[df_test['CS_RACA']==1].shape[0])\n",
    "\n",
    "# Preto\n",
    "original, std_err, ci_bounds = bootstrap(df_test[df['CS_RACA']==2].values , num_rounds=100, func = auc_CI, ci=0.95, seed=123)\n",
    "print('Mean Preto: %.3f, SE: +/- %.3f, CI95: [%.3f, %.3f]' % (original, std_err, ci_bounds[0], ci_bounds[1]))\n",
    "print('Preto number of data %d' % df_test[df_test['CS_RACA']==2].shape[0])\n",
    "\n",
    "# Amarelo\n",
    "original, std_err, ci_bounds = bootstrap(df_test[df['CS_RACA']==3].values , num_rounds=100, func = auc_CI, ci=0.95, seed=123)\n",
    "print('Mean Amarelo: %.3f, SE: +/- %.3f, CI95: [%.3f, %.3f]' % (original, std_err, ci_bounds[0], ci_bounds[1]))\n",
    "print('Amarelo number of data %d' % df_test[df_test['CS_RACA']==3].shape[0])\n",
    "\n",
    "# Pardo\n",
    "original, std_err, ci_bounds = bootstrap(df_test[df['CS_RACA']==4].values , num_rounds=100, func = auc_CI, ci=0.95, seed=123)\n",
    "print('Mean Pardo: %.3f, SE: +/- %.3f, CI95: [%.3f, %.3f]' % (original, std_err, ci_bounds[0], ci_bounds[1]))\n",
    "print('Pardo number of data %d' % df_test[df_test['CS_RACA']==4].shape[0])\n",
    "\n",
    "# Indigena\n",
    "original, std_err, ci_bounds = bootstrap(df_test[df['CS_RACA']==5].values , num_rounds=100, func = auc_CI, ci=0.95, seed=123)\n",
    "print('Mean Indigena: %.3f, SE: +/- %.3f, CI95: [%.3f, %.3f]' % (original, std_err, ci_bounds[0], ci_bounds[1]))\n",
    "print('Indigena number of data %d' % df_test[df_test['CS_RACA']==5].shape[0])"
   ]
  },
  {
   "cell_type": "code",
   "execution_count": 52,
   "metadata": {},
   "outputs": [
    {
     "name": "stderr",
     "output_type": "stream",
     "text": [
      "<ipython-input-52-74fa8d8aff6d>:5: UserWarning: Boolean Series key will be reindexed to match DataFrame index.\n",
      "  original, std_err, ci_bounds = bootstrap(df_test[df['CS_ESCOL_N']==0].values , num_rounds=100, func = auc_CI, ci=0.95, seed=123)\n"
     ]
    },
    {
     "name": "stdout",
     "output_type": "stream",
     "text": [
      "Mean Illiterate: 0.762, SE: +/- 0.014, CI95: [0.733, 0.790]\n",
      "Illiterate number of data 1042\n"
     ]
    },
    {
     "name": "stderr",
     "output_type": "stream",
     "text": [
      "<ipython-input-52-74fa8d8aff6d>:11: UserWarning: Boolean Series key will be reindexed to match DataFrame index.\n",
      "  original, std_err, ci_bounds = bootstrap(df_test[df['CS_ESCOL_N']==1].values , num_rounds=100, func = auc_CI, ci=0.95, seed=123)\n"
     ]
    },
    {
     "name": "stdout",
     "output_type": "stream",
     "text": [
      "Mean Fundamental I: 0.773, SE: +/- 0.007, CI95: [0.759, 0.785]\n",
      "Fundamental I number of data 4315\n"
     ]
    },
    {
     "name": "stderr",
     "output_type": "stream",
     "text": [
      "<ipython-input-52-74fa8d8aff6d>:17: UserWarning: Boolean Series key will be reindexed to match DataFrame index.\n",
      "  original, std_err, ci_bounds = bootstrap(df_test[df['CS_ESCOL_N']==2].values , num_rounds=100, func = auc_CI, ci=0.95, seed=123)\n"
     ]
    },
    {
     "name": "stdout",
     "output_type": "stream",
     "text": [
      "Mean Fundamental II: 0.808, SE: +/- 0.008, CI95: [0.793, 0.824]\n",
      "Fundamental II number of data 3090\n"
     ]
    },
    {
     "name": "stderr",
     "output_type": "stream",
     "text": [
      "<ipython-input-52-74fa8d8aff6d>:23: UserWarning: Boolean Series key will be reindexed to match DataFrame index.\n",
      "  original, std_err, ci_bounds = bootstrap(df_test[df['CS_ESCOL_N']==3].values , num_rounds=100, func = auc_CI, ci=0.95, seed=123)\n"
     ]
    },
    {
     "name": "stdout",
     "output_type": "stream",
     "text": [
      "Mean Medium: 0.828, SE: +/- 0.006, CI95: [0.817, 0.840]\n",
      "Medium number of data 5157\n"
     ]
    },
    {
     "name": "stderr",
     "output_type": "stream",
     "text": [
      "<ipython-input-52-74fa8d8aff6d>:29: UserWarning: Boolean Series key will be reindexed to match DataFrame index.\n",
      "  original, std_err, ci_bounds = bootstrap(df_test[df['CS_ESCOL_N']==4].values , num_rounds=100, func = auc_CI, ci=0.95, seed=123)\n"
     ]
    },
    {
     "name": "stdout",
     "output_type": "stream",
     "text": [
      "Mean University: 0.874, SE: +/- 0.008, CI95: [0.860, 0.889]\n",
      "University number of data 2523\n"
     ]
    }
   ],
   "source": [
    "# Education\n",
    "\n",
    "\n",
    "# Illiterate\n",
    "original, std_err, ci_bounds = bootstrap(df_test[df['CS_ESCOL_N']==0].values , num_rounds=100, func = auc_CI, ci=0.95, seed=123)\n",
    "print('Mean Illiterate: %.3f, SE: +/- %.3f, CI95: [%.3f, %.3f]' % (original, std_err, ci_bounds[0], ci_bounds[1]))\n",
    "print('Illiterate number of data %d' % df_test[df_test['CS_ESCOL_N']==0].shape[0])\n",
    "\n",
    "\n",
    "# Fundamental I\n",
    "original, std_err, ci_bounds = bootstrap(df_test[df['CS_ESCOL_N']==1].values , num_rounds=100, func = auc_CI, ci=0.95, seed=123)\n",
    "print('Mean Fundamental I: %.3f, SE: +/- %.3f, CI95: [%.3f, %.3f]' % (original, std_err, ci_bounds[0], ci_bounds[1]))\n",
    "print('Fundamental I number of data %d' % df_test[df_test['CS_ESCOL_N']==1].shape[0])\n",
    "\n",
    "\n",
    "# Fundamental II\n",
    "original, std_err, ci_bounds = bootstrap(df_test[df['CS_ESCOL_N']==2].values , num_rounds=100, func = auc_CI, ci=0.95, seed=123)\n",
    "print('Mean Fundamental II: %.3f, SE: +/- %.3f, CI95: [%.3f, %.3f]' % (original, std_err, ci_bounds[0], ci_bounds[1]))\n",
    "print('Fundamental II number of data %d' % df_test[df_test['CS_ESCOL_N']==2].shape[0])\n",
    "\n",
    "\n",
    "# Medium\n",
    "original, std_err, ci_bounds = bootstrap(df_test[df['CS_ESCOL_N']==3].values , num_rounds=100, func = auc_CI, ci=0.95, seed=123)\n",
    "print('Mean Medium: %.3f, SE: +/- %.3f, CI95: [%.3f, %.3f]' % (original, std_err, ci_bounds[0], ci_bounds[1]))\n",
    "print('Medium number of data %d' % df_test[df_test['CS_ESCOL_N']==3].shape[0])\n",
    "\n",
    "\n",
    "# University\n",
    "original, std_err, ci_bounds = bootstrap(df_test[df['CS_ESCOL_N']==4].values , num_rounds=100, func = auc_CI, ci=0.95, seed=123)\n",
    "print('Mean University: %.3f, SE: +/- %.3f, CI95: [%.3f, %.3f]' % (original, std_err, ci_bounds[0], ci_bounds[1]))\n",
    "print('University number of data %d' % df_test[df_test['CS_ESCOL_N']==4].shape[0])"
   ]
  },
  {
   "cell_type": "code",
   "execution_count": 53,
   "metadata": {},
   "outputs": [
    {
     "name": "stderr",
     "output_type": "stream",
     "text": [
      "<ipython-input-53-accccf482ca6>:5: UserWarning: Boolean Series key will be reindexed to match DataFrame index.\n",
      "  original, std_err, ci_bounds = bootstrap(df_test[df['CS_ZONA']==1].values , num_rounds=100, func = auc_CI, ci=0.95, seed=123)\n"
     ]
    },
    {
     "name": "stdout",
     "output_type": "stream",
     "text": [
      "Mean Urban: 0.813, SE: +/- 0.002, CI95: [0.808, 0.818]\n",
      "Urban number of data 39777\n"
     ]
    },
    {
     "name": "stderr",
     "output_type": "stream",
     "text": [
      "<ipython-input-53-accccf482ca6>:11: UserWarning: Boolean Series key will be reindexed to match DataFrame index.\n",
      "  original, std_err, ci_bounds = bootstrap(df_test[df['CS_ZONA']==2].values , num_rounds=100, func = auc_CI, ci=0.95, seed=123)\n"
     ]
    },
    {
     "name": "stdout",
     "output_type": "stream",
     "text": [
      "Mean Rural: 0.798, SE: +/- 0.014, CI95: [0.769, 0.823]\n",
      "Rural number of data 1217\n",
      "Peri-urban University: 0.795, SE: +/- 0.036, CI95: [0.711, 0.859]\n",
      "Peri-urban number of data 143\n"
     ]
    },
    {
     "name": "stderr",
     "output_type": "stream",
     "text": [
      "<ipython-input-53-accccf482ca6>:17: UserWarning: Boolean Series key will be reindexed to match DataFrame index.\n",
      "  original, std_err, ci_bounds = bootstrap(df_test[df['CS_ZONA']==3].values , num_rounds=100, func = auc_CI, ci=0.95, seed=123)\n"
     ]
    }
   ],
   "source": [
    "# Area\n",
    "\n",
    "\n",
    "# Urban\n",
    "original, std_err, ci_bounds = bootstrap(df_test[df['CS_ZONA']==1].values , num_rounds=100, func = auc_CI, ci=0.95, seed=123)\n",
    "print('Mean Urban: %.3f, SE: +/- %.3f, CI95: [%.3f, %.3f]' % (original, std_err, ci_bounds[0], ci_bounds[1]))\n",
    "print('Urban number of data %d' % df_test[df_test['CS_ZONA']==1].shape[0])\n",
    "\n",
    "\n",
    "# Rural\n",
    "original, std_err, ci_bounds = bootstrap(df_test[df['CS_ZONA']==2].values , num_rounds=100, func = auc_CI, ci=0.95, seed=123)\n",
    "print('Mean Rural: %.3f, SE: +/- %.3f, CI95: [%.3f, %.3f]' % (original, std_err, ci_bounds[0], ci_bounds[1]))\n",
    "print('Rural number of data %d' % df_test[df_test['CS_ZONA']==2].shape[0])\n",
    "\n",
    "\n",
    "# Peri-urban\n",
    "original, std_err, ci_bounds = bootstrap(df_test[df['CS_ZONA']==3].values , num_rounds=100, func = auc_CI, ci=0.95, seed=123)\n",
    "print('Peri-urban University: %.3f, SE: +/- %.3f, CI95: [%.3f, %.3f]' % (original, std_err, ci_bounds[0], ci_bounds[1]))\n",
    "print('Peri-urban number of data %d' % df_test[df_test['CS_ZONA']==3].shape[0])\n"
   ]
  },
  {
   "cell_type": "code",
   "execution_count": 54,
   "metadata": {},
   "outputs": [
    {
     "name": "stderr",
     "output_type": "stream",
     "text": [
      "<ipython-input-54-7a49df43d245>:5: UserWarning: Boolean Series key will be reindexed to match DataFrame index.\n",
      "  original, std_err, ci_bounds = bootstrap(df_test[df['IDHM']==5].values , num_rounds=100, func = auc_CI, ci=0.95, seed=123)\n"
     ]
    },
    {
     "name": "stdout",
     "output_type": "stream",
     "text": [
      "Mean Very High: 0.816, SE: +/- 0.003, CI95: [0.810, 0.823]\n",
      "Very High number of data 18113\n"
     ]
    },
    {
     "name": "stderr",
     "output_type": "stream",
     "text": [
      "<ipython-input-54-7a49df43d245>:12: UserWarning: Boolean Series key will be reindexed to match DataFrame index.\n",
      "  original, std_err, ci_bounds = bootstrap(df_test[df['IDHM']==4].values , num_rounds=100, func = auc_CI, ci=0.95, seed=123)\n"
     ]
    },
    {
     "name": "stdout",
     "output_type": "stream",
     "text": [
      "Mean High: 0.802, SE: +/- 0.003, CI95: [0.797, 0.808]\n",
      "High number of data 24989\n"
     ]
    },
    {
     "name": "stderr",
     "output_type": "stream",
     "text": [
      "<ipython-input-54-7a49df43d245>:19: UserWarning: Boolean Series key will be reindexed to match DataFrame index.\n",
      "  original, std_err, ci_bounds = bootstrap(df_test[((df['IDHM']==3)|(df['IDHM']==2)|(df['IDHM']==1))].values , num_rounds=100, func = auc_CI, ci=0.95, seed=123)\n"
     ]
    },
    {
     "name": "stdout",
     "output_type": "stream",
     "text": [
      "Mean Medium Low: 0.791, SE: +/- 0.008, CI95: [0.776, 0.809]\n",
      "Medium Low number of data 3121\n"
     ]
    },
    {
     "name": "stderr",
     "output_type": "stream",
     "text": [
      "<ipython-input-54-7a49df43d245>:21: UserWarning: Boolean Series key will be reindexed to match DataFrame index.\n",
      "  print('Medium Low number of data %d' % df_test[((df['IDHM']==3)|(df['IDHM']==2)|(df['IDHM']==1))].shape[0])\n"
     ]
    }
   ],
   "source": [
    "# IDHM\n",
    "\n",
    "# Very High\n",
    "\n",
    "original, std_err, ci_bounds = bootstrap(df_test[df['IDHM']==5].values , num_rounds=100, func = auc_CI, ci=0.95, seed=123)\n",
    "print('Mean Very High: %.3f, SE: +/- %.3f, CI95: [%.3f, %.3f]' % (original, std_err, ci_bounds[0], ci_bounds[1]))\n",
    "print('Very High number of data %d' % df_test[df_test['IDHM']==5].shape[0])\n",
    "\n",
    "\n",
    "# High\n",
    "\n",
    "original, std_err, ci_bounds = bootstrap(df_test[df['IDHM']==4].values , num_rounds=100, func = auc_CI, ci=0.95, seed=123)\n",
    "print('Mean High: %.3f, SE: +/- %.3f, CI95: [%.3f, %.3f]' % (original, std_err, ci_bounds[0], ci_bounds[1]))\n",
    "print('High number of data %d' % df_test[df_test['IDHM']==4].shape[0])\n",
    "\n",
    "\n",
    "# Medium Low\n",
    "\n",
    "original, std_err, ci_bounds = bootstrap(df_test[((df['IDHM']==3)|(df['IDHM']==2)|(df['IDHM']==1))].values , num_rounds=100, func = auc_CI, ci=0.95, seed=123)\n",
    "print('Mean Medium Low: %.3f, SE: +/- %.3f, CI95: [%.3f, %.3f]' % (original, std_err, ci_bounds[0], ci_bounds[1]))\n",
    "print('Medium Low number of data %d' % df_test[((df['IDHM']==3)|(df['IDHM']==2)|(df['IDHM']==1))].shape[0])\n",
    "\n"
   ]
  },
  {
   "cell_type": "code",
   "execution_count": 55,
   "metadata": {},
   "outputs": [
    {
     "name": "stderr",
     "output_type": "stream",
     "text": [
      "<ipython-input-55-3425c7845084>:16: UserWarning: Boolean Series key will be reindexed to match DataFrame index.\n",
      "  original, std_err, ci_bounds = bootstrap(df_test[df['SG_UF_NOT'].isin(north)].values , num_rounds=100, func = auc_CI, ci=0.95, seed=123)\n"
     ]
    },
    {
     "name": "stdout",
     "output_type": "stream",
     "text": [
      "Mean North: 0.781, SE: +/- 0.009, CI95: [0.765, 0.796]\n",
      "North number of data 2413\n"
     ]
    },
    {
     "name": "stderr",
     "output_type": "stream",
     "text": [
      "<ipython-input-55-3425c7845084>:23: UserWarning: Boolean Series key will be reindexed to match DataFrame index.\n",
      "  original, std_err, ci_bounds = bootstrap(df_test[df['SG_UF_NOT'].isin(northeast)].values , num_rounds=100, func = auc_CI, ci=0.95, seed=123)\n"
     ]
    },
    {
     "name": "stdout",
     "output_type": "stream",
     "text": [
      "Mean Northeast: 0.800, SE: +/- 0.005, CI95: [0.791, 0.807]\n",
      "Northeast number of data 8455\n"
     ]
    },
    {
     "name": "stderr",
     "output_type": "stream",
     "text": [
      "<ipython-input-55-3425c7845084>:30: UserWarning: Boolean Series key will be reindexed to match DataFrame index.\n",
      "  original, std_err, ci_bounds = bootstrap(df_test[df['SG_UF_NOT'].isin(midwest)].values , num_rounds=100, func = auc_CI, ci=0.95, seed=123)\n"
     ]
    },
    {
     "name": "stdout",
     "output_type": "stream",
     "text": [
      "Mean Midwest: 0.810, SE: +/- 0.008, CI95: [0.796, 0.824]\n",
      "Midwest number of data 3663\n"
     ]
    },
    {
     "name": "stderr",
     "output_type": "stream",
     "text": [
      "<ipython-input-55-3425c7845084>:37: UserWarning: Boolean Series key will be reindexed to match DataFrame index.\n",
      "  original, std_err, ci_bounds = bootstrap(df_test[df['SG_UF_NOT'].isin(southeast)].values , num_rounds=100, func = auc_CI, ci=0.95, seed=123)\n"
     ]
    },
    {
     "name": "stdout",
     "output_type": "stream",
     "text": [
      "Mean Southeast: 0.811, SE: +/- 0.003, CI95: [0.805, 0.816]\n",
      "Southeast number of data 25951\n"
     ]
    },
    {
     "name": "stderr",
     "output_type": "stream",
     "text": [
      "<ipython-input-55-3425c7845084>:44: UserWarning: Boolean Series key will be reindexed to match DataFrame index.\n",
      "  original, std_err, ci_bounds = bootstrap(df_test[df['SG_UF_NOT'].isin(south)].values , num_rounds=100, func = auc_CI, ci=0.95, seed=123)\n"
     ]
    },
    {
     "name": "stdout",
     "output_type": "stream",
     "text": [
      "Mean South: 0.809, SE: +/- 0.006, CI95: [0.800, 0.822]\n",
      "South number of data 5741\n"
     ]
    }
   ],
   "source": [
    "# Macroregions\n",
    "\n",
    "\n",
    "# Macro Regions\n",
    "\n",
    "northeast  =  set([18,19,20,21,22,23,24,25,26])\n",
    "north  =  set([11,12,13,14,15,16,17])\n",
    "midwest  =  set([7,8,9,10])\n",
    "southeast  =  set([0,1,2,3])\n",
    "south = set([4,5,6])\n",
    "\n",
    "\n",
    "\n",
    "# North\n",
    "\n",
    "original, std_err, ci_bounds = bootstrap(df_test[df['SG_UF_NOT'].isin(north)].values , num_rounds=100, func = auc_CI, ci=0.95, seed=123)\n",
    "print('Mean North: %.3f, SE: +/- %.3f, CI95: [%.3f, %.3f]' % (original, std_err, ci_bounds[0], ci_bounds[1]))\n",
    "print('North number of data %d' % df_test[df_test['SG_UF_NOT'].isin(north)].shape[0])\n",
    "\n",
    "\n",
    "# Northeast\n",
    "\n",
    "original, std_err, ci_bounds = bootstrap(df_test[df['SG_UF_NOT'].isin(northeast)].values , num_rounds=100, func = auc_CI, ci=0.95, seed=123)\n",
    "print('Mean Northeast: %.3f, SE: +/- %.3f, CI95: [%.3f, %.3f]' % (original, std_err, ci_bounds[0], ci_bounds[1]))\n",
    "print('Northeast number of data %d' % df_test[df_test['SG_UF_NOT'].isin(northeast)].shape[0])\n",
    "\n",
    "\n",
    "# Midwest\n",
    "\n",
    "original, std_err, ci_bounds = bootstrap(df_test[df['SG_UF_NOT'].isin(midwest)].values , num_rounds=100, func = auc_CI, ci=0.95, seed=123)\n",
    "print('Mean Midwest: %.3f, SE: +/- %.3f, CI95: [%.3f, %.3f]' % (original, std_err, ci_bounds[0], ci_bounds[1]))\n",
    "print('Midwest number of data %d' % df_test[df_test['SG_UF_NOT'].isin(midwest)].shape[0])\n",
    "\n",
    "\n",
    "# Southeast\n",
    "\n",
    "original, std_err, ci_bounds = bootstrap(df_test[df['SG_UF_NOT'].isin(southeast)].values , num_rounds=100, func = auc_CI, ci=0.95, seed=123)\n",
    "print('Mean Southeast: %.3f, SE: +/- %.3f, CI95: [%.3f, %.3f]' % (original, std_err, ci_bounds[0], ci_bounds[1]))\n",
    "print('Southeast number of data %d' % df_test[df_test['SG_UF_NOT'].isin(southeast)].shape[0])\n",
    "\n",
    "\n",
    "# South\n",
    "\n",
    "original, std_err, ci_bounds = bootstrap(df_test[df['SG_UF_NOT'].isin(south)].values , num_rounds=100, func = auc_CI, ci=0.95, seed=123)\n",
    "print('Mean South: %.3f, SE: +/- %.3f, CI95: [%.3f, %.3f]' % (original, std_err, ci_bounds[0], ci_bounds[1]))\n",
    "print('South number of data %d' % df_test[df_test['SG_UF_NOT'].isin(south)].shape[0])\n"
   ]
  },
  {
   "cell_type": "code",
   "execution_count": 56,
   "metadata": {},
   "outputs": [
    {
     "name": "stdout",
     "output_type": "stream",
     "text": [
      "Mean: 0.813, SE: +/- 0.002, CI95: [0.810, 0.817]\n"
     ]
    }
   ],
   "source": [
    "# CI 95% calculation  AUC\n",
    "\n",
    "def auc_CI(df_test):\n",
    "    x_test, y_test = df_test[:, :-1], df_test[:,[-1]]\n",
    "    xgb_pred = loaded_model_xgb.predict_proba(x_test)\n",
    "    fpr, tpr, thresholds = roc_curve(y_test, xgb_pred[:,1], pos_label=1)\n",
    "    return auc(x=fpr, y=tpr)\n",
    "\n",
    "\n",
    "df_test = pd.merge(x_test, y_test, left_index=True, right_index=True)\n",
    "original, std_err, ci_bounds = bootstrap(df_test.values , num_rounds=100, func = auc_CI, ci=0.95, seed=123)\n",
    "\n",
    "\n",
    "print('Mean: %.3f, SE: +/- %.3f, CI95: [%.3f, %.3f]' % (original, std_err, ci_bounds[0], ci_bounds[1]))"
   ]
  },
  {
   "cell_type": "code",
   "execution_count": 57,
   "metadata": {},
   "outputs": [
    {
     "name": "stdout",
     "output_type": "stream",
     "text": [
      "Mean Death: 0.711, SE: +/- 0.004, CI95: [0.704, 0.721]\n"
     ]
    }
   ],
   "source": [
    "# CI 95% calculation  AP Death\n",
    "\n",
    "def ap_CI_death(df_test):\n",
    "    x_test, y_test = df_test[:, :-1], df_test[:,[-1]]\n",
    "    xgb_pred = loaded_model_xgb.predict_proba(x_test)\n",
    "    return average_precision_score(y_test, xgb_pred[:,0], pos_label=0)\n",
    "\n",
    "\n",
    "df_test = pd.merge(x_test, y_test, left_index=True, right_index=True)\n",
    "original, std_err, ci_bounds = bootstrap(df_test.values , num_rounds=100, func = ap_CI_death, ci=0.95, seed=123)\n",
    "\n",
    "\n",
    "print('Mean Death: %.3f, SE: +/- %.3f, CI95: [%.3f, %.3f]' % (original, std_err, ci_bounds[0], ci_bounds[1]))"
   ]
  },
  {
   "cell_type": "code",
   "execution_count": 58,
   "metadata": {},
   "outputs": [
    {
     "name": "stdout",
     "output_type": "stream",
     "text": [
      "Mean Cure: 0.879, SE: +/- 0.002, CI95: [0.876, 0.883]\n"
     ]
    }
   ],
   "source": [
    "# CI 95% calculation  AP Cure\n",
    "\n",
    "def ap_CI_cure(df_test):\n",
    "    x_test, y_test = df_test[:, :-1], df_test[:,[-1]]\n",
    "    xgb_pred = loaded_model_xgb.predict_proba(x_test)\n",
    "    return average_precision_score(y_test, xgb_pred[:,1])\n",
    "\n",
    "\n",
    "df_test = pd.merge(x_test, y_test, left_index=True, right_index=True)\n",
    "original, std_err, ci_bounds = bootstrap(df_test.values , num_rounds=100, func = ap_CI_cure, ci=0.95, seed=123)\n",
    "\n",
    "\n",
    "print('Mean Cure: %.3f, SE: +/- %.3f, CI95: [%.3f, %.3f]' % (original, std_err, ci_bounds[0], ci_bounds[1]))"
   ]
  }
 ],
 "metadata": {
  "kernelspec": {
   "display_name": "Python 3",
   "language": "python",
   "name": "python3"
  },
  "language_info": {
   "codemirror_mode": {
    "name": "ipython",
    "version": 3
   },
   "file_extension": ".py",
   "mimetype": "text/x-python",
   "name": "python",
   "nbconvert_exporter": "python",
   "pygments_lexer": "ipython3",
   "version": "3.8.5"
  }
 },
 "nbformat": 4,
 "nbformat_minor": 2
}
