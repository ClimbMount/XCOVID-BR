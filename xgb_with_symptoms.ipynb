{
 "cells": [
  {
   "cell_type": "code",
   "execution_count": 1,
   "metadata": {},
   "outputs": [],
   "source": [
    "# Covid19 Analysis\n"
   ]
  },
  {
   "cell_type": "code",
   "execution_count": 2,
   "metadata": {},
   "outputs": [],
   "source": [
    "# libraries\n",
    "\n",
    "import pandas as pd\n",
    "import matplotlib.pyplot as plt\n",
    "import numpy as np\n",
    "from sklearn.model_selection import GridSearchCV\n",
    "from sklearn.metrics import roc_curve\n",
    "from sklearn.metrics import auc\n",
    "from sklearn.metrics import accuracy_score\n",
    "import pickle\n",
    "from sklearn.metrics import r2_score\n",
    "from sklearn.metrics import average_precision_score\n",
    "from sklearn.metrics import precision_recall_curve\n",
    "from xgboost import XGBClassifier\n",
    "from haversine import haversine, Unit\n",
    "from haversine import haversine_vector"
   ]
  },
  {
   "cell_type": "code",
   "execution_count": 3,
   "metadata": {},
   "outputs": [
    {
     "name": "stderr",
     "output_type": "stream",
     "text": [
      "/home/pedro/.local/lib/python3.8/site-packages/IPython/core/interactiveshell.py:3146: DtypeWarning: Columns (15,60,62,63,64,92,94,108,117,121,123) have mixed types.Specify dtype option on import or set low_memory=False.\n",
      "  has_raised = await self.run_ast_nodes(code_ast.body, cell_name,\n"
     ]
    },
    {
     "name": "stdout",
     "output_type": "stream",
     "text": [
      "(299142, 154)\n"
     ]
    },
    {
     "name": "stderr",
     "output_type": "stream",
     "text": [
      "<ipython-input-3-f1ed0beb5eec>:16: UserWarning: Boolean Series key will be reindexed to match DataFrame index.\n",
      "  df = df[df['PCR_SARS2']==1][df['HOSPITAL']==1][df['NU_IDADE_N']<=110]\n"
     ]
    },
    {
     "name": "stdout",
     "output_type": "stream",
     "text": [
      "(279982, 154)\n"
     ]
    },
    {
     "name": "stderr",
     "output_type": "stream",
     "text": [
      "<ipython-input-3-f1ed0beb5eec>:21: UserWarning: Boolean Series key will be reindexed to match DataFrame index.\n",
      "  df = df[df['PCR_SARS2']==1][df['HOSPITAL']==1][df['NU_IDADE_N']<=110][df['EVOLUCAO'] != 3][df['EVOLUCAO'] != 9][df['EVOLUCAO'].notnull()]\n"
     ]
    },
    {
     "name": "stdout",
     "output_type": "stream",
     "text": [
      "(242679, 154)\n"
     ]
    }
   ],
   "source": [
    "# reading dataset\n",
    "# https://opendatasus.saude.gov.br/dataset/bd-srag-2020\n",
    "\n",
    "df = pd.read_csv('/home/pedro/bkp/code/dataset/INFLUD-21-09-2020.csv',sep=';',encoding = \"ISO-8859-1\")\n",
    "\n",
    "# Inputing constraint in the dataset \n",
    "\n",
    "# Positive case:\n",
    "\n",
    "df = df[df['PCR_SARS2']==1]\n",
    "print(df.shape)\n",
    "\n",
    "\n",
    "# Hospitalized people:\n",
    "\n",
    "df = df[df['PCR_SARS2']==1][df['HOSPITAL']==1][df['NU_IDADE_N']<=110]\n",
    "print(df.shape)\n",
    "\n",
    "# Hospitalized people with age small than 110:\n",
    "\n",
    "df = df[df['PCR_SARS2']==1][df['HOSPITAL']==1][df['NU_IDADE_N']<=110][df['EVOLUCAO'] != 3][df['EVOLUCAO'] != 9][df['EVOLUCAO'].notnull()]\n",
    "print(df.shape)\n"
   ]
  },
  {
   "cell_type": "code",
   "execution_count": 4,
   "metadata": {},
   "outputs": [],
   "source": [
    "# Latitudes and longitudes table from municipalities\n",
    "\n",
    "df_cod = pd.read_csv('/home/pedro/bkp/code/dataset/municipios.csv', sep=',')\n"
   ]
  },
  {
   "cell_type": "code",
   "execution_count": 5,
   "metadata": {},
   "outputs": [],
   "source": [
    "# Removing last number from \"codenumber\"\n",
    "\n",
    "df_cod['CO_MUN_RES'] = df_cod['CO_MUN_RES'].astype(str).str[:-1].astype(np.int64)\n",
    "df_cod['CO_MU_INTE'] = df_cod['CO_MU_INTE'].astype(str).str[:-1].astype(np.int64)"
   ]
  },
  {
   "cell_type": "code",
   "execution_count": 6,
   "metadata": {},
   "outputs": [
    {
     "name": "stdout",
     "output_type": "stream",
     "text": [
      "(242679, 156)\n",
      "(242679, 156)\n"
     ]
    }
   ],
   "source": [
    "# To match catalogues using muninipacity code\n",
    "# latitude and longitude for pacient residence\n",
    "\n",
    "\n",
    "result_01 = pd.merge(df, df_cod[['CO_MUN_RES','latitude_res','longitude_res']], on='CO_MUN_RES', how=\"left\")\n",
    "result_02 = pd.merge(df, df_cod[['CO_MU_INTE','latitude_int','longitude_int']], on='CO_MU_INTE', how=\"left\") \n",
    "\n",
    "print(result_01.shape)\n",
    "print(result_02.shape)"
   ]
  },
  {
   "cell_type": "code",
   "execution_count": 7,
   "metadata": {},
   "outputs": [
    {
     "name": "stdout",
     "output_type": "stream",
     "text": [
      "(242679, 2)\n",
      "(242679, 2)\n"
     ]
    }
   ],
   "source": [
    "# To transforming in tuple\n",
    "\n",
    "patient_mun_code  = result_01[['latitude_res','longitude_res']].to_numpy()\n",
    "hospital_mun_code = result_02[['latitude_int','longitude_int']].to_numpy()\n",
    "\n",
    "\n",
    "print(patient_mun_code.shape)\n",
    "print(hospital_mun_code.shape)"
   ]
  },
  {
   "cell_type": "code",
   "execution_count": 8,
   "metadata": {},
   "outputs": [],
   "source": [
    "# To calculate the distance from patient to hospital (difference between municipalities centers in km)\n",
    "\n",
    "df['distance'] = haversine_vector(patient_mun_code, hospital_mun_code, Unit.KILOMETERS)"
   ]
  },
  {
   "cell_type": "code",
   "execution_count": 9,
   "metadata": {},
   "outputs": [
    {
     "name": "stdout",
     "output_type": "stream",
     "text": [
      "        CO_MUN_RES  CO_MU_INTE     ID_MUNICIP    distance\n",
      "7         351880.0    355030.0      SAO PAULO   13.951736\n",
      "9         350570.0    355030.0      SAO PAULO   24.605443\n",
      "10        355030.0    355030.0      SAO PAULO    0.000000\n",
      "12        352670.0    352670.0           LEME    0.000000\n",
      "18        355030.0    355030.0      SAO PAULO    0.000000\n",
      "...            ...         ...            ...         ...\n",
      "754858    330630.0    330630.0  VOLTA REDONDA    0.000000\n",
      "754875    317020.0    317020.0     UBERLANDIA    0.000000\n",
      "754892    291110.0    290320.0      BARREIRAS  125.383634\n",
      "754896    230640.0    230440.0      FORTALEZA  118.057231\n",
      "754897    330070.0    330070.0      CABO FRIO    0.000000\n",
      "\n",
      "[242679 rows x 4 columns]\n"
     ]
    }
   ],
   "source": [
    "# To check\n",
    "\n",
    "print(df[['CO_MUN_RES','CO_MU_INTE','ID_MUNICIP', 'distance']])"
   ]
  },
  {
   "cell_type": "code",
   "execution_count": 10,
   "metadata": {},
   "outputs": [
    {
     "data": {
      "image/png": "[encoded data removed]",
      "text/plain": [
       "<Figure size 432x288 with 1 Axes>"
      ]
     },
     "metadata": {
      "needs_background": "light"
     },
     "output_type": "display_data"
    }
   ],
   "source": [
    "# Histogram for Municipality Distance\n",
    "\n",
    "plt.hist(df['distance'], 50, density=False, facecolor='g', alpha=0.75) # .dropna(),\n",
    "plt.xlabel('km')\n",
    "plt.ylabel('Distribution')\n",
    "plt.title('Municipality Distance')\n",
    "plt.show()"
   ]
  },
  {
   "cell_type": "code",
   "execution_count": 11,
   "metadata": {},
   "outputs": [
    {
     "name": "stdout",
     "output_type": "stream",
     "text": [
      "        CO_MUN_RES  CO_MU_INTE        ID_MUNICIP     distance\n",
      "136401    431680.0    261160.0            RECIFE  3027.037343\n",
      "200859    140010.0    420910.0         JOINVILLE  3479.593208\n",
      "299138    421565.0    150405.0        MAE DO RIO  3019.144779\n",
      "373144    110070.0    261160.0            RECIFE  3166.007414\n",
      "509610    120020.0    310620.0    BELO HORIZONTE  3383.789594\n",
      "573760    211120.0    430300.0  CACHOEIRA DO SUL  3195.009539\n",
      "616802    260290.0    431440.0           PELOTAS  3165.723955\n",
      "655586    160060.0    430910.0           GRAMADO  3261.277507\n",
      "693063    431490.0    240800.0           MOSSORO  3121.907328\n",
      "696975    140010.0    355030.0         SAO PAULO  3301.511571\n"
     ]
    }
   ],
   "source": [
    "# To check long distances\n",
    "\n",
    "print(df[['CO_MUN_RES','CO_MU_INTE','ID_MUNICIP', 'distance']][df['distance']>3000])"
   ]
  },
  {
   "cell_type": "code",
   "execution_count": 12,
   "metadata": {},
   "outputs": [
    {
     "name": "stdout",
     "output_type": "stream",
     "text": [
      "3479.593208186318\n",
      "        CO_MUN_RES  CO_MU_INTE ID_MUNICIP     distance\n",
      "200859    140010.0    420910.0  JOINVILLE  3479.593208\n"
     ]
    }
   ],
   "source": [
    "print(df['distance'].max())\n",
    "print(df[['CO_MUN_RES','CO_MU_INTE','ID_MUNICIP', 'distance']][df['distance']>3479])                            \n",
    "\n",
    "# Bigger distance  Boa Vista (Roraima) to Joinville (Santa Catarina)"
   ]
  },
  {
   "cell_type": "code",
   "execution_count": 13,
   "metadata": {},
   "outputs": [],
   "source": [
    "# overcrowded dataset\n",
    "# dataset with code from hospital (cnes) with epidemiology week and the overcrowded status of hospital.\n",
    "\n",
    "df_cod = pd.read_csv('/home/pedro/bkp/code/dataset/hospital_overcrowded.csv', sep=',')\n",
    "\n",
    "# CO_UNI_NOT, SEM_NOT, Overcrowded\n",
    "\n",
    "# Overload = number of hospitalization in epidemiological week for COVID-19 / 2019 sum hospital hospitalization by SARS"
   ]
  },
  {
   "cell_type": "code",
   "execution_count": 14,
   "metadata": {},
   "outputs": [
    {
     "name": "stdout",
     "output_type": "stream",
     "text": [
      "(242679, 156)\n"
     ]
    }
   ],
   "source": [
    "# To check\n",
    "\n",
    "df = pd.merge(df, df_cod, on=['CO_UNI_NOT', 'SEM_NOT'], how=\"left\")\n",
    "print(df.shape)"
   ]
  },
  {
   "cell_type": "code",
   "execution_count": 15,
   "metadata": {},
   "outputs": [
    {
     "name": "stdout",
     "output_type": "stream",
     "text": [
      "242679\n",
      "242679\n",
      "1814\n",
      "4401\n"
     ]
    }
   ],
   "source": [
    "# Municipalities number inicial\n",
    "\n",
    "# patient municipality code number\n",
    "print(len(df['CO_MUN_NOT']))\n",
    "\n",
    "# reporting health unit code number\n",
    "print(len(df['CO_UNI_NOT']))\n",
    "\n",
    "\n",
    "print(df['CO_MUN_NOT'].nunique())\n",
    "print(df['CO_MUN_RES'].nunique())"
   ]
  },
  {
   "cell_type": "code",
   "execution_count": 16,
   "metadata": {},
   "outputs": [
    {
     "name": "stdout",
     "output_type": "stream",
     "text": [
      "44\n",
      "1890\n",
      "2233\n",
      "1367\n",
      "32\n"
     ]
    }
   ],
   "source": [
    "# IDHM\n",
    "\n",
    "# Reading IBGE code for each municipalities and separating it for IDHM index\n",
    "\n",
    "df_atlas = pd.read_excel (r'/home/pedro/bkp/code/dataset/AtlasBrasil_Consulta.xlsx')\n",
    "\n",
    "\n",
    "# removind last interger in 'code' variable\n",
    "\n",
    "df_atlas['code'] = df_atlas['code'].astype(str).str[:-1].astype(np.int64)\n",
    "\n",
    "\n",
    "# Divinding IDHM in bins\n",
    "\n",
    "IDHM_veryhigh  =  set(df_atlas['code'][df_atlas['IDHM2010']>=0.800])\n",
    "print(len(IDHM_veryhigh))\n",
    "\n",
    "\n",
    "IDHM_high  =  set(df_atlas['code'][((df_atlas['IDHM2010']>=0.700)&(df_atlas['IDHM2010']<0.800))])\n",
    "print(len(IDHM_high))\n",
    "\n",
    "\n",
    "IDHM_medium  =  set(df_atlas['code'][((df_atlas['IDHM2010']>=0.600)&(df_atlas['IDHM2010']<0.700))])\n",
    "print(len(IDHM_medium))\n",
    "\n",
    "\n",
    "IDHM_low  =  set(df_atlas['code'][((df_atlas['IDHM2010']>=0.500)&(df_atlas['IDHM2010']<0.600))])\n",
    "print(len(IDHM_low))\n",
    "\n",
    "\n",
    "IDHM_verylow  =  set(df_atlas['code'][df_atlas['IDHM2010']<0.500])\n",
    "print(len(IDHM_verylow))\n",
    "\n",
    "\n",
    "\n",
    "\n",
    "df.loc[df['CO_MUN_NOT'].isin(IDHM_veryhigh) == True, 'IDHM'] = 5\n",
    "df.loc[df['CO_MUN_NOT'].isin(IDHM_high) == True, 'IDHM'] = 4\n",
    "df.loc[df['CO_MUN_NOT'].isin(IDHM_medium) == True, 'IDHM'] = 3\n",
    "df.loc[df['CO_MUN_NOT'].isin(IDHM_low) == True, 'IDHM'] = 2\n",
    "df.loc[df['CO_MUN_NOT'].isin(IDHM_verylow) == True, 'IDHM'] = 1\n"
   ]
  },
  {
   "cell_type": "code",
   "execution_count": 17,
   "metadata": {},
   "outputs": [],
   "source": [
    "# Private and public hospital separation\n",
    "\n",
    "df_hospital = pd.read_csv('/home/pedro/bkp/code/dataset/CNES_SUS.txt', sep='\\t')\n",
    "\n",
    "\n",
    "public   =  set(df_hospital.iloc[:,0][df_hospital.iloc[:,3]=='S'])\n",
    "private  =  set(df_hospital.iloc[:,0][df_hospital.iloc[:,3]=='N'])\n",
    "\n",
    "\n",
    "df.loc[df['CO_UNI_NOT'].isin(public) == True, 'HEALTH_SYSTEM'] = 1\n",
    "df.loc[df['CO_UNI_NOT'].isin(private) == True, 'HEALTH_SYSTEM'] = 0\n",
    "\n",
    "# CO_UNI_NOT"
   ]
  },
  {
   "cell_type": "code",
   "execution_count": 18,
   "metadata": {},
   "outputs": [
    {
     "name": "stderr",
     "output_type": "stream",
     "text": [
      "<ipython-input-18-8f4afe5f8a91>:3: UserWarning: Boolean Series key will be reindexed to match DataFrame index.\n",
      "  df = df[df['IDHM'].notnull()][(df['HEALTH_SYSTEM']==1)|(df['HEALTH_SYSTEM']==0)]\n"
     ]
    },
    {
     "name": "stdout",
     "output_type": "stream",
     "text": [
      "(231112, 158)\n"
     ]
    }
   ],
   "source": [
    "# Constraint on dataset: We only analyze people with evolution, IDHM and Health system outcomes\n",
    "\n",
    "df = df[df['IDHM'].notnull()][(df['HEALTH_SYSTEM']==1)|(df['HEALTH_SYSTEM']==0)]\n",
    "print(df.shape)"
   ]
  },
  {
   "cell_type": "code",
   "execution_count": 19,
   "metadata": {},
   "outputs": [
    {
     "name": "stdout",
     "output_type": "stream",
     "text": [
      "231112\n",
      "231112\n",
      "1801\n",
      "1766\n"
     ]
    }
   ],
   "source": [
    "# Municipalities number\n",
    "\n",
    "print(len(df['CO_MUN_NOT']))\n",
    "print(len(df['CO_MU_INTE']))\n",
    "\n",
    "print(df['CO_MUN_NOT'].nunique())\n",
    "print(df['CO_MU_INTE'].nunique())\n"
   ]
  },
  {
   "cell_type": "code",
   "execution_count": 20,
   "metadata": {},
   "outputs": [],
   "source": [
    "# To selecting features and target\n",
    "\n",
    "df = df[['Overload', 'distance','NU_IDADE_N','CS_SEXO','IDHM','CS_RACA','CS_ESCOL_N','SG_UF_NOT','CS_ZONA',\\\n",
    "'HEALTH_SYSTEM','CS_GESTANT','FEBRE','VOMITO','TOSSE','GARGANTA','DESC_RESP','DISPNEIA','DIARREIA',\\\n",
    "'SATURACAO','CARDIOPATI','HEPATICA','ASMA','PNEUMOPATI','RENAL','HEMATOLOGI','DIABETES',\\\n",
    "'OBESIDADE','NEUROLOGIC','IMUNODEPRE','EVOLUCAO']]"
   ]
  },
  {
   "cell_type": "code",
   "execution_count": 21,
   "metadata": {},
   "outputs": [],
   "source": [
    "# adding comorbidities\n",
    "\n",
    "df['SUM_COMORBIDITIES'] = df.iloc[:,19:-1].replace([9,2], 0).fillna(0).sum(axis=1)\n",
    "df['SUM_SYMPTOMS'] = df.iloc[:,11:17].replace([9,2], 0).fillna(0).sum(axis=1)\n"
   ]
  },
  {
   "cell_type": "code",
   "execution_count": 22,
   "metadata": {},
   "outputs": [],
   "source": [
    "# Ordering features\n",
    "\n",
    "df = df[['Overload', 'distance','NU_IDADE_N','CS_SEXO','IDHM','SUM_COMORBIDITIES','SUM_SYMPTOMS',\\\n",
    "'CS_RACA','CS_ESCOL_N','SG_UF_NOT','CS_ZONA','HEALTH_SYSTEM','CS_GESTANT','FEBRE','VOMITO','TOSSE',\\\n",
    "'GARGANTA','DESC_RESP','DISPNEIA','DIARREIA','SATURACAO','CARDIOPATI','HEPATICA','ASMA','PNEUMOPATI',\\\n",
    "'RENAL','HEMATOLOGI','DIABETES','OBESIDADE','NEUROLOGIC','IMUNODEPRE','EVOLUCAO']]"
   ]
  },
  {
   "cell_type": "code",
   "execution_count": 23,
   "metadata": {},
   "outputs": [],
   "source": [
    "# Pre-Processing\n",
    "\n",
    "df = df[df['EVOLUCAO'].notnull()][df['EVOLUCAO']!=9][df['EVOLUCAO']!=3]#[df_BR['NU_IDADE_N'].notnull()]\n",
    "df['CS_SEXO']=df['CS_SEXO'].replace({'M': 1, 'F':0, 'I':9, 'NaN':np.nan})\n",
    "\n",
    "\n",
    "# replacing 2 by 0 (Death patients)\n",
    "df.iloc[:,13:] = df.iloc[:,13:].replace(to_replace = 2.0, value =0) \n",
    "\n",
    "\n",
    "df['SG_UF_NOT'] = df['SG_UF_NOT'].map({'SP': 0, 'RJ':1, 'MG': 2 , 'ES':3, \\\n",
    "'RS':4, 'SC': 5, 'PR': 6, 'MT': 7, 'MS': 8, 'GO':9, 'DF':10, 'RO':11,'AC':12,'AM':13,\\\n",
    "'RR':14,'PA':15,'AP':16,'TO':17,'MA':18,'PI':19,'BA':20,'CE':21,'RN':22,'PB':23,'PE':24,'AL':25,'SE':26})\n",
    "\n",
    "# For missing values in comorbidities and symptoms we filled by 0.\n",
    "df.iloc[:,13:-1] = df.iloc[:,13:-1].fillna(0)"
   ]
  },
  {
   "cell_type": "code",
   "execution_count": 24,
   "metadata": {},
   "outputs": [],
   "source": [
    "# feature\n",
    "x = df.iloc[:,:-1]\n",
    "\n",
    "# labels\n",
    "y = df['EVOLUCAO']"
   ]
  },
  {
   "cell_type": "code",
   "execution_count": 25,
   "metadata": {},
   "outputs": [],
   "source": [
    "# data separation\n",
    "from sklearn.model_selection import train_test_split\n",
    "x_train, x_test, y_train, y_test = \\\n",
    "    train_test_split(x, y, test_size=0.2, random_state=5)\n"
   ]
  },
  {
   "cell_type": "code",
   "execution_count": 26,
   "metadata": {},
   "outputs": [
    {
     "name": "stdout",
     "output_type": "stream",
     "text": [
      "(184889,)\n",
      "(46223,)\n"
     ]
    }
   ],
   "source": [
    "print(y_train.shape)\n",
    "print(y_test.shape)"
   ]
  },
  {
   "cell_type": "code",
   "execution_count": 27,
   "metadata": {},
   "outputs": [
    {
     "name": "stderr",
     "output_type": "stream",
     "text": [
      "/home/pedro/anaconda3/lib/python3.8/site-packages/xgboost/sklearn.py:892: UserWarning: The use of label encoder in XGBClassifier is deprecated and will be removed in a future release. To remove this warning, do the following: 1) Pass option use_label_encoder=False when constructing XGBClassifier object; and 2) Encode your labels (y) as integers starting with 0, i.e. 0, 1, 2, ..., [num_class - 1].\n",
      "  warnings.warn(label_encoder_deprecation_msg, UserWarning)\n"
     ]
    },
    {
     "name": "stdout",
     "output_type": "stream",
     "text": [
      "[22:39:02] WARNING: ../src/learner.cc:541: \n",
      "Parameters: { booster  } might not be used.\n",
      "\n",
      "  This may not be accurate due to some parameters are only used in language bindings but\n",
      "  passed down to XGBoost core.  Or some parameters are not used but slip through this\n",
      "  verification. Please open an issue if you find above cases.\n",
      "\n",
      "\n",
      "[22:39:02] WARNING: ../src/learner.cc:1061: Starting in XGBoost 1.3.0, the default evaluation metric used with the objective 'binary:logistic' was changed from 'error' to 'logloss'. Explicitly set eval_metric if you'd like to restore the old behavior.\n"
     ]
    },
    {
     "name": "stderr",
     "output_type": "stream",
     "text": [
      "/home/pedro/anaconda3/lib/python3.8/site-packages/xgboost/sklearn.py:892: UserWarning: The use of label encoder in XGBClassifier is deprecated and will be removed in a future release. To remove this warning, do the following: 1) Pass option use_label_encoder=False when constructing XGBClassifier object; and 2) Encode your labels (y) as integers starting with 0, i.e. 0, 1, 2, ..., [num_class - 1].\n",
      "  warnings.warn(label_encoder_deprecation_msg, UserWarning)\n"
     ]
    },
    {
     "name": "stdout",
     "output_type": "stream",
     "text": [
      "[22:39:17] WARNING: ../src/learner.cc:541: \n",
      "Parameters: { booster  } might not be used.\n",
      "\n",
      "  This may not be accurate due to some parameters are only used in language bindings but\n",
      "  passed down to XGBoost core.  Or some parameters are not used but slip through this\n",
      "  verification. Please open an issue if you find above cases.\n",
      "\n",
      "\n",
      "[22:39:17] WARNING: ../src/learner.cc:1061: Starting in XGBoost 1.3.0, the default evaluation metric used with the objective 'binary:logistic' was changed from 'error' to 'logloss'. Explicitly set eval_metric if you'd like to restore the old behavior.\n"
     ]
    },
    {
     "name": "stderr",
     "output_type": "stream",
     "text": [
      "/home/pedro/anaconda3/lib/python3.8/site-packages/xgboost/sklearn.py:892: UserWarning: The use of label encoder in XGBClassifier is deprecated and will be removed in a future release. To remove this warning, do the following: 1) Pass option use_label_encoder=False when constructing XGBClassifier object; and 2) Encode your labels (y) as integers starting with 0, i.e. 0, 1, 2, ..., [num_class - 1].\n",
      "  warnings.warn(label_encoder_deprecation_msg, UserWarning)\n"
     ]
    },
    {
     "name": "stdout",
     "output_type": "stream",
     "text": [
      "[22:39:31] WARNING: ../src/learner.cc:541: \n",
      "Parameters: { booster  } might not be used.\n",
      "\n",
      "  This may not be accurate due to some parameters are only used in language bindings but\n",
      "  passed down to XGBoost core.  Or some parameters are not used but slip through this\n",
      "  verification. Please open an issue if you find above cases.\n",
      "\n",
      "\n",
      "[22:39:31] WARNING: ../src/learner.cc:1061: Starting in XGBoost 1.3.0, the default evaluation metric used with the objective 'binary:logistic' was changed from 'error' to 'logloss'. Explicitly set eval_metric if you'd like to restore the old behavior.\n"
     ]
    },
    {
     "name": "stderr",
     "output_type": "stream",
     "text": [
      "/home/pedro/anaconda3/lib/python3.8/site-packages/xgboost/sklearn.py:892: UserWarning: The use of label encoder in XGBClassifier is deprecated and will be removed in a future release. To remove this warning, do the following: 1) Pass option use_label_encoder=False when constructing XGBClassifier object; and 2) Encode your labels (y) as integers starting with 0, i.e. 0, 1, 2, ..., [num_class - 1].\n",
      "  warnings.warn(label_encoder_deprecation_msg, UserWarning)\n"
     ]
    },
    {
     "name": "stdout",
     "output_type": "stream",
     "text": [
      "[22:39:45] WARNING: ../src/learner.cc:541: \n",
      "Parameters: { booster  } might not be used.\n",
      "\n",
      "  This may not be accurate due to some parameters are only used in language bindings but\n",
      "  passed down to XGBoost core.  Or some parameters are not used but slip through this\n",
      "  verification. Please open an issue if you find above cases.\n",
      "\n",
      "\n",
      "[22:39:45] WARNING: ../src/learner.cc:1061: Starting in XGBoost 1.3.0, the default evaluation metric used with the objective 'binary:logistic' was changed from 'error' to 'logloss'. Explicitly set eval_metric if you'd like to restore the old behavior.\n"
     ]
    },
    {
     "name": "stderr",
     "output_type": "stream",
     "text": [
      "/home/pedro/anaconda3/lib/python3.8/site-packages/xgboost/sklearn.py:892: UserWarning: The use of label encoder in XGBClassifier is deprecated and will be removed in a future release. To remove this warning, do the following: 1) Pass option use_label_encoder=False when constructing XGBClassifier object; and 2) Encode your labels (y) as integers starting with 0, i.e. 0, 1, 2, ..., [num_class - 1].\n",
      "  warnings.warn(label_encoder_deprecation_msg, UserWarning)\n"
     ]
    },
    {
     "name": "stdout",
     "output_type": "stream",
     "text": [
      "[22:39:59] WARNING: ../src/learner.cc:541: \n",
      "Parameters: { booster  } might not be used.\n",
      "\n",
      "  This may not be accurate due to some parameters are only used in language bindings but\n",
      "  passed down to XGBoost core.  Or some parameters are not used but slip through this\n",
      "  verification. Please open an issue if you find above cases.\n",
      "\n",
      "\n",
      "[22:39:59] WARNING: ../src/learner.cc:1061: Starting in XGBoost 1.3.0, the default evaluation metric used with the objective 'binary:logistic' was changed from 'error' to 'logloss'. Explicitly set eval_metric if you'd like to restore the old behavior.\n"
     ]
    },
    {
     "name": "stderr",
     "output_type": "stream",
     "text": [
      "/home/pedro/anaconda3/lib/python3.8/site-packages/xgboost/sklearn.py:892: UserWarning: The use of label encoder in XGBClassifier is deprecated and will be removed in a future release. To remove this warning, do the following: 1) Pass option use_label_encoder=False when constructing XGBClassifier object; and 2) Encode your labels (y) as integers starting with 0, i.e. 0, 1, 2, ..., [num_class - 1].\n",
      "  warnings.warn(label_encoder_deprecation_msg, UserWarning)\n"
     ]
    },
    {
     "name": "stdout",
     "output_type": "stream",
     "text": [
      "[22:40:13] WARNING: ../src/learner.cc:541: \n",
      "Parameters: { booster  } might not be used.\n",
      "\n",
      "  This may not be accurate due to some parameters are only used in language bindings but\n",
      "  passed down to XGBoost core.  Or some parameters are not used but slip through this\n",
      "  verification. Please open an issue if you find above cases.\n",
      "\n",
      "\n",
      "[22:40:14] WARNING: ../src/learner.cc:1061: Starting in XGBoost 1.3.0, the default evaluation metric used with the objective 'binary:logistic' was changed from 'error' to 'logloss'. Explicitly set eval_metric if you'd like to restore the old behavior.\n"
     ]
    },
    {
     "name": "stderr",
     "output_type": "stream",
     "text": [
      "/home/pedro/anaconda3/lib/python3.8/site-packages/xgboost/sklearn.py:892: UserWarning: The use of label encoder in XGBClassifier is deprecated and will be removed in a future release. To remove this warning, do the following: 1) Pass option use_label_encoder=False when constructing XGBClassifier object; and 2) Encode your labels (y) as integers starting with 0, i.e. 0, 1, 2, ..., [num_class - 1].\n",
      "  warnings.warn(label_encoder_deprecation_msg, UserWarning)\n"
     ]
    },
    {
     "name": "stdout",
     "output_type": "stream",
     "text": [
      "[22:40:28] WARNING: ../src/learner.cc:541: \n",
      "Parameters: { booster  } might not be used.\n",
      "\n",
      "  This may not be accurate due to some parameters are only used in language bindings but\n",
      "  passed down to XGBoost core.  Or some parameters are not used but slip through this\n",
      "  verification. Please open an issue if you find above cases.\n",
      "\n",
      "\n",
      "[22:40:28] WARNING: ../src/learner.cc:1061: Starting in XGBoost 1.3.0, the default evaluation metric used with the objective 'binary:logistic' was changed from 'error' to 'logloss'. Explicitly set eval_metric if you'd like to restore the old behavior.\n"
     ]
    },
    {
     "name": "stderr",
     "output_type": "stream",
     "text": [
      "/home/pedro/anaconda3/lib/python3.8/site-packages/xgboost/sklearn.py:892: UserWarning: The use of label encoder in XGBClassifier is deprecated and will be removed in a future release. To remove this warning, do the following: 1) Pass option use_label_encoder=False when constructing XGBClassifier object; and 2) Encode your labels (y) as integers starting with 0, i.e. 0, 1, 2, ..., [num_class - 1].\n",
      "  warnings.warn(label_encoder_deprecation_msg, UserWarning)\n"
     ]
    },
    {
     "name": "stdout",
     "output_type": "stream",
     "text": [
      "[22:40:42] WARNING: ../src/learner.cc:541: \n",
      "Parameters: { booster  } might not be used.\n",
      "\n",
      "  This may not be accurate due to some parameters are only used in language bindings but\n",
      "  passed down to XGBoost core.  Or some parameters are not used but slip through this\n",
      "  verification. Please open an issue if you find above cases.\n",
      "\n",
      "\n",
      "[22:40:42] WARNING: ../src/learner.cc:1061: Starting in XGBoost 1.3.0, the default evaluation metric used with the objective 'binary:logistic' was changed from 'error' to 'logloss'. Explicitly set eval_metric if you'd like to restore the old behavior.\n"
     ]
    },
    {
     "name": "stderr",
     "output_type": "stream",
     "text": [
      "/home/pedro/anaconda3/lib/python3.8/site-packages/xgboost/sklearn.py:892: UserWarning: The use of label encoder in XGBClassifier is deprecated and will be removed in a future release. To remove this warning, do the following: 1) Pass option use_label_encoder=False when constructing XGBClassifier object; and 2) Encode your labels (y) as integers starting with 0, i.e. 0, 1, 2, ..., [num_class - 1].\n",
      "  warnings.warn(label_encoder_deprecation_msg, UserWarning)\n"
     ]
    },
    {
     "name": "stdout",
     "output_type": "stream",
     "text": [
      "[22:40:57] WARNING: ../src/learner.cc:541: \n",
      "Parameters: { booster  } might not be used.\n",
      "\n",
      "  This may not be accurate due to some parameters are only used in language bindings but\n",
      "  passed down to XGBoost core.  Or some parameters are not used but slip through this\n",
      "  verification. Please open an issue if you find above cases.\n",
      "\n",
      "\n",
      "[22:40:57] WARNING: ../src/learner.cc:1061: Starting in XGBoost 1.3.0, the default evaluation metric used with the objective 'binary:logistic' was changed from 'error' to 'logloss'. Explicitly set eval_metric if you'd like to restore the old behavior.\n"
     ]
    },
    {
     "name": "stderr",
     "output_type": "stream",
     "text": [
      "/home/pedro/anaconda3/lib/python3.8/site-packages/xgboost/sklearn.py:892: UserWarning: The use of label encoder in XGBClassifier is deprecated and will be removed in a future release. To remove this warning, do the following: 1) Pass option use_label_encoder=False when constructing XGBClassifier object; and 2) Encode your labels (y) as integers starting with 0, i.e. 0, 1, 2, ..., [num_class - 1].\n",
      "  warnings.warn(label_encoder_deprecation_msg, UserWarning)\n"
     ]
    },
    {
     "name": "stdout",
     "output_type": "stream",
     "text": [
      "[22:41:11] WARNING: ../src/learner.cc:541: \n",
      "Parameters: { booster  } might not be used.\n",
      "\n",
      "  This may not be accurate due to some parameters are only used in language bindings but\n",
      "  passed down to XGBoost core.  Or some parameters are not used but slip through this\n",
      "  verification. Please open an issue if you find above cases.\n",
      "\n",
      "\n",
      "[22:41:11] WARNING: ../src/learner.cc:1061: Starting in XGBoost 1.3.0, the default evaluation metric used with the objective 'binary:logistic' was changed from 'error' to 'logloss'. Explicitly set eval_metric if you'd like to restore the old behavior.\n"
     ]
    },
    {
     "name": "stderr",
     "output_type": "stream",
     "text": [
      "/home/pedro/anaconda3/lib/python3.8/site-packages/xgboost/sklearn.py:892: UserWarning: The use of label encoder in XGBClassifier is deprecated and will be removed in a future release. To remove this warning, do the following: 1) Pass option use_label_encoder=False when constructing XGBClassifier object; and 2) Encode your labels (y) as integers starting with 0, i.e. 0, 1, 2, ..., [num_class - 1].\n",
      "  warnings.warn(label_encoder_deprecation_msg, UserWarning)\n"
     ]
    },
    {
     "name": "stdout",
     "output_type": "stream",
     "text": [
      "[22:41:26] WARNING: ../src/learner.cc:541: \n",
      "Parameters: { booster  } might not be used.\n",
      "\n",
      "  This may not be accurate due to some parameters are only used in language bindings but\n",
      "  passed down to XGBoost core.  Or some parameters are not used but slip through this\n",
      "  verification. Please open an issue if you find above cases.\n",
      "\n",
      "\n",
      "[22:41:26] WARNING: ../src/learner.cc:1061: Starting in XGBoost 1.3.0, the default evaluation metric used with the objective 'binary:logistic' was changed from 'error' to 'logloss'. Explicitly set eval_metric if you'd like to restore the old behavior.\n",
      "0.8106485094585718\n",
      "{'booster ': 'gbtree', 'colsample_bytree': 0.9, 'eta': 0.2, 'gamma': 1, 'max_depth': 4, 'n_estimators': 200, 'subsample': 0.9}\n",
      "[0.81064851]\n",
      "[0.00372628]\n",
      "[0.82167286]\n",
      "[0.00050638]\n",
      "[22:41:41] WARNING: ../src/learner.cc:541: \n",
      "Parameters: { booster  } might not be used.\n",
      "\n",
      "  This may not be accurate due to some parameters are only used in language bindings but\n",
      "  passed down to XGBoost core.  Or some parameters are not used but slip through this\n",
      "  verification. Please open an issue if you find above cases.\n",
      "\n",
      "\n",
      "[22:41:42] WARNING: ../src/learner.cc:1061: Starting in XGBoost 1.3.0, the default evaluation metric used with the objective 'binary:logistic' was changed from 'error' to 'logloss'. Explicitly set eval_metric if you'd like to restore the old behavior.\n"
     ]
    }
   ],
   "source": [
    "params = params = {'booster ':['gbtree'],\n",
    "        'n_estimators': [200],          \n",
    "        'eta':[0.2],    \n",
    "        'max_depth':[4],\n",
    "        'gamma': [1],\n",
    "        'subsample': [0.9],\n",
    "        'colsample_bytree': [0.9],\n",
    "            }\n",
    "\n",
    "\n",
    "                            \n",
    "                            \n",
    "xgb = XGBClassifier()\n",
    "gs = GridSearchCV(estimator=xgb, param_grid=params, return_train_score=True, cv=10, scoring='roc_auc') \n",
    "\n",
    "\n",
    "gs = gs.fit(x_train, y_train)\n",
    "\n",
    "\n",
    "print(gs.best_score_)\n",
    "print(gs.best_params_)\n",
    "\n",
    "\n",
    "print(gs.cv_results_['mean_test_score'])\n",
    "print(gs.cv_results_['std_test_score'])\n",
    "\n",
    "print(gs.cv_results_['mean_train_score'])   \n",
    "print(gs.cv_results_['std_train_score'])   \n",
    "\n",
    "\n",
    "\n",
    "clf = gs.best_estimator_\n",
    "clf.fit(x_train, y_train)\n",
    "\n",
    "\n",
    "# save the model to disk\n",
    "filename_nn = 'xgb_with_symptoms.sav'\n",
    "pickle.dump(clf, open(filename_nn, 'wb')) "
   ]
  },
  {
   "cell_type": "code",
   "execution_count": 28,
   "metadata": {},
   "outputs": [],
   "source": [
    "# load the model from disk\n",
    "loaded_model_xgb = pickle.load(open('xgb_with_symptoms.sav', 'rb'))"
   ]
  },
  {
   "cell_type": "code",
   "execution_count": 29,
   "metadata": {},
   "outputs": [],
   "source": [
    "# To predicting \n",
    "xgb_pred = loaded_model_xgb.predict_proba(x_test)"
   ]
  },
  {
   "cell_type": "code",
   "execution_count": 30,
   "metadata": {},
   "outputs": [
    {
     "data": {
      "image/png": "[encoded data removed]",
      "text/plain": [
       "<Figure size 432x288 with 1 Axes>"
      ]
     },
     "metadata": {
      "needs_background": "light"
     },
     "output_type": "display_data"
    }
   ],
   "source": [
    "# Plot Roc Curve\n",
    "\n",
    "colors = ['blue']\n",
    "linestyles = ['--']\n",
    "#plt.figure(figsize=(5,5))\n",
    "fpr, tpr, thresholds = roc_curve(y_test, xgb_pred[:,1],pos_label=1)\n",
    "roc_auc = auc(x=fpr, y=tpr)\n",
    "plt.plot(fpr, tpr,\n",
    "             color='k',\n",
    "             linestyle='-',\n",
    "             label='%s (AUC = %0.3f)' % ('XGB', roc_auc))\n",
    "\n",
    "plt.legend(loc='lower right')\n",
    "plt.plot([0, 1], [0, 1],\n",
    "         linestyle='--',\n",
    "         color='black',\n",
    "         linewidth=1)\n",
    "\n",
    "plt.title('')\n",
    "plt.xlim([-0.1, 1.1])\n",
    "plt.ylim([-0.1, 1.1])\n",
    "plt.grid()\n",
    "plt.title('Cure/Death')\n",
    "plt.xlabel('False Positive Rate')\n",
    "plt.ylabel('True Positive Rate')\n",
    "\n",
    "plt.tight_layout()\n",
    "#plt.savefig('roc_xgb_public_private_without_symptoms.pdf')\n",
    "plt.show()  "
   ]
  },
  {
   "cell_type": "code",
   "execution_count": 31,
   "metadata": {},
   "outputs": [
    {
     "data": {
      "image/png": "[encoded data removed]",
      "text/plain": [
       "<Figure size 432x288 with 1 Axes>"
      ]
     },
     "metadata": {
      "needs_background": "light"
     },
     "output_type": "display_data"
    }
   ],
   "source": [
    "# Plot Purity x Completeness \n",
    "\n",
    "\n",
    "precision, recall, thresholds = precision_recall_curve(y_test, xgb_pred[:,0],pos_label=0)\n",
    "average_precision = average_precision_score(1-y_test, xgb_pred[:,0])\n",
    "plt.plot(recall, precision, color='k',linestyle='-',label='%s (AP = %0.3f)' % ('XGB', average_precision))\n",
    "\n",
    "plt.legend(loc='lower right')\n",
    "\n",
    "\n",
    "plt.xlim([-0.1, 1.1])\n",
    "plt.ylim([-0.1, 1.1])\n",
    "plt.grid()\n",
    "plt.xlabel('Completeness')\n",
    "plt.ylabel('Purity')\n",
    "plt.title('Death')\n",
    "plt.tight_layout()\n",
    "plt.show()  "
   ]
  },
  {
   "cell_type": "code",
   "execution_count": 32,
   "metadata": {},
   "outputs": [
    {
     "data": {
      "image/png": "[encoded data removed]",
      "text/plain": [
       "<Figure size 432x288 with 1 Axes>"
      ]
     },
     "metadata": {
      "needs_background": "light"
     },
     "output_type": "display_data"
    }
   ],
   "source": [
    "# Plot Purity x Completeness \n",
    "\n",
    "\n",
    "precision, recall, thresholds = precision_recall_curve(y_test, xgb_pred[:,1],pos_label=1)\n",
    "average_precision = average_precision_score(y_test, xgb_pred[:,1])\n",
    "plt.plot(recall, precision, color='k',linestyle='-',label='%s (AP = %0.3f)' % ('XGB', average_precision))\n",
    "\n",
    "plt.legend(loc='lower right')\n",
    "\n",
    "\n",
    "plt.xlim([-0.1, 1.1])\n",
    "plt.ylim([-0.1, 1.1])\n",
    "plt.grid()\n",
    "plt.xlabel('Completeness')\n",
    "plt.ylabel('Purity')\n",
    "plt.title('Cure')\n",
    "plt.tight_layout()\n",
    "plt.show()  "
   ]
  },
  {
   "cell_type": "code",
   "execution_count": 33,
   "metadata": {},
   "outputs": [
    {
     "name": "stdout",
     "output_type": "stream",
     "text": [
      "FEBRE (AUC = 0.813), number of data 30650\n",
      "VOMITO (AUC = 0.810), number of data 3653\n",
      "TOSSE (AUC = 0.808), number of data 33955\n",
      "GARGANTA (AUC = 0.821), number of data 8268\n",
      "DESC_RESP (AUC = 0.803), number of data 26473\n",
      "DISPNEIA (AUC = 0.802), number of data 33066\n",
      "DIARREIA (AUC = 0.811), number of data 6384\n",
      "SATURACAO (AUC = 0.787), number of data 27239\n",
      "CARDIOPATI (AUC = 0.767), number of data 16294\n",
      "HEPATICA (AUC = 0.731), number of data 441\n",
      "ASMA (AUC = 0.810), number of data 1227\n",
      "PNEUMOPATI (AUC = 0.746), number of data 1892\n",
      "RENAL (AUC = 0.719), number of data 2166\n",
      "HEMATOLOGI (AUC = 0.804), number of data 400\n",
      "DIABETES (AUC = 0.758), number of data 12132\n",
      "OBESIDADE (AUC = 0.771), number of data 2323\n",
      "NEUROLOGIC (AUC = 0.727), number of data 1985\n",
      "IMUNODEPRE (AUC = 0.741), number of data 1449\n"
     ]
    }
   ],
   "source": [
    "wordList = ['FEBRE','VOMITO','TOSSE','GARGANTA','DESC_RESP','DISPNEIA','DIARREIA','SATURACAO',\\\n",
    "'CARDIOPATI','HEPATICA','ASMA','PNEUMOPATI','RENAL','HEMATOLOGI','DIABETES','OBESIDADE',\\\n",
    "'NEUROLOGIC','IMUNODEPRE']\n",
    "\n",
    "\n",
    "\n",
    "for word in wordList:\n",
    "    pred = loaded_model_xgb.predict_proba(x_test[x_test[word]==1])\n",
    "       \n",
    "    fpr, tpr, thresholds = roc_curve(y_test[x_test[word]==1], pred[:,1], pos_label=1)\n",
    "    pred_auc = auc(x=fpr, y=tpr)\n",
    "    \n",
    "    \n",
    "    print('%s (AUC = %0.3f), number of data %d' % (word, pred_auc, y_test[x_test[word]==1].shape[0]) )"
   ]
  },
  {
   "cell_type": "code",
   "execution_count": 34,
   "metadata": {},
   "outputs": [
    {
     "name": "stdout",
     "output_type": "stream",
     "text": [
      "Male AUC = 0.815, number of data 26131\n",
      "Female AUC = 0.811, number of data 20081\n"
     ]
    }
   ],
   "source": [
    "# Gender\n",
    "\n",
    "# Male\n",
    "pred_male = loaded_model_xgb.predict_proba(x_test[x_test['CS_SEXO']==1])\n",
    "fpr_male, tpr_male, thresholds_male = roc_curve(y_test[x_test['CS_SEXO']==1], pred_male[:,1], pos_label=1)\n",
    "pred_auc_male = auc(x=fpr_male, y=tpr_male)\n",
    "\n",
    "\n",
    "# Female\n",
    "pred_female = loaded_model_xgb.predict_proba(x_test[x_test['CS_SEXO']==0])\n",
    "fpr_female, tpr_female, thresholds_female = roc_curve(y_test[x_test['CS_SEXO']==0], pred_female[:,1], pos_label=1)\n",
    "pred_auc_female = auc(x=fpr_female, y=tpr_female)\n",
    "    \n",
    "    \n",
    "print('Male AUC = %0.3f, number of data %d' % (pred_auc_male, y_test[x_test['CS_SEXO']==1].shape[0]) )\n",
    "print('Female AUC = %0.3f, number of data %d' % (pred_auc_female, y_test[x_test['CS_SEXO']==0].shape[0]) )"
   ]
  },
  {
   "cell_type": "code",
   "execution_count": 35,
   "metadata": {},
   "outputs": [
    {
     "name": "stdout",
     "output_type": "stream",
     "text": [
      "Public AUC = 0.799, number of data 36603\n",
      "Private AUC = 0.843, number of data 9620\n"
     ]
    }
   ],
   "source": [
    "# Hospital unit reporting  \n",
    "\n",
    "# public\n",
    "pred_public = loaded_model_xgb.predict_proba(x_test[x_test['HEALTH_SYSTEM']==1])\n",
    "fpr_public, tpr_public, thresholds_public = roc_curve(y_test[x_test['HEALTH_SYSTEM']==1], pred_public[:,1], pos_label=1)\n",
    "pred_auc_public = auc(x=fpr_public, y=tpr_public)\n",
    "\n",
    "\n",
    "# private\n",
    "pred_private = loaded_model_xgb.predict_proba(x_test[x_test['HEALTH_SYSTEM']==0])\n",
    "fpr_private, tpr_private, thresholds_private = roc_curve(y_test[x_test['HEALTH_SYSTEM']==0], pred_private[:,1], pos_label=1)\n",
    "pred_auc_private = auc(x=fpr_private, y=tpr_private)\n",
    "    \n",
    "    \n",
    "print('Public AUC = %0.3f, number of data %d' % (pred_auc_public, y_test[x_test['HEALTH_SYSTEM']==1].shape[0]) )\n",
    "print('Private AUC = %0.3f, number of data %d' % (pred_auc_private, y_test[x_test['HEALTH_SYSTEM']==0].shape[0]) )"
   ]
  },
  {
   "cell_type": "code",
   "execution_count": 36,
   "metadata": {},
   "outputs": [
    {
     "name": "stdout",
     "output_type": "stream",
     "text": [
      "Pregnant AUC = 0.742, number of data 409\n",
      "Non-pregnant AUC = 0.809, number of data 14286\n"
     ]
    }
   ],
   "source": [
    "# Pregancy\n",
    "\n",
    "# pregnant\n",
    "pred_pregnant = loaded_model_xgb.predict_proba(x_test[(x_test['CS_GESTANT']==1)|(x_test['CS_GESTANT']==2)|(x_test['CS_GESTANT']==3)|(x_test['CS_GESTANT']==4)])\n",
    "fpr_pregnant, tpr_pregnant, thresholds_pregnant = roc_curve(y_test[(x_test['CS_GESTANT']==1)|(x_test['CS_GESTANT']==2)|(x_test['CS_GESTANT']==3)|(x_test['CS_GESTANT']==4)], pred_pregnant[:,1], pos_label=1)\n",
    "pred_auc_pregnant = auc(x=fpr_pregnant, y=tpr_pregnant)\n",
    "\n",
    "\n",
    "# non-pregnant\n",
    "pred_non_preg = loaded_model_xgb.predict_proba(x_test[x_test['CS_GESTANT']==5])\n",
    "fpr_non_preg, tpr_non_preg, thresholds_non_preg = roc_curve(y_test[x_test['CS_GESTANT']==5], pred_non_preg[:,1], pos_label=1)\n",
    "pred_auc_non_preg = auc(x=fpr_non_preg, y=tpr_non_preg)\n",
    "    \n",
    "    \n",
    "print('Pregnant AUC = %0.3f, number of data %d' % (pred_auc_pregnant, y_test[(x_test['CS_GESTANT']==1)|(x_test['CS_GESTANT']==2)|(x_test['CS_GESTANT']==3)|(x_test['CS_GESTANT']==4)].shape[0]) )\n",
    "print('Non-pregnant AUC = %0.3f, number of data %d' % (pred_auc_non_preg, y_test[x_test['CS_GESTANT']==5].shape[0]) )"
   ]
  },
  {
   "cell_type": "code",
   "execution_count": 37,
   "metadata": {},
   "outputs": [
    {
     "name": "stdout",
     "output_type": "stream",
     "text": [
      "Branco AUC = 0.813, number of data 17186\n",
      "Preto AUC = 0.803, number of data 2293\n",
      "Amarelo AUC = 0.789, number of data 519\n",
      "Pardo AUC = 0.804, number of data 13556\n",
      "Indigena AUC = 0.891, number of data 98\n"
     ]
    }
   ],
   "source": [
    "# Color\n",
    "\n",
    "# branco\n",
    "pred_branco = loaded_model_xgb.predict_proba(x_test[x_test['CS_RACA']==1])\n",
    "fpr_branco, tpr_branco, thresholds_branco = roc_curve(y_test[x_test['CS_RACA']==1], pred_branco[:,1], pos_label=1)\n",
    "pred_auc_branco = auc(x=fpr_branco, y=tpr_branco)\n",
    "\n",
    "\n",
    "# preto\n",
    "pred_preto = loaded_model_xgb.predict_proba(x_test[x_test['CS_RACA']==2])\n",
    "fpr_preto, tpr_preto, thresholds_preto = roc_curve(y_test[x_test['CS_RACA']==2], pred_preto[:,1], pos_label=1)\n",
    "pred_auc_preto = auc(x=fpr_preto, y=tpr_preto)\n",
    "\n",
    "\n",
    "\n",
    "# amarelo\n",
    "pred_amarelo = loaded_model_xgb.predict_proba(x_test[x_test['CS_RACA']==3])\n",
    "fpr_amarelo, tpr_amarelo, thresholds_amarelo = roc_curve(y_test[x_test['CS_RACA']==3], pred_amarelo[:,1], pos_label=1)\n",
    "pred_auc_amarelo = auc(x=fpr_amarelo, y=tpr_amarelo)\n",
    "  \n",
    "    \n",
    "    \n",
    "# pardo\n",
    "pred_pardo = loaded_model_xgb.predict_proba(x_test[x_test['CS_RACA']==4])\n",
    "fpr_pardo, tpr_pardo, thresholds_pardo = roc_curve(y_test[x_test['CS_RACA']==4], pred_pardo[:,1], pos_label=1)\n",
    "pred_auc_pardo = auc(x=fpr_pardo, y=tpr_pardo)\n",
    "  \n",
    "    \n",
    "    \n",
    "# indigena\n",
    "pred_indigena = loaded_model_xgb.predict_proba(x_test[x_test['CS_RACA']==5])\n",
    "fpr_indigena, tpr_indigena, thresholds_indigena = roc_curve(y_test[x_test['CS_RACA']==5], pred_indigena[:,1], pos_label=1)\n",
    "pred_auc_indigena = auc(x=fpr_indigena, y=tpr_indigena)\n",
    "      \n",
    "    \n",
    "    \n",
    "print('Branco AUC = %0.3f, number of data %d' % (pred_auc_branco, y_test[x_test['CS_RACA']==1].shape[0]) )\n",
    "print('Preto AUC = %0.3f, number of data %d' % (pred_auc_preto, y_test[x_test['CS_RACA']==2].shape[0]) )\n",
    "print('Amarelo AUC = %0.3f, number of data %d' % (pred_auc_amarelo, y_test[x_test['CS_RACA']==3].shape[0]) )\n",
    "print('Pardo AUC = %0.3f, number of data %d' % (pred_auc_pardo, y_test[x_test['CS_RACA']==4].shape[0]) )\n",
    "print('Indigena AUC = %0.3f, number of data %d' % (pred_auc_indigena, y_test[x_test['CS_RACA']==5].shape[0]) )\n"
   ]
  },
  {
   "cell_type": "code",
   "execution_count": 38,
   "metadata": {},
   "outputs": [
    {
     "name": "stdout",
     "output_type": "stream",
     "text": [
      "Illiterate AUC = 0.762, number of data 1042\n",
      "Fundamental I AUC = 0.773, number of data 4315\n",
      "Fundamental II AUC = 0.808, number of data 3090\n",
      "Medium AUC = 0.828, number of data 5157\n",
      "University AUC = 0.874, number of data 2523\n"
     ]
    }
   ],
   "source": [
    "# Education\n",
    "\n",
    "# Illiterate\n",
    "pred_illiterate = loaded_model_xgb.predict_proba(x_test[x_test['CS_ESCOL_N']==0])\n",
    "fpr_illiterate, tpr_illiterate, thresholds_illiterate = roc_curve(y_test[x_test['CS_ESCOL_N']==0], pred_illiterate[:,1], pos_label=1)\n",
    "pred_auc_illiterate = auc(x=fpr_illiterate, y=tpr_illiterate)\n",
    "\n",
    "\n",
    "# Fundamental I\n",
    "pred_fundI = loaded_model_xgb.predict_proba(x_test[x_test['CS_ESCOL_N']==1])\n",
    "fpr_fundI, tpr_fundI, thresholds_fundI = roc_curve(y_test[x_test['CS_ESCOL_N']==1], pred_fundI[:,1], pos_label=1)\n",
    "pred_auc_fundI = auc(x=fpr_fundI, y=tpr_fundI)\n",
    "\n",
    "\n",
    "\n",
    "# Fundamental II\n",
    "pred_fundII = loaded_model_xgb.predict_proba(x_test[x_test['CS_ESCOL_N']==2])\n",
    "fpr_fundII, tpr_fundII, thresholds_fundII = roc_curve(y_test[x_test['CS_ESCOL_N']==2], pred_fundII[:,1], pos_label=1)\n",
    "pred_auc_fundII = auc(x=fpr_fundII, y=tpr_fundII)\n",
    "  \n",
    "    \n",
    "    \n",
    "# Medium\n",
    "pred_medium = loaded_model_xgb.predict_proba(x_test[x_test['CS_ESCOL_N']==3])\n",
    "fpr_medium, tpr_medium, thresholds_medium = roc_curve(y_test[x_test['CS_ESCOL_N']==3], pred_medium[:,1], pos_label=1)\n",
    "pred_auc_medium = auc(x=fpr_medium, y=tpr_medium)\n",
    "  \n",
    "    \n",
    "    \n",
    "# University\n",
    "pred_university = loaded_model_xgb.predict_proba(x_test[x_test['CS_ESCOL_N']==4])\n",
    "fpr_university, tpr_university, thresholds_university = roc_curve(y_test[x_test['CS_ESCOL_N']==4], pred_university[:,1], pos_label=1)\n",
    "pred_auc_university = auc(x=fpr_university, y=tpr_university)\n",
    "      \n",
    "    \n",
    "    \n",
    "print('Illiterate AUC = %0.3f, number of data %d' % (pred_auc_illiterate, y_test[x_test['CS_ESCOL_N']==0].shape[0]) )\n",
    "print('Fundamental I AUC = %0.3f, number of data %d' % (pred_auc_fundI, y_test[x_test['CS_ESCOL_N']==1].shape[0]) )\n",
    "print('Fundamental II AUC = %0.3f, number of data %d' % (pred_auc_fundII, y_test[x_test['CS_ESCOL_N']==2].shape[0]) )\n",
    "print('Medium AUC = %0.3f, number of data %d' % (pred_auc_medium, y_test[x_test['CS_ESCOL_N']==3].shape[0]) )\n",
    "print('University AUC = %0.3f, number of data %d' % (pred_auc_university, y_test[x_test['CS_ESCOL_N']==4].shape[0]) )\n"
   ]
  },
  {
   "cell_type": "code",
   "execution_count": 39,
   "metadata": {},
   "outputs": [
    {
     "name": "stdout",
     "output_type": "stream",
     "text": [
      "Urban AUC = 0.813, number of data 39777\n",
      "Rural AUC = 0.798, number of data 1217\n",
      "Periurban AUC = 0.795, number of data 143\n"
     ]
    }
   ],
   "source": [
    "# Area\n",
    "\n",
    "# Urban\n",
    "pred_urban = loaded_model_xgb.predict_proba(x_test[x_test['CS_ZONA']==1])\n",
    "fpr_urban, tpr_urban, thresholds_urban = roc_curve(y_test[x_test['CS_ZONA']==1], pred_urban[:,1], pos_label=1)\n",
    "pred_auc_urban = auc(x=fpr_urban, y=tpr_urban)\n",
    "\n",
    "\n",
    "# Rural\n",
    "pred_rural = loaded_model_xgb.predict_proba(x_test[x_test['CS_ZONA']==2])\n",
    "fpr_rural, tpr_rural, thresholds_rural = roc_curve(y_test[x_test['CS_ZONA']==2], pred_rural[:,1], pos_label=1)\n",
    "pred_auc_rural = auc(x=fpr_rural, y=tpr_rural)\n",
    "\n",
    "\n",
    "\n",
    "# Peri-urban\n",
    "pred_periurban = loaded_model_xgb.predict_proba(x_test[x_test['CS_ZONA']==3])\n",
    "fpr_periurban, tpr_periurban, thresholds_periurban = roc_curve(y_test[x_test['CS_ZONA']==3], pred_periurban[:,1], pos_label=1)\n",
    "pred_auc_periurban = auc(x=fpr_periurban, y=tpr_periurban)\n",
    "  \n",
    "         \n",
    "    \n",
    "    \n",
    "print('Urban AUC = %0.3f, number of data %d' % (pred_auc_urban, y_test[x_test['CS_ZONA']==1].shape[0]) )\n",
    "print('Rural AUC = %0.3f, number of data %d' % (pred_auc_rural, y_test[x_test['CS_ZONA']==2].shape[0]) )\n",
    "print('Periurban AUC = %0.3f, number of data %d' % (pred_auc_periurban, y_test[x_test['CS_ZONA']==3].shape[0]) )\n"
   ]
  },
  {
   "cell_type": "code",
   "execution_count": 40,
   "metadata": {},
   "outputs": [
    {
     "name": "stdout",
     "output_type": "stream",
     "text": [
      "Very High AUC = 0.816, number of data 18113\n",
      "Highl AUC = 0.802, number of data 24989\n",
      "Medium Low AUC = 0.791, number of data 3121\n"
     ]
    }
   ],
   "source": [
    "# IDHM\n",
    "\n",
    "\n",
    "# Very High\n",
    "pred_veryhight = loaded_model_xgb.predict_proba(x_test[x_test['IDHM']==5])\n",
    "fpr_veryhight, tpr_veryhight, thresholds_veryhight = roc_curve(y_test[x_test['IDHM']==5], pred_veryhight[:,1], pos_label=1)\n",
    "pred_auc_veryhight = auc(x=fpr_veryhight, y=tpr_veryhight)\n",
    "\n",
    "\n",
    "# High\n",
    "pred_hight = loaded_model_xgb.predict_proba(x_test[x_test['IDHM']==4])\n",
    "fpr_hight, tpr_hight, thresholds_hight = roc_curve(y_test[x_test['IDHM']==4], pred_hight[:,1], pos_label=1)\n",
    "pred_auc_hight = auc(x=fpr_hight, y=tpr_hight)\n",
    "\n",
    "\n",
    "\n",
    "# Medium Low\n",
    "pred_mediumLow = loaded_model_xgb.predict_proba(x_test[((x_test['IDHM']==3)\\\n",
    "|(x_test['IDHM']==2)|(x_test['IDHM']==1))])\n",
    "\n",
    "fpr_mediumLow, tpr_mediumLow, thresholds_mediumLow = roc_curve(y_test[((x_test['IDHM']==3)\\\n",
    "|(x_test['IDHM']==2)|(x_test['IDHM']==1))], pred_mediumLow[:,1], pos_label=1)\n",
    "pred_auc_mediumLow = auc(x=fpr_mediumLow, y=tpr_mediumLow)\n",
    "  \n",
    "         \n",
    "    \n",
    "    \n",
    "print('Very High AUC = %0.3f, number of data %d' % (pred_auc_veryhight, y_test[x_test['IDHM']==5].shape[0]) )\n",
    "print('Highl AUC = %0.3f, number of data %d' % (pred_auc_hight, y_test[x_test['IDHM']==4].shape[0]) )\n",
    "print('Medium Low AUC = %0.3f, number of data %d' % (pred_auc_mediumLow, y_test[((x_test['IDHM']==3)\\\n",
    "|(x_test['IDHM']==2)|(x_test['IDHM']==1))].shape[0]) )\n"
   ]
  },
  {
   "cell_type": "code",
   "execution_count": 41,
   "metadata": {},
   "outputs": [
    {
     "name": "stdout",
     "output_type": "stream",
     "text": [
      "North AUC = 0.781, number of data 2413\n",
      "Northeast AUC = 0.800, number of data 8455\n",
      "Midwest AUC = 0.810, number of data 3663\n",
      "Southeast AUC = 0.828, number of data 25951\n",
      "South AUC = 0.809, number of data 5741\n"
     ]
    }
   ],
   "source": [
    "# Macroregions\n",
    "\n",
    "\n",
    "# Macro Regions\n",
    "\n",
    "northeast  =  set([18,19,20,21,22,23,24,25,26])\n",
    "north  =  set([11,12,13,14,15,16,17])\n",
    "midwest  =  set([7,8,9,10])\n",
    "southeast  =  set([0,1,2,3])\n",
    "south = set([4,5,6])\n",
    "\n",
    "# To remember\n",
    "\n",
    "#df_BR['SG_UF_NOT'] = df_BR['SG_UF_NOT'].map({'SP': 0, 'RJ':1, 'MG': 2 , 'ES':3, \\\n",
    "#'RS':4, 'SC': 5, 'PR': 6, 'MT': 7, 'MS': 8, 'GO':9, 'DF':10, 'RO':11,'AC':12,'AM':13,\\\n",
    "#'RR':14,'PA':15,'AP':16,'TO':17,'MA':18,'PI':19,'BA':20,'CE':21,'RN':22,'PB':23,'PE':24,'AL':25,'SE':26})\n",
    "\n",
    "\n",
    "# North\n",
    "pred_north = loaded_model_xgb.predict_proba(x_test[x_test['SG_UF_NOT'].isin(north)])\n",
    "fpr_north, tpr_north, thresholds_north = roc_curve(y_test[x_test['SG_UF_NOT'].isin(north)], pred_north[:,1],\\\n",
    "pos_label=1)\n",
    "pred_auc_north = auc(x=fpr_north, y=tpr_north)\n",
    "\n",
    "\n",
    "\n",
    "# Northeast\n",
    "pred_northeast = loaded_model_xgb.predict_proba(x_test[x_test['SG_UF_NOT'].isin(northeast)])\n",
    "fpr_northeast, tpr_northeast, thresholds_northeast = roc_curve(y_test[x_test['SG_UF_NOT'].isin(northeast)], pred_northeast[:,1], pos_label=1)\n",
    "pred_auc_northeast = auc(x=fpr_northeast, y=tpr_northeast)\n",
    "\n",
    "\n",
    "\n",
    "# Midwest\n",
    "pred_midwest = loaded_model_xgb.predict_proba(x_test[x_test['SG_UF_NOT'].isin(midwest)])\n",
    "fpr_midwest, tpr_midwest, thresholds_midwest = roc_curve(y_test[x_test['SG_UF_NOT'].isin(midwest)], pred_midwest[:,1], pos_label=1)\n",
    "pred_auc_midwest = auc(x=fpr_midwest, y=tpr_midwest)\n",
    "  \n",
    "    \n",
    "    \n",
    "# Southeast\n",
    "pred_southeast = loaded_model_xgb.predict_proba(x_test[x_test['SG_UF_NOT'].isin(southeast)])\n",
    "fpr_southeast, tpr_southeast, thresholds_southeast = roc_curve(y_test[x_test['SG_UF_NOT'].isin(southeast)], pred_southeast[:,1], pos_label=1)\n",
    "pred_auc_southeast = auc(x=fpr_southeast, y=tpr_southeast)\n",
    "  \n",
    "    \n",
    "    \n",
    "# South\n",
    "pred_south = loaded_model_xgb.predict_proba(x_test[x_test['SG_UF_NOT'].isin(south)])\n",
    "fpr_south, tpr_south, thresholds_south = roc_curve(y_test[x_test['SG_UF_NOT'].isin(south)], pred_south[:,1], pos_label=1)\n",
    "pred_auc_south = auc(x=fpr_south, y=tpr_south)\n",
    "      \n",
    "    \n",
    "    \n",
    "print('North AUC = %0.3f, number of data %d' % (pred_auc_north, y_test[x_test['SG_UF_NOT'].isin(north)].shape[0]) )\n",
    "print('Northeast AUC = %0.3f, number of data %d' % (pred_auc_northeast, y_test[x_test['SG_UF_NOT'].isin(northeast)].shape[0]) )\n",
    "print('Midwest AUC = %0.3f, number of data %d' % (pred_auc_midwest, y_test[x_test['SG_UF_NOT'].isin(midwest)].shape[0]) )\n",
    "print('Southeast AUC = %0.3f, number of data %d' % (pred_auc_medium, y_test[x_test['SG_UF_NOT'].isin(southeast)].shape[0]) )\n",
    "print('South AUC = %0.3f, number of data %d' % (pred_auc_south, y_test[x_test['SG_UF_NOT'].isin(south)].shape[0]) )"
   ]
  }
 ],
 "metadata": {
  "kernelspec": {
   "display_name": "Python 3",
   "language": "python",
   "name": "python3"
  },
  "language_info": {
   "codemirror_mode": {
    "name": "ipython",
    "version": 3
   },
   "file_extension": ".py",
   "mimetype": "text/x-python",
   "name": "python",
   "nbconvert_exporter": "python",
   "pygments_lexer": "ipython3",
   "version": "3.8.5"
  }
 },
 "nbformat": 4,
 "nbformat_minor": 2
}
