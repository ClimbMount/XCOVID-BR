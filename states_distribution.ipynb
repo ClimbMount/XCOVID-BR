{
 "cells": [
  {
   "cell_type": "code",
   "execution_count": 1,
   "metadata": {},
   "outputs": [],
   "source": [
    "# libraries\n",
    "\n",
    "import pandas as pd\n",
    "import matplotlib.pyplot as plt\n",
    "import numpy as np\n",
    "import seaborn as sns\n"
   ]
  },
  {
   "cell_type": "code",
   "execution_count": 2,
   "metadata": {},
   "outputs": [
    {
     "name": "stderr",
     "output_type": "stream",
     "text": [
      "/home/pedro/.local/lib/python3.8/site-packages/IPython/core/interactiveshell.py:3146: DtypeWarning: Columns (15,60,62,63,64,92,94,108,117,121,123) have mixed types.Specify dtype option on import or set low_memory=False.\n",
      "  has_raised = await self.run_ast_nodes(code_ast.body, cell_name,\n"
     ]
    },
    {
     "name": "stdout",
     "output_type": "stream",
     "text": [
      "(754901, 154)\n"
     ]
    }
   ],
   "source": [
    "# reading dataset\n",
    "\n",
    "df = pd.read_csv('/home/pedro/bkp/code/dataset/INFLUD-21-09-2020.csv',sep=';',encoding = \"ISO-8859-1\")\n",
    "print(df.shape)\n"
   ]
  },
  {
   "cell_type": "code",
   "execution_count": 3,
   "metadata": {},
   "outputs": [
    {
     "name": "stdout",
     "output_type": "stream",
     "text": [
      "(299142, 154)\n"
     ]
    },
    {
     "name": "stderr",
     "output_type": "stream",
     "text": [
      "<ipython-input-3-c5064e7c6e88>:11: UserWarning: Boolean Series key will be reindexed to match DataFrame index.\n",
      "  df1 = df[df['PCR_SARS2']==1][df['HOSPITAL']==1]\n"
     ]
    },
    {
     "name": "stdout",
     "output_type": "stream",
     "text": [
      "(279987, 154)\n"
     ]
    }
   ],
   "source": [
    "# Inputing constraint in the dataset \n",
    "\n",
    "# Positive case:\n",
    "\n",
    "df1 = df[df['PCR_SARS2']==1]\n",
    "print(df1.shape)\n",
    "\n",
    "\n",
    "# Hospitalized people:\n",
    "\n",
    "df1 = df[df['PCR_SARS2']==1][df['HOSPITAL']==1]\n",
    "print(df1.shape)\n",
    "\n"
   ]
  },
  {
   "cell_type": "code",
   "execution_count": 4,
   "metadata": {},
   "outputs": [],
   "source": [
    "# Covid19 ocurrences for each state\n",
    "\n",
    "df2 = df1['SG_UF_NOT'].value_counts().to_frame()\n",
    "df2 = df2.reset_index()\n",
    "df2 = df2.rename(columns={\"SG_UF_NOT\": \"ocurrences\"})\n"
   ]
  },
  {
   "cell_type": "code",
   "execution_count": 5,
   "metadata": {},
   "outputs": [],
   "source": [
    "# Population for each state\n",
    "\n",
    "df_pop = pd.read_csv('/home/pedro/bkp/code/dataset/pop.csv',sep=',',encoding = \"ISO-8859-1\")"
   ]
  },
  {
   "cell_type": "code",
   "execution_count": 6,
   "metadata": {},
   "outputs": [],
   "source": [
    "# Joining the datasets\n",
    "\n",
    "df_joined = pd.merge(df_pop,df2,on='index')"
   ]
  },
  {
   "cell_type": "code",
   "execution_count": 7,
   "metadata": {},
   "outputs": [
    {
     "name": "stdout",
     "output_type": "stream",
     "text": [
      "   index  populacao  ocurrences\n",
      "0     SP   45919049      108332\n",
      "1     MG   21168791       17531\n",
      "2     RJ   17264943       27703\n",
      "3     BA   14873064       10229\n",
      "4     PR   11433957       13588\n",
      "5     RS   11377239       13810\n",
      "6     PE    9557071       16355\n",
      "7     CE    9132078       10141\n",
      "8     PA    8602865        6965\n",
      "9     SC    7164788        5753\n",
      "10    MA    7075181        2073\n",
      "11    GO    7018354        7474\n",
      "12    AM    4144597        4112\n",
      "13    ES    4018650        2710\n",
      "14    PB    4018127        2809\n",
      "15    RN    3506853        2788\n",
      "16    MT    3484466        1790\n",
      "17    AL    3337357        2292\n",
      "18    PI    3273227        4181\n",
      "19    DF    3015268        9902\n",
      "20    MS    2778986        3284\n",
      "21    SE    2298696        2623\n",
      "22    RO    1777225        1151\n",
      "23    TO    1572866         984\n",
      "24    AC     881935         767\n",
      "25    AP     845731         288\n",
      "26    RR     605761         352\n"
     ]
    }
   ],
   "source": [
    "print(df_joined)"
   ]
  },
  {
   "cell_type": "code",
   "execution_count": null,
   "metadata": {},
   "outputs": [],
   "source": [
    "\n",
    "# Plotting the cases per 100,000 people\n",
    "\n",
    "\n",
    "clrs = ['blue', 'blue',  'blue' , 'orange', 'purple', 'purple', 'orange', 'orange', 'red', 'purple', 'orange',  'green', 'red', 'blue', 'orange',  'orange', 'green', 'orange',  'orange', 'green', 'green', 'orange', 'red',  'red', 'red' ,'red', 'red']\n",
    "# [     'SP',    'MG',    'RJ',     'BA',     'PR',     'RS',     'PE',    'CE',     'PA',     'SC',    'MA',    'GO',    'AM',  'ES',    'PB',      'RN',     'MT',    'AL',      'PI',    'DF',    'MS',    'SE',    'RO',    'TO',   AC  ,'AP',  'RR'\n",
    "\n",
    "clr = ['blue','purple', 'green', 'orange', 'red']\n",
    "\n",
    "\n",
    "plt.figure(figsize=(15,6))\n",
    "city_count  = (df_joined['ocurrences']/df_joined['populacao'])*100000\n",
    "city_count = city_count[:,]\n",
    "plt.figure(figsize=(10,5))\n",
    "plt.bar(city_count.index, city_count.values, alpha=0.5, color = clrs, edgecolor='k')\n",
    "plt.bar([12] , [0], alpha=0.5, edgecolor='k', color = 'red',label ='North')    # AM\n",
    "plt.bar([3] , [0], alpha=0.5, edgecolor='k', color = 'orange',label ='Northeast')     # BA\n",
    "plt.bar([16], [0], alpha=0.5, edgecolor='k', color = 'green',label ='Central-West')     # MT\n",
    "plt.bar([0] , [0], alpha=0.5, edgecolor='k', color = 'blue' ,label = 'Southeast')  # SP\n",
    "plt.bar([5] , [0], alpha=0.5, edgecolor='k', color = 'purple',label ='South')       # RS\n",
    "plt.ylabel('Cases per 100,000 people', fontsize=20)\n",
    "plt.xlabel('States', fontsize=20)\n",
    "#plt.yscale('log')\n",
    "x=np.arange(27)\n",
    "plt.xticks(x,['SP','MG','RJ','BA','PR','RS','PE','CE','PA','SC','MA','GO','AM','ES','PB','RN','MT','AL','PI',\\\n",
    "             'DF','MS','SE','RO','TO','AC','AP','RR'])\n",
    "plt.xticks(fontsize=15)\n",
    "plt.yticks(fontsize=15)\n",
    "plt.legend(fontsize=15)\n",
    "plt.tight_layout()\n",
    "plt.savefig('distribution_covid_people_proportion_21_sep.pdf')"
   ]
  },
  {
   "cell_type": "code",
   "execution_count": null,
   "metadata": {},
   "outputs": [],
   "source": [
    "# Plottin the cases for each state\n",
    "\n",
    "\n",
    "clrs = ['blue', 'blue',  'blue' , 'orange', 'purple', 'purple', 'orange', 'orange', 'red', 'purple', 'orange',  'green', 'red', 'blue', 'orange',  'orange', 'green', 'orange',  'orange', 'green', 'green', 'orange', 'red',  'red', 'red' ,'red', 'red']\n",
    "# [     'SP',    'MG',    'RJ',     'BA',     'PR',     'RS',     'PE',    'CE',     'PA',     'SC',    'MA',    'GO',    'AM',  'ES',    'PB',      'RN',     'MT',    'AL',      'PI',    'DF',    'MS',    'SE',    'RO',    'TO',  'AC'     ,  'AP',  'RR'\n",
    "\n",
    "clr = ['blue','purple', 'green', 'orange', 'red']\n",
    "\n",
    "number = [0, 5, 16, 3, 12]\n",
    "label = ['oi','oi','oi','oi','oi']\n",
    "\n",
    "plt.figure(figsize=(15,6))\n",
    "city_count  = df_joined['ocurrences']\n",
    "city_count = city_count[:,]\n",
    "plt.figure(figsize=(10,5))\n",
    "plt.bar(city_count.index, city_count.values, alpha=0.5, color = clrs, edgecolor='k')\n",
    "plt.bar([12] , [0], alpha=0.5, edgecolor='k', color = 'red',label ='North')    # AM\n",
    "plt.bar([3] , [0], alpha=0.5, edgecolor='k', color = 'orange',label ='Northeast')     # BA\n",
    "plt.bar([16], [0], alpha=0.5, edgecolor='k', color = 'green',label ='Central-West')     # MT\n",
    "plt.bar([0] , [0], alpha=0.5, edgecolor='k', color = 'blue' ,label = 'Southeast')  # SP\n",
    "plt.bar([5] , [0], alpha=0.5, edgecolor='k', color = 'purple',label ='South')       # RS\n",
    "\n",
    "\n",
    "\n",
    "\n",
    "plt.title('Hopitalized Patients with COVID-19 for Brazilian States', fontsize=20)\n",
    "plt.ylabel('Count', fontsize=20)\n",
    "plt.xlabel('States', fontsize=20)\n",
    "plt.yscale('log')\n",
    "x=np.arange(27)\n",
    "plt.xticks(x,['SP','MG','RJ','BA','PR','RS','PE','CE','PA','SC','MA','GO','AM','ES','PB','RN','MT','AL','PI',\\\n",
    "             'DF','MS','SE','RO','TO','AC','AP','RR'])\n",
    "plt.xticks(fontsize=15)\n",
    "plt.yticks(fontsize=15)\n",
    "plt.tight_layout()\n",
    "plt.legend(fontsize=15)\n",
    "plt.savefig('distribution_covid_people_21_sep.pdf')\n",
    "\n",
    "print(type(city_count))"
   ]
  },
  {
   "cell_type": "code",
   "execution_count": null,
   "metadata": {},
   "outputs": [],
   "source": []
  }
 ],
 "metadata": {
  "kernelspec": {
   "display_name": "Python 3",
   "language": "python",
   "name": "python3"
  },
  "language_info": {
   "codemirror_mode": {
    "name": "ipython",
    "version": 3
   },
   "file_extension": ".py",
   "mimetype": "text/x-python",
   "name": "python",
   "nbconvert_exporter": "python",
   "pygments_lexer": "ipython3",
   "version": "3.8.5"
  }
 },
 "nbformat": 4,
 "nbformat_minor": 2
}
