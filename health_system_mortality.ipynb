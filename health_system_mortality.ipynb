{
 "cells": [
  {
   "cell_type": "code",
   "execution_count": 1,
   "metadata": {},
   "outputs": [],
   "source": [
    "# Covid19 Analysis\n"
   ]
  },
  {
   "cell_type": "code",
   "execution_count": 2,
   "metadata": {},
   "outputs": [],
   "source": [
    "# libraries\n",
    "\n",
    "import pandas as pd\n",
    "import matplotlib.pyplot as plt\n",
    "import numpy as np\n",
    "import seaborn as sns\n",
    "from sklearn.model_selection import GridSearchCV\n",
    "from sklearn.metrics import roc_curve\n",
    "from sklearn.metrics import auc\n",
    "from sklearn.metrics import accuracy_score\n",
    "import pickle\n",
    "from sklearn.metrics import r2_score\n",
    "from sklearn.ensemble import RandomForestClassifier\n",
    "from sklearn.neural_network import MLPClassifier\n",
    "from sklearn.metrics import average_precision_score\n",
    "from sklearn.metrics import precision_recall_curve\n",
    "from xgboost import XGBRegressor\n",
    "from sklearn.linear_model import LogisticRegression\n",
    "from datetime import datetime\n",
    "from sklearn.ensemble import RandomForestRegressor\n",
    "from xgboost import XGBClassifier\n",
    "\n"
   ]
  },
  {
   "cell_type": "code",
   "execution_count": 3,
   "metadata": {},
   "outputs": [
    {
     "name": "stderr",
     "output_type": "stream",
     "text": [
      "/home/pedro/.local/lib/python3.8/site-packages/IPython/core/interactiveshell.py:3146: DtypeWarning: Columns (15,60,62,63,64,92,94,108,117,121,123) have mixed types.Specify dtype option on import or set low_memory=False.\n",
      "  has_raised = await self.run_ast_nodes(code_ast.body, cell_name,\n"
     ]
    },
    {
     "name": "stdout",
     "output_type": "stream",
     "text": [
      "(299142, 154)\n"
     ]
    },
    {
     "name": "stderr",
     "output_type": "stream",
     "text": [
      "<ipython-input-3-e52a54bdc96a>:16: UserWarning: Boolean Series key will be reindexed to match DataFrame index.\n",
      "  df = df[df['PCR_SARS2']==1][df['HOSPITAL']==1][df['NU_IDADE_N']<=110]\n"
     ]
    },
    {
     "name": "stdout",
     "output_type": "stream",
     "text": [
      "(279982, 154)\n"
     ]
    },
    {
     "name": "stderr",
     "output_type": "stream",
     "text": [
      "<ipython-input-3-e52a54bdc96a>:21: UserWarning: Boolean Series key will be reindexed to match DataFrame index.\n",
      "  df = df[df['PCR_SARS2']==1][df['HOSPITAL']==1][df['NU_IDADE_N']<=110][df['EVOLUCAO'] != 3][df['EVOLUCAO'] != 9][df['EVOLUCAO'].notnull()]\n"
     ]
    },
    {
     "name": "stdout",
     "output_type": "stream",
     "text": [
      "(242679, 154)\n",
      "<class 'pandas.core.frame.DataFrame'>\n"
     ]
    }
   ],
   "source": [
    "# reading dataset\n",
    "# https://opendatasus.saude.gov.br/dataset/bd-srag-2020\n",
    "\n",
    "df = pd.read_csv('/home/pedro/bkp/code/dataset/INFLUD-21-09-2020.csv',sep=';',encoding = \"ISO-8859-1\")\n",
    "\n",
    "# Inputing constraint in the dataset \n",
    "\n",
    "# Positive case:\n",
    "\n",
    "df = df[df['PCR_SARS2']==1]\n",
    "print(df.shape)\n",
    "\n",
    "\n",
    "# Hospitalized people:\n",
    "\n",
    "df = df[df['PCR_SARS2']==1][df['HOSPITAL']==1][df['NU_IDADE_N']<=110]\n",
    "print(df.shape)\n",
    "\n",
    "# Hospitalized people with age small than 110:\n",
    "\n",
    "df = df[df['PCR_SARS2']==1][df['HOSPITAL']==1][df['NU_IDADE_N']<=110][df['EVOLUCAO'] != 3][df['EVOLUCAO'] != 9][df['EVOLUCAO'].notnull()]\n",
    "print(df.shape)\n",
    "\n",
    "\n",
    "#print(df[df['PCR_SARS2']==1][df['HOSPITAL']==1][df['NU_IDADE_N']<=110][df['EVOLUCAO'] != 9][df['EVOLUCAO'].notnull()].value_counts())\n",
    "print(type(df))"
   ]
  },
  {
   "cell_type": "code",
   "execution_count": 4,
   "metadata": {},
   "outputs": [
    {
     "name": "stdout",
     "output_type": "stream",
     "text": [
      "44\n",
      "1890\n",
      "2233\n",
      "1367\n",
      "32\n"
     ]
    }
   ],
   "source": [
    "# IDHM\n",
    "\n",
    "# Reading IBGE code for each municipalities and separating it for IDHM index\n",
    "\n",
    "df_atlas = pd.read_excel (r'/home/pedro/bkp/code/dataset/AtlasBrasil_Consulta.xlsx')\n",
    "\n",
    "\n",
    "# removind last interger in 'code' variable\n",
    "\n",
    "df_atlas['code'] = df_atlas['code'].astype(str).str[:-1].astype(np.int64)\n",
    "\n",
    "\n",
    "# Divinding IDHM in bins\n",
    "\n",
    "IDHM_veryhigh  =  set(df_atlas['code'][df_atlas['IDHM2010']>=0.800])\n",
    "print(len(IDHM_veryhigh))\n",
    "\n",
    "\n",
    "IDHM_high  =  set(df_atlas['code'][((df_atlas['IDHM2010']>=0.700)&(df_atlas['IDHM2010']<0.800))])\n",
    "print(len(IDHM_high))\n",
    "\n",
    "\n",
    "IDHM_medium  =  set(df_atlas['code'][((df_atlas['IDHM2010']>=0.600)&(df_atlas['IDHM2010']<0.700))])\n",
    "print(len(IDHM_medium))\n",
    "\n",
    "\n",
    "IDHM_low  =  set(df_atlas['code'][((df_atlas['IDHM2010']>=0.500)&(df_atlas['IDHM2010']<0.600))])\n",
    "print(len(IDHM_low))\n",
    "\n",
    "\n",
    "IDHM_verylow  =  set(df_atlas['code'][df_atlas['IDHM2010']<0.500])\n",
    "print(len(IDHM_verylow))\n",
    "\n",
    "\n",
    "\n",
    "\n",
    "df.loc[df['CO_MUN_NOT'].isin(IDHM_veryhigh) == True, 'IDHM'] = 5\n",
    "df.loc[df['CO_MUN_NOT'].isin(IDHM_high) == True, 'IDHM'] = 4\n",
    "df.loc[df['CO_MUN_NOT'].isin(IDHM_medium) == True, 'IDHM'] = 3\n",
    "df.loc[df['CO_MUN_NOT'].isin(IDHM_low) == True, 'IDHM'] = 2\n",
    "df.loc[df['CO_MUN_NOT'].isin(IDHM_verylow) == True, 'IDHM'] = 1\n",
    "\n",
    "\n",
    "# Municipalities number analysed\n",
    "#print(df['IDHM'].isnull().sum())\n"
   ]
  },
  {
   "cell_type": "code",
   "execution_count": 5,
   "metadata": {},
   "outputs": [],
   "source": [
    "# Private and public hospital separation\n",
    "\n",
    "df_hospital = pd.read_csv('/home/pedro/bkp/code/dataset/CNES_SUS.txt', sep='\\t')\n",
    "\n",
    "\n",
    "public   =  set(df_hospital.iloc[:,0][df_hospital.iloc[:,3]=='S'])\n",
    "private  =  set(df_hospital.iloc[:,0][df_hospital.iloc[:,3]=='N'])\n",
    "\n",
    "\n",
    "df.loc[df['CO_UNI_NOT'].isin(public) == True, 'HEALTH_SYSTEM'] = 1\n",
    "df.loc[df['CO_UNI_NOT'].isin(private) == True, 'HEALTH_SYSTEM'] = 0"
   ]
  },
  {
   "cell_type": "code",
   "execution_count": 6,
   "metadata": {},
   "outputs": [
    {
     "name": "stderr",
     "output_type": "stream",
     "text": [
      "<ipython-input-6-cba1728feb81>:3: UserWarning: Boolean Series key will be reindexed to match DataFrame index.\n",
      "  df = df[df['IDHM'].notnull()][(df['HEALTH_SYSTEM']==1)|(df['HEALTH_SYSTEM']==0)]\n"
     ]
    },
    {
     "name": "stdout",
     "output_type": "stream",
     "text": [
      "(231112, 156)\n"
     ]
    }
   ],
   "source": [
    "# Constraint on dataset: We only analyze people with  evolution, IDHM and Health system known\n",
    "\n",
    "df = df[df['IDHM'].notnull()][(df['HEALTH_SYSTEM']==1)|(df['HEALTH_SYSTEM']==0)]\n",
    "print(df.shape)\n"
   ]
  },
  {
   "cell_type": "code",
   "execution_count": 7,
   "metadata": {},
   "outputs": [],
   "source": [
    "# Selecting features\n",
    "df = df[['NU_IDADE_N','HEALTH_SYSTEM','SUPORT_VEN','EVOLUCAO']]"
   ]
  },
  {
   "cell_type": "code",
   "execution_count": 8,
   "metadata": {},
   "outputs": [
    {
     "name": "stdout",
     "output_type": "stream",
     "text": [
      "(231112, 4)\n"
     ]
    }
   ],
   "source": [
    "# boxing the age feature\n",
    "\n",
    "bins = [0, 40, 50, 60, 70, 150]\n",
    "names = ['<40', '40-50', '50-60','60-70', '70>']\n",
    "df['NU_IDADE_N'] = pd.cut(df['NU_IDADE_N'], bins=bins, labels=names, right= False)\n",
    "df['NU_IDADE_N'] = df['NU_IDADE_N'].map({'<40': 40, '40-50':50, '50-60': 60 , '60-70':70, '70>':150})\n",
    "\n",
    "print(df.shape)"
   ]
  },
  {
   "cell_type": "code",
   "execution_count": 9,
   "metadata": {},
   "outputs": [
    {
     "name": "stdout",
     "output_type": "stream",
     "text": [
      "NU_IDADE_N           0\n",
      "HEALTH_SYSTEM        0\n",
      "SUPORT_VEN       23528\n",
      "EVOLUCAO             0\n",
      "dtype: int64\n"
     ]
    }
   ],
   "source": [
    "df_missing = df.isnull().sum()\n",
    "print(df_missing)"
   ]
  },
  {
   "cell_type": "code",
   "execution_count": 10,
   "metadata": {},
   "outputs": [],
   "source": [
    "# Public and private hospital\n",
    "\n",
    "public_hosp   = df['NU_IDADE_N'][df['HEALTH_SYSTEM'] == 1].shape[0] # public\n",
    "private_hosp = df['NU_IDADE_N'][df['HEALTH_SYSTEM'] == 0].shape[0] # private\n",
    "\n"
   ]
  },
  {
   "cell_type": "code",
   "execution_count": 11,
   "metadata": {},
   "outputs": [
    {
     "data": {
      "image/png": "[encoded data removed]",
      "text/plain": [
       "<Figure size 720x360 with 1 Axes>"
      ]
     },
     "metadata": {
      "needs_background": "light"
     },
     "output_type": "display_data"
    }
   ],
   "source": [
    "# Plotting figure\n",
    "\n",
    "y_pos = np.arange(len(names))\n",
    "\n",
    "age= df['NU_IDADE_N']\n",
    "\n",
    "# Create horizontal bars\n",
    "plt.figure(figsize=(10,5))\n",
    "\n",
    "\n",
    "# Health System death people\n",
    "a = df['NU_IDADE_N'][((df['HEALTH_SYSTEM'] == 1) & (df['EVOLUCAO'] == 1))].value_counts().sort_index(ascending=True) \n",
    "b = df['NU_IDADE_N'][((df['HEALTH_SYSTEM'] == 1) & (df['EVOLUCAO'] == 2))].value_counts().sort_index(ascending=True)\n",
    "d = df['NU_IDADE_N'][((df['HEALTH_SYSTEM'] == 0) & (df['EVOLUCAO'] == 2))].value_counts().sort_index(ascending=True)\n",
    "e = df['NU_IDADE_N'][((df['HEALTH_SYSTEM'] == 0) & (df['EVOLUCAO'] == 1))].value_counts().sort_index(ascending=True) \n",
    "\n",
    "grupos = 5\n",
    "indice = np.arange(grupos)\n",
    "bar_larg = 0.4\n",
    "transp = 0.7\n",
    "plt.bar(indice + 0.2, b.iloc[:]/public_hosp, bar_larg, alpha=0.7, color='blue', label='Public')\n",
    "plt.bar(indice - 0.2, d.iloc[:]/private_hosp, bar_larg, alpha=0.7, color='red', label='Private')\n",
    "\n",
    "plt.xticks(np.arange(5),['<40','40-49','50-59','60-69','$\\geq$ 70'],fontsize=15)\n",
    "plt.yticks(fontsize=15)\n",
    "plt.legend(loc='upper left',fontsize=15) \n",
    "plt.ylabel('Prevalence',fontsize=17)\n",
    "plt.xlabel('Age',fontsize=17)\n",
    "plt.ylim([0, 0.23])\n",
    "plt.tight_layout()\n",
    "plt.savefig('private_public_new.pdf')\n",
    "plt.show()\n",
    "\n"
   ]
  },
  {
   "cell_type": "code",
   "execution_count": 12,
   "metadata": {},
   "outputs": [
    {
     "data": {
      "image/png": "[encoded data removed]",
      "text/plain": [
       "<Figure size 720x360 with 1 Axes>"
      ]
     },
     "metadata": {
      "needs_background": "light"
     },
     "output_type": "display_data"
    }
   ],
   "source": [
    "# Plotting figure\n",
    "\n",
    "y_pos = np.arange(len(names))\n",
    "\n",
    "age= df['NU_IDADE_N']\n",
    "\n",
    "# Create horizontal bars\n",
    "plt.figure(figsize=(10,5))\n",
    "\n",
    "\n",
    "# Health System death people\n",
    "a = df['NU_IDADE_N'][((df['HEALTH_SYSTEM'] == 1) & (df['EVOLUCAO'] == 1))].value_counts().sort_index(ascending=True) \n",
    "b = df['NU_IDADE_N'][((df['HEALTH_SYSTEM'] == 1) & (df['EVOLUCAO'] == 2))].value_counts().sort_index(ascending=True)\n",
    "d = df['NU_IDADE_N'][((df['HEALTH_SYSTEM'] == 0) & (df['EVOLUCAO'] == 2))].value_counts().sort_index(ascending=True)\n",
    "e = df['NU_IDADE_N'][((df['HEALTH_SYSTEM'] == 0) & (df['EVOLUCAO'] == 1))].value_counts().sort_index(ascending=True) \n",
    "\n",
    "grupos = 5\n",
    "indice = np.arange(grupos)\n",
    "bar_larg = 0.8\n",
    "transp = 0.7\n",
    "plt.barh(indice, b.iloc[:]/public_hosp, bar_larg, alpha=0.5, color='blue', label='Public')\n",
    "plt.barh(indice, -d.iloc[:]/private_hosp, bar_larg, alpha=0.7, color='red', label='Private')\n",
    "\n",
    "\n",
    "plt.axvline(x=0,color='k',linestyle='--',linewidth=1)\n",
    "plt.yticks(np.arange(5),['<40','40-49','50-59','60-69','$\\geq$ 70'],fontsize=15)\n",
    "plt.xticks(fontsize=15)\n",
    "plt.legend(fontsize=15) \n",
    "#plt.title('Death',fontsize=17)\n",
    "plt.xlabel('Prevalence',fontsize=17)\n",
    "plt.ylabel('Age',fontsize=17)\n",
    "plt.xlim([-0.205, 0.205])\n",
    "plt.tight_layout()\n",
    "plt.savefig('private_public_02.pdf')\n",
    "plt.show()\n"
   ]
  },
  {
   "cell_type": "code",
   "execution_count": 13,
   "metadata": {},
   "outputs": [
    {
     "name": "stdout",
     "output_type": "stream",
     "text": [
      "75075\n",
      "12148\n",
      "0\n"
     ]
    }
   ],
   "source": [
    "# Quick test\n",
    "\n",
    "# Death people for public and private \n",
    "\n",
    "print(b.sum())  # public\n",
    "print(d.sum())  # private\n",
    "\n",
    "df_check = df['NU_IDADE_N'][((df['HEALTH_SYSTEM'] == 1) & (df['EVOLUCAO'] == 2))].isnull().sum()\n",
    "print(df_check)"
   ]
  }
 ],
 "metadata": {
  "kernelspec": {
   "display_name": "Python 3",
   "language": "python",
   "name": "python3"
  },
  "language_info": {
   "codemirror_mode": {
    "name": "ipython",
    "version": 3
   },
   "file_extension": ".py",
   "mimetype": "text/x-python",
   "name": "python",
   "nbconvert_exporter": "python",
   "pygments_lexer": "ipython3",
   "version": "3.8.5"
  }
 },
 "nbformat": 4,
 "nbformat_minor": 2
}
